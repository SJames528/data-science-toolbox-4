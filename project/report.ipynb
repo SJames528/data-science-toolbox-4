{
 "cells": [
  {
   "cell_type": "markdown",
   "metadata": {},
   "source": [
    "# Topic Modelling on Program Source Code\n",
    "---\n",
    "By Kishalay Banerjee, Dan Jones and Sam Harding"
   ]
  },
  {
   "cell_type": "code",
   "execution_count": 1,
   "metadata": {},
   "outputs": [],
   "source": [
    "import warnings\n",
    "warnings.filterwarnings('ignore')  # 0y"
   ]
  },
  {
   "cell_type": "code",
   "execution_count": 2,
   "metadata": {},
   "outputs": [
    {
     "name": "stderr",
     "output_type": "stream",
     "text": [
      "/home/dan/.guix-profile/lib/python3.7/site-packages/funcy/colls.py:6: DeprecationWarning: Using or importing the ABCs from 'collections' instead of from 'collections.abc' is deprecated, and in 3.8 it will stop working\n",
      "  from collections import Mapping, Set, Iterable, Iterator, defaultdict\n",
      "/home/dan/.guix-profile/lib/python3.7/site-packages/funcy/colls.py:6: DeprecationWarning: Using or importing the ABCs from 'collections' instead of from 'collections.abc' is deprecated, and in 3.8 it will stop working\n",
      "  from collections import Mapping, Set, Iterable, Iterator, defaultdict\n",
      "/home/dan/.guix-profile/lib/python3.7/site-packages/funcy/seqs.py:3: DeprecationWarning: Using or importing the ABCs from 'collections' instead of from 'collections.abc' is deprecated, and in 3.8 it will stop working\n",
      "  from collections import defaultdict, deque, Sequence\n",
      "/home/dan/.guix-profile/lib/python3.7/site-packages/funcy/flow.py:2: DeprecationWarning: Using or importing the ABCs from 'collections' instead of from 'collections.abc' is deprecated, and in 3.8 it will stop working\n",
      "  from collections import Hashable\n"
     ]
    }
   ],
   "source": [
    "import pandas\n",
    "import pickle\n",
    "import math\n",
    "import numpy\n",
    "import pyLDAvis\n",
    "import pyLDAvis.sklearn\n",
    "pyLDAvis.enable_notebook()"
   ]
  },
  {
   "cell_type": "code",
   "execution_count": 3,
   "metadata": {},
   "outputs": [],
   "source": [
    "from sklearn.decomposition import LatentDirichletAllocation\n",
    "from sklearn.feature_extraction.text import TfidfVectorizer, CountVectorizer\n",
    "\n",
    "from urllib.request import urlretrieve"
   ]
  },
  {
   "cell_type": "code",
   "execution_count": 13,
   "metadata": {},
   "outputs": [],
   "source": [
    "numpy.random.seed(0xC0FFEE) "
   ]
  },
  {
   "cell_type": "markdown",
   "metadata": {},
   "source": [
    "## Preparation\n",
    "\n",
    "There are a number of files which are too large to store on GitHub. These are hosted on our server, and can be downloaded by running the following cell:"
   ]
  },
  {
   "cell_type": "code",
   "execution_count": 5,
   "metadata": {},
   "outputs": [
    {
     "name": "stdout",
     "output_type": "stream",
     "text": [
      "Downloading 'https://daniel.wilshirejones.com/private-uUX6IzfsRYLNiti4ZFmgv6U3dFInnq37r5YSQs46iejeB96q0MAy9Ko7hkgo/full_lda_model.pickle'' to location '../data/full_lda_model.pickle'\n",
      "Downloading 'https://daniel.wilshirejones.com/private-uUX6IzfsRYLNiti4ZFmgv6U3dFInnq37r5YSQs46iejeB96q0MAy9Ko7hkgo/full_tf.pickle'' to location '../data/full_tf.pickle'\n",
      "Downloading 'https://daniel.wilshirejones.com/private-uUX6IzfsRYLNiti4ZFmgv6U3dFInnq37r5YSQs46iejeB96q0MAy9Ko7hkgo/full_tf_vectorizer.pickle'' to location '../data/full_tf_vectorizer.pickle'\n",
      "Downloading 'https://daniel.wilshirejones.com/private-uUX6IzfsRYLNiti4ZFmgv6U3dFInnq37r5YSQs46iejeB96q0MAy9Ko7hkgo/full-dataset.csv.gz'' to location '../data/full-dataset.csv.gz'\n"
     ]
    }
   ],
   "source": [
    "files = [\n",
    "    'full_lda_model.pickle',\n",
    "    'full_tf.pickle',\n",
    "    'full_tf_vectorizer.pickle',\n",
    "    'full-dataset.csv.gz',\n",
    "]\n",
    "\n",
    "base_url = 'https://daniel.wilshirejones.com/private-uUX6IzfsRYLNiti4ZFmgv6U3dFInnq37r5YSQs46iejeB96q0MAy9Ko7hkgo/'\n",
    "destination_directory = '../data/'\n",
    "\n",
    "for file in files:\n",
    "    url = base_url + file\n",
    "    destination = destination_directory + file\n",
    "    print(\"Downloading '{}'' to location '{}'\".format(url, destination))\n",
    "    urlretrieve(url, destination)"
   ]
  },
  {
   "cell_type": "markdown",
   "metadata": {},
   "source": [
    "## Generating the Dataset\n",
    "\n",
    "TODO: Import dataset.py and explain how it's used + what it does.\n",
    "\n",
    "TODO: Add Sam's scrub function in here?"
   ]
  },
  {
   "cell_type": "code",
   "execution_count": 15,
   "metadata": {},
   "outputs": [
    {
     "data": {
      "text/html": [
       "<div>\n",
       "<style scoped>\n",
       "    .dataframe tbody tr th:only-of-type {\n",
       "        vertical-align: middle;\n",
       "    }\n",
       "\n",
       "    .dataframe tbody tr th {\n",
       "        vertical-align: top;\n",
       "    }\n",
       "\n",
       "    .dataframe thead th {\n",
       "        text-align: right;\n",
       "    }\n",
       "</style>\n",
       "<table border=\"1\" class=\"dataframe\">\n",
       "  <thead>\n",
       "    <tr style=\"text-align: right;\">\n",
       "      <th></th>\n",
       "      <th>repo</th>\n",
       "      <th>language</th>\n",
       "      <th>documents</th>\n",
       "    </tr>\n",
       "  </thead>\n",
       "  <tbody>\n",
       "    <tr>\n",
       "      <th>0</th>\n",
       "      <td>28457823</td>\n",
       "      <td>javascript</td>\n",
       "      <td>b\"module.exports = {\\n  plugins: [\\n    requir...</td>\n",
       "    </tr>\n",
       "    <tr>\n",
       "      <th>1</th>\n",
       "      <td>28457823</td>\n",
       "      <td>javascript</td>\n",
       "      <td>b\"// The path where to mount the REST API app\\...</td>\n",
       "    </tr>\n",
       "    <tr>\n",
       "      <th>2</th>\n",
       "      <td>28457823</td>\n",
       "      <td>javascript</td>\n",
       "      <td>b\"import { Observable } from 'rx';\\nimport deb...</td>\n",
       "    </tr>\n",
       "    <tr>\n",
       "      <th>3</th>\n",
       "      <td>28457823</td>\n",
       "      <td>javascript</td>\n",
       "      <td>b\"import { Observable } from 'rx';\\n// import ...</td>\n",
       "    </tr>\n",
       "    <tr>\n",
       "      <th>4</th>\n",
       "      <td>28457823</td>\n",
       "      <td>javascript</td>\n",
       "      <td>b\"import { Observable } from 'rx';\\n\\nmodule.e...</td>\n",
       "    </tr>\n",
       "  </tbody>\n",
       "</table>\n",
       "</div>"
      ],
      "text/plain": [
       "       repo    language                                          documents\n",
       "0  28457823  javascript  b\"module.exports = {\\n  plugins: [\\n    requir...\n",
       "1  28457823  javascript  b\"// The path where to mount the REST API app\\...\n",
       "2  28457823  javascript  b\"import { Observable } from 'rx';\\nimport deb...\n",
       "3  28457823  javascript  b\"import { Observable } from 'rx';\\n// import ...\n",
       "4  28457823  javascript  b\"import { Observable } from 'rx';\\n\\nmodule.e..."
      ]
     },
     "execution_count": 15,
     "metadata": {},
     "output_type": "execute_result"
    }
   ],
   "source": [
    "minimal_dataset = pandas.read_csv(\"../data/dataset.csv.gz\", header=None, names=['repo', 'language', 'documents'])\n",
    "minimal_dataset.head()"
   ]
  },
  {
   "cell_type": "code",
   "execution_count": 16,
   "metadata": {},
   "outputs": [
    {
     "data": {
      "text/html": [
       "<div>\n",
       "<style scoped>\n",
       "    .dataframe tbody tr th:only-of-type {\n",
       "        vertical-align: middle;\n",
       "    }\n",
       "\n",
       "    .dataframe tbody tr th {\n",
       "        vertical-align: top;\n",
       "    }\n",
       "\n",
       "    .dataframe thead th {\n",
       "        text-align: right;\n",
       "    }\n",
       "</style>\n",
       "<table border=\"1\" class=\"dataframe\">\n",
       "  <thead>\n",
       "    <tr style=\"text-align: right;\">\n",
       "      <th></th>\n",
       "      <th>repo</th>\n",
       "      <th>language</th>\n",
       "      <th>documents</th>\n",
       "    </tr>\n",
       "  </thead>\n",
       "  <tbody>\n",
       "    <tr>\n",
       "      <th>0</th>\n",
       "      <td>28457823</td>\n",
       "      <td>javascript</td>\n",
       "      <td>b\"module.exports = {\\n  plugins: [\\n    requir...</td>\n",
       "    </tr>\n",
       "    <tr>\n",
       "      <th>1</th>\n",
       "      <td>28457823</td>\n",
       "      <td>javascript</td>\n",
       "      <td>b\"// The path where to mount the REST API app\\...</td>\n",
       "    </tr>\n",
       "    <tr>\n",
       "      <th>2</th>\n",
       "      <td>28457823</td>\n",
       "      <td>javascript</td>\n",
       "      <td>b\"import { Observable } from 'rx';\\nimport deb...</td>\n",
       "    </tr>\n",
       "    <tr>\n",
       "      <th>3</th>\n",
       "      <td>28457823</td>\n",
       "      <td>javascript</td>\n",
       "      <td>b\"import { Observable } from 'rx';\\n// import ...</td>\n",
       "    </tr>\n",
       "    <tr>\n",
       "      <th>4</th>\n",
       "      <td>28457823</td>\n",
       "      <td>javascript</td>\n",
       "      <td>b\"import { Observable } from 'rx';\\n\\nmodule.e...</td>\n",
       "    </tr>\n",
       "  </tbody>\n",
       "</table>\n",
       "</div>"
      ],
      "text/plain": [
       "       repo    language                                          documents\n",
       "0  28457823  javascript  b\"module.exports = {\\n  plugins: [\\n    requir...\n",
       "1  28457823  javascript  b\"// The path where to mount the REST API app\\...\n",
       "2  28457823  javascript  b\"import { Observable } from 'rx';\\nimport deb...\n",
       "3  28457823  javascript  b\"import { Observable } from 'rx';\\n// import ...\n",
       "4  28457823  javascript  b\"import { Observable } from 'rx';\\n\\nmodule.e..."
      ]
     },
     "execution_count": 16,
     "metadata": {},
     "output_type": "execute_result"
    }
   ],
   "source": [
    "full_dataset = pandas.read_csv(\"../data/full-dataset.csv.gz\", header=None, names=['repo', 'language',  'topics', 'documents'])\n",
    "\n",
    "# Remove Github 'topics' since we don't use them in this analysis\n",
    "full_dataset = full_dataset.drop(columns='topics')\n",
    "\n",
    "full_dataset.head()"
   ]
  },
  {
   "cell_type": "code",
   "execution_count": 17,
   "metadata": {},
   "outputs": [
    {
     "data": {
      "text/html": [
       "<div>\n",
       "<style scoped>\n",
       "    .dataframe tbody tr th:only-of-type {\n",
       "        vertical-align: middle;\n",
       "    }\n",
       "\n",
       "    .dataframe tbody tr th {\n",
       "        vertical-align: top;\n",
       "    }\n",
       "\n",
       "    .dataframe thead th {\n",
       "        text-align: right;\n",
       "    }\n",
       "</style>\n",
       "<table border=\"1\" class=\"dataframe\">\n",
       "  <thead>\n",
       "    <tr style=\"text-align: right;\">\n",
       "      <th></th>\n",
       "      <th>repo</th>\n",
       "      <th>language</th>\n",
       "      <th>documents</th>\n",
       "    </tr>\n",
       "  </thead>\n",
       "  <tbody>\n",
       "    <tr>\n",
       "      <th>0</th>\n",
       "      <td>69798748</td>\n",
       "      <td>javascript</td>\n",
       "      <td>b\"const glob = require('glob')\\nconst markdown...</td>\n",
       "    </tr>\n",
       "    <tr>\n",
       "      <th>1</th>\n",
       "      <td>128624453</td>\n",
       "      <td>javascript</td>\n",
       "      <td>b\"module.exports = {\\n  extends: ['@commitlint...</td>\n",
       "    </tr>\n",
       "    <tr>\n",
       "      <th>2</th>\n",
       "      <td>128624453</td>\n",
       "      <td>javascript</td>\n",
       "      <td>b\"module.exports = {\\n  extends: ['standard', ...</td>\n",
       "    </tr>\n",
       "    <tr>\n",
       "      <th>3</th>\n",
       "      <td>128624453</td>\n",
       "      <td>javascript</td>\n",
       "      <td>b\"const cp = require('child_process')\\nconst g...</td>\n",
       "    </tr>\n",
       "    <tr>\n",
       "      <th>4</th>\n",
       "      <td>128624453</td>\n",
       "      <td>javascript</td>\n",
       "      <td>b\"module.exports = {\\n  verbose: true,\\n  tran...</td>\n",
       "    </tr>\n",
       "  </tbody>\n",
       "</table>\n",
       "</div>"
      ],
      "text/plain": [
       "        repo    language                                          documents\n",
       "0   69798748  javascript  b\"const glob = require('glob')\\nconst markdown...\n",
       "1  128624453  javascript  b\"module.exports = {\\n  extends: ['@commitlint...\n",
       "2  128624453  javascript  b\"module.exports = {\\n  extends: ['standard', ...\n",
       "3  128624453  javascript  b\"const cp = require('child_process')\\nconst g...\n",
       "4  128624453  javascript  b\"module.exports = {\\n  verbose: true,\\n  tran..."
      ]
     },
     "execution_count": 17,
     "metadata": {},
     "output_type": "execute_result"
    }
   ],
   "source": [
    "test_dataset = pandas.read_csv(\"../data/test-dataset.csv.gz\", header=None, names=['repo', 'language', 'topics', 'documents'])\n",
    "\n",
    "# Remove Github 'topics' since we don't use them in this analysis\n",
    "test_dataset = test_dataset.drop(columns='topics')\n",
    "\n",
    "test_dataset.head()"
   ]
  },
  {
   "cell_type": "markdown",
   "metadata": {},
   "source": [
    "To evaluate the mixture model, we must label each repository with it's percentage of each programming language:"
   ]
  },
  {
   "cell_type": "code",
   "execution_count": 18,
   "metadata": {},
   "outputs": [],
   "source": [
    "def calculate_language_percentages(group):\n",
    "    total_python_length = 0\n",
    "    total_r_length = 0\n",
    "    total_javascript_length = 0\n",
    "    \n",
    "    for index, repo, language, document in group.itertuples():\n",
    "        if language == 'python':\n",
    "            total_python_length += len(document)\n",
    "            \n",
    "        if language == 'javascript':\n",
    "            total_javascript_length += len(document)\n",
    "            \n",
    "        if language == 'r':\n",
    "            total_r_length += len(document)\n",
    "            \n",
    "    total_length = total_python_length + total_r_length + total_javascript_length\n",
    "            \n",
    "    return pandas.Series([\n",
    "        total_python_length/total_length,\n",
    "        total_r_length/total_length,\n",
    "        total_javascript_length/total_length,\n",
    "    ])"
   ]
  },
  {
   "cell_type": "code",
   "execution_count": 19,
   "metadata": {},
   "outputs": [],
   "source": [
    "test_composition_actual = test_dataset.groupby(by='repo').apply(calculate_language_percentages)\n",
    "test_composition_actual.columns = ['python', 'r', 'javascript']"
   ]
  },
  {
   "cell_type": "markdown",
   "metadata": {},
   "source": [
    "Here are the programming language percentages for each of repository in our test dataset:"
   ]
  },
  {
   "cell_type": "code",
   "execution_count": 20,
   "metadata": {
    "scrolled": false
   },
   "outputs": [
    {
     "data": {
      "text/html": [
       "<div>\n",
       "<style scoped>\n",
       "    .dataframe tbody tr th:only-of-type {\n",
       "        vertical-align: middle;\n",
       "    }\n",
       "\n",
       "    .dataframe tbody tr th {\n",
       "        vertical-align: top;\n",
       "    }\n",
       "\n",
       "    .dataframe thead th {\n",
       "        text-align: right;\n",
       "    }\n",
       "</style>\n",
       "<table border=\"1\" class=\"dataframe\">\n",
       "  <thead>\n",
       "    <tr style=\"text-align: right;\">\n",
       "      <th></th>\n",
       "      <th>python</th>\n",
       "      <th>r</th>\n",
       "      <th>javascript</th>\n",
       "    </tr>\n",
       "    <tr>\n",
       "      <th>repo</th>\n",
       "      <th></th>\n",
       "      <th></th>\n",
       "      <th></th>\n",
       "    </tr>\n",
       "  </thead>\n",
       "  <tbody>\n",
       "    <tr>\n",
       "      <th>596892</th>\n",
       "      <td>1.000000</td>\n",
       "      <td>0.000000</td>\n",
       "      <td>0.000000</td>\n",
       "    </tr>\n",
       "    <tr>\n",
       "      <th>1248263</th>\n",
       "      <td>0.652443</td>\n",
       "      <td>0.000000</td>\n",
       "      <td>0.347557</td>\n",
       "    </tr>\n",
       "    <tr>\n",
       "      <th>1790564</th>\n",
       "      <td>0.000000</td>\n",
       "      <td>0.000000</td>\n",
       "      <td>1.000000</td>\n",
       "    </tr>\n",
       "    <tr>\n",
       "      <th>4751958</th>\n",
       "      <td>0.360730</td>\n",
       "      <td>0.000000</td>\n",
       "      <td>0.639270</td>\n",
       "    </tr>\n",
       "    <tr>\n",
       "      <th>12465340</th>\n",
       "      <td>0.000000</td>\n",
       "      <td>0.995105</td>\n",
       "      <td>0.004895</td>\n",
       "    </tr>\n",
       "    <tr>\n",
       "      <th>13523710</th>\n",
       "      <td>0.000000</td>\n",
       "      <td>1.000000</td>\n",
       "      <td>0.000000</td>\n",
       "    </tr>\n",
       "    <tr>\n",
       "      <th>14267375</th>\n",
       "      <td>0.941701</td>\n",
       "      <td>0.000000</td>\n",
       "      <td>0.058299</td>\n",
       "    </tr>\n",
       "    <tr>\n",
       "      <th>14579179</th>\n",
       "      <td>0.000000</td>\n",
       "      <td>0.189083</td>\n",
       "      <td>0.810917</td>\n",
       "    </tr>\n",
       "    <tr>\n",
       "      <th>16146440</th>\n",
       "      <td>0.000000</td>\n",
       "      <td>0.253421</td>\n",
       "      <td>0.746579</td>\n",
       "    </tr>\n",
       "    <tr>\n",
       "      <th>17856544</th>\n",
       "      <td>0.000000</td>\n",
       "      <td>1.000000</td>\n",
       "      <td>0.000000</td>\n",
       "    </tr>\n",
       "    <tr>\n",
       "      <th>19117456</th>\n",
       "      <td>0.000000</td>\n",
       "      <td>0.000000</td>\n",
       "      <td>1.000000</td>\n",
       "    </tr>\n",
       "    <tr>\n",
       "      <th>21289110</th>\n",
       "      <td>1.000000</td>\n",
       "      <td>0.000000</td>\n",
       "      <td>0.000000</td>\n",
       "    </tr>\n",
       "    <tr>\n",
       "      <th>23932217</th>\n",
       "      <td>0.000000</td>\n",
       "      <td>0.984244</td>\n",
       "      <td>0.015756</td>\n",
       "    </tr>\n",
       "    <tr>\n",
       "      <th>24929423</th>\n",
       "      <td>0.000000</td>\n",
       "      <td>1.000000</td>\n",
       "      <td>0.000000</td>\n",
       "    </tr>\n",
       "    <tr>\n",
       "      <th>28556914</th>\n",
       "      <td>0.000000</td>\n",
       "      <td>0.127105</td>\n",
       "      <td>0.872895</td>\n",
       "    </tr>\n",
       "    <tr>\n",
       "      <th>33614304</th>\n",
       "      <td>1.000000</td>\n",
       "      <td>0.000000</td>\n",
       "      <td>0.000000</td>\n",
       "    </tr>\n",
       "    <tr>\n",
       "      <th>36849200</th>\n",
       "      <td>0.000000</td>\n",
       "      <td>0.980459</td>\n",
       "      <td>0.019541</td>\n",
       "    </tr>\n",
       "    <tr>\n",
       "      <th>38226908</th>\n",
       "      <td>0.659855</td>\n",
       "      <td>0.000000</td>\n",
       "      <td>0.340145</td>\n",
       "    </tr>\n",
       "    <tr>\n",
       "      <th>45936895</th>\n",
       "      <td>0.000000</td>\n",
       "      <td>0.000000</td>\n",
       "      <td>1.000000</td>\n",
       "    </tr>\n",
       "    <tr>\n",
       "      <th>47918643</th>\n",
       "      <td>0.555986</td>\n",
       "      <td>0.000000</td>\n",
       "      <td>0.444014</td>\n",
       "    </tr>\n",
       "    <tr>\n",
       "      <th>61412022</th>\n",
       "      <td>0.000000</td>\n",
       "      <td>0.000000</td>\n",
       "      <td>1.000000</td>\n",
       "    </tr>\n",
       "    <tr>\n",
       "      <th>69798748</th>\n",
       "      <td>0.000000</td>\n",
       "      <td>0.000000</td>\n",
       "      <td>1.000000</td>\n",
       "    </tr>\n",
       "    <tr>\n",
       "      <th>72671522</th>\n",
       "      <td>0.000000</td>\n",
       "      <td>1.000000</td>\n",
       "      <td>0.000000</td>\n",
       "    </tr>\n",
       "    <tr>\n",
       "      <th>83222441</th>\n",
       "      <td>1.000000</td>\n",
       "      <td>0.000000</td>\n",
       "      <td>0.000000</td>\n",
       "    </tr>\n",
       "    <tr>\n",
       "      <th>84232645</th>\n",
       "      <td>0.000000</td>\n",
       "      <td>0.000000</td>\n",
       "      <td>1.000000</td>\n",
       "    </tr>\n",
       "    <tr>\n",
       "      <th>89187780</th>\n",
       "      <td>0.000000</td>\n",
       "      <td>0.000000</td>\n",
       "      <td>1.000000</td>\n",
       "    </tr>\n",
       "    <tr>\n",
       "      <th>94911145</th>\n",
       "      <td>0.000000</td>\n",
       "      <td>0.000000</td>\n",
       "      <td>1.000000</td>\n",
       "    </tr>\n",
       "    <tr>\n",
       "      <th>128624453</th>\n",
       "      <td>0.000000</td>\n",
       "      <td>0.000000</td>\n",
       "      <td>1.000000</td>\n",
       "    </tr>\n",
       "  </tbody>\n",
       "</table>\n",
       "</div>"
      ],
      "text/plain": [
       "             python         r  javascript\n",
       "repo                                     \n",
       "596892     1.000000  0.000000    0.000000\n",
       "1248263    0.652443  0.000000    0.347557\n",
       "1790564    0.000000  0.000000    1.000000\n",
       "4751958    0.360730  0.000000    0.639270\n",
       "12465340   0.000000  0.995105    0.004895\n",
       "13523710   0.000000  1.000000    0.000000\n",
       "14267375   0.941701  0.000000    0.058299\n",
       "14579179   0.000000  0.189083    0.810917\n",
       "16146440   0.000000  0.253421    0.746579\n",
       "17856544   0.000000  1.000000    0.000000\n",
       "19117456   0.000000  0.000000    1.000000\n",
       "21289110   1.000000  0.000000    0.000000\n",
       "23932217   0.000000  0.984244    0.015756\n",
       "24929423   0.000000  1.000000    0.000000\n",
       "28556914   0.000000  0.127105    0.872895\n",
       "33614304   1.000000  0.000000    0.000000\n",
       "36849200   0.000000  0.980459    0.019541\n",
       "38226908   0.659855  0.000000    0.340145\n",
       "45936895   0.000000  0.000000    1.000000\n",
       "47918643   0.555986  0.000000    0.444014\n",
       "61412022   0.000000  0.000000    1.000000\n",
       "69798748   0.000000  0.000000    1.000000\n",
       "72671522   0.000000  1.000000    0.000000\n",
       "83222441   1.000000  0.000000    0.000000\n",
       "84232645   0.000000  0.000000    1.000000\n",
       "89187780   0.000000  0.000000    1.000000\n",
       "94911145   0.000000  0.000000    1.000000\n",
       "128624453  0.000000  0.000000    1.000000"
      ]
     },
     "execution_count": 20,
     "metadata": {},
     "output_type": "execute_result"
    }
   ],
   "source": [
    "test_composition_actual"
   ]
  },
  {
   "cell_type": "code",
   "execution_count": 21,
   "metadata": {},
   "outputs": [],
   "source": [
    "combined_test_documents = test_dataset.groupby(by='repo').apply(concat_texts)"
   ]
  },
  {
   "cell_type": "markdown",
   "metadata": {},
   "source": [
    "## Topic Modelling on Individual Source Files\n",
    "\n",
    "Basically done, just need to copy it over. Maybe run on the bigger dataset?\n",
    "\n",
    "TODO:\n",
    "  - Copy work from documentation/daniel-jones.ipynb\n",
    "  - Add visualisation with pyldavis"
   ]
  },
  {
   "cell_type": "markdown",
   "metadata": {},
   "source": [
    "For our purposes, common words are important and rare words aren't. So we shouldn't use tf-idf as a metric, bag-of-words makes more sense. (TODO: Maybe: \"Similarly, filter out words that don't occur very often\").\n"
   ]
  },
  {
   "cell_type": "code",
   "execution_count": 8,
   "metadata": {},
   "outputs": [],
   "source": [
    "documents = minimal_dataset['documents']"
   ]
  },
  {
   "cell_type": "code",
   "execution_count": null,
   "metadata": {},
   "outputs": [],
   "source": [
    "tf_vectorizer = CountVectorizer(stop_words=None)\n",
    "tf = tf_vectorizer.fit_transform(documents)\n",
    "\n",
    "with open('../data/minimal_lda_tf.pickle', 'wb') as f:\n",
    "    pickle.dump(tf, f)\n",
    "    \n",
    "with open('../data/minimal_lda_tf_vectorizer.pickle', 'wb') as f:\n",
    "    pickle.dump(tf_vectorizer, f)"
   ]
  },
  {
   "cell_type": "markdown",
   "metadata": {},
   "source": [
    "We have four programming languages, try to use LDA to determine these four programming languages."
   ]
  },
  {
   "cell_type": "code",
   "execution_count": null,
   "metadata": {},
   "outputs": [],
   "source": [
    "number_of_languages = 4\n",
    "\n",
    "lda = LatentDirichletAllocation(n_topics=number_of_languages,  n_jobs=1)\n",
    "model = lda.fit(tf)\n",
    "\n",
    "with open('../data/minimal_lda_model.pickle', 'wb') as f:\n",
    "    pickle.dump(model, f)"
   ]
  },
  {
   "cell_type": "code",
   "execution_count": 9,
   "metadata": {},
   "outputs": [],
   "source": [
    "with open('../data/minimal_lda_model.pickle', 'rb') as f:\n",
    "    model = pickle.load(f)\n",
    "    \n",
    "with open('../data/minimal_lda_tf.pickle', 'rb') as f:\n",
    "    tf = pickle.load(f)\n",
    "    \n",
    "with open('../data/minimal_lda_tf_vectorizer.pickle', 'rb') as f:\n",
    "    tf_vectorizer = pickle.load(f)"
   ]
  },
  {
   "cell_type": "code",
   "execution_count": 10,
   "metadata": {
    "scrolled": true
   },
   "outputs": [
    {
     "data": {
      "text/html": [
       "\n",
       "<link rel=\"stylesheet\" type=\"text/css\" href=\"https://cdn.rawgit.com/bmabey/pyLDAvis/files/ldavis.v1.0.0.css\">\n",
       "\n",
       "\n",
       "<div id=\"ldavis_el37961401799325678569285054448\"></div>\n",
       "<script type=\"text/javascript\">\n",
       "\n",
       "var ldavis_el37961401799325678569285054448_data = {\"mdsDat\": {\"x\": [-0.17049805679754546, 0.33457975204282714, -0.21510936311724943, 0.051027667871967844], \"y\": [0.06842189969404983, -0.13716683259027473, -0.20309519487826092, 0.2718401277744859], \"topics\": [1, 2, 3, 4], \"cluster\": [1, 1, 1, 1], \"Freq\": [53.66114812290257, 17.800761664219735, 16.993208820578094, 11.544881392299612]}, \"tinfo\": {\"Category\": [\"Default\", \"Default\", \"Default\", \"Default\", \"Default\", \"Default\", \"Default\", \"Default\", \"Default\", \"Default\", \"Default\", \"Default\", \"Default\", \"Default\", \"Default\", \"Default\", \"Default\", \"Default\", \"Default\", \"Default\", \"Default\", \"Default\", \"Default\", \"Default\", \"Default\", \"Default\", \"Default\", \"Default\", \"Default\", \"Default\", \"Topic1\", \"Topic1\", \"Topic1\", \"Topic1\", \"Topic1\", \"Topic1\", \"Topic1\", \"Topic1\", \"Topic1\", \"Topic1\", \"Topic1\", \"Topic1\", \"Topic1\", \"Topic1\", \"Topic1\", \"Topic1\", \"Topic1\", \"Topic1\", \"Topic1\", \"Topic1\", \"Topic1\", \"Topic1\", \"Topic1\", \"Topic1\", \"Topic1\", \"Topic1\", \"Topic1\", \"Topic1\", \"Topic1\", \"Topic1\", \"Topic1\", \"Topic1\", \"Topic1\", \"Topic1\", \"Topic1\", \"Topic1\", \"Topic1\", \"Topic1\", \"Topic1\", \"Topic1\", \"Topic1\", \"Topic1\", \"Topic1\", \"Topic1\", \"Topic1\", \"Topic1\", \"Topic1\", \"Topic1\", \"Topic1\", \"Topic1\", \"Topic1\", \"Topic1\", \"Topic1\", \"Topic1\", \"Topic1\", \"Topic1\", \"Topic1\", \"Topic1\", \"Topic1\", \"Topic1\", \"Topic1\", \"Topic1\", \"Topic1\", \"Topic1\", \"Topic2\", \"Topic2\", \"Topic2\", \"Topic2\", \"Topic2\", \"Topic2\", \"Topic2\", \"Topic2\", \"Topic2\", \"Topic2\", \"Topic2\", \"Topic2\", \"Topic2\", \"Topic2\", \"Topic2\", \"Topic2\", \"Topic2\", \"Topic2\", \"Topic2\", \"Topic2\", \"Topic2\", \"Topic2\", \"Topic2\", \"Topic2\", \"Topic2\", \"Topic2\", \"Topic2\", \"Topic2\", \"Topic2\", \"Topic2\", \"Topic2\", \"Topic2\", \"Topic2\", \"Topic2\", \"Topic2\", \"Topic2\", \"Topic2\", \"Topic2\", \"Topic2\", \"Topic2\", \"Topic2\", \"Topic2\", \"Topic2\", \"Topic2\", \"Topic2\", \"Topic2\", \"Topic2\", \"Topic2\", \"Topic2\", \"Topic2\", \"Topic2\", \"Topic2\", \"Topic2\", \"Topic2\", \"Topic2\", \"Topic2\", \"Topic2\", \"Topic2\", \"Topic3\", \"Topic3\", \"Topic3\", \"Topic3\", \"Topic3\", \"Topic3\", \"Topic3\", \"Topic3\", \"Topic3\", \"Topic3\", \"Topic3\", \"Topic3\", \"Topic3\", \"Topic3\", \"Topic3\", \"Topic3\", \"Topic3\", \"Topic3\", \"Topic3\", \"Topic3\", \"Topic3\", \"Topic3\", \"Topic3\", \"Topic3\", \"Topic3\", \"Topic3\", \"Topic3\", \"Topic3\", \"Topic3\", \"Topic3\", \"Topic3\", \"Topic3\", \"Topic3\", \"Topic3\", \"Topic3\", \"Topic3\", \"Topic3\", \"Topic3\", \"Topic3\", \"Topic3\", \"Topic3\", \"Topic3\", \"Topic3\", \"Topic3\", \"Topic3\", \"Topic3\", \"Topic3\", \"Topic3\", \"Topic3\", \"Topic3\", \"Topic3\", \"Topic3\", \"Topic3\", \"Topic3\", \"Topic3\", \"Topic3\", \"Topic3\", \"Topic3\", \"Topic3\", \"Topic3\", \"Topic3\", \"Topic3\", \"Topic3\", \"Topic3\", \"Topic3\", \"Topic3\", \"Topic3\", \"Topic3\", \"Topic3\", \"Topic3\", \"Topic3\", \"Topic4\", \"Topic4\", \"Topic4\", \"Topic4\", \"Topic4\", \"Topic4\", \"Topic4\", \"Topic4\", \"Topic4\", \"Topic4\", \"Topic4\", \"Topic4\", \"Topic4\", \"Topic4\", \"Topic4\", \"Topic4\", \"Topic4\", \"Topic4\", \"Topic4\", \"Topic4\", \"Topic4\", \"Topic4\", \"Topic4\", \"Topic4\", \"Topic4\", \"Topic4\", \"Topic4\", \"Topic4\", \"Topic4\", \"Topic4\", \"Topic4\", \"Topic4\", \"Topic4\", \"Topic4\", \"Topic4\", \"Topic4\", \"Topic4\", \"Topic4\", \"Topic4\", \"Topic4\", \"Topic4\", \"Topic4\", \"Topic4\", \"Topic4\", \"Topic4\", \"Topic4\", \"Topic4\", \"Topic4\", \"Topic4\", \"Topic4\", \"Topic4\", \"Topic4\", \"Topic4\", \"Topic4\", \"Topic4\", \"Topic4\", \"Topic4\", \"Topic4\", \"Topic4\", \"Topic4\", \"Topic4\", \"Topic4\", \"Topic4\", \"Topic4\", \"Topic4\", \"Topic4\", \"Topic4\", \"Topic4\", \"Topic4\", \"Topic4\"], \"Freq\": [76787.0, 28422.0, 35518.0, 93096.0, 71532.0, 75532.0, 26333.0, 19823.0, 78705.0, 26520.0, 18618.0, 13422.0, 19257.0, 15713.0, 12159.0, 18062.0, 21713.0, 16822.0, 14036.0, 74742.0, 34335.0, 50512.0, 16313.0, 8955.0, 16616.0, 7860.0, 10334.0, 8276.0, 7548.0, 23687.0, 71531.5762159158, 23314.118375552764, 13441.369400600503, 11944.62845991082, 12110.402706087983, 10790.538197076816, 10599.15590678311, 9748.638034900934, 7897.85598282713, 6763.046737243301, 6924.6884123546215, 6604.765604914423, 6943.883996966624, 6451.16273429092, 6125.427319333762, 5948.785270909246, 5134.528133499474, 5543.695025510577, 4784.303115192239, 5350.204822351781, 4394.444091151431, 4303.221069119547, 4162.872386574487, 4500.202816361437, 4065.098801406662, 4082.7909413660363, 3771.176282581617, 3821.829178459878, 3593.5094004207804, 3485.108538594093, 75383.45402430862, 92679.62074099842, 77320.90551448228, 15711.571088288634, 14321.65895752348, 21672.825275828032, 9255.074819495218, 9162.97815527113, 11147.531618290514, 8448.90712556894, 7373.463756687846, 8747.819378691318, 7028.808238163777, 5749.304426748358, 20133.931588835057, 21010.27051955013, 48241.5649145209, 70402.4731258709, 20099.87152086409, 8201.860133183602, 28868.832447676676, 12885.844622438975, 9997.054929981281, 35287.45756719342, 31105.926521223457, 10532.210532220392, 26621.255245533033, 14317.830794075293, 14735.185584638588, 21099.20094350797, 24633.75380103511, 15693.002941667028, 14811.364652077416, 13411.858390988891, 8775.670510819537, 5555.087675694316, 5255.5051178747, 4582.409953698283, 3585.8455521707037, 3429.0094255170156, 3122.7541863005254, 2728.8778045380823, 2745.9309045603122, 2645.427671898577, 2492.6028401975764, 2504.731588367604, 2302.4511213520905, 2568.1477296589087, 2190.06223006072, 2225.29129462055, 2013.3979938737414, 2128.932862372996, 1918.18192028952, 2385.6691699872185, 2750.1036549124906, 1854.6967277122033, 1761.2636318383172, 1747.1052595244212, 7907.79530931315, 1639.3417892521286, 1631.2019457497206, 2439.5290102370445, 1612.7120993272258, 3939.191594149775, 6371.878115841749, 5650.71991949587, 5607.9523394564185, 4644.150782821825, 4232.683329979213, 4618.455008066555, 4920.568670562344, 6061.811739946548, 4343.9501320627505, 3016.9510975899016, 9343.602738941227, 2932.9516059801003, 4294.447561776598, 7685.321777390289, 10182.457624768718, 8910.600024404872, 13597.992732934174, 4204.623297298313, 18256.905061208156, 4908.230853242662, 3967.0421111770797, 8916.508590934196, 10115.857445427704, 5832.096353058298, 7509.19056830696, 12882.72055022662, 5221.406784650453, 5608.853669920936, 8985.189157418323, 8070.563431374479, 4827.656078009537, 4480.762807699128, 3543.114321342521, 2801.1942082085407, 2651.6865909744874, 2432.0847224616055, 1964.1081606465189, 1842.839595748706, 2113.292100906967, 1161.6450496586895, 1150.739985531647, 1085.2005249955114, 1076.8575145381508, 1061.1005918259934, 975.0523246336509, 1182.0741106237451, 948.9089909289954, 908.3484524354411, 826.7216245539685, 800.0434220691023, 15698.628788307422, 739.237876332444, 774.3956094171251, 743.1585413680511, 726.3379584475981, 708.5934643394736, 708.1197851134094, 707.8035638261068, 5942.756180204865, 19481.727602879007, 7095.515323829177, 1667.5830973398354, 1695.0999428870252, 1824.8672402486256, 1381.3799311563273, 1103.2378965684954, 73454.82666599566, 1253.4568906880272, 4919.014680516884, 8880.87232165161, 3159.1698375486926, 2778.928708836317, 2025.161016103451, 6161.457128391897, 2536.375981769137, 14443.874660677164, 3463.854008933462, 5259.480049054342, 6406.379009878254, 7224.552373220598, 14974.127875549546, 17233.263171943665, 3279.1820625841033, 4616.727811298913, 4179.488928212208, 3875.2205628878423, 4319.757298570225, 6198.117846119104, 7680.452974605883, 7580.4495698157125, 5549.214351964299, 8760.56339220225, 9686.440932491461, 5727.011996085178, 6050.949941149257, 4489.762209761371, 6529.633616442543, 5895.0918547492865, 5317.403123188758, 7860.139351696628, 7548.032392618547, 12157.684443634873, 3792.589752409129, 1941.34556005344, 1293.4818347384867, 2753.3334288049978, 3069.9924980793544, 821.1712444607848, 1349.0171596803714, 831.5432229093957, 685.4774516532514, 3848.9959172859567, 675.4879527621423, 584.4380803447494, 610.9843679871351, 3945.8281982611315, 454.7865134409699, 436.34004518383995, 1209.0962612218636, 420.07209373979356, 420.2728818426409, 389.79040594707965, 363.07875276224235, 338.3241818851464, 324.9777917811077, 423.09317455323117, 1032.0079094627717, 274.5776881333917, 272.9744159864762, 13230.656097615647, 1011.4077822103767, 575.5700525331679, 2271.7585175671134, 544.7947866030875, 468.7567478450455, 2202.928706220712, 2448.670029504111, 1444.9184941209587, 8623.247994525529, 1464.3914097820452, 1663.4396601386513, 2187.5181689157926, 26136.46049669996, 1213.6025541919175, 7546.761036516293, 1517.1493302979309, 1061.6018147598522, 4516.349076366647, 2783.143067374033, 2447.870929374073, 1890.4105258295858, 25303.791250381222, 3531.9379692303937, 13905.857007849585, 3754.111068216355, 4381.802304562477, 17418.249385170584, 4506.570774715551, 3107.3735939109824, 10511.86937259614, 5130.621772204669, 5762.00314271008, 8875.248414554944, 3771.316900725383, 6152.414620987016, 4765.756501872286, 3483.098033892967, 4964.224769818619, 3281.604912181331], \"Term\": [\"self\", \"react\", \"from\", \"this\", \"the\", \"if\", \"default\", \"def\", \"function\", \"import\", \"nimport\", \"nexport\", \"12\", \"nfrom\", \"createsvgicon\", \"path\", \"none\", \"user\", \"16\", \"return\", \"in\", \"var\", \"as\", \"fragment\", \"10\", \"xd0\", \"24\", \"classname\", \"xe0\", \"name\", \"the\", \"of\", \"it\", \"options\", \"be\", \"that\", \"or\", \"error\", \"an\", \"expect\", \"element\", \"render\", \"are\", \"should\", \"param\", \"tif\", \"will\", \"values\", \"foo\", \"no\", \"when\", \"find\", \"treturn\", \"obj\", \"elem\", \"let\", \"wrapper\", \"attr\", \"version\", \"each\", \"if\", \"this\", \"function\", \"else\", \"new\", \"value\", \"we\", \"event\", \"key\", \"use\", \"exports\", \"string\", \"license\", \"args\", \"length\", \"null\", \"var\", \"return\", \"and\", \"set\", \"is\", \"object\", \"code\", \"to\", \"for\", \"text\", \"true\", \"const\", \"type\", \"data\", \"in\", \"false\", \"name\", \"assert\", \"48\", \"26\", \"33\", \"35\", \"expect_equal\", \"49\", \"51\", \"ntest_that\", \"46\", \"57\", \"96\", \"66\", \"63\", \"52\", \"373\", \"71\", \"62\", \"69\", \"76\", \"54\", \"56\", \"88\", \"627\", \"84\", \"21\", \"73\", \"82\", \"53\", \"78\", \"67\", \"22\", \"28\", \"19\", \"34\", \"512\", \"29\", \"39\", \"18\", \"23\", \"44\", \"32\", \"58\", \"41\", \"17\", \"24\", \"13\", \"16\", \"64\", \"12\", \"31\", \"27\", \"14\", \"11\", \"25\", \"15\", \"10\", \"20\", \"45\", \"ndef\", \"assertequal\", \"django\", \"user_profile\", \"zerver\", \"status_code\", \"kwargs\", \"migrations\", \"__init__\", \"pytest\", \"hamlet\", \"example_email\", \"asserttrue\", \"classmethod\", \"example_user\", \"is_valid\", \"graphene\", \"expected_message\", \"api_link\", \"__future__\", \"model_name\", \"ujson\", \"nfrom\", \"assertfalse\", \"unicode_literals\", \"expected_topic\", \"charfield\", \"user_acl\", \"admin_client\", \"return_value\", \"realm\", \"def\", \"models\", \"isinstance\", \"userprofile\", \"elif\", \"subreddit\", \"valueerror\", \"self\", \"admin\", \"dict\", \"response\", \"pk\", \"raise\", \"product\", \"email\", \"cls\", \"user\", \"zulip\", \"nclass\", \"request\", \"str\", \"none\", \"import\", \"client\", \"thread\", \"category\", \"objects\", \"post\", \"get\", \"id\", \"not\", \"result\", \"name\", \"in\", \"message\", \"assert\", \"url\", \"true\", \"data\", \"for\", \"xd0\", \"xe0\", \"createsvgicon\", \"xd1\", \"xd9\", \"xd5\", \"xd8\", \"0h24v24h0v0z\", \"withstyles\", \"typography\", \"snackbar\", \"0h24v24h0z\", \"material\", \"nplot\", \"markdowndocs\", \"plot_height\", \"xe1\", \"add_layout\", \"nshow\", \"xce\", \"m19\", \"line_color\", \"formcontrol\", \"iconbutton\", \"noutput_file\", \"linearaxis\", \"listitem\", \"xd7\", \"2v5c0\", \"toolbar_location\", \"nexport\", \"xe6\", \"plot_width\", \"xb5\", \"xcf\", \"xec\", \"xa4\", \"x83\", \"x9e\", \"fragment\", \"xbd\", \"xb4\", \"xc3\", \"react\", \"xbf\", \"classname\", \"xb0\", \"xa5\", \"proptypes\", \"x80\", \"xb8\", \"gettext\", \"from\", \"m0\", \"nimport\", \"classes\", \"theme\", \"default\", \"createelement\", \"xe2\", \"path\", \"utils\", \"props\", \"import\", \"button\", \"as\", \"div\", \"fill\", \"none\", \"ui\"], \"Total\": [76787.0, 28422.0, 35518.0, 93096.0, 71532.0, 75532.0, 26333.0, 19823.0, 78705.0, 26520.0, 18618.0, 13422.0, 19257.0, 15713.0, 12159.0, 18062.0, 21713.0, 16822.0, 14036.0, 74742.0, 34335.0, 50512.0, 16313.0, 8955.0, 16616.0, 7860.0, 10334.0, 8276.0, 7548.0, 23687.0, 71532.33827324439, 23314.9213655403, 13442.104197884266, 11945.392786185233, 12111.178002713159, 10791.313410572558, 10600.105663359696, 9749.527312061326, 7898.68628126962, 6763.760860921248, 6925.4206044579605, 6605.51012600276, 6944.680049638876, 6451.9083698687145, 6126.153037192501, 5949.5006619247915, 5135.275451272646, 5544.516578836984, 4785.053215959941, 5351.077395704079, 4395.187218481435, 4303.9570716834605, 4163.586390747376, 4500.983197389691, 4065.8119518237395, 4083.521844699419, 3771.90765530384, 3822.5820559890158, 3594.2526191901266, 3485.8466619203346, 75532.8277666101, 93096.294402732, 78705.21868793233, 15739.469653395687, 14335.20102204415, 21814.028785438175, 9260.236456978297, 9170.77855365649, 11191.726103153453, 8462.624566897684, 7379.261253068549, 8781.229893316891, 7044.088020561369, 5751.038056204535, 20605.032306683504, 21534.63753531464, 50512.03949784867, 74742.26522392403, 20731.70300235176, 8256.713452217458, 30950.48335540427, 13266.478324341713, 10177.586889123753, 39556.085568982315, 36533.660113306, 10933.048124080498, 33151.423650289864, 16030.78207531458, 16631.042165459337, 27079.816984416346, 34335.688463508995, 20045.57877530655, 23687.58454991684, 19463.338392911483, 8776.37291302736, 5555.770349541208, 5256.244670329695, 4583.112968613452, 3586.5128094694574, 3429.6938187180976, 3123.494299274231, 2729.5448165993844, 2746.6058610475093, 2646.142674458571, 2493.2896693546086, 2505.4372944026063, 2303.121077899065, 2568.9084522917497, 2190.7227961418043, 2225.9644623025765, 2014.0660919676754, 2129.6635361175395, 1918.8553290031437, 2386.5251038837096, 2751.1196405967444, 1855.3823238337125, 1761.9196331829564, 1747.770248030332, 7910.951064786229, 1640.0159912172956, 1631.8749245154688, 2440.5458981799966, 1613.3910902230627, 3940.888237487681, 6384.8052039932, 5659.581231736911, 5624.261376227327, 4649.086081278456, 4238.608235662848, 4635.729299903474, 4942.641181799957, 6108.306775232582, 4362.720609991424, 3020.9020649780246, 9464.945734300496, 2936.782678429668, 4318.62377611249, 7774.587616483963, 10334.294692219337, 9071.082563766477, 14036.390500983734, 4245.369402201531, 19257.15550533714, 4975.988831835567, 4023.0988829342514, 9384.222242833275, 10840.563955888263, 6107.14449036935, 8270.48126782388, 16616.060274526048, 6367.147909587986, 8100.099275207182, 8985.926795134275, 8071.290086010818, 4828.381451393734, 4481.4905968821995, 3543.8599437804573, 2801.9174629863946, 2652.4190493939755, 2432.81172613344, 1964.8559869902774, 1843.7561582586552, 2114.382107229447, 1162.3691570091225, 1151.4635266361026, 1085.9286393058778, 1077.5828859089029, 1061.8303139091786, 975.7798749258367, 1182.9568136432954, 949.6334475928707, 909.129580609294, 827.4464953656187, 800.7691446299357, 15713.059959496475, 739.9610889159768, 775.1579180295544, 743.8954095246269, 727.0627151728513, 709.316743170656, 708.8431974021549, 708.5268301519706, 5964.348031270713, 19823.074200299514, 7164.020025894065, 1670.1319256435677, 1698.7594031168362, 1832.1518016460739, 1385.9262101286035, 1104.718657455218, 76787.86537664248, 1261.3441799822383, 5111.034355251054, 9405.74935080925, 3249.442170622555, 2850.676309975858, 2063.9408055688314, 6540.90693236394, 2638.9563224216954, 16822.69015935666, 3746.2981384428285, 5872.057464458774, 7447.665867006678, 9024.955540305582, 21713.103819632066, 26520.25322310134, 3701.168738058585, 5639.803211845257, 5095.989368272355, 4731.746075190386, 6053.18520823157, 11412.50853583716, 16641.784473086514, 17368.5881260019, 9888.403960149144, 23687.58454991684, 34335.688463508995, 12084.066186019674, 19463.338392911483, 7875.586946788322, 33151.423650289864, 27079.816984416346, 36533.660113306, 7860.835654065688, 7548.803455158319, 12159.814428801856, 3793.297947808511, 1942.0900974910094, 1294.2709279097796, 2755.015655744271, 3072.2139682902616, 821.8700331512792, 1350.1701128807026, 832.2714191945868, 686.1680840414537, 3852.889526239056, 676.1814509720997, 585.122608296435, 611.7239717120167, 3951.298076323524, 455.4760420764633, 437.029186765784, 1211.017728855576, 420.7672551237706, 420.9704887596009, 390.4899247046266, 363.76473878915255, 339.01367452154966, 325.66911866643306, 424.13168475449254, 1034.5692628196682, 275.2658679166891, 273.6660025138536, 13422.504328828963, 1014.1083571440071, 577.4487266344809, 2312.6130126918856, 546.9096595581752, 470.0046362241031, 2243.593503416439, 2496.587780242106, 1465.4681970328538, 8955.595562897726, 1487.0255176415312, 1699.4073477236082, 2248.312348546378, 28422.863801483887, 1241.4773696890368, 8276.00769187809, 1563.0314063494131, 1081.5153692297438, 4899.945260960806, 2961.8468530083383, 2614.6590091774074, 2012.1203079915283, 35518.68845939204, 4032.2494468143686, 18618.241233040353, 4406.066268897353, 5290.645351664439, 26333.112556637796, 5809.050619726426, 3715.4164268489544, 18062.283987050265, 7309.065558419117, 10334.712204607564, 26520.25322310134, 5993.534880649775, 16313.42757976747, 11566.05140273882, 6022.766771809179, 21713.103819632066, 7342.754501913136], \"loglift\": [30.0, 29.0, 28.0, 27.0, 26.0, 25.0, 24.0, 23.0, 22.0, 21.0, 20.0, 19.0, 18.0, 17.0, 16.0, 15.0, 14.0, 13.0, 12.0, 11.0, 10.0, 9.0, 8.0, 7.0, 6.0, 5.0, 4.0, 3.0, 2.0, 1.0, 0.6225, 0.6224, 0.6224, 0.6224, 0.6224, 0.6224, 0.6224, 0.6224, 0.6224, 0.6224, 0.6224, 0.6224, 0.6224, 0.6224, 0.6224, 0.6224, 0.6223, 0.6223, 0.6223, 0.6223, 0.6223, 0.6223, 0.6223, 0.6223, 0.6223, 0.6223, 0.6223, 0.6223, 0.6223, 0.6223, 0.6205, 0.618, 0.6047, 0.6207, 0.6215, 0.616, 0.6219, 0.6216, 0.6185, 0.6209, 0.6217, 0.6187, 0.6203, 0.6222, 0.5994, 0.5978, 0.5765, 0.5627, 0.5915, 0.6158, 0.5529, 0.5934, 0.6046, 0.5083, 0.4616, 0.5851, 0.4031, 0.5095, 0.5014, 0.3729, 0.2904, 0.3777, 0.1529, 0.2501, 1.7258, 1.7258, 1.7258, 1.7258, 1.7257, 1.7257, 1.7257, 1.7257, 1.7257, 1.7257, 1.7257, 1.7256, 1.7256, 1.7256, 1.7256, 1.7256, 1.7256, 1.7256, 1.7256, 1.7256, 1.7256, 1.7256, 1.7256, 1.7255, 1.7255, 1.7255, 1.7255, 1.7255, 1.7255, 1.7255, 1.7239, 1.7244, 1.723, 1.7249, 1.7245, 1.7222, 1.7215, 1.7183, 1.7216, 1.7246, 1.713, 1.7246, 1.7203, 1.7144, 1.7111, 1.7081, 1.6942, 1.7163, 1.6726, 1.7122, 1.7119, 1.6748, 1.6567, 1.6798, 1.6294, 1.4714, 1.5275, 1.3584, 1.7723, 1.7723, 1.7722, 1.7722, 1.7721, 1.7721, 1.7721, 1.7721, 1.772, 1.7719, 1.7718, 1.7717, 1.7717, 1.7717, 1.7717, 1.7717, 1.7716, 1.7716, 1.7716, 1.7715, 1.7715, 1.7714, 1.7714, 1.7714, 1.7714, 1.7714, 1.7714, 1.7713, 1.7713, 1.7713, 1.7687, 1.755, 1.7627, 1.7708, 1.7702, 1.7684, 1.7691, 1.771, 1.728, 1.7661, 1.7341, 1.7149, 1.7442, 1.7469, 1.7534, 1.7126, 1.7327, 1.6199, 1.694, 1.6622, 1.6217, 1.5498, 1.4008, 1.3413, 1.6513, 1.5722, 1.5741, 1.5727, 1.435, 1.1619, 0.9991, 0.9433, 1.1947, 0.7777, 0.5069, 1.0257, 0.604, 1.2104, 0.1476, 0.2477, -0.1549, 2.1588, 2.1588, 2.1588, 2.1587, 2.1585, 2.1583, 2.1583, 2.1582, 2.1581, 2.1581, 2.1581, 2.1579, 2.1579, 2.1579, 2.1578, 2.1577, 2.1575, 2.1574, 2.1573, 2.1573, 2.1573, 2.1573, 2.1571, 2.157, 2.1569, 2.1568, 2.1565, 2.1564, 2.1564, 2.1564, 2.1445, 2.1563, 2.1557, 2.1411, 2.1551, 2.1563, 2.1406, 2.1395, 2.1448, 2.1211, 2.1436, 2.1375, 2.1315, 2.0751, 2.1362, 2.0667, 2.1291, 2.1403, 2.0774, 2.0967, 2.093, 2.0965, 1.8198, 2.0265, 1.8671, 1.9988, 1.9704, 1.7456, 1.905, 1.9802, 1.6176, 1.805, 1.5747, 1.0643, 1.6957, 1.1838, 1.2723, 1.6113, 0.6833, 1.3535], \"logprob\": [30.0, 29.0, 28.0, 27.0, 26.0, 25.0, 24.0, 23.0, 22.0, 21.0, 20.0, 19.0, 18.0, 17.0, 16.0, 15.0, 14.0, 13.0, 12.0, 11.0, 10.0, 9.0, 8.0, 7.0, 6.0, 5.0, 4.0, 3.0, 2.0, 1.0, -3.8881, -5.0092, -5.5599, -5.678, -5.6642, -5.7796, -5.7975, -5.8811, -6.0917, -6.2468, -6.2232, -6.2705, -6.2204, -6.294, -6.3458, -6.3751, -6.5223, -6.4456, -6.5929, -6.4811, -6.6779, -6.6989, -6.732, -6.6541, -6.7558, -6.7515, -6.8309, -6.8175, -6.8791, -6.9097, -3.8357, -3.6291, -3.8103, -5.4039, -5.4965, -5.0822, -5.9331, -5.9431, -5.747, -6.0242, -6.1604, -5.9894, -6.2082, -6.4092, -5.1558, -5.1132, -4.282, -3.904, -5.1575, -6.0539, -4.7955, -5.6021, -5.856, -4.5947, -4.7209, -5.8038, -4.8765, -5.4967, -5.468, -5.109, -4.9541, -5.405, -5.4629, -5.5621, -4.8828, -5.3401, -5.3955, -5.5326, -5.7778, -5.8225, -5.9161, -6.0509, -6.0447, -6.082, -6.1415, -6.1366, -6.2208, -6.1116, -6.2709, -6.2549, -6.355, -6.2992, -6.4034, -6.1853, -6.0432, -6.4371, -6.4888, -6.4968, -4.987, -6.5605, -6.5655, -6.163, -6.5769, -5.6838, -5.2029, -5.323, -5.3306, -5.5192, -5.612, -5.5247, -5.4614, -5.2528, -5.586, -5.9506, -4.8201, -5.9788, -5.5975, -5.0155, -4.7341, -4.8676, -4.4449, -5.6186, -4.1503, -5.4639, -5.6768, -4.8669, -4.7407, -5.2914, -5.0387, -4.4989, -5.402, -5.3305, -4.8128, -4.9201, -5.434, -5.5086, -5.7434, -5.9783, -6.0332, -6.1196, -6.3333, -6.3971, -6.2601, -6.8585, -6.868, -6.9266, -6.9343, -6.9491, -7.0336, -6.8411, -7.0608, -7.1045, -7.1987, -7.2315, -4.2548, -7.3105, -7.264, -7.3052, -7.3281, -7.3528, -7.3535, -7.354, -5.2262, -4.0389, -5.0489, -6.497, -6.4806, -6.4069, -6.6853, -6.9101, -2.7117, -6.7825, -5.4153, -4.8245, -5.8581, -5.9863, -6.3027, -5.1901, -6.0776, -4.3381, -5.766, -5.3483, -5.1511, -5.0309, -4.302, -4.1615, -5.8208, -5.4787, -5.5782, -5.6538, -5.5452, -5.1841, -4.9697, -4.9828, -5.2947, -4.8381, -4.7376, -5.2632, -5.2082, -5.5066, -5.132, -5.2343, -5.3374, -4.56, -4.6005, -4.1238, -5.2888, -5.9584, -6.3645, -5.609, -5.5001, -6.8188, -6.3224, -6.8063, -6.9994, -5.274, -7.0141, -7.1589, -7.1145, -5.2491, -7.4097, -7.4511, -6.4319, -7.4891, -7.4887, -7.5639, -7.6349, -7.7056, -7.7458, -7.482, -6.5903, -7.9143, -7.9202, -4.0393, -6.6105, -7.1742, -5.8012, -7.2291, -7.3795, -5.832, -5.7263, -6.2537, -4.4673, -6.2404, -6.1129, -5.839, -3.3585, -6.4282, -4.6007, -6.205, -6.562, -5.1141, -5.5982, -5.7266, -5.985, -3.3908, -5.36, -3.9895, -5.2989, -5.1443, -3.7643, -5.1163, -5.488, -4.2693, -4.9866, -4.8705, -4.4385, -5.2944, -4.805, -5.0603, -5.3739, -5.0195, -5.4335]}, \"token.table\": {\"Topic\": [2, 4, 4, 1, 2, 3, 4, 1, 2, 3, 4, 1, 2, 3, 4, 1, 2, 3, 4, 1, 2, 3, 4, 1, 2, 3, 4, 1, 2, 4, 1, 2, 3, 4, 1, 2, 3, 4, 2, 3, 4, 1, 2, 3, 4, 2, 3, 2, 3, 4, 1, 2, 3, 4, 1, 2, 3, 4, 1, 2, 3, 4, 2, 1, 2, 4, 2, 3, 4, 1, 2, 4, 1, 2, 3, 4, 1, 2, 3, 2, 2, 4, 2, 2, 1, 2, 3, 4, 2, 4, 2, 3, 2, 3, 4, 2, 2, 2, 2, 2, 3, 2, 2, 3, 2, 2, 4, 2, 2, 4, 2, 2, 2, 1, 2, 3, 2, 2, 4, 2, 2, 2, 2, 2, 2, 2, 2, 2, 3, 3, 4, 1, 3, 4, 3, 1, 1, 2, 3, 3, 1, 1, 3, 1, 3, 4, 1, 3, 3, 3, 3, 1, 1, 1, 4, 1, 3, 4, 3, 1, 2, 4, 3, 1, 4, 1, 3, 1, 2, 3, 1, 2, 3, 1, 4, 1, 2, 4, 2, 4, 1, 2, 3, 1, 3, 1, 2, 3, 4, 1, 3, 1, 4, 3, 1, 1, 1, 1, 3, 1, 2, 4, 1, 3, 4, 1, 1, 4, 3, 3, 1, 2, 3, 3, 1, 4, 1, 3, 4, 1, 2, 3, 4, 1, 1, 1, 2, 3, 4, 1, 4, 1, 3, 4, 1, 2, 4, 1, 2, 3, 1, 3, 4, 3, 2, 3, 4, 1, 2, 3, 4, 1, 2, 3, 1, 3, 4, 1, 2, 3, 1, 3, 3, 1, 3, 1, 1, 2, 4, 3, 1, 2, 1, 1, 2, 4, 4, 1, 4, 2, 4, 4, 4, 1, 4, 1, 3, 4, 3, 3, 1, 3, 4, 1, 3, 4, 1, 3, 4, 3, 1, 2, 1, 4, 3, 4, 1, 3, 4, 1, 1, 2, 3, 4, 1, 2, 3, 4, 4, 4, 2, 1, 2, 4, 1, 1, 2, 4, 1, 3, 1, 1, 1, 1, 1, 2, 3, 4, 1, 3, 4, 1, 4, 1, 3, 4, 1, 2, 3, 1, 4, 1, 4, 3, 1, 3, 1, 2, 4, 1, 3, 1, 1, 3, 1, 3, 1, 3, 1, 2, 3, 4, 3, 1, 3, 1, 3, 1, 4, 3, 1, 3, 1, 4, 1, 3, 1, 2, 4, 1, 1, 1, 4, 1, 4, 1, 3, 4, 1, 1, 3, 4, 1, 1, 3, 1, 3, 2, 4, 1, 4, 3, 3, 1, 3, 4, 1, 2, 1, 2, 3, 4, 3, 3, 1, 3, 1, 2, 3, 4, 1, 4, 1, 3, 1, 1, 2, 4, 1, 1, 2, 1, 1, 4, 1, 1, 4, 1, 4, 1, 4, 1, 4, 1, 4, 1, 4, 1, 4, 1, 4, 1, 4, 1, 4, 1, 4, 1, 3, 4, 1, 4, 1, 4, 4, 4, 4, 1, 4, 1, 4, 4, 4, 1, 2, 4, 1, 4, 1, 4, 1, 4, 3, 1, 2, 3], \"Freq\": [0.0006509963240330664, 0.9992793573907569, 0.9982976706894122, 0.10947240019276379, 0.7753342120304431, 0.053442271232091394, 0.06174748905870019, 0.0229692847174017, 0.9331617839407053, 0.009224612336305903, 0.0346845423845102, 0.015994054776918506, 0.9480631755266271, 0.0063353074116365505, 0.029651315836430086, 0.01355957231514032, 0.9823524300830521, 0.0034174531851166663, 0.0007716829772844086, 0.02674702212979755, 0.9502119375753177, 0.022484548483614673, 0.0006393710469274315, 0.050299370318198845, 0.9079278166330652, 0.035548112676803995, 0.00616650934189457, 0.02863984155839965, 0.9687675758983045, 0.0025647619306029537, 0.005016343235660601, 0.9884768657961979, 0.000385872556589277, 0.006045336719898673, 0.0027830953201188396, 0.9924190488564945, 0.002455672341281329, 0.002455672341281329, 0.9971087090126962, 0.0016002101250203755, 0.0012446078750158475, 0.07397346609315349, 0.8199903746759116, 0.04209105926319562, 0.06376481365991575, 0.9996269646010876, 0.0003792211550079999, 0.9979944252668521, 0.0014095966458571357, 0.00046986554861904524, 0.0006876443091793351, 0.9957089596916772, 0.0032090067761702304, 0.00045842953945289007, 0.0009676519102487926, 0.9852631750153207, 0.01045064063068696, 0.003193251303821016, 0.023415198416461832, 0.9549471130405972, 0.0027836249865723856, 0.018830404320930843, 0.9998613424434882, 0.01367105348399632, 0.9860558031093346, 0.0002485646087999331, 0.9984837691367003, 0.0005300745544877191, 0.0010601491089754383, 0.0036671684000948836, 0.9961755100963632, 0.9990341413604916, 0.004823161950535722, 0.986336618884555, 0.006430882600714296, 0.002210615893995539, 0.010248341905276518, 0.9872217192051936, 0.0026413252333186902, 0.9999534514953089, 0.9989060040641241, 0.0008603841550939915, 0.9997571588086365, 0.9996700649926694, 0.0024278517413295155, 0.9956215349235455, 0.00020232097844412629, 0.0018208888059971365, 0.9942982354127046, 0.005557325954798535, 0.998708311327513, 0.0009930808531596086, 0.6924606488673604, 0.0002469105540621716, 0.3072801845303726, 0.9997794146382262, 0.9999575094368647, 0.9997977024321206, 0.9998417479825894, 0.9986768685967103, 0.0011796324930270616, 0.9996463664203606, 0.9997763212810693, 0.00040974439396765133, 0.9997799713554846, 0.9995930236619948, 0.00036348837224072536, 0.999568173526847, 0.9987119651523924, 0.0010215260468657268, 0.9994706767707737, 0.999478050436787, 0.9995132353614307, 0.0018844061004094066, 0.9904909565276944, 0.0077731751641888025, 0.9998254618450906, 0.9995208599244914, 0.0002537499009709295, 0.9996884314792988, 0.9995667216081343, 0.9993804992007782, 0.9995542503959441, 0.9997575973826602, 0.9994638532020286, 0.9995592967489864, 0.9997939379777412, 0.9998838204167896, 0.998757514183471, 0.9995643512827682, 0.9989548471654117, 0.004756830130285684, 0.9933846922079937, 0.0015856100434285614, 0.998810459908136, 0.9999131145047186, 0.9695296135450089, 9.64706083129362e-05, 0.030388241618574903, 0.9993329556846631, 0.999902076174278, 0.9996456194195522, 0.00017388165236033263, 0.6208382604132272, 0.002022873478834567, 0.377112655811826, 0.6890904185730352, 0.31089219525689205, 0.9999640595236043, 0.9987011628984643, 0.9995974456633839, 0.9998477322447261, 0.999902734258146, 0.37073280530555736, 0.6291779517584414, 0.13343826897161168, 0.8200566559299488, 0.04631092864308876, 0.9985383445600031, 0.14366556501167022, 0.0043122365485335455, 0.8520071580628911, 0.9991448431579525, 0.08808595003064414, 0.9119131205504407, 0.1137478536633355, 0.8859363709312994, 0.03220970323676972, 0.006441940647353944, 0.9609859695111531, 0.9822564139131313, 0.0015720818868270583, 0.016113839339977346, 0.8931566739995765, 0.10679454015136716, 0.2239608647206572, 0.00017214516888597786, 0.7758582761691023, 0.00016447619424707506, 0.9998507848279693, 0.7791411593417291, 0.003138869071711786, 0.21768980209107036, 0.017202175432246915, 0.9827940814399837, 0.27877448912318387, 3.7975001923877386e-05, 0.059734678026259126, 0.6614485835100963, 0.03737012642142924, 0.9624274966859186, 0.5879275271411791, 0.41206802858159697, 0.9999209980823649, 0.999757114410802, 0.999800297742896, 0.9999392665829293, 0.003820644115684594, 0.9960965015891978, 0.9982547281451913, 0.0013342253876685985, 0.0004447417958895328, 0.04296040333636794, 0.94191830944969, 0.015135515766193689, 0.9999459140895299, 0.9991518109819162, 0.0007632939732482171, 0.9996824098377899, 0.9994590802094901, 0.9998875091924606, 0.9998570172485922, 0.9991911677313489, 0.9987963233632547, 0.9991515067899316, 0.0006775746011053382, 0.7828658965602759, 0.2165065947283246, 0.0006485220579419861, 0.040346905202674026, 0.38105410469192136, 0.00016603664692458445, 0.5783056412383277, 0.9997776298258741, 0.9997798946192641, 0.8514339900116062, 0.0030109219732937917, 0.14553701938184627, 0.9987453589103555, 0.03707179468615665, 0.9628617035503879, 0.2254587752910815, 0.062136303330097016, 0.7124136925531377, 0.9824126187436086, 0.011155549970342965, 0.006429052716393553, 0.4559908966252758, 0.0008762315461669404, 0.5430883123142697, 0.060135569190085156, 0.0004969881751246707, 0.9393076509856276, 0.999200767564615, 0.0004729514105235865, 0.9993463304363382, 0.9978977105046022, 0.5044531140020826, 0.0036654722994790994, 0.46148897147540135, 0.03040539317272827, 0.9980163887538666, 0.0010591421288660484, 0.0009135100861469667, 0.015497589579649447, 0.6498052584576617, 0.33464989664084877, 0.7174459316923358, 0.0004368632368021855, 0.2820971541110646, 0.9327479531901778, 0.06723642975471128, 0.9992180352187142, 0.0011975101902380084, 0.998723498658499, 0.9999178552800952, 0.9960929973848152, 0.002323144773233333, 0.0016083309968538458, 0.9998420123720378, 0.9771399384542232, 0.022858493643187597, 0.9998722071977902, 0.9978580590535882, 0.0021294452818044988, 0.9976946394450108, 0.9979454033923357, 0.002357758299946035, 0.9973317608771728, 0.12400026501213092, 0.8759378720456928, 0.9981765331916218, 0.9980814135695364, 0.0007786363921335704, 0.9989904911073708, 0.5255681243576449, 0.47392987690068217, 0.0004965216101631034, 0.9996663423952127, 0.999460393671229, 0.007258494506163868, 0.9905053272257462, 0.0023729693577843416, 0.6252642589534102, 0.369856199628035, 0.004854863937589776, 0.06318058061344176, 0.8955975025501084, 0.04104183268959424, 0.9998968614862546, 0.999079118456459, 0.0009068585770097729, 0.014229833369453168, 0.9857325932525387, 0.9991052055084931, 0.0008909785895355694, 0.1349751552010387, 0.11810997464667096, 0.7469019133408851, 0.9997986581721011, 0.06258893299129578, 0.01915893754553278, 0.6896296413625188, 0.22861770667313636, 0.5634885189860785, 5.7575203738232194e-05, 0.43642004433580006, 0.997009930283844, 0.9982527604529802, 0.9976450388281835, 0.9998004002000366, 0.9756375033267086, 0.024100707483415598, 0.0002321840798016917, 0.9997815594178932, 0.9713203221654084, 0.0052010788630617085, 0.02344254386104625, 0.18090573466911114, 0.8189365909378571, 0.9999604817221618, 0.999967118185876, 0.9998956931756333, 0.9998117844615535, 0.2950346702455028, 0.0099101531195243, 0.11310861912395612, 0.5819861988404438, 0.027697061610657027, 0.9721668625340616, 0.9988165058989097, 0.0017317554855965417, 0.9974911597036079, 0.05930761865865349, 0.7136738512684766, 0.22698793325066824, 0.013081770527114841, 0.005329610214750491, 0.981132789533613, 0.44239258041086504, 0.5575385057583999, 0.07816413849588585, 0.9216429489488787, 0.9995898816363171, 0.024906370376579615, 0.9748563841762641, 0.08025229322180105, 0.00017591471552345694, 0.9195414009842141, 0.003520921295990489, 0.9964207267653084, 0.9999227726560054, 0.13977533613741355, 0.8601352577293672, 0.05571060640212746, 0.9442097241551412, 0.43879679850119674, 0.5611623495927958, 0.9419302424013934, 0.004375034647669891, 0.012977931523669096, 0.040713242913943355, 0.9992564429044168, 0.04340529566295041, 0.956596457522359, 0.9933734587576412, 0.006540132500964718, 0.9998592091181957, 0.9996738813945463, 0.9996725588820818, 0.19944696591148553, 0.8005579603947128, 0.9962158041959269, 0.0037580157222754443, 0.002886156543376743, 0.9964455466008205, 0.9633178122396467, 0.0039330294271083185, 0.03265329082506209, 0.9999709571429691, 0.9999952710445017, 0.17162367530727474, 0.8282543449300417, 0.9955283461559584, 0.0044684914976357215, 0.03244794066850521, 0.818645585062779, 0.14894136700297472, 0.999915848076462, 0.8920751255445283, 0.1078974306635318, 0.9975663673684865, 0.9998591621039307, 0.803012271232196, 0.19697494951903533, 0.8859937852002331, 0.11394355093006052, 0.0007406474121001058, 0.9991333589230426, 0.5530622055989911, 0.44697122845995785, 0.9990394926738952, 0.998506216601002, 0.4259999950058547, 0.5701162377276565, 0.0038092398957304445, 0.9983900305643975, 0.0015361664572537776, 0.10997052091404318, 0.005528247808111359, 0.8586022724769944, 0.025917376820823148, 0.9995534531311919, 0.9998905281911021, 0.0017659946396739196, 0.9977869714157646, 0.10493817491026787, 0.00013681639492864128, 0.19291111684938422, 0.7020049223788585, 0.9935349500623967, 0.006463730353841089, 0.0009052078493030585, 0.9984442577812735, 0.999906830680432, 0.9550594369101775, 0.044919983880212115, 1.97972604143729e-05, 0.9999297157943831, 0.9994345223253613, 0.0005399430158429828, 0.9997298821591848, 0.999946360954683, 0.9989413981332994, 0.9997593643888488, 0.06009763800555926, 0.9396164414015248, 0.018825694963323977, 0.9809388715995834, 0.013647515545198574, 0.986032998140597, 0.01782854155135049, 0.9819069259406282, 0.017567942666900625, 0.9819555322236034, 0.02879020844827498, 0.9705499159118477, 0.020595415246899593, 0.9785764444455436, 0.01729645201357746, 0.9824384743711997, 0.06348820225403883, 0.9362597537222112, 0.014794635155214206, 0.9845157212378908, 0.021748282054277732, 0.9778672005145618, 0.019570234548792885, 0.007561226984760888, 0.973174390744519, 0.00082575174266442, 0.9983338568812838, 0.0036569110913413265, 0.9965082723905115, 0.9998936939910128, 0.999921454150818, 0.9990180356505171, 0.0019331716801145795, 0.997516586939123, 0.0003629743438716862, 0.999268368678752, 0.9994386988057775, 0.9998935652301598, 0.0007592441628173349, 0.0005061627752115566, 0.9986591554924011, 0.16364249121750396, 0.836245427981554, 0.001972175838913822, 0.996934886570937, 0.002127638586788726, 0.9978624972039125, 0.9997573426167796, 0.07260500631512964, 0.0029362318730383314, 0.9246461098367982], \"Term\": [\"0h24v24h0v0z\", \"0h24v24h0v0z\", \"0h24v24h0z\", \"10\", \"10\", \"10\", \"10\", \"11\", \"11\", \"11\", \"11\", \"12\", \"12\", \"12\", \"12\", \"13\", \"13\", \"13\", \"13\", \"14\", \"14\", \"14\", \"14\", \"15\", \"15\", \"15\", \"15\", \"16\", \"16\", \"16\", \"17\", \"17\", \"17\", \"17\", \"18\", \"18\", \"18\", \"18\", \"19\", \"19\", \"19\", \"20\", \"20\", \"20\", \"20\", \"21\", \"21\", \"22\", \"22\", \"22\", \"23\", \"23\", \"23\", \"23\", \"24\", \"24\", \"24\", \"24\", \"25\", \"25\", \"25\", \"25\", \"26\", \"27\", \"27\", \"27\", \"28\", \"28\", \"28\", \"29\", \"29\", \"2v5c0\", \"31\", \"31\", \"31\", \"31\", \"32\", \"32\", \"32\", \"33\", \"34\", \"34\", \"35\", \"373\", \"39\", \"39\", \"39\", \"39\", \"41\", \"41\", \"44\", \"44\", \"45\", \"45\", \"45\", \"46\", \"48\", \"49\", \"51\", \"512\", \"512\", \"52\", \"53\", \"53\", \"54\", \"56\", \"56\", \"57\", \"58\", \"58\", \"62\", \"627\", \"63\", \"64\", \"64\", \"64\", \"66\", \"67\", \"67\", \"69\", \"71\", \"73\", \"76\", \"78\", \"82\", \"84\", \"88\", \"96\", \"__future__\", \"__init__\", \"add_layout\", \"admin\", \"admin\", \"admin\", \"admin_client\", \"an\", \"and\", \"and\", \"and\", \"api_link\", \"are\", \"args\", \"args\", \"as\", \"as\", \"as\", \"assert\", \"assert\", \"assertequal\", \"assertfalse\", \"asserttrue\", \"attr\", \"be\", \"button\", \"button\", \"category\", \"category\", \"category\", \"charfield\", \"classes\", \"classes\", \"classes\", \"classmethod\", \"classname\", \"classname\", \"client\", \"client\", \"cls\", \"cls\", \"cls\", \"code\", \"code\", \"code\", \"const\", \"const\", \"createelement\", \"createelement\", \"createelement\", \"createsvgicon\", \"createsvgicon\", \"data\", \"data\", \"data\", \"def\", \"def\", \"default\", \"default\", \"default\", \"default\", \"dict\", \"dict\", \"div\", \"div\", \"django\", \"each\", \"elem\", \"element\", \"elif\", \"elif\", \"else\", \"else\", \"else\", \"email\", \"email\", \"email\", \"error\", \"event\", \"event\", \"example_email\", \"example_user\", \"expect\", \"expect_equal\", \"expected_message\", \"expected_topic\", \"exports\", \"exports\", \"false\", \"false\", \"false\", \"fill\", \"fill\", \"fill\", \"fill\", \"find\", \"foo\", \"for\", \"for\", \"for\", \"formcontrol\", \"fragment\", \"fragment\", \"from\", \"from\", \"from\", \"function\", \"function\", \"function\", \"get\", \"get\", \"get\", \"gettext\", \"gettext\", \"gettext\", \"graphene\", \"hamlet\", \"hamlet\", \"iconbutton\", \"id\", \"id\", \"id\", \"id\", \"if\", \"if\", \"if\", \"import\", \"import\", \"import\", \"in\", \"in\", \"in\", \"is\", \"is\", \"is_valid\", \"isinstance\", \"isinstance\", \"it\", \"key\", \"key\", \"key\", \"kwargs\", \"length\", \"length\", \"let\", \"license\", \"license\", \"line_color\", \"linearaxis\", \"listitem\", \"listitem\", \"m0\", \"m0\", \"m19\", \"markdowndocs\", \"material\", \"material\", \"message\", \"message\", \"message\", \"migrations\", \"model_name\", \"models\", \"models\", \"models\", \"name\", \"name\", \"name\", \"nclass\", \"nclass\", \"nclass\", \"ndef\", \"new\", \"new\", \"nexport\", \"nexport\", \"nfrom\", \"nfrom\", \"nimport\", \"nimport\", \"nimport\", \"no\", \"none\", \"none\", \"none\", \"none\", \"not\", \"not\", \"not\", \"noutput_file\", \"nplot\", \"nshow\", \"ntest_that\", \"null\", \"null\", \"null\", \"obj\", \"object\", \"object\", \"object\", \"objects\", \"objects\", \"of\", \"options\", \"or\", \"param\", \"path\", \"path\", \"path\", \"path\", \"pk\", \"pk\", \"plot_height\", \"plot_width\", \"plot_width\", \"post\", \"post\", \"post\", \"product\", \"product\", \"product\", \"props\", \"props\", \"proptypes\", \"proptypes\", \"pytest\", \"raise\", \"raise\", \"react\", \"react\", \"react\", \"realm\", \"realm\", \"render\", \"request\", \"request\", \"response\", \"response\", \"result\", \"result\", \"return\", \"return\", \"return\", \"return\", \"return_value\", \"self\", \"self\", \"set\", \"set\", \"should\", \"snackbar\", \"status_code\", \"str\", \"str\", \"string\", \"string\", \"subreddit\", \"subreddit\", \"text\", \"text\", \"text\", \"that\", \"the\", \"theme\", \"theme\", \"this\", \"this\", \"thread\", \"thread\", \"thread\", \"tif\", \"to\", \"to\", \"toolbar_location\", \"treturn\", \"true\", \"true\", \"type\", \"type\", \"typography\", \"typography\", \"ui\", \"ui\", \"ujson\", \"unicode_literals\", \"url\", \"url\", \"url\", \"use\", \"use\", \"user\", \"user\", \"user\", \"user\", \"user_acl\", \"user_profile\", \"userprofile\", \"userprofile\", \"utils\", \"utils\", \"utils\", \"utils\", \"value\", \"value\", \"valueerror\", \"valueerror\", \"values\", \"var\", \"var\", \"var\", \"version\", \"we\", \"we\", \"when\", \"will\", \"withstyles\", \"wrapper\", \"x80\", \"x80\", \"x83\", \"x83\", \"x9e\", \"x9e\", \"xa4\", \"xa4\", \"xa5\", \"xa5\", \"xb0\", \"xb0\", \"xb4\", \"xb4\", \"xb5\", \"xb5\", \"xb8\", \"xb8\", \"xbd\", \"xbd\", \"xbf\", \"xbf\", \"xc3\", \"xc3\", \"xc3\", \"xce\", \"xce\", \"xcf\", \"xcf\", \"xd0\", \"xd1\", \"xd5\", \"xd7\", \"xd7\", \"xd8\", \"xd8\", \"xd9\", \"xe0\", \"xe1\", \"xe1\", \"xe1\", \"xe2\", \"xe2\", \"xe6\", \"xe6\", \"xec\", \"xec\", \"zerver\", \"zulip\", \"zulip\", \"zulip\"]}, \"R\": 30, \"lambda.step\": 0.01, \"plot.opts\": {\"xlab\": \"PC1\", \"ylab\": \"PC2\"}, \"topic.order\": [1, 4, 2, 3]};\n",
       "\n",
       "function LDAvis_load_lib(url, callback){\n",
       "  var s = document.createElement('script');\n",
       "  s.src = url;\n",
       "  s.async = true;\n",
       "  s.onreadystatechange = s.onload = callback;\n",
       "  s.onerror = function(){console.warn(\"failed to load library \" + url);};\n",
       "  document.getElementsByTagName(\"head\")[0].appendChild(s);\n",
       "}\n",
       "\n",
       "if(typeof(LDAvis) !== \"undefined\"){\n",
       "   // already loaded: just create the visualization\n",
       "   !function(LDAvis){\n",
       "       new LDAvis(\"#\" + \"ldavis_el37961401799325678569285054448\", ldavis_el37961401799325678569285054448_data);\n",
       "   }(LDAvis);\n",
       "}else if(typeof define === \"function\" && define.amd){\n",
       "   // require.js is available: use it to load d3/LDAvis\n",
       "   require.config({paths: {d3: \"https://cdnjs.cloudflare.com/ajax/libs/d3/3.5.5/d3.min\"}});\n",
       "   require([\"d3\"], function(d3){\n",
       "      window.d3 = d3;\n",
       "      LDAvis_load_lib(\"https://cdn.rawgit.com/bmabey/pyLDAvis/files/ldavis.v1.0.0.js\", function(){\n",
       "        new LDAvis(\"#\" + \"ldavis_el37961401799325678569285054448\", ldavis_el37961401799325678569285054448_data);\n",
       "      });\n",
       "    });\n",
       "}else{\n",
       "    // require.js not available: dynamically load d3 & LDAvis\n",
       "    LDAvis_load_lib(\"https://cdnjs.cloudflare.com/ajax/libs/d3/3.5.5/d3.min.js\", function(){\n",
       "         LDAvis_load_lib(\"https://cdn.rawgit.com/bmabey/pyLDAvis/files/ldavis.v1.0.0.js\", function(){\n",
       "                 new LDAvis(\"#\" + \"ldavis_el37961401799325678569285054448\", ldavis_el37961401799325678569285054448_data);\n",
       "            })\n",
       "         });\n",
       "}\n",
       "</script>"
      ],
      "text/plain": [
       "PreparedData(topic_coordinates=              x         y  topics  cluster       Freq\n",
       "topic                                                \n",
       "0     -0.170498  0.068422       1        1  53.661148\n",
       "3      0.334580 -0.137167       2        1  17.800762\n",
       "1     -0.215109 -0.203095       3        1  16.993209\n",
       "2      0.051028  0.271840       4        1  11.544881, topic_info=       Category          Freq           Term         Total  loglift  logprob\n",
       "term                                                                        \n",
       "224987  Default  76787.000000           self  76787.000000  30.0000  30.0000\n",
       "209790  Default  28422.000000          react  28422.000000  29.0000  29.0000\n",
       "118970  Default  35518.000000           from  35518.000000  28.0000  28.0000\n",
       "257199  Default  93096.000000           this  93096.000000  27.0000  27.0000\n",
       "256596  Default  71532.000000            the  71532.000000  26.0000  26.0000\n",
       "138187  Default  75532.000000             if  75532.000000  25.0000  25.0000\n",
       "93741   Default  26333.000000        default  26333.000000  24.0000  24.0000\n",
       "93727   Default  19823.000000            def  19823.000000  23.0000  23.0000\n",
       "119762  Default  78705.000000       function  78705.000000  22.0000  22.0000\n",
       "139197  Default  26520.000000         import  26520.000000  21.0000  21.0000\n",
       "180274  Default  18618.000000        nimport  18618.000000  20.0000  20.0000\n",
       "178605  Default  13422.000000        nexport  13422.000000  19.0000  19.0000\n",
       "6203    Default  19257.000000             12  19257.000000  18.0000  18.0000\n",
       "179191  Default  15713.000000          nfrom  15713.000000  17.0000  17.0000\n",
       "88624   Default  12159.000000  createsvgicon  12159.000000  16.0000  16.0000\n",
       "195902  Default  18062.000000           path  18062.000000  15.0000  15.0000\n",
       "182715  Default  21713.000000           none  21713.000000  14.0000  14.0000\n",
       "270897  Default  16822.000000           user  16822.000000  13.0000  13.0000\n",
       "10108   Default  14036.000000             16  14036.000000  12.0000  12.0000\n",
       "216978  Default  74742.000000         return  74742.000000  11.0000  11.0000\n",
       "139409  Default  34335.000000             in  34335.000000  10.0000  10.0000\n",
       "273107  Default  50512.000000            var  50512.000000   9.0000   9.0000\n",
       "58561   Default  16313.000000             as  16313.000000   8.0000   8.0000\n",
       "118218  Default   8955.000000       fragment   8955.000000   7.0000   7.0000\n",
       "4646    Default  16616.000000             10  16616.000000   6.0000   6.0000\n",
       "281843  Default   7860.000000            xd0   7860.000000   5.0000   5.0000\n",
       "16221   Default  10334.000000             24  10334.000000   4.0000   4.0000\n",
       "80378   Default   8276.000000      classname   8276.000000   3.0000   3.0000\n",
       "281885  Default   7548.000000            xe0   7548.000000   2.0000   2.0000\n",
       "173909  Default  23687.000000           name  23687.000000   1.0000   1.0000\n",
       "...         ...           ...            ...           ...      ...      ...\n",
       "281761   Topic4   1464.391410            xbd   1487.025518   2.1436  -6.2404\n",
       "281631   Topic4   1663.439660            xb4   1699.407348   2.1375  -6.1129\n",
       "281809   Topic4   2187.518169            xc3   2248.312349   2.1315  -5.8390\n",
       "209790   Topic4  26136.460497          react  28422.863801   2.0751  -3.3585\n",
       "281786   Topic4   1213.602554            xbf   1241.477370   2.1362  -6.4282\n",
       "80378    Topic4   7546.761037      classname   8276.007692   2.0667  -4.6007\n",
       "281561   Topic4   1517.149330            xb0   1563.031406   2.1291  -6.2050\n",
       "281345   Topic4   1061.601815            xa5   1081.515369   2.1403  -6.5620\n",
       "205348   Topic4   4516.349076      proptypes   4899.945261   2.0774  -5.1141\n",
       "280778   Topic4   2783.143067            x80   2961.846853   2.0967  -5.5982\n",
       "281673   Topic4   2447.870929            xb8   2614.659009   2.0930  -5.7266\n",
       "125631   Topic4   1890.410526        gettext   2012.120308   2.0965  -5.9850\n",
       "118970   Topic4  25303.791250           from  35518.688459   1.8198  -3.3908\n",
       "159703   Topic4   3531.937969             m0   4032.249447   2.0265  -5.3600\n",
       "180274   Topic4  13905.857008        nimport  18618.241233   1.8671  -3.9895\n",
       "80335    Topic4   3754.111068        classes   4406.066269   1.9988  -5.2989\n",
       "256735   Topic4   4381.802305          theme   5290.645352   1.9704  -5.1443\n",
       "93741    Topic4  17418.249385        default  26333.112557   1.7456  -3.7643\n",
       "88232    Topic4   4506.570775  createelement   5809.050620   1.9050  -5.1163\n",
       "281915   Topic4   3107.373594            xe2   3715.416427   1.9802  -5.4880\n",
       "195902   Topic4  10511.869373           path  18062.283987   1.6176  -4.2693\n",
       "271947   Topic4   5130.621772          utils   7309.065558   1.8050  -4.9866\n",
       "205318   Topic4   5762.003143          props  10334.712205   1.5747  -4.8705\n",
       "139197   Topic4   8875.248415         import  26520.253223   1.0643  -4.4385\n",
       "72266    Topic4   3771.316901         button   5993.534881   1.6957  -5.2944\n",
       "58561    Topic4   6152.414621             as  16313.427580   1.1838  -4.8050\n",
       "98673    Topic4   4765.756502            div  11566.051403   1.2723  -5.0603\n",
       "113922   Topic4   3483.098034           fill   6022.766772   1.6113  -5.3739\n",
       "182715   Topic4   4964.224770           none  21713.103820   0.6833  -5.0195\n",
       "267055   Topic4   3281.604912             ui   7342.754502   1.3535  -5.4335\n",
       "\n",
       "[293 rows x 6 columns], token_table=        Topic      Freq          Term\n",
       "term                                 \n",
       "2713        2  0.000651  0h24v24h0v0z\n",
       "2713        4  0.999279  0h24v24h0v0z\n",
       "2718        4  0.998298    0h24v24h0z\n",
       "4646        1  0.109472            10\n",
       "4646        2  0.775334            10\n",
       "4646        3  0.053442            10\n",
       "4646        4  0.061747            10\n",
       "5507        1  0.022969            11\n",
       "5507        2  0.933162            11\n",
       "5507        3  0.009225            11\n",
       "5507        4  0.034685            11\n",
       "6203        1  0.015994            12\n",
       "6203        2  0.948063            12\n",
       "6203        3  0.006335            12\n",
       "6203        4  0.029651            12\n",
       "7684        1  0.013560            13\n",
       "7684        2  0.982352            13\n",
       "7684        3  0.003417            13\n",
       "7684        4  0.000772            13\n",
       "8196        1  0.026747            14\n",
       "8196        2  0.950212            14\n",
       "8196        3  0.022485            14\n",
       "8196        4  0.000639            14\n",
       "9620        1  0.050299            15\n",
       "9620        2  0.907928            15\n",
       "9620        3  0.035548            15\n",
       "9620        4  0.006167            15\n",
       "10108       1  0.028640            16\n",
       "10108       2  0.968768            16\n",
       "10108       4  0.002565            16\n",
       "...       ...       ...           ...\n",
       "281786      4  0.977867           xbf\n",
       "281809      1  0.019570           xc3\n",
       "281809      3  0.007561           xc3\n",
       "281809      4  0.973174           xc3\n",
       "281829      1  0.000826           xce\n",
       "281829      4  0.998334           xce\n",
       "281832      1  0.003657           xcf\n",
       "281832      4  0.996508           xcf\n",
       "281843      4  0.999894           xd0\n",
       "281844      4  0.999921           xd1\n",
       "281848      4  0.999018           xd5\n",
       "281850      1  0.001933           xd7\n",
       "281850      4  0.997517           xd7\n",
       "281852      1  0.000363           xd8\n",
       "281852      4  0.999268           xd8\n",
       "281853      4  0.999439           xd9\n",
       "281885      4  0.999894           xe0\n",
       "281886      1  0.000759           xe1\n",
       "281886      2  0.000506           xe1\n",
       "281886      4  0.998659           xe1\n",
       "281915      1  0.163642           xe2\n",
       "281915      4  0.836245           xe2\n",
       "281933      1  0.001972           xe6\n",
       "281933      4  0.996935           xe6\n",
       "281984      1  0.002128           xec\n",
       "281984      4  0.997862           xec\n",
       "284097      3  0.999757        zerver\n",
       "284640      1  0.072605         zulip\n",
       "284640      2  0.002936         zulip\n",
       "284640      3  0.924646         zulip\n",
       "\n",
       "[496 rows x 3 columns], R=30, lambda_step=0.01, plot_opts={'xlab': 'PC1', 'ylab': 'PC2'}, topic_order=[1, 4, 2, 3])"
      ]
     },
     "execution_count": 10,
     "metadata": {},
     "output_type": "execute_result"
    }
   ],
   "source": [
    "pyLDAvis.sklearn.prepare(model, tf, tf_vectorizer)"
   ]
  },
  {
   "cell_type": "markdown",
   "metadata": {},
   "source": [
    "Try to do this on the full dataset:"
   ]
  },
  {
   "cell_type": "code",
   "execution_count": null,
   "metadata": {},
   "outputs": [],
   "source": [
    "number_of_languages = 4\n",
    "all_documents = full_dataset['documents']\n",
    "\n",
    "full_tf_vectorizer = CountVectorizer(stop_words=None)\n",
    "full_tf = full_tf_vectorizer.fit_transform(all_documents)\n",
    "full_tf_feature_names = full_tf_vectorizer.get_feature_names()\n",
    "\n",
    "full_lda = LatentDirichletAllocation(n_topics=number_of_languages,  n_jobs=1)\n",
    "full_model = full_lda.fit(full_tf)\n",
    "\n",
    "with open('../data/full_lda_model.pickle', 'wb') as f:\n",
    "    pickle.dump(full_model, f)\n",
    "\n",
    "with open('../data/full_tf.pickle', 'wb') as f:\n",
    "    pickle.dump(full_tf, f)\n",
    "    \n",
    "with open('../data/full_tf_vectorizer.pickle', 'wb') as f:\n",
    "    pickle.dump(full_tf_vectorizer, f)"
   ]
  },
  {
   "cell_type": "code",
   "execution_count": 11,
   "metadata": {},
   "outputs": [],
   "source": [
    "with open('../data/full_lda_model.pickle', 'rb') as f:\n",
    "    full_model = pickle.load(f)\n",
    "\n",
    "with open('../data/full_tf.pickle', 'rb') as f:\n",
    "    full_tf = pickle.load(f)\n",
    "    \n",
    "with open('../data/full_tf_vectorizer.pickle', 'rb') as f:\n",
    "    full_tf_vectorizer = pickle.load(f)"
   ]
  },
  {
   "cell_type": "markdown",
   "metadata": {},
   "source": [
    "Visualize our new model. Note that the following code cell requires more than 8 GB of RAM to run."
   ]
  },
  {
   "cell_type": "code",
   "execution_count": null,
   "metadata": {},
   "outputs": [],
   "source": [
    "pyLDAvis.sklearn.prepare(full_model, full_tf, full_tf_vectorizer)"
   ]
  },
  {
   "cell_type": "markdown",
   "metadata": {},
   "source": [
    "Reference: https://nbviewer.jupyter.org/github/bmabey/pyLDAvis/blob/master/notebooks/sklearn.ipynb"
   ]
  },
  {
   "cell_type": "markdown",
   "metadata": {},
   "source": [
    "## Topic Modelling on Programming Language Mixtures\n",
    "Keypoint: topics are programming languages, file with mixture of programming languages, identify which is which.\n",
    "\n",
    "Applicability to cyber-security: identifying malware embedded within normal programs (shellcode)."
   ]
  },
  {
   "cell_type": "markdown",
   "metadata": {},
   "source": [
    "### Combining Source Files per Repository\n",
    "\n",
    "Currently our data set consists of one data point per file containing:\n",
    "  1. ID of the Github repository the file belongs to.\n",
    "  2. Programming language it is written in (identified by file extension).\n",
    "  3. File contents\n",
    "  \n",
    "In this section, we extend our analysis from working on documents with one language per file, to a system where there is a mixture of languages inside each document. To do this, we combine all the files in each repository into a single data point."
   ]
  },
  {
   "cell_type": "code",
   "execution_count": 22,
   "metadata": {},
   "outputs": [],
   "source": [
    "def concat_texts(group):\n",
    "    [repo_id] = group['repo'].unique()\n",
    "    combined = ' '.join(group['documents'])\n",
    "    return combined"
   ]
  },
  {
   "cell_type": "code",
   "execution_count": 23,
   "metadata": {},
   "outputs": [],
   "source": [
    "combined_documents = minimal_dataset.groupby(by='repo').apply(concat_texts)"
   ]
  },
  {
   "cell_type": "code",
   "execution_count": 24,
   "metadata": {
    "scrolled": true
   },
   "outputs": [
    {
     "data": {
      "text/plain": [
       "repo\n",
       "19438      b\"#' @include ggplot-global.R\\n#' @include ggp...\n",
       "26554      b'# The contents of this file are subject to t...\n",
       "544208     b'import logging\\nimport os\\nimport platform a...\n",
       "643909     b'#\\' Environment variables to set when callin...\n",
       "2594513    b'# S3 method to deal with chunks and inline t...\n",
       "dtype: object"
      ]
     },
     "execution_count": 24,
     "metadata": {},
     "output_type": "execute_result"
    }
   ],
   "source": [
    "combined_documents.head()"
   ]
  },
  {
   "cell_type": "markdown",
   "metadata": {},
   "source": [
    "### LDA Model "
   ]
  },
  {
   "cell_type": "code",
   "execution_count": 25,
   "metadata": {},
   "outputs": [
    {
     "data": {
      "text/plain": [
       "repo\n",
       "596892       b'from __future__ import print_function\\n\\nfro...\n",
       "1248263      b'// VT100.js -- a text terminal emulator in J...\n",
       "1790564      b\"'use strict';\\n\\nconst ExtractTextPlugin = r...\n",
       "4751958      b'from .celery import app as celery_app\\n\\n__a...\n",
       "12465340     b'#\\' @title Aggregation object.\\n#\\' @descrip...\n",
       "13523710     b'do_nxt <- function(e)UseMethod(\"do_nxt\")\\ndo...\n",
       "14267375     b'import unittest\\nimport os\\nimport json\\n\\nf...\n",
       "14579179     b'#\\' Add data to a plotly visualization\\n#\\' ...\n",
       "16146440     b'base64_encode_file <- function(in_file, enco...\n",
       "17856544     b'#\\' Complete list of palettes\\n#\\'\\n#\\' Use ...\n",
       "19117456     b'import React, {Component} from \\'react\\';\\ni...\n",
       "21289110     b'# coding: utf-8\\n\\n\"\"\"\\n    The approach tak...\n",
       "23932217     b'\\n# TODO:\\n#  - catch errors and throw a war...\n",
       "24929423     b'############################################...\n",
       "28556914     b'#\\' R + mermaid.js\\n#\\'\\n#\\' Make diagrams i...\n",
       "33614304     b'# Copyright (c) 2016, Aaron Christianson\\n# ...\n",
       "36849200     b'# FROM Shiny\\n# @author Shiny package author...\n",
       "38226908     b'\"\"\"Remote profiling example with Flask.\\n\\nF...\n",
       "45936895     b\"/** @format */\\n\\nconst reactVersion = requi...\n",
       "47918643     b\"import os\\nimport sys\\n\\nsys.path.append ('t...\n",
       "61412022     b\"/* eslint-disable no-console */\\n\\nconst cha...\n",
       "69798748     b\"const glob = require('glob')\\nconst markdown...\n",
       "72671522     b'new_post_addin = function() {\\n  sys.source(...\n",
       "83222441     b'' b'from abc import ABCMeta, abstractmethod\\...\n",
       "84232645     b\"var gulp = require('gulp');\\nvar source = re...\n",
       "89187780     b\"const pkg = require('./package.json');\\n\\nco...\n",
       "94911145     b\"const OFF = 0;\\nconst WARNING = 1;\\nconst ER...\n",
       "128624453    b\"module.exports = {\\n  extends: ['@commitlint...\n",
       "19438        b\"#' @include ggplot-global.R\\n#' @include ggp...\n",
       "26554        b'# The contents of this file are subject to t...\n",
       "544208       b'import logging\\nimport os\\nimport platform a...\n",
       "643909       b'#\\' Environment variables to set when callin...\n",
       "2594513      b'# S3 method to deal with chunks and inline t...\n",
       "3834332      b'\\'\\'\\'\\n\\n\\'\\'\\'\\nfrom __future__ import pri...\n",
       "4729944      b'# TODO: Subapp global.R\\n\\n#\\' Create a Shin...\n",
       "4751958      b'from .celery import app as celery_app\\n\\n__a...\n",
       "6427813      b'# Generated by using Rcpp::compileAttributes...\n",
       "8162715      b'const ROOT = \"../saleor/static/dashboard-nex...\n",
       "10270250     b\"'use strict';\\n\\nconst {\\n  es5Paths,\\n  esN...\n",
       "13926404     b'#!/bin/env python\\nfrom __future__ import pr...\n",
       "14098069     b\"var gulp = require('gulp');\\nvar markdown = ...\n",
       "14579179     b'#\\' Add data to a plotly visualization\\n#\\' ...\n",
       "18840003     b\"/**\\n * React Starter Kit (https://www.react...\n",
       "22003158     b'library(rvest)\\nlibrary(purrr)\\n\\nLink <- \"h...\n",
       "23083156     b\"const path = require('path');\\n\\nmodule.expo...\n",
       "25315643     b'/* eslint global-require: 0 */\\n/* eslint im...\n",
       "28457823     b\"module.exports = {\\n  plugins: [\\n    requir...\n",
       "32215970     b'module.exports = {\\n    parser: \"@typescript...\n",
       "33015554     b'\\nlibrary(readr)\\nlibrary(ROCR)\\n\\nd_train <...\n",
       "33702544     b'from .dash import Dash  # noqa: F401\\nfrom ....\n",
       "39799721     b'set.seed(1014)\\noptions(digits = 3)\\n\\nknitr...\n",
       "43160685     b'' b'' b'import time\\nfrom collections import...\n",
       "54173593     b\"module.exports = {\\n  presets: [\\n    ['@bab...\n",
       "56460797     b'\"\"\"Interactive Dashboard Toolkit.\"\"\"\\n\\n__ve...\n",
       "62367558     b\"'use strict';\\n\\nconst fetch = require('elec...\n",
       "63726409     b'const path = require(\\'path\\');\\n\\nmodule.ex...\n",
       "147350463    b'/* \\n    This repository was created with th...\n",
       "dtype: object"
      ]
     },
     "execution_count": 25,
     "metadata": {},
     "output_type": "execute_result"
    }
   ],
   "source": [
    "combined_test_documents.append(combined_documents)"
   ]
  },
  {
   "cell_type": "code",
   "execution_count": 26,
   "metadata": {},
   "outputs": [],
   "source": [
    "tf_vectorizer = CountVectorizer(stop_words=None)\n",
    "tf_vectorizer.fit(combined_test_documents.append(combined_documents))\n",
    "\n",
    "tf_train = tf_vectorizer.transform(combined_documents)\n",
    "tf_test = tf_vectorizer.transform(combined_test_documents)\n",
    "\n",
    "with open('../data/concatDocs_tf_vectorizer.pickle', 'wb') as f:\n",
    "    pickle.dump(tf_vectorizer, f)\n",
    "    \n",
    "with open('../data/concatDocs_tf_train.pickle', 'wb') as f:\n",
    "    pickle.dump(tf_train, f)\n",
    "    \n",
    "with open('../data/concatDocs_tf_test.pickle', 'wb') as f:\n",
    "    pickle.dump(tf_test, f)"
   ]
  },
  {
   "cell_type": "code",
   "execution_count": 27,
   "metadata": {},
   "outputs": [
    {
     "name": "stderr",
     "output_type": "stream",
     "text": [
      "/home/dan/.guix-profile/lib/python3.7/site-packages/sklearn/decomposition/online_lda.py:314: DeprecationWarning: n_topics has been renamed to n_components in version 0.19 and will be removed in 0.21\n",
      "  DeprecationWarning)\n"
     ]
    }
   ],
   "source": [
    "number_of_languages = 4\n",
    "\n",
    "lda = LatentDirichletAllocation(n_topics=number_of_languages,  n_jobs=1)\n",
    "model = lda.fit(tf_train)\n",
    "\n",
    "with open('../data/concatDocs_lda_model.pickle', 'wb') as f:\n",
    "    pickle.dump(model, f)"
   ]
  },
  {
   "cell_type": "code",
   "execution_count": 11,
   "metadata": {},
   "outputs": [],
   "source": [
    "with open('../data/concatDocs_lda_model.pickle', 'rb') as f:\n",
    "    model = pickle.load(f)\n",
    "    \n",
    "with open('../data/concatDocs_tf_train.pickle', 'rb') as f:\n",
    "    tf_train = pickle.load(f)\n",
    "    \n",
    "with open('../data/concatDocs_tf_vectorizer.pickle', 'rb') as f:\n",
    "    tf_vectorizer = pickle.load(f)\n",
    "\n",
    "with open('../data/concatDocs_tf_test.pickle', 'rb') as f:\n",
    "    tf_test = pickle.load(f)"
   ]
  },
  {
   "cell_type": "code",
   "execution_count": 28,
   "metadata": {},
   "outputs": [
    {
     "data": {
      "text/html": [
       "\n",
       "<link rel=\"stylesheet\" type=\"text/css\" href=\"https://cdn.rawgit.com/bmabey/pyLDAvis/files/ldavis.v1.0.0.css\">\n",
       "\n",
       "\n",
       "<div id=\"ldavis_el56411401517872928563473943818\"></div>\n",
       "<script type=\"text/javascript\">\n",
       "\n",
       "var ldavis_el56411401517872928563473943818_data = {\"mdsDat\": {\"x\": [0.08639809210358511, -0.29497863665049906, 0.08182259352026898, 0.12675795102664505], \"y\": [-0.11645232651982791, 0.013923393240882521, -0.026082019810972277, 0.12861095308991788], \"topics\": [1, 2, 3, 4], \"cluster\": [1, 1, 1, 1], \"Freq\": [37.813179281172985, 24.391070229867417, 20.04907424366093, 17.74667624529867]}, \"tinfo\": {\"Category\": [\"Default\", \"Default\", \"Default\", \"Default\", \"Default\", \"Default\", \"Default\", \"Default\", \"Default\", \"Default\", \"Default\", \"Default\", \"Default\", \"Default\", \"Default\", \"Default\", \"Default\", \"Default\", \"Default\", \"Default\", \"Default\", \"Default\", \"Default\", \"Default\", \"Default\", \"Default\", \"Default\", \"Default\", \"Default\", \"Default\", \"Topic1\", \"Topic1\", \"Topic1\", \"Topic1\", \"Topic1\", \"Topic1\", \"Topic1\", \"Topic1\", \"Topic1\", \"Topic1\", \"Topic1\", \"Topic1\", \"Topic1\", \"Topic1\", \"Topic1\", \"Topic1\", \"Topic1\", \"Topic1\", \"Topic1\", \"Topic1\", \"Topic1\", \"Topic1\", \"Topic1\", \"Topic1\", \"Topic1\", \"Topic1\", \"Topic1\", \"Topic1\", \"Topic1\", \"Topic1\", \"Topic1\", \"Topic1\", \"Topic1\", \"Topic1\", \"Topic1\", \"Topic1\", \"Topic1\", \"Topic1\", \"Topic1\", \"Topic1\", \"Topic1\", \"Topic1\", \"Topic1\", \"Topic1\", \"Topic1\", \"Topic1\", \"Topic1\", \"Topic1\", \"Topic1\", \"Topic1\", \"Topic1\", \"Topic1\", \"Topic1\", \"Topic1\", \"Topic1\", \"Topic1\", \"Topic1\", \"Topic1\", \"Topic1\", \"Topic1\", \"Topic1\", \"Topic1\", \"Topic1\", \"Topic1\", \"Topic1\", \"Topic1\", \"Topic1\", \"Topic1\", \"Topic1\", \"Topic1\", \"Topic1\", \"Topic1\", \"Topic1\", \"Topic1\", \"Topic1\", \"Topic1\", \"Topic1\", \"Topic1\", \"Topic1\", \"Topic1\", \"Topic1\", \"Topic1\", \"Topic1\", \"Topic1\", \"Topic1\", \"Topic1\", \"Topic1\", \"Topic1\", \"Topic1\", \"Topic2\", \"Topic2\", \"Topic2\", \"Topic2\", \"Topic2\", \"Topic2\", \"Topic2\", \"Topic2\", \"Topic2\", \"Topic2\", \"Topic2\", \"Topic2\", \"Topic2\", \"Topic2\", \"Topic2\", \"Topic2\", \"Topic2\", \"Topic2\", \"Topic2\", \"Topic2\", \"Topic2\", \"Topic2\", \"Topic2\", \"Topic2\", \"Topic2\", \"Topic2\", \"Topic2\", \"Topic2\", \"Topic2\", \"Topic2\", \"Topic2\", \"Topic2\", \"Topic2\", \"Topic2\", \"Topic2\", \"Topic2\", \"Topic2\", \"Topic2\", \"Topic2\", \"Topic2\", \"Topic2\", \"Topic2\", \"Topic2\", \"Topic2\", \"Topic2\", \"Topic2\", \"Topic2\", \"Topic2\", \"Topic2\", \"Topic2\", \"Topic2\", \"Topic2\", \"Topic2\", \"Topic2\", \"Topic2\", \"Topic2\", \"Topic2\", \"Topic2\", \"Topic2\", \"Topic2\", \"Topic2\", \"Topic2\", \"Topic2\", \"Topic2\", \"Topic2\", \"Topic2\", \"Topic2\", \"Topic2\", \"Topic2\", \"Topic2\", \"Topic2\", \"Topic2\", \"Topic2\", \"Topic2\", \"Topic2\", \"Topic2\", \"Topic2\", \"Topic2\", \"Topic3\", \"Topic3\", \"Topic3\", \"Topic3\", \"Topic3\", \"Topic3\", \"Topic3\", \"Topic3\", \"Topic3\", \"Topic3\", \"Topic3\", \"Topic3\", \"Topic3\", \"Topic3\", \"Topic3\", \"Topic3\", \"Topic3\", \"Topic3\", \"Topic3\", \"Topic3\", \"Topic3\", \"Topic3\", \"Topic3\", \"Topic3\", \"Topic3\", \"Topic3\", \"Topic3\", \"Topic3\", \"Topic3\", \"Topic3\", \"Topic3\", \"Topic3\", \"Topic3\", \"Topic3\", \"Topic3\", \"Topic3\", \"Topic3\", \"Topic3\", \"Topic3\", \"Topic3\", \"Topic3\", \"Topic3\", \"Topic3\", \"Topic3\", \"Topic3\", \"Topic3\", \"Topic3\", \"Topic3\", \"Topic3\", \"Topic3\", \"Topic3\", \"Topic3\", \"Topic3\", \"Topic3\", \"Topic3\", \"Topic3\", \"Topic3\", \"Topic3\", \"Topic3\", \"Topic3\", \"Topic3\", \"Topic3\", \"Topic3\", \"Topic3\", \"Topic3\", \"Topic3\", \"Topic3\", \"Topic3\", \"Topic3\", \"Topic3\", \"Topic3\", \"Topic3\", \"Topic3\", \"Topic3\", \"Topic3\", \"Topic3\", \"Topic3\", \"Topic3\", \"Topic3\", \"Topic3\", \"Topic3\", \"Topic3\", \"Topic3\", \"Topic3\", \"Topic3\", \"Topic3\", \"Topic3\", \"Topic3\", \"Topic4\", \"Topic4\", \"Topic4\", \"Topic4\", \"Topic4\", \"Topic4\", \"Topic4\", \"Topic4\", \"Topic4\", \"Topic4\", \"Topic4\", \"Topic4\", \"Topic4\", \"Topic4\", \"Topic4\", \"Topic4\", \"Topic4\", \"Topic4\", \"Topic4\", \"Topic4\", \"Topic4\", \"Topic4\", \"Topic4\", \"Topic4\", \"Topic4\", \"Topic4\", \"Topic4\", \"Topic4\", \"Topic4\", \"Topic4\", \"Topic4\", \"Topic4\", \"Topic4\", \"Topic4\", \"Topic4\", \"Topic4\", \"Topic4\", \"Topic4\", \"Topic4\", \"Topic4\", \"Topic4\", \"Topic4\", \"Topic4\", \"Topic4\", \"Topic4\", \"Topic4\", \"Topic4\", \"Topic4\", \"Topic4\", \"Topic4\", \"Topic4\", \"Topic4\", \"Topic4\", \"Topic4\", \"Topic4\", \"Topic4\", \"Topic4\", \"Topic4\", \"Topic4\", \"Topic4\", \"Topic4\", \"Topic4\", \"Topic4\", \"Topic4\", \"Topic4\", \"Topic4\", \"Topic4\", \"Topic4\", \"Topic4\", \"Topic4\", \"Topic4\", \"Topic4\", \"Topic4\", \"Topic4\", \"Topic4\", \"Topic4\", \"Topic4\", \"Topic4\", \"Topic4\", \"Topic4\", \"Topic4\", \"Topic4\", \"Topic4\", \"Topic4\"], \"Freq\": [72580.0, 24021.0, 35322.0, 14716.0, 17744.0, 38825.0, 13331.0, 11513.0, 88252.0, 15229.0, 11562.0, 12851.0, 11830.0, 9994.0, 10823.0, 10975.0, 9527.0, 73186.0, 9604.0, 14798.0, 18277.0, 18442.0, 18653.0, 72633.0, 20848.0, 7873.0, 5367.0, 9736.0, 7139.0, 26179.0, 2471.163191022991, 2423.9235393835843, 2227.25176195463, 1391.3995036069398, 1703.4906225405039, 816.811862686162, 766.6689713193447, 745.4703718370627, 708.8267513167276, 657.7391230503143, 1483.9512153829257, 786.742236916812, 624.9605139550307, 616.2795003906153, 595.0637429270205, 572.9010899181835, 1327.770235830593, 497.7032221558176, 1136.884393586502, 459.13999966251333, 436.00253760953393, 424.4330801095554, 418.64893098857993, 383.9425307723093, 379.12185895541387, 373.33773418952984, 364.66104675841547, 343.45084717471474, 340.55920591905, 320.3131698601481, 4037.8339323588325, 1692.0478199225865, 1938.8215355048608, 1138.809321235465, 9842.757472350042, 964.3152606938049, 1570.1374190893484, 1739.4914565929591, 740.6500168020146, 1074.8864705164124, 1000.1969503575959, 2799.2960134969803, 2245.5671399551043, 1057.513177256918, 5317.281538017787, 1978.5324594441709, 1584.1766099899726, 2052.7293725013315, 1062.2204432850087, 1372.0597590078055, 4574.399633352644, 2404.5412606697014, 1601.7885107344584, 15712.132263069692, 56023.922835917474, 43346.063991358744, 13504.184171703804, 5654.067996992913, 44006.654804412574, 43241.892675535004, 4883.303067397719, 3212.385525090165, 26704.377458198294, 14451.654024102272, 38943.21477666373, 20203.58842364457, 6625.319717415098, 20680.887676026334, 16666.101458882666, 11862.721591391244, 9454.38360080164, 18109.703621969955, 9340.443377584555, 7308.020495523864, 16800.790896191455, 8667.668264344327, 13099.06445121171, 12224.010600471996, 11259.812285027083, 6226.601649806334, 10490.82308129894, 8023.9196566904075, 7196.765759235464, 10445.143731257485, 7678.673668863985, 15908.67006292844, 8364.340157417751, 8157.973681403756, 8694.072744172812, 14715.863264990452, 3713.8928913784753, 2442.1803730287766, 1984.7971248329025, 1426.9030873966806, 1136.6855248191805, 1034.3108481804006, 1014.582974174261, 927.2405024425032, 921.6051998528268, 895.2894384073657, 803.264039827018, 800.4463980399979, 799.4894896657137, 775.0875905495335, 732.8228937469802, 715.9170150906737, 663.3209269525115, 4802.692893433092, 639.8405597250713, 596.6366450045153, 602.2542344810939, 566.5817492270822, 559.0680264685151, 547.7974164217312, 537.4660530218437, 518.6817584575641, 516.8033275443883, 512.1072264481292, 1360.9148710859795, 11428.070978062808, 5793.009591591501, 3003.588381445668, 1795.075640469393, 9335.27031279111, 1338.0737057923018, 1263.4682762428017, 6989.850583352316, 2877.268977979983, 1041.9700033897627, 1009.4646469039209, 1357.2254228487911, 9734.662035208925, 12860.407421555843, 6320.454202532813, 9249.792307269428, 4964.95574581576, 6698.338545639305, 4535.7984368439675, 6917.793291690168, 5663.040757439379, 22530.74631783527, 16663.84104517396, 7535.824375489487, 10314.259183506225, 5173.501887059437, 6987.429827232377, 10113.110723809677, 10759.83720839235, 5236.708098463974, 5265.9656098753, 10959.488782235218, 5394.464196631363, 11658.660252501279, 4777.529654225158, 5259.801452312073, 8572.762141279945, 12570.257495192309, 24659.351867697424, 26152.98079895718, 13750.435988873307, 5937.899601907184, 13977.732890359563, 12583.710173431478, 6246.725108774498, 13002.37049553011, 7093.390375076857, 7065.587077247179, 5457.568817488353, 2766.152270425323, 944.5568353763946, 710.8040469319767, 664.2397253566869, 624.1944007251453, 527.3406819604504, 516.1652708965851, 437.0059389765919, 412.7925027227252, 409.99862402214626, 379.26622746499356, 348.53376804855725, 330.8393549585803, 325.251617804079, 316.8700648124996, 310.3510416475333, 301.03818154965575, 301.03818154965575, 295.4504654909143, 260.06161821843773, 256.33645307934654, 247.95485276388075, 240.50459091252432, 233.05430283396024, 225.60403585810505, 218.15374778019532, 212.566031721763, 207.90955433653613, 481.7067049170466, 470.53226717537024, 885.303272814815, 1718.0314038575523, 450.0440053411969, 5331.864928571844, 468.69458767446037, 5923.212720477967, 2196.033066353596, 897.0841135543511, 1879.5374201310815, 452.08977465107756, 583.4685039160374, 1434.8734345636294, 1071.655738537814, 514.4277698141169, 1556.6789115525296, 498.2753398254606, 1709.1427958482159, 845.931840980964, 952.9385729562016, 1250.0188580609445, 4341.332145026188, 965.9110933499193, 1217.4363835085749, 3640.660943267531, 1767.813864932216, 1450.3209819800522, 31044.36048634845, 4019.6609617009403, 2238.112153476214, 5540.7137790057095, 8605.411741318036, 3460.2366144415064, 1463.2827506210838, 7441.091304697276, 6762.486370359863, 4098.487659857051, 7634.312565442785, 9302.175665778708, 21186.94461710347, 17057.546215227696, 16662.86246003214, 8095.654440125401, 2027.642643787802, 3710.8346370321037, 12169.3862022269, 7521.840898315051, 6834.524738773996, 9511.651454977447, 5406.02948606338, 7432.944655791079, 6731.587852326537, 5672.010175794712, 4762.156369718689, 4940.860949267869, 4840.01283903323, 4604.176034495015, 4548.871297490712, 3359.669761032634, 3158.084951865824, 1387.2826144601345, 1037.7456517763999, 1034.0468479384751, 1023.8751373841885, 959.1460702205337, 1884.7717929059022, 733.5190361072238, 714.1003159581276, 654.9194545513577, 605.9103036988764, 600.3620979419916, 599.4373969805607, 574.47047107653, 564.2987605222413, 558.7505547653567, 509.74140391287534, 507.89200199196335, 502.3437962370291, 500.4943943180675, 459.80755210091326, 453.3346453845478, 451.4852434655862, 1044.2185929186526, 438.5394300328554, 429.29242043804754, 390.4549801379041, 859.3798973104232, 383.05737246400855, 5352.29502350012, 4003.2617359789306, 1525.6001521671567, 1040.5197855035208, 856.5042919878813, 864.3643336027075, 725.1967514030617, 624.404343443228, 1387.158456676081, 2133.802291601544, 604.8513393780953, 905.5126053449729, 928.6310139321389, 1152.6821163479337, 4424.583729560781, 2180.717464903576, 6087.533573822705, 4604.052916116721, 1635.904386007816, 1051.6455959250093, 3357.8624214171696, 1086.9300515405018, 25610.679460023635, 1704.5682923085897, 6021.360834233534, 2269.8600156065927, 4886.122578083033, 2906.3512198384606, 1838.6365513948904, 7133.916724155317, 4437.436003306459, 8250.619552797114, 6422.092930576136, 7267.9638067498945, 3734.7594761706137, 2475.2431894063716, 13673.749760045812, 7280.681882557125, 10015.653070843697, 11902.478673846874, 7847.9949826347065, 7705.765614478104, 6391.8751948011095, 10844.892711723358, 5565.794171080477, 7567.435202054041, 9723.788275384355, 4793.222518428034, 6254.462294800615, 5455.543588662918, 5564.96824583909, 4399.255674285556, 4407.220266087629, 5364.413799074822], \"Term\": [\"self\", \"12\", \"react\", \"createsvgicon\", \"16\", \"from\", \"24\", \"48\", \"this\", \"nexport\", \"14\", \"11\", \"32\", \"21\", \"fragment\", \"13\", \"45\", \"function\", \"17\", \"nfrom\", \"10\", \"assert\", \"def\", \"if\", \"nimport\", \"22\", \"realm\", \"15\", \"26\", \"default\", \"reactnoop\", \"__webpack_require__\", \"expect_equal\", \"subreddit\", \"ntest_that\", \"errorboundary\", \"expect_identical\", \"workinprogress\", \"rdname\", \"tibble\", \"iana\", \"mtcars\", \"_dereq_\", \"nrow\", \"paste0\", \"towarndev\", \"shiny\", \"reacttestrenderer\", \"fiber\", \"expirationtime\", \"_interoprequiredefault\", \"sr_id\", \"tohavebeencalledtimes\", \"_asynctogenerator2\", \"expect_error\", \"expect_hybrid\", \"memberof\", \"subreddits\", \"renderintodocument\", \"knitr\", \"tobe\", \"aes\", \"reddit\", \"inst\", \"expect\", \"mobx\", \"r2\", \"jp\", \"packrat\", \"ggplot\", \"vnd\", \"toequal\", \"tthis\", \"pkg\", \"param\", \"thing\", \"xf0\", \"reactdom\", \"jest\", \"sr\", \"tif\", \"tvar\", \"frame\", \"null\", \"this\", \"the\", \"length\", \"license\", \"function\", \"if\", \"array\", \"treturn\", \"var\", \"of\", \"return\", \"true\", \"render\", \"to\", \"is\", \"and\", \"else\", \"for\", \"it\", \"options\", \"in\", \"new\", \"data\", \"value\", \"const\", \"code\", \"false\", \"object\", \"key\", \"name\", \"div\", \"self\", \"not\", \"type\", \"react\", \"createsvgicon\", \"0h24v24h0v0z\", \"627\", \"745\", \"837\", \"2h\", \"4c\", \"withstyles\", \"8c\", \"6c\", \"valtype\", \"2v\", \"2z\", \"edittype\", \"5c0\", \"9c\", \"12h\", \"1v\", \"m0\", \"12v\", \"markdowndocs\", \"dflt\", \"2zm\", \"8v\", \"4h\", \"4c0\", \"m19\", \"formcontrol\", \"8h\", \"1s\", \"48\", \"512\", \"373\", \"typography\", \"45\", \"5c\", \"storybook\", \"26\", \"strictequal\", \"2c\", \"3c\", \"448\", \"21\", \"24\", \"55\", \"17\", \"41\", \"19\", \"67\", \"28\", \"39\", \"12\", \"16\", \"22\", \"13\", \"64\", \"18\", \"fragment\", \"14\", \"29\", \"34\", \"32\", \"35\", \"11\", \"27\", \"31\", \"15\", \"nexport\", \"react\", \"from\", \"10\", \"33\", \"nimport\", \"path\", \"25\", \"default\", \"const\", \"import\", \"bokeh\", \"misago\", \"api_link\", \"user_acl\", \"columndatasource\", \"redash\", \"anaconda\", \"patch_category_acl\", \"plot_height\", \"plot_width\", \"data_source\", \"other_thread\", \"range1d\", \"assertcontains\", \"add_layout\", \"best_answer\", \"nshow\", \"line_color\", \"add_root\", \"sampledata\", \"post_thread\", \"customjs\", \"ngmodule\", \"noutput_file\", \"linearaxis\", \"create_test_user\", \"reply_thread\", \"cache_versions\", \"queryresult\", \"nplot\", \"dddd\", \"acl\", \"gettext\", \"mmmm\", \"thread\", \"boilerplate\", \"xe0\", \"np\", \"testutils\", \"imports\", \"driver\", \"response_json\", \"threads\", \"posts\", \"print_function\", \"btn\", \"absolute_import\", \"xa4\", \"jshint\", \"xae\", \"xb4\", \"post\", \"services\", \"factory\", \"category\", \"xd8\", \"lt\", \"self\", \"xd0\", \"xd1\", \"response\", \"def\", \"api\", \"xb5\", \"user\", \"nfrom\", \"assertequal\", \"assert\", \"import\", \"this\", \"return\", \"function\", \"default\", \"xe1\", \"classname\", \"if\", \"in\", \"for\", \"the\", \"value\", \"var\", \"to\", \"is\", \"none\", \"data\", \"name\", \"true\", \"from\", \"zulip\", \"zerver\", \"stream_id\", \"stream_name\", \"example_email\", \"canonical_name\", \"example_user\", \"hamlet\", \"page_params\", \"ujson\", \"expected_topic\", \"realm_id\", \"assert_json_success\", \"pgettext_lazy\", \"nrun_test\", \"get_realm\", \"client_post\", \"send_and_test_stream_message\", \"saleor\", \"stream_data\", \"blueslip\", \"assert_json_error\", \"topic_name\", \"iago\", \"graphene\", \"client_get\", \"nset_global\", \"staff_api_client\", \"message_id\", \"nzrequire\", \"realm\", \"user_profile\", \"userprofile\", \"expected_message\", \"casper\", \"bot\", \"cordelia\", \"voucher\", \"topic\", \"product\", \"operand\", \"full_name\", \"cart\", \"payment\", \"stream\", \"migrations\", \"str\", \"email\", \"user_id\", \"aliases\", \"django\", \"recipient\", \"self\", \"payload\", \"message\", \"equal\", \"result\", \"dict\", \"messages\", \"id\", \"ndef\", \"none\", \"nfrom\", \"assert\", \"models\", \"order\", \"if\", \"import\", \"var\", \"return\", \"for\", \"in\", \"name\", \"the\", \"def\", \"to\", \"function\", \"user\", \"true\", \"data\", \"is\", \"not\", \"false\", \"this\"], \"Total\": [72580.0, 24021.0, 35322.0, 14716.0, 17744.0, 38825.0, 13331.0, 11513.0, 88252.0, 15229.0, 11562.0, 12851.0, 11830.0, 9994.0, 10823.0, 10975.0, 9527.0, 73186.0, 9604.0, 14798.0, 18277.0, 18442.0, 18653.0, 72633.0, 20848.0, 7873.0, 5367.0, 9736.0, 7139.0, 26179.0, 2471.861995365282, 2424.6223591252538, 2227.9512056749277, 1392.0988668100417, 1704.4519824449073, 817.5106670291885, 767.3785241099267, 746.1691761801943, 709.534129623367, 658.4384103641291, 1485.5747153229283, 787.6196397503189, 625.659877278594, 616.9831062081277, 595.773315858698, 573.5998942616783, 1329.4012549938784, 498.402104544377, 1138.5145851406926, 459.83912995644937, 436.7013573598833, 425.13244353649395, 419.3480147599785, 384.64135052409466, 379.82097176418034, 374.0365348227201, 365.3598665108368, 344.1502106776517, 341.2580118351318, 321.0124413238883, 4082.626988350636, 1701.3392826862591, 1952.820316974335, 1141.3739056826062, 10109.128754679607, 967.7881244017551, 1584.4076101187559, 1757.7875999815055, 742.2800916979053, 1082.449395984101, 1008.1290538094171, 2871.035841706505, 2303.076985803365, 1070.6226857012266, 5748.452107057741, 2063.664029889981, 1644.991862870095, 2159.3413337639076, 1087.7066492476017, 1437.1039016401942, 5299.866181259359, 2653.937617942826, 1705.8697064732942, 21407.265676674637, 88252.77032058337, 68888.20971373258, 18610.097251185904, 7088.301183888526, 73186.099210094, 72633.58450154425, 6046.2095694382315, 3757.0873640536597, 46050.08168814694, 22199.067451128933, 73227.42491203794, 33730.42134110562, 9037.801950543233, 37659.98119767156, 29089.49923683477, 19544.246150795378, 14849.440193650527, 33954.57805968483, 14730.500998652864, 10881.118824604573, 32848.38074602551, 13873.339884042232, 24281.212041474435, 22240.61838380881, 20592.057352756572, 9009.184226636808, 19737.00742052592, 13433.287193287451, 11523.690941082354, 23381.824657421614, 13694.670755669487, 72580.98076960012, 16961.112118836332, 16343.381679027925, 35322.62294829336, 14716.568282056665, 3714.5979084447713, 2442.900510562158, 1985.5021726998252, 1427.6081661612416, 1137.390575769641, 1035.0160870711059, 1015.2925962747935, 927.945518237281, 922.310225487619, 896.0126606721569, 803.9690726005716, 801.1514259740927, 800.2126787592614, 775.7926071670552, 733.5279096225238, 716.6220306029984, 664.0259631035586, 4807.8970446736985, 640.5455750525114, 597.3416620713975, 602.9774236424772, 567.2867660469665, 559.7730420094747, 548.502456638979, 538.1710859446833, 519.3867755245512, 517.5083445210946, 512.8122676427314, 1362.794218297221, 11513.82367219137, 5826.236345710469, 3020.6190828674985, 1799.4860320874268, 9527.988729122044, 1340.2609750779181, 1266.9656615743427, 7139.350880073623, 2914.11694789101, 1045.3780382510593, 1012.4965551446401, 1365.8234635298209, 9994.153027522603, 13331.467823875097, 6490.309454301208, 9604.066282519132, 5099.1381347438755, 6946.854581572048, 4670.536358507492, 7188.99912965444, 5863.397610647803, 24021.75798246443, 17744.666823999367, 7873.083983273636, 10975.5683123072, 5391.733024830033, 7354.2461583261, 10823.450123260738, 11562.325255947628, 5479.707806614086, 5513.531415650844, 11830.99488691436, 5654.969786436644, 12851.34395240532, 4999.165030839994, 5574.040125710532, 9736.27982927279, 15229.421280730645, 35322.62294829336, 38825.93552642808, 18277.261132908334, 6453.404370281553, 20848.993270837702, 19526.51353503674, 7245.930006402241, 26179.207784780287, 20592.057352756572, 26153.166793616016, 5458.275836978414, 2766.859268091314, 945.2638330423857, 711.511044597968, 664.9467448534733, 624.9014457013033, 528.0477014206373, 516.8722685625763, 437.71295847736206, 413.49952222417863, 410.7056636164636, 379.973225130985, 349.24078755228464, 331.54635262457185, 325.95863730885225, 317.57706247849114, 311.05806115305836, 301.74520105568854, 301.74520105568854, 296.1574849972671, 260.7686158844294, 257.0434725883304, 248.66189776686713, 241.21161042281676, 233.76132234493008, 226.31103352409684, 218.86074544618714, 213.27302938775483, 208.61659934810393, 483.3787901362676, 473.0886560801182, 898.1821924601654, 1756.573846516449, 454.47879484227224, 5552.603194780236, 474.19617127898584, 6346.851264273813, 2310.504889234032, 924.47523256475, 1987.9243821297694, 460.3191556264996, 600.6538794457232, 1542.3632830753477, 1136.9996392255853, 527.1114353290878, 1706.6215177373986, 510.2839031035796, 1901.5596606414274, 918.3327056852695, 1052.2988013850127, 1428.6354866122483, 5860.473300035985, 1081.5757936402758, 1425.0582041540035, 5149.216980495401, 2252.9369905242556, 1785.9624846145462, 72580.98076960012, 6223.930834670295, 3060.9817552996956, 9423.295362681001, 18653.784218525707, 5856.796288534315, 1897.3791373299537, 16631.753247461995, 14798.917305454786, 7649.994463299139, 18442.496300705447, 26153.166793616016, 88252.77032058337, 73227.42491203794, 73186.099210094, 26179.207784780287, 3122.573672177848, 8959.215118836812, 72633.58450154425, 32848.38074602551, 33954.57805968483, 68888.20971373258, 22240.61838380881, 46050.08168814694, 37659.98119767156, 29089.49923683477, 21002.845102614385, 24281.212041474435, 23381.824657421614, 33730.42134110562, 38825.93552642808, 3360.378404961035, 3158.793595794225, 1387.9912583885352, 1038.4542957048009, 1034.7554918668777, 1024.5837813125895, 959.8547141489346, 1886.4116601553148, 734.2276800356248, 714.8089598865286, 655.6280984797587, 606.6189476272774, 601.0707418703926, 600.1460409109467, 575.179115004931, 565.0074044506423, 559.4591986937577, 510.4500478412764, 508.60064592234954, 503.05244016543014, 501.20303824646857, 460.51619602931436, 454.0432893129489, 452.1938873939873, 1045.858488185417, 439.2480739612565, 430.00106436644865, 391.1636240682907, 860.9467615115725, 383.7660163924097, 5367.541752843452, 4016.076990122945, 1529.605048570885, 1043.0909703827217, 858.1441934546377, 867.483046269199, 726.8366572392633, 626.0442526799239, 1408.0192221032457, 2194.887359214294, 607.5953228472655, 919.2929119811813, 945.2903866353525, 1195.2186799419721, 5050.300913315237, 2417.007681498268, 8309.246676510713, 6225.282989413027, 1940.2976586521895, 1156.6342015912428, 4733.106864322003, 1218.242070014449, 72580.98076960012, 2177.706660024563, 11338.275645212616, 3175.562886216006, 9355.69225638009, 4606.657827481969, 2452.3242414730134, 16162.409785875123, 8628.785003437319, 21002.845102614385, 14798.917305454786, 18442.496300705447, 6922.545411257639, 4030.059844492609, 72633.58450154425, 26153.166793616016, 46050.08168814694, 73227.42491203794, 33954.57805968483, 32848.38074602551, 23381.824657421614, 68888.20971373258, 18653.784218525707, 37659.98119767156, 73186.099210094, 16631.753247461995, 33730.42134110562, 24281.212041474435, 29089.49923683477, 16961.112118836332, 19737.00742052592, 88252.77032058337], \"loglift\": [30.0, 29.0, 28.0, 27.0, 26.0, 25.0, 24.0, 23.0, 22.0, 21.0, 20.0, 19.0, 18.0, 17.0, 16.0, 15.0, 14.0, 13.0, 12.0, 11.0, 10.0, 9.0, 8.0, 7.0, 6.0, 5.0, 4.0, 3.0, 2.0, 1.0, 0.9722, 0.9722, 0.9722, 0.972, 0.9719, 0.9717, 0.9716, 0.9716, 0.9715, 0.9714, 0.9714, 0.9714, 0.9714, 0.9714, 0.9713, 0.9713, 0.9713, 0.9711, 0.9711, 0.971, 0.9709, 0.9709, 0.9708, 0.9707, 0.9707, 0.9706, 0.9706, 0.9705, 0.9705, 0.9703, 0.9615, 0.967, 0.9653, 0.9703, 0.9458, 0.9689, 0.9635, 0.962, 0.9703, 0.9655, 0.9646, 0.9472, 0.9472, 0.9602, 0.8945, 0.9304, 0.9348, 0.9219, 0.9488, 0.9262, 0.8253, 0.8738, 0.9096, 0.6632, 0.5181, 0.5092, 0.6518, 0.7464, 0.4638, 0.4539, 0.7589, 0.8159, 0.4276, 0.5433, 0.341, 0.46, 0.662, 0.3731, 0.4155, 0.4732, 0.521, 0.3439, 0.5169, 0.5745, 0.302, 0.5021, 0.3554, 0.374, 0.3688, 0.6031, 0.3405, 0.4572, 0.5017, 0.1667, 0.394, -0.5453, 0.2656, 0.2777, -0.4294, 1.4109, 1.4108, 1.4107, 1.4106, 1.4105, 1.4103, 1.4103, 1.4103, 1.4102, 1.4102, 1.4101, 1.4101, 1.4101, 1.41, 1.41, 1.41, 1.41, 1.4099, 1.4099, 1.4099, 1.4098, 1.4098, 1.4097, 1.4097, 1.4097, 1.4096, 1.4096, 1.4096, 1.4096, 1.4096, 1.4035, 1.4052, 1.4053, 1.4085, 1.3905, 1.4093, 1.4082, 1.3898, 1.3982, 1.4077, 1.408, 1.4046, 1.3846, 1.375, 1.3844, 1.3734, 1.3843, 1.3745, 1.3817, 1.3725, 1.3762, 1.3469, 1.3481, 1.3672, 1.3488, 1.3696, 1.3598, 1.3431, 1.339, 1.3656, 1.365, 1.3344, 1.3638, 1.3136, 1.3656, 1.3529, 1.2837, 1.2191, 1.0516, 1.0158, 1.1264, 1.3277, 1.0111, 0.9716, 1.2626, 0.7111, 0.3452, 0.1022, 1.6069, 1.6067, 1.6062, 1.606, 1.6059, 1.6059, 1.6056, 1.6056, 1.6054, 1.6053, 1.6053, 1.6051, 1.605, 1.6049, 1.6048, 1.6048, 1.6047, 1.6046, 1.6046, 1.6046, 1.6043, 1.6042, 1.6041, 1.6041, 1.604, 1.6039, 1.6038, 1.6037, 1.6036, 1.6035, 1.6016, 1.5925, 1.5848, 1.5972, 1.5664, 1.5953, 1.5379, 1.5562, 1.5769, 1.5509, 1.5889, 1.578, 1.5347, 1.5478, 1.5826, 1.515, 1.5832, 1.5003, 1.5249, 1.5078, 1.4734, 1.3069, 1.4939, 1.4495, 1.2603, 1.3645, 1.3988, 0.7577, 1.1698, 1.2939, 1.0759, 0.8333, 1.0807, 1.3472, 0.8027, 0.8238, 0.9829, 0.725, 0.5733, 0.1802, 0.15, 0.1272, 0.4333, 1.1752, 0.7256, -0.1795, 0.1329, 0.004, -0.373, 0.1926, -0.2168, -0.1148, -0.0278, 0.123, 0.0148, 0.0319, -0.3844, -0.5372, 1.7288, 1.7287, 1.7285, 1.7283, 1.7283, 1.7283, 1.7282, 1.7281, 1.728, 1.728, 1.7279, 1.7278, 1.7278, 1.7278, 1.7277, 1.7277, 1.7277, 1.7276, 1.7276, 1.7276, 1.7276, 1.7274, 1.7274, 1.7274, 1.7274, 1.7274, 1.7273, 1.7272, 1.7272, 1.7271, 1.7261, 1.7258, 1.7264, 1.7265, 1.7271, 1.7254, 1.7267, 1.7263, 1.714, 1.7007, 1.7244, 1.7139, 1.7112, 1.6927, 1.5967, 1.6261, 1.4178, 1.4273, 1.5583, 1.6338, 1.3857, 1.6149, 0.6873, 1.484, 1.0961, 1.3932, 1.0794, 1.2684, 1.441, 0.9111, 1.0639, 0.7946, 0.8942, 0.7978, 1.1119, 1.2415, 0.059, 0.4502, 0.2034, -0.0879, 0.2642, 0.279, 0.432, -0.1198, 0.5196, 0.1242, -0.2895, 0.4849, 0.0439, 0.2359, 0.0751, 0.3795, 0.2297, -1.0714], \"logprob\": [30.0, 29.0, 28.0, 27.0, 26.0, 25.0, 24.0, 23.0, 22.0, 21.0, 20.0, 19.0, 18.0, 17.0, 16.0, 15.0, 14.0, 13.0, 12.0, 11.0, 10.0, 9.0, 8.0, 7.0, 6.0, 5.0, 4.0, 3.0, 2.0, 1.0, -6.9035, -6.9228, -7.0074, -7.4779, -7.2755, -8.0106, -8.0739, -8.102, -8.1524, -8.2272, -7.4135, -8.0481, -8.2783, -8.2923, -8.3273, -8.3653, -7.5247, -8.506, -7.6799, -8.5866, -8.6383, -8.6652, -8.6789, -8.7655, -8.7781, -8.7935, -8.817, -8.8769, -8.8854, -8.9467, -6.4125, -7.2823, -7.1461, -7.6782, -5.5215, -7.8446, -7.3571, -7.2546, -8.1084, -7.736, -7.808, -6.7788, -6.9993, -7.7523, -6.1373, -7.1259, -7.3482, -7.089, -7.7479, -7.4919, -6.2877, -6.9309, -7.3371, -5.0538, -3.7824, -4.039, -5.2052, -6.0758, -4.0239, -4.0414, -6.2224, -6.6412, -4.5234, -5.1374, -4.1461, -4.8024, -5.9173, -4.779, -4.9948, -5.3348, -5.5617, -4.9118, -5.5739, -5.8192, -4.9868, -5.6486, -5.2357, -5.3048, -5.387, -5.9794, -5.4577, -5.7258, -5.8346, -5.4621, -5.7698, -5.0414, -5.6842, -5.7092, -5.6456, -4.6809, -6.0577, -6.4769, -6.6843, -7.0143, -7.2417, -7.336, -7.3553, -7.4453, -7.4514, -7.4804, -7.5888, -7.5924, -7.5936, -7.6246, -7.6806, -7.704, -7.7803, -5.8006, -7.8163, -7.8862, -7.8769, -7.9379, -7.9513, -7.9716, -7.9907, -8.0262, -8.0299, -8.039, -7.0616, -4.9337, -5.6131, -6.27, -6.7847, -5.136, -7.0785, -7.1359, -5.4253, -6.3129, -7.3287, -7.3604, -7.0643, -5.0941, -4.8156, -5.526, -5.1452, -5.7674, -5.4679, -5.8578, -5.4357, -5.6358, -4.2549, -4.5565, -5.3501, -5.0362, -5.7262, -5.4257, -5.0559, -4.994, -5.7141, -5.7085, -4.9756, -5.6844, -4.9137, -5.8059, -5.7097, -5.2212, -4.8384, -4.1646, -4.1058, -4.7487, -5.5884, -4.7323, -4.8374, -5.5377, -4.8046, -5.4106, -5.4145, -5.4767, -6.1563, -7.2308, -7.5151, -7.5829, -7.645, -7.8137, -7.8351, -8.0016, -8.0586, -8.0653, -8.1433, -8.2278, -8.2799, -8.2969, -8.323, -8.3438, -8.3743, -8.3743, -8.393, -8.5206, -8.535, -8.5683, -8.5988, -8.6302, -8.6627, -8.6963, -8.7222, -8.7444, -7.9042, -7.9276, -7.2956, -6.6326, -7.9722, -5.5, -7.9315, -5.3949, -6.3871, -7.2823, -6.5427, -7.9676, -7.7125, -6.8127, -7.1045, -7.8384, -6.7312, -7.8703, -6.6378, -7.3411, -7.2219, -6.9506, -5.7056, -7.2084, -6.977, -5.8816, -6.604, -6.802, -3.7383, -5.7825, -6.3681, -5.4616, -5.0214, -5.9324, -6.7931, -5.1667, -5.2624, -5.7631, -5.1411, -4.9435, -4.1204, -4.3371, -4.3606, -5.0824, -6.4669, -5.8625, -4.6748, -5.1559, -5.2518, -4.9212, -5.4862, -5.1678, -5.2669, -5.4382, -5.613, -5.5762, -5.5968, -5.6468, -5.6589, -5.8399, -5.9018, -6.7244, -7.0147, -7.0183, -7.0282, -7.0935, -6.418, -7.3617, -7.3885, -7.475, -7.5528, -7.562, -7.5635, -7.6061, -7.6239, -7.6338, -7.7256, -7.7292, -7.7402, -7.7439, -7.8287, -7.8429, -7.847, -7.0085, -7.8761, -7.8974, -7.9922, -7.2033, -8.0113, -5.3742, -5.6646, -6.6294, -7.012, -7.2067, -7.1975, -7.3731, -7.5227, -6.7245, -6.2939, -7.5545, -7.151, -7.1258, -6.9097, -5.5646, -6.2721, -5.2455, -5.5248, -6.5596, -7.0014, -5.8405, -6.9684, -3.8087, -6.5184, -5.2564, -6.232, -5.4654, -5.9849, -6.4427, -5.0869, -5.5617, -4.9415, -5.192, -5.0683, -5.7341, -6.1454, -4.4363, -5.0665, -4.7476, -4.575, -4.9915, -5.0098, -5.1967, -4.6681, -5.3351, -5.0279, -4.7772, -5.4846, -5.2185, -5.3551, -5.3353, -5.5703, -5.5685, -5.372]}, \"token.table\": {\"Topic\": [2, 1, 2, 3, 4, 1, 2, 3, 4, 1, 2, 3, 4, 2, 2, 1, 2, 3, 4, 1, 2, 3, 4, 1, 2, 3, 4, 1, 2, 3, 4, 1, 2, 3, 4, 1, 2, 3, 4, 1, 2, 3, 4, 2, 4, 2, 1, 2, 3, 4, 1, 2, 3, 4, 1, 2, 3, 4, 1, 2, 3, 4, 1, 2, 3, 4, 1, 2, 3, 4, 1, 2, 3, 4, 1, 2, 3, 4, 1, 2, 4, 2, 2, 2, 2, 1, 2, 3, 4, 1, 2, 3, 4, 1, 2, 3, 4, 1, 2, 3, 4, 1, 2, 3, 4, 1, 2, 3, 1, 2, 3, 4, 1, 2, 4, 1, 2, 3, 4, 1, 2, 1, 2, 3, 4, 1, 2, 3, 4, 2, 2, 2, 1, 2, 3, 4, 1, 2, 3, 4, 1, 2, 4, 2, 2, 1, 2, 3, 4, 1, 2, 3, 4, 2, 2, 2, 2, 2, 2, 2, 1, 1, 1, 1, 1, 3, 4, 1, 3, 3, 3, 1, 2, 1, 2, 3, 4, 3, 1, 2, 3, 4, 1, 2, 3, 4, 3, 1, 2, 3, 4, 1, 2, 3, 4, 4, 4, 3, 1, 3, 4, 3, 4, 1, 3, 3, 1, 4, 1, 2, 3, 4, 3, 4, 2, 3, 4, 3, 4, 1, 2, 3, 4, 1, 2, 3, 4, 4, 4, 1, 2, 3, 4, 3, 1, 2, 3, 4, 3, 4, 3, 2, 3, 1, 2, 3, 4, 3, 3, 4, 1, 3, 4, 1, 2, 3, 4, 2, 1, 3, 4, 1, 2, 3, 4, 3, 4, 1, 3, 2, 1, 2, 3, 4, 1, 2, 3, 4, 1, 2, 3, 4, 1, 4, 4, 1, 2, 3, 4, 1, 1, 1, 1, 3, 4, 4, 1, 1, 2, 3, 4, 1, 2, 3, 4, 1, 3, 1, 2, 3, 4, 2, 1, 2, 3, 4, 1, 2, 3, 4, 1, 2, 3, 4, 1, 3, 4, 1, 2, 3, 4, 4, 1, 3, 4, 1, 2, 3, 4, 3, 4, 4, 1, 4, 1, 2, 3, 4, 1, 2, 3, 4, 1, 2, 3, 4, 1, 2, 3, 4, 1, 2, 3, 4, 1, 3, 1, 2, 3, 4, 1, 2, 3, 4, 1, 2, 3, 1, 2, 4, 1, 3, 4, 1, 2, 3, 4, 1, 1, 2, 3, 4, 1, 2, 3, 4, 3, 3, 1, 2, 3, 4, 1, 2, 3, 2, 2, 1, 1, 2, 3, 4, 1, 4, 1, 2, 3, 4, 2, 3, 4, 3, 2, 3, 4, 1, 4, 1, 2, 3, 4, 1, 1, 2, 3, 4, 1, 3, 4, 1, 2, 3, 4, 1, 2, 3, 4, 1, 3, 4, 3, 1, 2, 3, 4, 1, 2, 3, 4, 1, 2, 3, 4, 3, 1, 2, 3, 4, 1, 3, 1, 4, 4, 3, 1, 1, 2, 3, 4, 4, 1, 2, 3, 4, 1, 2, 3, 4, 1, 3, 4, 1, 2, 3, 4, 1, 2, 3, 4, 3, 1, 3, 4, 1, 2, 3, 4, 1, 3, 1, 2, 3, 4, 1, 2, 3, 4, 1, 2, 3, 4, 4, 1, 2, 3, 4, 3, 3, 1, 2, 3, 4, 3, 1, 2, 3, 4, 1, 3, 4, 1, 2, 3, 4, 3, 1, 3, 4, 3, 1, 1, 2, 3, 4, 1, 2, 3, 4, 1, 1, 1, 3, 4, 4, 1, 3, 4, 3, 1, 2, 3, 1, 2, 3, 4, 1, 3, 1, 2, 3, 4, 1, 3, 4, 1, 2, 3, 4, 1, 2, 3, 4, 4, 3, 1, 2, 3, 4, 4, 1, 2, 3, 4, 1, 3, 1, 2, 3, 4, 1, 4, 2, 3, 4, 1, 2, 3, 4, 1, 2, 3, 4, 4, 4, 4, 1, 2, 3, 4, 1, 1, 1, 2, 3, 1, 2, 3, 4, 1, 2, 3, 4, 1, 2, 3, 4, 1, 2, 3, 4, 1, 3, 4, 1, 1, 3, 4, 1, 2, 3, 4, 1, 2, 1, 2, 1, 1, 2, 3, 4, 4, 1, 1, 3, 4, 1, 2, 3, 4, 1, 3, 1, 3, 4, 1, 2, 3, 4, 2, 3, 4, 4, 1, 2, 3, 4, 3, 1, 3, 4, 3, 4, 1, 4, 2, 1, 2, 3, 4, 1, 2, 3, 4, 1, 3, 4, 3, 4, 2, 1, 1, 2, 3, 4, 1, 2, 3, 4, 1, 2, 3, 4, 1, 2, 3, 4, 1, 2, 3, 4, 1, 2, 3, 4, 1, 3, 4, 1, 2, 3, 4, 1, 3, 1, 2, 4, 4, 4], \"Freq\": [0.9998390381786917, 0.1046108596959, 0.7523009000097411, 0.08847058584114556, 0.05465807993525319, 0.03291484544858277, 0.9072202909811503, 0.023499487767073283, 0.03633861187822259, 0.0226045071470782, 0.9379413453606241, 0.023645230312229128, 0.015818992110294135, 0.9991319962596252, 0.9991482650512937, 0.028791219826463176, 0.9397235483865227, 0.01157115480367349, 0.01986229722205371, 0.04488716486616979, 0.9306086588824412, 0.012713705655735952, 0.011848827719971602, 0.07076624871940046, 0.8805211179556169, 0.01900109726137748, 0.029682795181286983, 0.041984445658478066, 0.939099063695139, 0.009073148659080495, 0.00986211810769619, 0.015930752193837248, 0.9631337110653237, 0.011036991715991819, 0.009995766082407685, 0.019444549029420607, 0.9500633850948377, 0.018084790356034552, 0.012373803927813114, 0.013531303829124942, 0.9641773728455197, 0.008061202281180816, 0.014107103992066428, 0.9986834268350046, 0.0007337865002461459, 0.9984549352577068, 0.010406084408913639, 0.9740695357766757, 0.009405499369595019, 0.006203627243775438, 0.015622848716121086, 0.9571852676803944, 0.013717623262935588, 0.013463593202510855, 0.01762746631538521, 0.9646349651738458, 0.007276018011031341, 0.010351448304353866, 0.09688197365689956, 0.86213915873882, 0.02842975295344916, 0.012558774362931424, 0.00812398787708861, 0.9790806079456789, 0.006443162799070276, 0.006303094042568748, 0.01740290617799062, 0.9557596059590711, 0.014402405112819823, 0.012402071069372626, 0.012101823693527405, 0.9623036357680758, 0.016970373455291305, 0.008624288149410334, 0.015329284510135887, 0.9557078926140672, 0.01697170785050759, 0.012044437829392483, 0.0019131834865653429, 0.9967685965005437, 0.0009565917432826714, 0.9996566036522884, 0.9987946394536832, 0.9985627860891682, 0.9994944954401727, 0.026192850554944497, 0.9436602323219729, 0.013634634535450559, 0.016505083911334886, 0.031020214572649283, 0.9262957261625708, 0.03355592693553614, 0.009128564506392704, 0.008677590429306508, 0.9201344994503936, 0.06492697124784691, 0.006198278878076077, 0.014509756809022627, 0.9551047419539145, 0.023034238934323423, 0.007436250364624097, 0.013085834724968439, 0.9538512500875643, 0.024403313406022226, 0.008664944615181804, 0.0023174057396720287, 0.9944981202821106, 0.003310579628102898, 0.013643966401787546, 0.9658222716665359, 0.0150083630419663, 0.005457586560715018, 0.001975315362642681, 0.9965466004532326, 0.0009876576813213406, 0.008628909207263528, 0.9736939594105322, 0.011374471227756469, 0.0062755703325552935, 0.0058572723442053614, 0.9935398213858344, 0.007766591890880493, 0.979745071640127, 0.007661637946409135, 0.004722927501211111, 0.004255753900274387, 0.9925460320884837, 0.0029529720940679426, 0.00026055636124128906, 0.999018288620053, 0.9978239523168962, 0.9990839482432625, 0.0030894730203062204, 0.9942954003685519, 0.0010298243401020734, 0.0015447365101531102, 0.009552703216471727, 0.9737594246467953, 0.009398627358141537, 0.00724156534151889, 0.0007461233435837848, 0.9983130337151042, 0.0007461233435837848, 0.9989783259601435, 0.9996313764894376, 0.020587072744296185, 0.9596172466575537, 0.010386270934059336, 0.009458925314946895, 0.006209136975708543, 0.9711946662694466, 0.02183903350076798, 0.0008564326863046266, 0.9996636430139815, 0.9997470802567079, 0.9995739964398797, 0.9989810627685587, 0.9984160526298148, 0.9986190081489105, 0.9992803141971851, 0.9997433170889845, 0.9983326012057185, 0.9989453098999025, 0.9983939656974656, 0.001959693405803976, 0.9759273160903801, 0.021556627463843736, 0.013360318319306027, 0.9853234760488195, 0.9970590216084874, 0.9975303631902632, 0.9945106289020064, 0.0052899501537340765, 0.07003078405304289, 0.005187465485410585, 0.015562396456231753, 0.9095356151086558, 0.998015896257443, 0.6069817125956132, 0.03950011650710726, 0.17345258414390363, 0.1801041581671212, 0.18149854419232664, 0.09510318825505733, 0.5907666631283632, 0.13249564467849997, 0.9997208895197687, 0.8076134219167814, 0.04945247043889364, 0.12718712296825824, 0.01571232338359497, 0.015290771672228188, 0.1766572131493597, 0.4139352870418085, 0.39408981742466126, 0.9988790925622918, 0.9982186092321502, 0.9983521078719556, 0.01947713827961938, 0.5356866622139613, 0.44470620420983314, 0.9981829214176001, 0.9975996988153193, 0.010544159364497123, 0.9890421483898301, 0.9999494644487283, 0.0034582808423774475, 0.995984882604705, 0.0263678850479162, 0.024610026044721785, 0.9123288226579005, 0.036915039067082676, 0.9987198128683283, 0.9994302258895397, 0.014810263806692583, 0.002115751972384655, 0.9827667911726721, 0.0011653053270386789, 0.9986666652721479, 0.11652257076614289, 0.01378850420732691, 0.7070978002658771, 0.16274319050337957, 0.24991028458424747, 0.33060931797165743, 0.41421039128724535, 0.00524599525478322, 0.9994352303949353, 0.999179209681725, 0.6911835570627002, 0.02541850563150126, 0.17382261929664178, 0.10955486925018228, 0.9985762095073013, 0.546812773833532, 0.34445319758447984, 0.0637138862584009, 0.04501735713531831, 0.001375824939537709, 0.997473081164839, 0.9986256369419845, 0.9999613848795607, 0.9959404820600071, 0.5394705988163095, 0.032370706975312566, 0.2034906656043504, 0.2247004799711264, 0.9982818264295411, 0.9955850641242928, 0.004227537427279375, 0.24027296271331228, 0.46130050070237666, 0.2983844958639661, 0.13648235765473476, 0.49665368436240176, 0.30925305557591176, 0.05760296539136301, 0.9983790045793542, 0.0640377495024954, 0.30499334932544414, 0.630826101878819, 0.5607290702349272, 0.1623989389507069, 0.215120177225172, 0.061775855374234724, 0.2905068572114234, 0.7094705647388797, 0.017379246338579825, 0.9819274181297601, 0.9984845544297778, 0.6366569969447358, 0.0241086529412117, 0.17697636851816856, 0.1622283378083212, 0.07051888255466963, 0.04963629774349184, 0.14039522403822613, 0.7395647728512507, 0.10297387005604304, 0.010391858446022691, 0.17193802156146637, 0.7148338991658034, 0.9993753390019432, 0.9992698836847779, 0.9991095379995165, 0.9736744123912346, 0.020476542046630658, 0.0019784098595778416, 0.003956819719155683, 0.9995730581206156, 0.9978385296621007, 0.997228787227399, 0.999506730905239, 0.001917378308112645, 0.9979954093726316, 0.9990419896871182, 0.9981751662662357, 0.13964341906872346, 0.0007017257239634345, 0.8540002060634998, 0.005613805791707476, 0.5315395478389324, 0.08866592400325342, 0.15650802242631418, 0.2232861297613359, 0.9986696831463908, 0.0008783374521955943, 0.533359594931986, 0.034222189360075525, 0.20129833414467832, 0.23113230817372868, 0.9990177075858264, 0.05478844483475563, 0.9343601055883368, 0.0073913584937275725, 0.003510895284520597, 0.9391104103208247, 0.025793294665490813, 0.022276027211105703, 0.012310436090347888, 0.15610699182958235, 0.6735961322090526, 0.11716395080560471, 0.05313458573575786, 0.0010877925707540655, 0.013053510849048785, 0.9855400691031833, 0.6013027128781643, 0.03816298491305276, 0.22767984876698824, 0.1328667616521751, 0.9982170066397239, 0.018786571407427007, 0.978040293271503, 0.0028464502132465163, 0.9931180191778586, 0.0064668150086000095, 0.0009561523010010826, 0.9982230022451303, 0.0005301069862543505, 0.9992516690894507, 0.9973597887382606, 0.9989399958772278, 0.000673140158946919, 0.2509526768430705, 0.07771118395337687, 0.2299780818110683, 0.44139457509824087, 0.5953444304966202, 0.04886169427483708, 0.1675395766780762, 0.18826001902342132, 0.09578189975110281, 0.2701776062440289, 0.3556739447044943, 0.2783984080190737, 0.03470956975037281, 0.011066819340698577, 0.9457100163869693, 0.008551633126903446, 0.5114711781350999, 0.02496317874357371, 0.2289915006209286, 0.23459299438777928, 0.9979201332089449, 0.0017522741584002543, 0.5729215159158384, 0.04077072590160712, 0.1949844496744651, 0.19130614641015484, 0.6340585429412186, 0.15634227241901782, 0.10651368885168865, 0.10305148481635651, 0.97636619279161, 0.01746794506877645, 0.005516193179613616, 0.9893117917194869, 0.0034133816850586093, 0.006826763370117219, 0.06533579783072996, 0.9212347494132923, 0.013067159566145991, 0.6245394845103358, 0.0835669756264351, 0.17164639438119275, 0.12027396492028977, 0.996846099423085, 0.7256275890304376, 0.056044844146826596, 0.16636130151349485, 0.0519610395877098, 0.797652336338551, 0.01241482235546383, 0.15349234912209825, 0.036398001905791684, 0.9975303631902632, 0.9967431637651044, 0.11254435730400052, 0.04815330710519425, 0.8118871546806007, 0.027436186606447886, 0.0006239734279092915, 0.9989814580827758, 0.00041598228527286107, 0.9992553227329275, 0.9994280290609352, 0.9990150354655165, 0.24518719486007604, 0.0327210249255713, 0.19094614275973548, 0.5310331295872366, 0.0011615120059738542, 0.9977388131315408, 0.14312952343902463, 0.02242770310298107, 0.08481749537127387, 0.7499008364796761, 0.00041373472151322023, 0.09722765955560675, 0.9023554276203333, 0.9996894427912459, 0.004400645360569801, 0.9901452061282053, 0.004400645360569801, 0.9960857916043382, 0.0030998520485612186, 0.04579240455172539, 0.004911488185358559, 0.4098203524077127, 0.5395414227151241, 0.9992132753945605, 0.4467144952558122, 0.07291988649221252, 0.20699838746176458, 0.2733747298875205, 0.11542760650581033, 0.3702722919538795, 0.5142091265725707, 0.6247954762479611, 0.05888992894492204, 0.1846707441332806, 0.1316914322917657, 0.10492847827526475, 0.8253760775469824, 0.06802622246131056, 0.0017072217992220797, 0.10906203249105864, 0.45692531828038324, 0.43395066459577364, 0.9973381616853593, 0.10053243208302805, 0.6704400456376747, 0.15401223254704344, 0.07501561248943504, 0.1373147297858711, 0.24310992034904916, 0.22673118697653194, 0.39285153795534755, 0.4931280414514374, 0.030894200588301435, 0.2166131545065257, 0.25935799310675195, 0.9991227187512001, 0.035490078546072355, 0.0060592817029879635, 0.9504416156972548, 0.008223310882626522, 0.0020687709523169056, 0.9971475990167485, 0.9984065913665454, 0.9979500037915653, 0.9976719490963968, 0.9965985091364093, 0.99914812358467, 0.7339564163544623, 0.047413808719436054, 0.18671230881929646, 0.03190505552253677, 0.9980039493866324, 0.5973221509035818, 0.11047184346222774, 0.2529537224290093, 0.03923090397883694, 0.6510183381268587, 0.04027196196273261, 0.14460066879236208, 0.16415103958858795, 0.0016458322873748904, 0.0016458322873748904, 0.9957285338618087, 0.6716221114574197, 0.03915038580745221, 0.17176542505663894, 0.11745115742235665, 0.2652566069114015, 0.035979614595091886, 0.08461412811673333, 0.614134800847258, 0.9974387007646407, 0.9982754600154005, 0.0013472003508979763, 0.999689905404256, 0.9249446461373454, 0.027659619848756426, 0.024006462510241428, 0.02331062301719095, 0.998701996484043, 0.9983124098241871, 0.18303318683015857, 0.6444570853583423, 0.08972415873711187, 0.08275926970272418, 0.11296287260159515, 0.0730125883888359, 0.031225509499627928, 0.7829337308362591, 0.025936676292161908, 0.009203336748831645, 0.0008366669771665132, 0.9646770246729897, 0.998090396615452, 0.9882099586812332, 0.004670179388852709, 0.0018680717555410835, 0.0056042152666232505, 0.9983711734744107, 0.9987919642047184, 0.06637689143598888, 0.054091194306448515, 0.7407251561018707, 0.13855536207203847, 0.9970524985078342, 0.04573440325400402, 0.006156554284192849, 0.9428323132363905, 0.006156554284192849, 0.0037942641080274684, 0.9751258757630593, 0.01897132054013734, 0.011390106146016201, 0.012756918883538144, 0.0036448339667251844, 0.972259460623943, 0.9970443418691, 0.9909066265355315, 0.006311507175385551, 0.0025246028701542203, 0.999310540003153, 0.9992472108090833, 0.24613121207693486, 0.6981078397291393, 0.055063860994897434, 0.0007077617094459824, 0.9507528837145233, 0.03704833448473544, 0.011114500345420632, 0.001389312543177579, 0.9996512769050626, 0.9991932125873654, 0.0026082703488209493, 0.00018630502491578208, 0.9971044933492658, 0.998979676401968, 0.10014430054820962, 0.008208549225263083, 0.8922693007860972, 0.9985574594081926, 0.9929228936967699, 0.00614495859946428, 0.0010241597665773799, 0.733032216932104, 0.09991367424750036, 0.11639998373019976, 0.05056539217176929, 0.9992439391129769, 0.996067154736075, 0.07439011227178174, 0.00838347912905957, 0.5880108589128997, 0.3292903257907828, 0.003329704624309724, 0.9706088979862846, 0.02497278468232293, 0.3125370009905986, 0.018384529470035212, 0.14675557536254852, 0.5222489011080933, 0.5318089506326218, 0.07270500098010113, 0.23294551215600395, 0.1625347335960112, 0.9988190224940429, 0.9960916571219607, 0.2191896531475824, 0.00023422113919849776, 0.42771535560459795, 0.3528610350595721, 0.9991183312780954, 0.024038999534643255, 0.0073966152414286935, 0.8931412904025148, 0.07581530622464411, 0.9989459503000959, 0.0007522183360693494, 0.9546978464355362, 0.012525190405130941, 0.021571161253281065, 0.011829346493734778, 0.997336257080091, 0.9970252242368847, 0.9968699533897273, 0.0007892873740219536, 0.001578574748043907, 0.14983307734977613, 0.005656349104770666, 0.11192350356248339, 0.7326777308477407, 0.11227053788123617, 0.001188048019907261, 0.010296416172529596, 0.876185414681605, 0.997907891739708, 0.9992858323980469, 0.9995625270108854, 0.010294713814320818, 0.9872630547933664, 0.00034315712714402726, 0.0020589427628641636, 0.9992106402524702, 0.9966578237003345, 0.017307115903593843, 0.011898642183720767, 0.9702801853452298, 0.6292223325315879, 0.07528138736005202, 0.13807878067273713, 0.15742897144615584, 0.9589739276046331, 0.005330325014477495, 0.009691500026322719, 0.026651625072387476, 0.6348129333106431, 0.06432659257469159, 0.2400717838435777, 0.0607799616999552, 0.012066412392476349, 0.0003601914147007865, 0.9602703115922968, 0.027374547517259776, 0.014263825028390055, 0.9303904052608968, 0.05511023306423431, 0.9993341664805268, 0.8630406586818994, 0.1332109105879801, 0.0035849961772969146, 0.549150566258877, 0.07116307323503654, 0.1787573914247261, 0.20092946834683637, 0.9890690507660939, 0.01077737450067066, 0.9749094592759637, 0.02472975048538529, 0.9991701051448217, 0.009943046075100687, 0.0007102175767929063, 0.004261305460757437, 0.9850717790117609, 0.9977022250135498, 0.9989541590441706, 0.8549175701185865, 0.14426068586683496, 0.0005323272541211622, 0.5989845129914927, 0.07909773711449725, 0.13649399613011445, 0.18541126233660638, 0.9752170743074595, 0.02474949832392039, 0.9062006520952864, 0.09080846451349855, 0.0030143888635186245, 0.49916230069254697, 0.0701813139120313, 0.18215324456505422, 0.24847978709394866, 0.9975070481196107, 0.0005557142329357162, 0.0016671426988071486, 0.9988682851895744, 0.2183173322724765, 0.04605647935023877, 0.4473972099805832, 0.2881836886758413, 0.9992817474839667, 0.04174617210859592, 0.11493081950885049, 0.8431695996254682, 0.0029879905264546835, 0.9967438397831749, 0.00261505413030456, 0.9976431507111897, 0.9988698143267336, 0.5496250054314624, 0.11425042038623576, 0.24306878103423477, 0.09307295167237624, 0.5798903936987689, 0.04119428088850227, 0.16141122290154844, 0.21750232861319913, 0.9919364948577766, 0.005951618969146659, 0.0019838729897155532, 0.0015973311722282794, 0.9967346514704463, 0.9997118108849931, 0.998433095043969, 0.07467554289203898, 0.002103536419494056, 0.8987359352288353, 0.02419066882418164, 0.0788749354183025, 0.0019006008534530722, 0.9056363066703889, 0.013304205974171505, 0.1168947583655579, 0.0013999372259348253, 0.8749607662092658, 0.006299717516706714, 0.2097630316311357, 0.003162256758258327, 0.7710636062219887, 0.015811283791291635, 0.34479817610532326, 0.0024100524890866026, 0.6458940670752095, 0.007069487301320701, 0.25808713123892907, 0.0045736959966392494, 0.7311379743199029, 0.006207158852581838, 0.1895303782555577, 0.7847534162899907, 0.025744173158834538, 0.0579815068412676, 0.0011029090975241118, 0.9332186549479021, 0.007562805240165339, 0.35035202203475524, 0.649464260225305, 0.9629226963082482, 0.035258533071892924, 0.001215811485237687, 0.9997487661760232, 0.9998873921578366], \"Term\": [\"0h24v24h0v0z\", \"10\", \"10\", \"10\", \"10\", \"11\", \"11\", \"11\", \"11\", \"12\", \"12\", \"12\", \"12\", \"12h\", \"12v\", \"13\", \"13\", \"13\", \"13\", \"14\", \"14\", \"14\", \"14\", \"15\", \"15\", \"15\", \"15\", \"16\", \"16\", \"16\", \"16\", \"17\", \"17\", \"17\", \"17\", \"18\", \"18\", \"18\", \"18\", \"19\", \"19\", \"19\", \"19\", \"1s\", \"1s\", \"1v\", \"21\", \"21\", \"21\", \"21\", \"22\", \"22\", \"22\", \"22\", \"24\", \"24\", \"24\", \"24\", \"25\", \"25\", \"25\", \"25\", \"26\", \"26\", \"26\", \"26\", \"27\", \"27\", \"27\", \"27\", \"28\", \"28\", \"28\", \"28\", \"29\", \"29\", \"29\", \"29\", \"2c\", \"2c\", \"2c\", \"2h\", \"2v\", \"2z\", \"2zm\", \"31\", \"31\", \"31\", \"31\", \"32\", \"32\", \"32\", \"32\", \"33\", \"33\", \"33\", \"33\", \"34\", \"34\", \"34\", \"34\", \"35\", \"35\", \"35\", \"35\", \"373\", \"373\", \"373\", \"39\", \"39\", \"39\", \"39\", \"3c\", \"3c\", \"3c\", \"41\", \"41\", \"41\", \"41\", \"448\", \"448\", \"45\", \"45\", \"45\", \"45\", \"48\", \"48\", \"48\", \"48\", \"4c\", \"4c0\", \"4h\", \"512\", \"512\", \"512\", \"512\", \"55\", \"55\", \"55\", \"55\", \"5c\", \"5c\", \"5c\", \"5c0\", \"627\", \"64\", \"64\", \"64\", \"64\", \"67\", \"67\", \"67\", \"67\", \"6c\", \"745\", \"837\", \"8c\", \"8h\", \"8v\", \"9c\", \"__webpack_require__\", \"_asynctogenerator2\", \"_dereq_\", \"_interoprequiredefault\", \"absolute_import\", \"absolute_import\", \"absolute_import\", \"acl\", \"acl\", \"add_layout\", \"add_root\", \"aes\", \"aes\", \"aliases\", \"aliases\", \"aliases\", \"aliases\", \"anaconda\", \"and\", \"and\", \"and\", \"and\", \"api\", \"api\", \"api\", \"api\", \"api_link\", \"array\", \"array\", \"array\", \"array\", \"assert\", \"assert\", \"assert\", \"assert\", \"assert_json_error\", \"assert_json_success\", \"assertcontains\", \"assertequal\", \"assertequal\", \"assertequal\", \"best_answer\", \"blueslip\", \"boilerplate\", \"boilerplate\", \"bokeh\", \"bot\", \"bot\", \"btn\", \"btn\", \"btn\", \"btn\", \"cache_versions\", \"canonical_name\", \"cart\", \"cart\", \"cart\", \"casper\", \"casper\", \"category\", \"category\", \"category\", \"category\", \"classname\", \"classname\", \"classname\", \"classname\", \"client_get\", \"client_post\", \"code\", \"code\", \"code\", \"code\", \"columndatasource\", \"const\", \"const\", \"const\", \"const\", \"cordelia\", \"cordelia\", \"create_test_user\", \"createsvgicon\", \"customjs\", \"data\", \"data\", \"data\", \"data\", \"data_source\", \"dddd\", \"dddd\", \"def\", \"def\", \"def\", \"default\", \"default\", \"default\", \"default\", \"dflt\", \"dict\", \"dict\", \"dict\", \"div\", \"div\", \"div\", \"div\", \"django\", \"django\", \"driver\", \"driver\", \"edittype\", \"else\", \"else\", \"else\", \"else\", \"email\", \"email\", \"email\", \"email\", \"equal\", \"equal\", \"equal\", \"equal\", \"errorboundary\", \"example_email\", \"example_user\", \"expect\", \"expect\", \"expect\", \"expect\", \"expect_equal\", \"expect_error\", \"expect_hybrid\", \"expect_identical\", \"expected_message\", \"expected_message\", \"expected_topic\", \"expirationtime\", \"factory\", \"factory\", \"factory\", \"factory\", \"false\", \"false\", \"false\", \"false\", \"fiber\", \"fiber\", \"for\", \"for\", \"for\", \"for\", \"formcontrol\", \"fragment\", \"fragment\", \"fragment\", \"fragment\", \"frame\", \"frame\", \"frame\", \"frame\", \"from\", \"from\", \"from\", \"from\", \"full_name\", \"full_name\", \"full_name\", \"function\", \"function\", \"function\", \"function\", \"get_realm\", \"gettext\", \"gettext\", \"gettext\", \"ggplot\", \"ggplot\", \"graphene\", \"graphene\", \"hamlet\", \"hamlet\", \"iago\", \"iana\", \"iana\", \"id\", \"id\", \"id\", \"id\", \"if\", \"if\", \"if\", \"if\", \"import\", \"import\", \"import\", \"import\", \"imports\", \"imports\", \"imports\", \"imports\", \"in\", \"in\", \"in\", \"in\", \"inst\", \"inst\", \"is\", \"is\", \"is\", \"is\", \"it\", \"it\", \"it\", \"it\", \"jest\", \"jest\", \"jest\", \"jp\", \"jp\", \"jp\", \"jshint\", \"jshint\", \"jshint\", \"key\", \"key\", \"key\", \"key\", \"knitr\", \"length\", \"length\", \"length\", \"length\", \"license\", \"license\", \"license\", \"license\", \"line_color\", \"linearaxis\", \"lt\", \"lt\", \"lt\", \"lt\", \"m0\", \"m0\", \"m0\", \"m19\", \"markdowndocs\", \"memberof\", \"message\", \"message\", \"message\", \"message\", \"message_id\", \"message_id\", \"messages\", \"messages\", \"messages\", \"messages\", \"migrations\", \"migrations\", \"migrations\", \"misago\", \"mmmm\", \"mmmm\", \"mmmm\", \"mobx\", \"mobx\", \"models\", \"models\", \"models\", \"models\", \"mtcars\", \"name\", \"name\", \"name\", \"name\", \"ndef\", \"ndef\", \"ndef\", \"new\", \"new\", \"new\", \"new\", \"nexport\", \"nexport\", \"nexport\", \"nexport\", \"nfrom\", \"nfrom\", \"nfrom\", \"ngmodule\", \"nimport\", \"nimport\", \"nimport\", \"nimport\", \"none\", \"none\", \"none\", \"none\", \"not\", \"not\", \"not\", \"not\", \"noutput_file\", \"np\", \"np\", \"np\", \"np\", \"nplot\", \"nplot\", \"nrow\", \"nrun_test\", \"nset_global\", \"nshow\", \"ntest_that\", \"null\", \"null\", \"null\", \"null\", \"nzrequire\", \"object\", \"object\", \"object\", \"object\", \"of\", \"of\", \"of\", \"of\", \"operand\", \"operand\", \"operand\", \"options\", \"options\", \"options\", \"options\", \"order\", \"order\", \"order\", \"order\", \"other_thread\", \"packrat\", \"packrat\", \"page_params\", \"param\", \"param\", \"param\", \"param\", \"paste0\", \"patch_category_acl\", \"path\", \"path\", \"path\", \"path\", \"payload\", \"payload\", \"payload\", \"payload\", \"payment\", \"payment\", \"payment\", \"payment\", \"pgettext_lazy\", \"pkg\", \"pkg\", \"pkg\", \"pkg\", \"plot_height\", \"plot_width\", \"post\", \"post\", \"post\", \"post\", \"post_thread\", \"posts\", \"posts\", \"posts\", \"posts\", \"print_function\", \"print_function\", \"print_function\", \"product\", \"product\", \"product\", \"product\", \"queryresult\", \"r2\", \"r2\", \"r2\", \"range1d\", \"rdname\", \"react\", \"react\", \"react\", \"react\", \"reactdom\", \"reactdom\", \"reactdom\", \"reactdom\", \"reactnoop\", \"reacttestrenderer\", \"realm\", \"realm\", \"realm\", \"realm_id\", \"recipient\", \"recipient\", \"recipient\", \"redash\", \"reddit\", \"reddit\", \"reddit\", \"render\", \"render\", \"render\", \"render\", \"renderintodocument\", \"reply_thread\", \"response\", \"response\", \"response\", \"response\", \"response_json\", \"response_json\", \"response_json\", \"result\", \"result\", \"result\", \"result\", \"return\", \"return\", \"return\", \"return\", \"saleor\", \"sampledata\", \"self\", \"self\", \"self\", \"self\", \"send_and_test_stream_message\", \"services\", \"services\", \"services\", \"services\", \"shiny\", \"shiny\", \"sr\", \"sr\", \"sr\", \"sr\", \"sr_id\", \"staff_api_client\", \"storybook\", \"storybook\", \"storybook\", \"str\", \"str\", \"str\", \"str\", \"stream\", \"stream\", \"stream\", \"stream\", \"stream_data\", \"stream_id\", \"stream_name\", \"strictequal\", \"strictequal\", \"strictequal\", \"strictequal\", \"subreddit\", \"subreddits\", \"testutils\", \"testutils\", \"testutils\", \"the\", \"the\", \"the\", \"the\", \"thing\", \"thing\", \"thing\", \"thing\", \"this\", \"this\", \"this\", \"this\", \"thread\", \"thread\", \"thread\", \"thread\", \"threads\", \"threads\", \"threads\", \"tibble\", \"tif\", \"tif\", \"tif\", \"to\", \"to\", \"to\", \"to\", \"tobe\", \"tobe\", \"toequal\", \"toequal\", \"tohavebeencalledtimes\", \"topic\", \"topic\", \"topic\", \"topic\", \"topic_name\", \"towarndev\", \"treturn\", \"treturn\", \"treturn\", \"true\", \"true\", \"true\", \"true\", \"tthis\", \"tthis\", \"tvar\", \"tvar\", \"tvar\", \"type\", \"type\", \"type\", \"type\", \"typography\", \"typography\", \"typography\", \"ujson\", \"user\", \"user\", \"user\", \"user\", \"user_acl\", \"user_id\", \"user_id\", \"user_id\", \"user_profile\", \"user_profile\", \"userprofile\", \"userprofile\", \"valtype\", \"value\", \"value\", \"value\", \"value\", \"var\", \"var\", \"var\", \"var\", \"vnd\", \"vnd\", \"vnd\", \"voucher\", \"voucher\", \"withstyles\", \"workinprogress\", \"xa4\", \"xa4\", \"xa4\", \"xa4\", \"xae\", \"xae\", \"xae\", \"xae\", \"xb4\", \"xb4\", \"xb4\", \"xb4\", \"xb5\", \"xb5\", \"xb5\", \"xb5\", \"xd0\", \"xd0\", \"xd0\", \"xd0\", \"xd1\", \"xd1\", \"xd1\", \"xd1\", \"xd8\", \"xd8\", \"xd8\", \"xe0\", \"xe0\", \"xe0\", \"xe0\", \"xe1\", \"xe1\", \"xf0\", \"xf0\", \"xf0\", \"zerver\", \"zulip\"]}, \"R\": 30, \"lambda.step\": 0.01, \"plot.opts\": {\"xlab\": \"PC1\", \"ylab\": \"PC2\"}, \"topic.order\": [3, 1, 2, 4]};\n",
       "\n",
       "function LDAvis_load_lib(url, callback){\n",
       "  var s = document.createElement('script');\n",
       "  s.src = url;\n",
       "  s.async = true;\n",
       "  s.onreadystatechange = s.onload = callback;\n",
       "  s.onerror = function(){console.warn(\"failed to load library \" + url);};\n",
       "  document.getElementsByTagName(\"head\")[0].appendChild(s);\n",
       "}\n",
       "\n",
       "if(typeof(LDAvis) !== \"undefined\"){\n",
       "   // already loaded: just create the visualization\n",
       "   !function(LDAvis){\n",
       "       new LDAvis(\"#\" + \"ldavis_el56411401517872928563473943818\", ldavis_el56411401517872928563473943818_data);\n",
       "   }(LDAvis);\n",
       "}else if(typeof define === \"function\" && define.amd){\n",
       "   // require.js is available: use it to load d3/LDAvis\n",
       "   require.config({paths: {d3: \"https://cdnjs.cloudflare.com/ajax/libs/d3/3.5.5/d3.min\"}});\n",
       "   require([\"d3\"], function(d3){\n",
       "      window.d3 = d3;\n",
       "      LDAvis_load_lib(\"https://cdn.rawgit.com/bmabey/pyLDAvis/files/ldavis.v1.0.0.js\", function(){\n",
       "        new LDAvis(\"#\" + \"ldavis_el56411401517872928563473943818\", ldavis_el56411401517872928563473943818_data);\n",
       "      });\n",
       "    });\n",
       "}else{\n",
       "    // require.js not available: dynamically load d3 & LDAvis\n",
       "    LDAvis_load_lib(\"https://cdnjs.cloudflare.com/ajax/libs/d3/3.5.5/d3.min.js\", function(){\n",
       "         LDAvis_load_lib(\"https://cdn.rawgit.com/bmabey/pyLDAvis/files/ldavis.v1.0.0.js\", function(){\n",
       "                 new LDAvis(\"#\" + \"ldavis_el56411401517872928563473943818\", ldavis_el56411401517872928563473943818_data);\n",
       "            })\n",
       "         });\n",
       "}\n",
       "</script>"
      ],
      "text/plain": [
       "PreparedData(topic_coordinates=              x         y  topics  cluster       Freq\n",
       "topic                                                \n",
       "2      0.086398 -0.116452       1        1  37.813179\n",
       "0     -0.294979  0.013923       2        1  24.391070\n",
       "1      0.081823 -0.026082       3        1  20.049074\n",
       "3      0.126758  0.128611       4        1  17.746676, topic_info=       Category          Freq           Term         Total  loglift  logprob\n",
       "term                                                                        \n",
       "292282  Default  72580.000000           self  72580.000000  30.0000  30.0000\n",
       "9020    Default  24021.000000             12  24021.000000  29.0000  29.0000\n",
       "272177  Default  35322.000000          react  35322.000000  28.0000  28.0000\n",
       "113531  Default  14716.000000  createsvgicon  14716.000000  27.0000  27.0000\n",
       "14064   Default  17744.000000             16  17744.000000  26.0000  26.0000\n",
       "152146  Default  38825.000000           from  38825.000000  25.0000  25.0000\n",
       "21337   Default  13331.000000             24  13331.000000  24.0000  24.0000\n",
       "33748   Default  11513.000000             48  11513.000000  23.0000  23.0000\n",
       "337054  Default  88252.000000           this  88252.000000  22.0000  22.0000\n",
       "230415  Default  15229.000000        nexport  15229.000000  21.0000  21.0000\n",
       "11483   Default  11562.000000             14  11562.000000  20.0000  20.0000\n",
       "8131    Default  12851.000000             11  12851.000000  19.0000  19.0000\n",
       "25875   Default  11830.000000             32  11830.000000  18.0000  18.0000\n",
       "19830   Default   9994.000000             21   9994.000000  17.0000  17.0000\n",
       "151322  Default  10823.000000       fragment  10823.000000  16.0000  16.0000\n",
       "10608   Default  10975.000000             13  10975.000000  15.0000  15.0000\n",
       "32379   Default   9527.000000             45   9527.000000  14.0000  14.0000\n",
       "153179  Default  73186.000000       function  73186.000000  13.0000  13.0000\n",
       "14863   Default   9604.000000             17   9604.000000  12.0000  12.0000\n",
       "231304  Default  14798.000000          nfrom  14798.000000  11.0000  11.0000\n",
       "6769    Default  18277.000000             10  18277.000000  10.0000  10.0000\n",
       "76632   Default  18442.000000         assert  18442.000000   9.0000   9.0000\n",
       "119984  Default  18653.000000            def  18653.000000   8.0000   8.0000\n",
       "178063  Default  72633.000000             if  72633.000000   7.0000   7.0000\n",
       "232874  Default  20848.000000        nimport  20848.000000   6.0000   6.0000\n",
       "20337   Default   7873.000000             22   7873.000000   5.0000   5.0000\n",
       "273353  Default   5367.000000          realm   5367.000000   4.0000   4.0000\n",
       "13353   Default   9736.000000             15   9736.000000   3.0000   3.0000\n",
       "22480   Default   7139.000000             26   7139.000000   2.0000   2.0000\n",
       "120001  Default  26179.000000        default  26179.000000   1.0000   1.0000\n",
       "...         ...           ...            ...           ...      ...      ...\n",
       "214665   Topic4   6021.360834        message  11338.275645   1.0961  -5.2564\n",
       "136216   Topic4   2269.860016          equal   3175.562886   1.3932  -6.2320\n",
       "281958   Topic4   4886.122578         result   9355.692256   1.0794  -5.4654\n",
       "124101   Topic4   2906.351220           dict   4606.657827   1.2684  -5.9849\n",
       "215038   Topic4   1838.636551       messages   2452.324241   1.4410  -6.4427\n",
       "177551   Topic4   7133.916724             id  16162.409786   0.9111  -5.0869\n",
       "227376   Topic4   4437.436003           ndef   8628.785003   1.0639  -5.5617\n",
       "236539   Topic4   8250.619553           none  21002.845103   0.7946  -4.9415\n",
       "231304   Topic4   6422.092931          nfrom  14798.917305   0.8942  -5.1920\n",
       "76632    Topic4   7267.963807         assert  18442.496301   0.7978  -5.0683\n",
       "218648   Topic4   3734.759476         models   6922.545411   1.1119  -5.7341\n",
       "248634   Topic4   2475.243189          order   4030.059844   1.2415  -6.1454\n",
       "178063   Topic4  13673.749760             if  72633.584502   0.0590  -4.4363\n",
       "179408   Topic4   7280.681883         import  26153.166794   0.4502  -5.0665\n",
       "367087   Topic4  10015.653071            var  46050.081688   0.2034  -4.7476\n",
       "282347   Topic4  11902.478674         return  73227.424912  -0.0879  -4.5750\n",
       "149732   Topic4   7847.994983            for  33954.578060   0.2642  -4.9915\n",
       "179757   Topic4   7705.765614             in  32848.380746   0.2790  -5.0098\n",
       "224169   Topic4   6391.875195           name  23381.824657   0.4320  -5.1967\n",
       "336217   Topic4  10844.892712            the  68888.209714  -0.1198  -4.6681\n",
       "119984   Topic4   5565.794171            def  18653.784219   0.5196  -5.3351\n",
       "342201   Topic4   7567.435202             to  37659.981198   0.1242  -5.0279\n",
       "153179   Topic4   9723.788275       function  73186.099210  -0.2895  -4.7772\n",
       "364377   Topic4   4793.222518           user  16631.753247   0.4849  -5.4846\n",
       "349985   Topic4   6254.462295           true  33730.421341   0.0439  -5.2185\n",
       "117856   Topic4   5455.543589           data  24281.212041   0.2359  -5.3551\n",
       "185008   Topic4   5564.968246             is  29089.499237   0.0751  -5.3353\n",
       "237424   Topic4   4399.255674            not  16961.112119   0.3795  -5.5703\n",
       "142799   Topic4   4407.220266          false  19737.007421   0.2297  -5.5685\n",
       "337054   Topic4   5364.413799           this  88252.770321  -1.0714  -5.3720\n",
       "\n",
       "[369 rows x 6 columns], token_table=        Topic      Freq          Term\n",
       "term                                 \n",
       "3148        2  0.999839  0h24v24h0v0z\n",
       "6769        1  0.104611            10\n",
       "6769        2  0.752301            10\n",
       "6769        3  0.088471            10\n",
       "6769        4  0.054658            10\n",
       "8131        1  0.032915            11\n",
       "8131        2  0.907220            11\n",
       "8131        3  0.023499            11\n",
       "8131        4  0.036339            11\n",
       "9020        1  0.022605            12\n",
       "9020        2  0.937941            12\n",
       "9020        3  0.023645            12\n",
       "9020        4  0.015819            12\n",
       "10076       2  0.999132           12h\n",
       "10372       2  0.999148           12v\n",
       "10608       1  0.028791            13\n",
       "10608       2  0.939724            13\n",
       "10608       3  0.011571            13\n",
       "10608       4  0.019862            13\n",
       "11483       1  0.044887            14\n",
       "11483       2  0.930609            14\n",
       "11483       3  0.012714            14\n",
       "11483       4  0.011849            14\n",
       "13353       1  0.070766            15\n",
       "13353       2  0.880521            15\n",
       "13353       3  0.019001            15\n",
       "13353       4  0.029683            15\n",
       "14064       1  0.041984            16\n",
       "14064       2  0.939099            16\n",
       "14064       3  0.009073            16\n",
       "...       ...       ...           ...\n",
       "380826      1  0.116895           xb4\n",
       "380826      2  0.001400           xb4\n",
       "380826      3  0.874961           xb4\n",
       "380826      4  0.006300           xb4\n",
       "380838      1  0.209763           xb5\n",
       "380838      2  0.003162           xb5\n",
       "380838      3  0.771064           xb5\n",
       "380838      4  0.015811           xb5\n",
       "381152      1  0.344798           xd0\n",
       "381152      2  0.002410           xd0\n",
       "381152      3  0.645894           xd0\n",
       "381152      4  0.007069           xd0\n",
       "381153      1  0.258087           xd1\n",
       "381153      2  0.004574           xd1\n",
       "381153      3  0.731138           xd1\n",
       "381153      4  0.006207           xd1\n",
       "381161      1  0.189530           xd8\n",
       "381161      3  0.784753           xd8\n",
       "381161      4  0.025744           xd8\n",
       "381200      1  0.057982           xe0\n",
       "381200      2  0.001103           xe0\n",
       "381200      3  0.933219           xe0\n",
       "381200      4  0.007563           xe0\n",
       "381201      1  0.350352           xe1\n",
       "381201      3  0.649464           xe1\n",
       "381347      1  0.962923           xf0\n",
       "381347      2  0.035259           xf0\n",
       "381347      4  0.001216           xf0\n",
       "383815      4  0.999749        zerver\n",
       "384483      4  0.999887         zulip\n",
       "\n",
       "[758 rows x 3 columns], R=30, lambda_step=0.01, plot_opts={'xlab': 'PC1', 'ylab': 'PC2'}, topic_order=[3, 1, 2, 4])"
      ]
     },
     "execution_count": 28,
     "metadata": {},
     "output_type": "execute_result"
    }
   ],
   "source": [
    "pyLDAvis.sklearn.prepare(model, tf_train, tf_vectorizer)"
   ]
  },
  {
   "cell_type": "markdown",
   "metadata": {},
   "source": [
    "### Alternative Splitting Function"
   ]
  },
  {
   "cell_type": "code",
   "execution_count": 19,
   "metadata": {},
   "outputs": [],
   "source": [
    "def trim(text):\n",
    "    if type(text)==str:\n",
    "        return text.lstrip().rstrip()\n",
    "    elif type(text)==list:\n",
    "        tram=[]\n",
    "        for i in text:\n",
    "            tram.append(i.lstrip().rstrip())\n",
    "        return tram\n",
    "    else:\n",
    "        return \"Not Correct Format\"\n",
    "def splat(text, splt):\n",
    "    if type(text)==str:\n",
    "        splot=str.split(text[2:-1], splt)\n",
    "        return trim(splot)\n",
    "    elif type(text)==list:\n",
    "        splot=[]\n",
    "        for i in text:\n",
    "            for j in str.split(i,splt):\n",
    "                splot.append(j)\n",
    "        return trim(splot)\n",
    "    else:\n",
    "        return \"wutface\"\n",
    "def scrub(string, inclComments=False):\n",
    "    x=string\n",
    "    x=splat(x,\"\\\\n\")\n",
    "    if inclComments==False:\n",
    "        x=[i for i in x if i[0:2]!=\"//\"]\n",
    "        x=[i for i in x if i[0:1]!=\"#\"]\n",
    "    x=splat(x,\"(\")\n",
    "    x=splat(x,\"[\")\n",
    "    x=splat(x,\"{\")\n",
    "    x=splat(x,\" \")\n",
    "    x=[i for i in x if i!=\"\"]\n",
    "    return x"
   ]
  },
  {
   "cell_type": "code",
   "execution_count": 20,
   "metadata": {},
   "outputs": [],
   "source": [
    "combined_split_documents=combined_documents.apply(scrub)"
   ]
  },
  {
   "cell_type": "code",
   "execution_count": 21,
   "metadata": {},
   "outputs": [
    {
     "data": {
      "text/plain": [
       "repo\n",
       "19438        [NULL, NULL, \", b'#\\', Calculated, aesthetics,...\n",
       "26554        [import, os, from, r2.lib.translation, import,...\n",
       "544208       [import, logging, import, os, import, platform...\n",
       "643909       [r_env_vars, <-, function, ), vars, <-, c, \"R_...\n",
       "2594513      [process_group, =, function, x), UseMethod, \\'...\n",
       "3834332      [\\'\\'\\', \\'\\'\\', from, __future__, import, pri...\n",
       "4729944      [shinyApp, <-, function, ui=NULL,, server=NULL...\n",
       "4751958      [from, .celery, import, app, as, celery_app, _...\n",
       "6427813      [loc, <-, function, data), .Call, `_dplyr_loc`...\n",
       "8162715      [const, ROOT, =, \"../saleor/static/dashboard-n...\n",
       "10270250     ['use, strict';, const, es5Paths,, esNextPaths...\n",
       "13926404     [from, __future__, import, print_function, imp...\n",
       "14098069     [var, gulp, =, require, 'gulp');, var, markdow...\n",
       "14579179     [add_data, <-, function, p,, data, =, NULL), i...\n",
       "18840003     [/**, *, React, Starter, Kit, https://www.reac...\n",
       "22003158     [library, rvest), library, purrr), Link, <-, \"...\n",
       "23083156     [const, path, =, require, 'path');, module.exp...\n",
       "25315643     [/*, eslint, global-require:, 0, */, /*, eslin...\n",
       "28457823     [module.exports, =, plugins:, require.resolve,...\n",
       "32215970     [module.exports, =, parser:, \"@typescript-esli...\n",
       "33015554     [library, readr), library, ROCR), d_train, <-,...\n",
       "33702544     [from, .dash, import, Dash, #, noqa:, F401, fr...\n",
       "39799721     [set.seed, 1014), options, digits, =, 3), knit...\n",
       "43160685     [', b'', b'import, time, from, collections, im...\n",
       "54173593     [module.exports, =, presets:, '@babel/preset-e...\n",
       "56460797     [\"\"\"Interactive, Dashboard, Toolkit.\"\"\", __ver...\n",
       "62367558     ['use, strict';, const, fetch, =, require, 'el...\n",
       "63726409     [const, path, =, require, \\'path\\');, module.e...\n",
       "147350463    [/*, This, repository, was, created, with, the...\n",
       "dtype: object"
      ]
     },
     "execution_count": 21,
     "metadata": {},
     "output_type": "execute_result"
    }
   ],
   "source": [
    "combined_split_documents"
   ]
  },
  {
   "cell_type": "markdown",
   "metadata": {},
   "source": [
    "## Identifying Program Subjects and Themes\n",
    "\n",
    "Hypothesis: Using tf-idf rather than bag-of-words as an input to LDA will prioritise rare words. In the case of source code, this means programming language keywords (an identifying feature of programming languages) are deprioritised, and so a more human idea of topics may emerge. \n",
    "\n",
    "We can use repo-list.json and the repo-ids to map the github topics/tags to each repo. Might be a small/easy task to compare against the programming langauge identification."
   ]
  },
  {
   "cell_type": "code",
   "execution_count": 16,
   "metadata": {},
   "outputs": [],
   "source": [
    "documents = minimal_dataset['documents']"
   ]
  },
  {
   "cell_type": "code",
   "execution_count": 18,
   "metadata": {},
   "outputs": [],
   "source": [
    "tf_vectorizer = TfidfVectorizer(stop_words=None)\n",
    "tf = tf_vectorizer.fit_transform(documents)\n",
    "tf_feature_names = tf_vectorizer.get_feature_names()\n",
    "\n",
    "with open('../data/tfidf_lda_tf.pickle', 'wb') as f:\n",
    "    pickle.dump(tf, f)\n",
    "    \n",
    "with open('../data/tfidf_lda_tf_vectorizer.pickle', 'wb') as f:\n",
    "    pickle.dump(tf_vectorizer, f)"
   ]
  },
  {
   "cell_type": "markdown",
   "metadata": {},
   "source": [
    "We have four programming languages, try to use LDA to determine these four programming languages."
   ]
  },
  {
   "cell_type": "code",
   "execution_count": 19,
   "metadata": {
    "scrolled": true
   },
   "outputs": [
    {
     "name": "stderr",
     "output_type": "stream",
     "text": [
      "/home/sharding/miniconda3/envs/myenv/lib/python3.6/site-packages/sklearn/decomposition/online_lda.py:314: DeprecationWarning: n_topics has been renamed to n_components in version 0.19 and will be removed in 0.21\n",
      "  DeprecationWarning)\n"
     ]
    }
   ],
   "source": [
    "number_of_themes = 3\n",
    "\n",
    "lda = LatentDirichletAllocation(n_topics=number_of_themes,  n_jobs=1)\n",
    "model = lda.fit(tf)\n",
    "\n",
    "with open('../data/tfidf_lda_model.pickle', 'wb') as f:\n",
    "    pickle.dump(model, f)"
   ]
  },
  {
   "cell_type": "code",
   "execution_count": 20,
   "metadata": {},
   "outputs": [],
   "source": [
    "with open('../data/tfidf_lda_model.pickle', 'rb') as f:\n",
    "    model = pickle.load(f)\n",
    "    \n",
    "with open('../data/tfidf_lda_tf.pickle', 'rb') as f:\n",
    "    tf = pickle.load(f)\n",
    "    \n",
    "with open('../data/tfidf_lda_tf_vectorizer.pickle', 'rb') as f:\n",
    "    tf_vectorizer = pickle.load(f)"
   ]
  },
  {
   "cell_type": "code",
   "execution_count": null,
   "metadata": {
    "scrolled": false
   },
   "outputs": [],
   "source": [
    "pyLDAvis.sklearn.prepare(model, tf, tf_vectorizer)"
   ]
  },
  {
   "cell_type": "markdown",
   "metadata": {},
   "source": [
    "This still prioritises programming language keywords. One approach to solving this problem is to consider all keywords as \"stopwords\". First, gather a list of R, Python and Javascript keywords:"
   ]
  },
  {
   "cell_type": "code",
   "execution_count": 21,
   "metadata": {},
   "outputs": [
    {
     "data": {
      "text/plain": [
       "['False',\n",
       " 'None',\n",
       " 'True',\n",
       " 'and',\n",
       " 'as',\n",
       " 'assert',\n",
       " 'break',\n",
       " 'class',\n",
       " 'continue',\n",
       " 'def',\n",
       " 'del',\n",
       " 'elif',\n",
       " 'else',\n",
       " 'except',\n",
       " 'finally',\n",
       " 'for',\n",
       " 'from',\n",
       " 'global',\n",
       " 'if',\n",
       " 'import',\n",
       " 'in',\n",
       " 'is',\n",
       " 'lambda',\n",
       " 'nonlocal',\n",
       " 'not',\n",
       " 'or',\n",
       " 'pass',\n",
       " 'raise',\n",
       " 'return',\n",
       " 'try',\n",
       " 'while',\n",
       " 'with',\n",
       " 'yield']"
      ]
     },
     "execution_count": 21,
     "metadata": {},
     "output_type": "execute_result"
    }
   ],
   "source": [
    "import keyword\n",
    "\n",
    "python_keywords = keyword.kwlist\n",
    "python_keywords"
   ]
  },
  {
   "cell_type": "markdown",
   "metadata": {},
   "source": [
    "R reserved words (sourced from the manual: https://stat.ethz.ch/R-manual/R-devel/library/base/html/Reserved.html)"
   ]
  },
  {
   "cell_type": "code",
   "execution_count": 22,
   "metadata": {},
   "outputs": [],
   "source": [
    "r_keywords = [\n",
    "    \"if\", \n",
    "    \"else\", \n",
    "    \"repeat\",\n",
    "    \"while\",\n",
    "    \"function\", \n",
    "    \"for\",\n",
    "    \"in\",\n",
    "    \"next\",\n",
    "    \"break\",\n",
    "    \"TRUE\",\n",
    "    \"FALSE\",\n",
    "    \"NULL\", \n",
    "    \"Inf\", \n",
    "    \"NaN\",\n",
    "    \"NA\",\n",
    "    \"NA_integer_\",\n",
    "    \"NA_real_\",\n",
    "    \"NA_complex_\",\n",
    "    \"NA_character_\", \n",
    "]"
   ]
  },
  {
   "cell_type": "markdown",
   "metadata": {},
   "source": [
    "Javascript keywords and reserved words (source: https://developer.mozilla.org/en-US/docs/Web/JavaScript/Reference/Lexical_grammar#Keywords)"
   ]
  },
  {
   "cell_type": "code",
   "execution_count": 23,
   "metadata": {},
   "outputs": [],
   "source": [
    "javascript_keywords = [  # jaccard(\"ideal javascript topic\", topic_i)\n",
    "    \"break\",\n",
    "    \"case\",\n",
    "    \"catch\",\n",
    "    \"class\",\n",
    "    \"const\",\n",
    "    \"continue\",\n",
    "    \"debugger\",\n",
    "    \"default\",\n",
    "    \"delete\",\n",
    "    \"do\",\n",
    "    \"else\",\n",
    "    \"export\",\n",
    "    \"extends\",\n",
    "    \"finally\",\n",
    "    \"for\",\n",
    "    \"function\",\n",
    "    \"if\",\n",
    "    \"import\",\n",
    "    \"in\",\n",
    "    \"instanceof\",\n",
    "    \"new\",\n",
    "    \"return\",\n",
    "    \"super\",\n",
    "    \"switch\",\n",
    "    \"this\",\n",
    "    \"throw\",\n",
    "    \"try\",\n",
    "    \"typeof\",\n",
    "    \"var\",\n",
    "    \"void\",\n",
    "    \"while\",\n",
    "    \"with\",\n",
    "    \"yield\",\n",
    "]"
   ]
  },
  {
   "cell_type": "code",
   "execution_count": 24,
   "metadata": {},
   "outputs": [],
   "source": [
    "documents = minimal_dataset['documents']"
   ]
  },
  {
   "cell_type": "code",
   "execution_count": 28,
   "metadata": {},
   "outputs": [],
   "source": [
    "tf_vectorizer = TfidfVectorizer(stop_words=javascript_keywords+python_keywords+r_keywords)\n",
    "tf = tf_vectorizer.fit_transform(documents)\n",
    "tf_feature_names = tf_vectorizer.get_feature_names()\n",
    "    \n",
    "with open('../data/tfidf_lda_tf_ignore_keywords.pickle', 'wb') as f:\n",
    "    pickle.dump(tf, f)\n",
    "    \n",
    "with open('../data/tfidf_lda_tf_vectorizer_ignore_keywords.pickle', 'wb') as f:\n",
    "    pickle.dump(tf_vectorizer, f)"
   ]
  },
  {
   "cell_type": "markdown",
   "metadata": {},
   "source": [
    "We have four programming languages, try to use LDA to determine these four programming languages."
   ]
  },
  {
   "cell_type": "code",
   "execution_count": 29,
   "metadata": {
    "scrolled": true
   },
   "outputs": [
    {
     "name": "stderr",
     "output_type": "stream",
     "text": [
      "/home/sharding/miniconda3/envs/myenv/lib/python3.6/site-packages/sklearn/decomposition/online_lda.py:314: DeprecationWarning: n_topics has been renamed to n_components in version 0.19 and will be removed in 0.21\n",
      "  DeprecationWarning)\n"
     ]
    }
   ],
   "source": [
    "number_of_themes = 3\n",
    "\n",
    "lda = LatentDirichletAllocation(n_topics=number_of_themes,  n_jobs=1)\n",
    "model = lda.fit(tf)\n",
    "\n",
    "with open('../data/tfidf_lda_model_ignore_keywords.pickle', 'wb') as f:\n",
    "    pickle.dump(model, f)"
   ]
  },
  {
   "cell_type": "code",
   "execution_count": 30,
   "metadata": {},
   "outputs": [],
   "source": [
    "with open('../data/tfidf_lda_model_ignore_keywords.pickle', 'rb') as f:\n",
    "    model = pickle.load(f)\n",
    "    \n",
    "with open('../data/tfidf_lda_tf_ignore_keywords.pickle', 'rb') as f:\n",
    "    tf = pickle.load(f)\n",
    "    \n",
    "with open('../data/tfidf_lda_tf_vectorizer_ignore_keywords.pickle', 'rb') as f:\n",
    "    tf_vectorizer = pickle.load(f)"
   ]
  },
  {
   "cell_type": "code",
   "execution_count": null,
   "metadata": {
    "scrolled": false
   },
   "outputs": [],
   "source": [
    "pyLDAvis.sklearn.prepare(model, tf, tf_vectorizer)"
   ]
  },
  {
   "cell_type": "markdown",
   "metadata": {},
   "source": [
    "## Measuring the Efficacy of Topic Models (WRITEUP: WHO?)\n",
    "\n",
    "Main question: How do we evaluate how well a topic (from LDA for example) represents a meaningful \"topic\" or theme?\n",
    "\n",
    "TODO: do some research on this??? There must be some papers etc that try to formalise this that we can borrow ideas from?\n",
    "\n",
    "Paper dump:\n",
    "  - Looks like a good summary paper: http://www.aclweb.org/anthology/E14-4005 Find more papers from this ones references?\n",
    "    - \" KL-divergence (Li and McCallum, 2006; Wang et al., 2009; Newman et al., 2009), cosine measure (He et al., 2009; Ramage et al., 2009) and the average Log Odds Ratio (Chaney and Blei, 2012). \"\n",
    "    - \"Kim and Oh (2011) also applied  the  cosine  measure  and  KL-Divergence which were compared with four other measures: Jaccard’s Coefficient, Kendall’s τ coefficient, Discount  Cumulative  Gain  and  Jensen  Shannon  Divergence (JSD).\"\n",
    "  - Cool name haven't read it: http://papers.nips.cc/paper/3700-reading-tea-leaves-how-humans-interpret-topic-models.pdf\n",
    "  \n",
    "We considered all of these metrics, and found th Jaccard Index to be most suitable. This was primarily due to it's use of set operations, which are invariant to ordering and number of observations."
   ]
  },
  {
   "cell_type": "markdown",
   "metadata": {},
   "source": [
    "### Reading Tea Leaves Paper\n",
    "http://papers.nips.cc/paper/3700-reading-tea-leaves-how-humans-interpret-topic-models.pdf"
   ]
  },
  {
   "cell_type": "markdown",
   "metadata": {},
   "source": [
    "### Word Overlap\n",
    "\n",
    "I think this is used as a baseline measure in the summary paper above (http://www.aclweb.org/anthology/E14-4005). Should be a quick implementation so worth a try."
   ]
  },
  {
   "cell_type": "markdown",
   "metadata": {},
   "source": [
    "### Jaccard Index\n",
    "\n",
    "From the papers above this seems to have been used relatively often for _linking machine-generated topics to human topics_ and so maybe this is a good application for it. Apparently explored here \"https://link.springer.com/chapter/10.1007/978-3-642-19437-5_13\" but I haven't read it.\n"
   ]
  },
  {
   "cell_type": "code",
   "execution_count": 9,
   "metadata": {},
   "outputs": [],
   "source": [
    "def jaccard_index(a, b):\n",
    "    a = set(a)\n",
    "    b = set(b)\n",
    "    return len(a & b) / len(a | b)"
   ]
  },
  {
   "cell_type": "markdown",
   "metadata": {},
   "source": [
    "Consider the group of language keywords as the best possible topic for each language. Compare each of our machine generated topics with each of our ideal topics by computing their Jaccard Index:"
   ]
  },
  {
   "cell_type": "markdown",
   "metadata": {},
   "source": [
    "Consider the group of language keywords as the best possible topic for each language. Compare each of our machine generated topics with each of our ideal topics by computing their Jaccard Index:\n"
   ]
  },
  {
   "cell_type": "code",
   "execution_count": 5,
   "metadata": {},
   "outputs": [],
   "source": [
    "topic1_keywords = [\n",
    "\n",
    "\"this\",\n",
    "\"function\",\n",
    "\"if\",\n",
    "\"the\",\n",
    "\"return\",\n",
    "\"var\",\n",
    "\"to\",\n",
    "\"for\",\n",
    "\"is\",\n",
    "\"true\",\n",
    "\"in\",\n",
    "\"of\",\n",
    "\"value\",\n",
    "\"data\",\n",
    "\"null\",\n",
    "\"length\",\n",
    "\"and\",\n",
    "\"else\",\n",
    "\"false\",\n",
    "\"name\",\n",
    "\"type\",\n",
    "\"new\",\n",
    "\"const\",\n",
    "\"it\",\n",
    "\"assert\",\n",
    "\"object\",\n",
    "\"be\",\n",
    "\"options\",\n",
    "\"key\",\n",
    "\"that\"]"
   ]
  },
  {
   "cell_type": "code",
   "execution_count": 6,
   "metadata": {},
   "outputs": [],
   "source": [
    "topic3_keywords = [\n",
    "\"self\",\n",
    "\"def\",\n",
    "\"import\",\n",
    "\"from\",\n",
    "\"none\",\n",
    "\"user\",\n",
    "\"in\",\n",
    "\"ndef\",\n",
    "\"response\",\n",
    "\"name\",\n",
    "\"assert\",\n",
    "\"equal\",\n",
    "\"id\",\n",
    "\"not\",\n",
    "\"str\",\n",
    "\"models\",\n",
    "\"true\",\n",
    "\"request\",\n",
    "\"get\",\n",
    "\"email\",\n",
    "\"assert\",\n",
    "\"realm\",\n",
    "\"data\",\n",
    "\"message\",\n",
    "\"result\",\n",
    "\"for\",\n",
    "\"nclass\",\n",
    "\"dict\",\n",
    "\"django\",\n",
    "\"thread\",\n",
    "\"url\"]"
   ]
  },
  {
   "cell_type": "code",
   "execution_count": 7,
   "metadata": {},
   "outputs": [],
   "source": [
    "topic4_keywords = [\n",
    "\"react\",\n",
    "\"from\",\n",
    "\"default\",\n",
    "\"nimport\",\n",
    "\"nexport\",\n",
    "\"createsvgicon\",\n",
    "\"path\",\n",
    "\"import\",\n",
    "\"fragment\",\n",
    "\"xd0\",\n",
    "\"xe0\",\n",
    "\"classname\",\n",
    "\"as\",\n",
    "\"props\",\n",
    "\"utils\",\n",
    "\"none\",\n",
    "\"div\",\n",
    "\"proptypes\",\n",
    "\"createelement\",\n",
    "\"theme\",\n",
    "\"xe1\",\n",
    "\"material\",\n",
    "\"xd1\",\n",
    "\"button\",\n",
    "\"classes\",\n",
    "\"m0\",\n",
    "\"fill\",\n",
    "\"ui\",\n",
    "\"xe2\",\n",
    "\"0h24v24h0v0z\"]"
   ]
  },
  {
   "cell_type": "code",
   "execution_count": null,
   "metadata": {},
   "outputs": [],
   "source": [
    "print(jaccard_index(javascript_keywords, topic1_keywords),\n",
    "jaccard_index(javascript_keywords, topic3_keywords),\n",
    "jaccard_index(javascript_keywords, topic4_keywords))"
   ]
  },
  {
   "cell_type": "code",
   "execution_count": null,
   "metadata": {},
   "outputs": [],
   "source": [
    "print(jaccard_index(r_keywords, topic1_keywords),\n",
    "jaccard_index(r_keywords, topic3_keywords),\n",
    "jaccard_index(r_keywords, topic4_keywords))"
   ]
  },
  {
   "cell_type": "code",
   "execution_count": null,
   "metadata": {},
   "outputs": [],
   "source": [
    "print(jaccard_index(python_keywords, topic1_keywords),\n",
    "jaccard_index(python_keywords, topic3_keywords),\n",
    "jaccard_index(python_keywords, topic4_keywords))"
   ]
  },
  {
   "cell_type": "markdown",
   "metadata": {},
   "source": [
    "### Kendall’s τ Coefficient\n",
    "\n",
    "Measures the association between two ranked lists. Source: Computational Linguistics and Intelligent Text Processing book."
   ]
  },
  {
   "cell_type": "markdown",
   "metadata": {},
   "source": [
    "### Evaluating Topic Models\n",
    "TODO: better title needed\n",
    "\n",
    "Idea:\n",
    "  - save the actual % of each program langauge per repo\n",
    "  - Then try to use LDA model to tell us \"I believe repo <x> is 10% Topic 1, 20% Topic 2 etc\". \n",
    "  - Use analysis from above two sections to create a \"most likely mapping from lda topic to programming language\".\n",
    "  - rate our models\n",
    "\n",
    "Here we can do cross-validation etc."
   ]
  },
  {
   "cell_type": "markdown",
   "metadata": {},
   "source": [
    "Load in the test data set:"
   ]
  },
  {
   "cell_type": "code",
   "execution_count": 32,
   "metadata": {},
   "outputs": [
    {
     "data": {
      "text/html": [
       "<div>\n",
       "<style scoped>\n",
       "    .dataframe tbody tr th:only-of-type {\n",
       "        vertical-align: middle;\n",
       "    }\n",
       "\n",
       "    .dataframe tbody tr th {\n",
       "        vertical-align: top;\n",
       "    }\n",
       "\n",
       "    .dataframe thead th {\n",
       "        text-align: right;\n",
       "    }\n",
       "</style>\n",
       "<table border=\"1\" class=\"dataframe\">\n",
       "  <thead>\n",
       "    <tr style=\"text-align: right;\">\n",
       "      <th></th>\n",
       "      <th>repo</th>\n",
       "      <th>language</th>\n",
       "      <th>documents</th>\n",
       "    </tr>\n",
       "  </thead>\n",
       "  <tbody>\n",
       "    <tr>\n",
       "      <th>0</th>\n",
       "      <td>69798748</td>\n",
       "      <td>javascript</td>\n",
       "      <td>b\"const glob = require('glob')\\nconst markdown...</td>\n",
       "    </tr>\n",
       "    <tr>\n",
       "      <th>1</th>\n",
       "      <td>128624453</td>\n",
       "      <td>javascript</td>\n",
       "      <td>b\"module.exports = {\\n  extends: ['@commitlint...</td>\n",
       "    </tr>\n",
       "    <tr>\n",
       "      <th>2</th>\n",
       "      <td>128624453</td>\n",
       "      <td>javascript</td>\n",
       "      <td>b\"module.exports = {\\n  extends: ['standard', ...</td>\n",
       "    </tr>\n",
       "    <tr>\n",
       "      <th>3</th>\n",
       "      <td>128624453</td>\n",
       "      <td>javascript</td>\n",
       "      <td>b\"const cp = require('child_process')\\nconst g...</td>\n",
       "    </tr>\n",
       "    <tr>\n",
       "      <th>4</th>\n",
       "      <td>128624453</td>\n",
       "      <td>javascript</td>\n",
       "      <td>b\"module.exports = {\\n  verbose: true,\\n  tran...</td>\n",
       "    </tr>\n",
       "  </tbody>\n",
       "</table>\n",
       "</div>"
      ],
      "text/plain": [
       "        repo    language                                          documents\n",
       "0   69798748  javascript  b\"const glob = require('glob')\\nconst markdown...\n",
       "1  128624453  javascript  b\"module.exports = {\\n  extends: ['@commitlint...\n",
       "2  128624453  javascript  b\"module.exports = {\\n  extends: ['standard', ...\n",
       "3  128624453  javascript  b\"const cp = require('child_process')\\nconst g...\n",
       "4  128624453  javascript  b\"module.exports = {\\n  verbose: true,\\n  tran..."
      ]
     },
     "execution_count": 32,
     "metadata": {},
     "output_type": "execute_result"
    }
   ],
   "source": [
    "test_dataset = pandas.read_csv(\"../data/test-dataset.csv.gz\", header=None, names=['repo', 'language', 'topics', 'documents'])\n",
    "\n",
    "# Remove Github 'topics' since we don't use them in this analysis\n",
    "test_dataset = test_dataset.drop(columns='topics')\n",
    "\n",
    "test_dataset.head()"
   ]
  },
  {
   "cell_type": "markdown",
   "metadata": {},
   "source": [
    "To evaluate the mixture model, we must label each repository with it's percentage of each programming language:"
   ]
  },
  {
   "cell_type": "code",
   "execution_count": 33,
   "metadata": {},
   "outputs": [],
   "source": [
    "def calculate_language_percentages(group):\n",
    "    total_python_length = 0\n",
    "    total_r_length = 0\n",
    "    total_javascript_length = 0\n",
    "    \n",
    "    for index, repo, language, document in group.itertuples():\n",
    "        if language == 'python':\n",
    "            total_python_length += len(document)\n",
    "            \n",
    "        if language == 'javascript':\n",
    "            total_javascript_length += len(document)\n",
    "            \n",
    "        if language == 'r':\n",
    "            total_r_length += len(document)\n",
    "            \n",
    "    total_length = total_python_length + total_r_length + total_javascript_length\n",
    "            \n",
    "    return pandas.Series([\n",
    "        total_python_length/total_length,\n",
    "        total_r_length/total_length,\n",
    "        total_javascript_length/total_length,\n",
    "    ])"
   ]
  },
  {
   "cell_type": "code",
   "execution_count": 34,
   "metadata": {},
   "outputs": [],
   "source": [
    "test_composition_actual = test_dataset.groupby(by='repo').apply(calculate_language_percentages)\n",
    "test_composition_actual.columns = ['python', 'r', 'javascript']"
   ]
  },
  {
   "cell_type": "markdown",
   "metadata": {},
   "source": [
    "Here are the programming language percentages for each of repository in our test dataset:"
   ]
  },
  {
   "cell_type": "code",
   "execution_count": 36,
   "metadata": {
    "scrolled": false
   },
   "outputs": [
    {
     "data": {
      "text/html": [
       "<div>\n",
       "<style scoped>\n",
       "    .dataframe tbody tr th:only-of-type {\n",
       "        vertical-align: middle;\n",
       "    }\n",
       "\n",
       "    .dataframe tbody tr th {\n",
       "        vertical-align: top;\n",
       "    }\n",
       "\n",
       "    .dataframe thead th {\n",
       "        text-align: right;\n",
       "    }\n",
       "</style>\n",
       "<table border=\"1\" class=\"dataframe\">\n",
       "  <thead>\n",
       "    <tr style=\"text-align: right;\">\n",
       "      <th></th>\n",
       "      <th>python</th>\n",
       "      <th>r</th>\n",
       "      <th>javascript</th>\n",
       "    </tr>\n",
       "    <tr>\n",
       "      <th>repo</th>\n",
       "      <th></th>\n",
       "      <th></th>\n",
       "      <th></th>\n",
       "    </tr>\n",
       "  </thead>\n",
       "  <tbody>\n",
       "    <tr>\n",
       "      <th>596892</th>\n",
       "      <td>1.000000</td>\n",
       "      <td>0.000000</td>\n",
       "      <td>0.000000</td>\n",
       "    </tr>\n",
       "    <tr>\n",
       "      <th>1248263</th>\n",
       "      <td>0.652443</td>\n",
       "      <td>0.000000</td>\n",
       "      <td>0.347557</td>\n",
       "    </tr>\n",
       "    <tr>\n",
       "      <th>1790564</th>\n",
       "      <td>0.000000</td>\n",
       "      <td>0.000000</td>\n",
       "      <td>1.000000</td>\n",
       "    </tr>\n",
       "    <tr>\n",
       "      <th>4751958</th>\n",
       "      <td>0.360730</td>\n",
       "      <td>0.000000</td>\n",
       "      <td>0.639270</td>\n",
       "    </tr>\n",
       "    <tr>\n",
       "      <th>12465340</th>\n",
       "      <td>0.000000</td>\n",
       "      <td>0.995105</td>\n",
       "      <td>0.004895</td>\n",
       "    </tr>\n",
       "    <tr>\n",
       "      <th>13523710</th>\n",
       "      <td>0.000000</td>\n",
       "      <td>1.000000</td>\n",
       "      <td>0.000000</td>\n",
       "    </tr>\n",
       "    <tr>\n",
       "      <th>14267375</th>\n",
       "      <td>0.941701</td>\n",
       "      <td>0.000000</td>\n",
       "      <td>0.058299</td>\n",
       "    </tr>\n",
       "    <tr>\n",
       "      <th>14579179</th>\n",
       "      <td>0.000000</td>\n",
       "      <td>0.189083</td>\n",
       "      <td>0.810917</td>\n",
       "    </tr>\n",
       "    <tr>\n",
       "      <th>16146440</th>\n",
       "      <td>0.000000</td>\n",
       "      <td>0.253421</td>\n",
       "      <td>0.746579</td>\n",
       "    </tr>\n",
       "    <tr>\n",
       "      <th>17856544</th>\n",
       "      <td>0.000000</td>\n",
       "      <td>1.000000</td>\n",
       "      <td>0.000000</td>\n",
       "    </tr>\n",
       "    <tr>\n",
       "      <th>19117456</th>\n",
       "      <td>0.000000</td>\n",
       "      <td>0.000000</td>\n",
       "      <td>1.000000</td>\n",
       "    </tr>\n",
       "    <tr>\n",
       "      <th>21289110</th>\n",
       "      <td>1.000000</td>\n",
       "      <td>0.000000</td>\n",
       "      <td>0.000000</td>\n",
       "    </tr>\n",
       "    <tr>\n",
       "      <th>23932217</th>\n",
       "      <td>0.000000</td>\n",
       "      <td>0.984244</td>\n",
       "      <td>0.015756</td>\n",
       "    </tr>\n",
       "    <tr>\n",
       "      <th>24929423</th>\n",
       "      <td>0.000000</td>\n",
       "      <td>1.000000</td>\n",
       "      <td>0.000000</td>\n",
       "    </tr>\n",
       "    <tr>\n",
       "      <th>28556914</th>\n",
       "      <td>0.000000</td>\n",
       "      <td>0.127105</td>\n",
       "      <td>0.872895</td>\n",
       "    </tr>\n",
       "    <tr>\n",
       "      <th>33614304</th>\n",
       "      <td>1.000000</td>\n",
       "      <td>0.000000</td>\n",
       "      <td>0.000000</td>\n",
       "    </tr>\n",
       "    <tr>\n",
       "      <th>36849200</th>\n",
       "      <td>0.000000</td>\n",
       "      <td>0.980459</td>\n",
       "      <td>0.019541</td>\n",
       "    </tr>\n",
       "    <tr>\n",
       "      <th>38226908</th>\n",
       "      <td>0.659855</td>\n",
       "      <td>0.000000</td>\n",
       "      <td>0.340145</td>\n",
       "    </tr>\n",
       "    <tr>\n",
       "      <th>45936895</th>\n",
       "      <td>0.000000</td>\n",
       "      <td>0.000000</td>\n",
       "      <td>1.000000</td>\n",
       "    </tr>\n",
       "    <tr>\n",
       "      <th>47918643</th>\n",
       "      <td>0.555986</td>\n",
       "      <td>0.000000</td>\n",
       "      <td>0.444014</td>\n",
       "    </tr>\n",
       "    <tr>\n",
       "      <th>61412022</th>\n",
       "      <td>0.000000</td>\n",
       "      <td>0.000000</td>\n",
       "      <td>1.000000</td>\n",
       "    </tr>\n",
       "    <tr>\n",
       "      <th>69798748</th>\n",
       "      <td>0.000000</td>\n",
       "      <td>0.000000</td>\n",
       "      <td>1.000000</td>\n",
       "    </tr>\n",
       "    <tr>\n",
       "      <th>72671522</th>\n",
       "      <td>0.000000</td>\n",
       "      <td>1.000000</td>\n",
       "      <td>0.000000</td>\n",
       "    </tr>\n",
       "    <tr>\n",
       "      <th>83222441</th>\n",
       "      <td>1.000000</td>\n",
       "      <td>0.000000</td>\n",
       "      <td>0.000000</td>\n",
       "    </tr>\n",
       "    <tr>\n",
       "      <th>84232645</th>\n",
       "      <td>0.000000</td>\n",
       "      <td>0.000000</td>\n",
       "      <td>1.000000</td>\n",
       "    </tr>\n",
       "    <tr>\n",
       "      <th>89187780</th>\n",
       "      <td>0.000000</td>\n",
       "      <td>0.000000</td>\n",
       "      <td>1.000000</td>\n",
       "    </tr>\n",
       "    <tr>\n",
       "      <th>94911145</th>\n",
       "      <td>0.000000</td>\n",
       "      <td>0.000000</td>\n",
       "      <td>1.000000</td>\n",
       "    </tr>\n",
       "    <tr>\n",
       "      <th>128624453</th>\n",
       "      <td>0.000000</td>\n",
       "      <td>0.000000</td>\n",
       "      <td>1.000000</td>\n",
       "    </tr>\n",
       "  </tbody>\n",
       "</table>\n",
       "</div>"
      ],
      "text/plain": [
       "             python         r  javascript\n",
       "repo                                     \n",
       "596892     1.000000  0.000000    0.000000\n",
       "1248263    0.652443  0.000000    0.347557\n",
       "1790564    0.000000  0.000000    1.000000\n",
       "4751958    0.360730  0.000000    0.639270\n",
       "12465340   0.000000  0.995105    0.004895\n",
       "13523710   0.000000  1.000000    0.000000\n",
       "14267375   0.941701  0.000000    0.058299\n",
       "14579179   0.000000  0.189083    0.810917\n",
       "16146440   0.000000  0.253421    0.746579\n",
       "17856544   0.000000  1.000000    0.000000\n",
       "19117456   0.000000  0.000000    1.000000\n",
       "21289110   1.000000  0.000000    0.000000\n",
       "23932217   0.000000  0.984244    0.015756\n",
       "24929423   0.000000  1.000000    0.000000\n",
       "28556914   0.000000  0.127105    0.872895\n",
       "33614304   1.000000  0.000000    0.000000\n",
       "36849200   0.000000  0.980459    0.019541\n",
       "38226908   0.659855  0.000000    0.340145\n",
       "45936895   0.000000  0.000000    1.000000\n",
       "47918643   0.555986  0.000000    0.444014\n",
       "61412022   0.000000  0.000000    1.000000\n",
       "69798748   0.000000  0.000000    1.000000\n",
       "72671522   0.000000  1.000000    0.000000\n",
       "83222441   1.000000  0.000000    0.000000\n",
       "84232645   0.000000  0.000000    1.000000\n",
       "89187780   0.000000  0.000000    1.000000\n",
       "94911145   0.000000  0.000000    1.000000\n",
       "128624453  0.000000  0.000000    1.000000"
      ]
     },
     "execution_count": 36,
     "metadata": {},
     "output_type": "execute_result"
    }
   ],
   "source": [
    "test_composition_actual"
   ]
  },
  {
   "cell_type": "code",
   "execution_count": 37,
   "metadata": {},
   "outputs": [],
   "source": [
    "combined_test_documents = test_dataset.groupby(by='repo').apply(concat_texts)"
   ]
  },
  {
   "cell_type": "code",
   "execution_count": 57,
   "metadata": {},
   "outputs": [],
   "source": [
    "with open('../data/concatDocs_lda_model.pickle', 'rb') as f:\n",
    "    model = pickle.load(f)\n",
    "    \n",
    "with open('../data/concatDocs_tf_train.pickle', 'rb') as f:\n",
    "    tf_train = pickle.load(f)\n",
    "    \n",
    "with open('../data/concatDocs_tf_vectorizer.pickle', 'rb') as f:\n",
    "    tf_vectorizer = pickle.load(f)\n",
    "\n",
    "with open('../data/concatDocs_tf_test.pickle', 'rb') as f:\n",
    "    tf_test = pickle.load(f)"
   ]
  },
  {
   "cell_type": "code",
   "execution_count": 58,
   "metadata": {},
   "outputs": [],
   "source": [
    "combined_test_documents_tf = tf_vectorizer.transform(combined_test_documents)\n",
    "combined_test_model = model.transform(combined_test_documents_tf)"
   ]
  },
  {
   "cell_type": "code",
   "execution_count": 62,
   "metadata": {},
   "outputs": [
    {
     "data": {
      "text/plain": [
       "array([[1.90661496e-01, 8.07648843e-01, 4.78215219e-06, 1.68487898e-03],\n",
       "       [5.41157197e-01, 4.47795188e-01, 1.04497870e-02, 5.97828094e-04],\n",
       "       [7.65079147e-01, 2.07808158e-01, 9.78836147e-03, 1.73243342e-02],\n",
       "       [1.59282454e-05, 9.98934927e-01, 1.04864905e-03, 4.95710834e-07],\n",
       "       [2.65019130e-01, 6.41208301e-01, 3.48327547e-03, 9.02892938e-02],\n",
       "       [6.67248762e-01, 3.31216180e-01, 1.54776206e-05, 1.51958084e-03],\n",
       "       [3.52752118e-04, 9.98974555e-01, 3.34400158e-04, 3.38292524e-04],\n",
       "       [9.73834351e-01, 7.09203679e-07, 2.61642358e-02, 7.04124487e-07],\n",
       "       [9.25075962e-01, 7.31192529e-02, 1.69474412e-06, 1.80309002e-03],\n",
       "       [2.97893274e-01, 4.74194950e-01, 6.22969301e-04, 2.27288807e-01],\n",
       "       [8.04771825e-01, 4.58890587e-02, 1.64098727e-05, 1.49322707e-01],\n",
       "       [4.84929996e-01, 5.13540584e-01, 7.57352821e-04, 7.72067435e-04],\n",
       "       [2.58767113e-01, 7.09967336e-01, 2.49810251e-03, 2.87674476e-02],\n",
       "       [2.80705528e-01, 6.62976682e-01, 2.37653687e-03, 5.39412529e-02],\n",
       "       [5.26743456e-01, 1.81701030e-01, 2.91523113e-01, 3.24013353e-05],\n",
       "       [2.07816933e-01, 7.74019881e-01, 2.69122079e-03, 1.54719654e-02],\n",
       "       [5.21463540e-01, 4.75519987e-01, 1.36336889e-03, 1.65310343e-03],\n",
       "       [4.23782494e-01, 5.33893531e-01, 4.13454220e-03, 3.81894330e-02],\n",
       "       [5.78926473e-01, 2.04915935e-01, 1.07842478e-02, 2.05373344e-01],\n",
       "       [7.06551500e-01, 2.85452024e-01, 2.86870220e-03, 5.12777357e-03],\n",
       "       [6.59806865e-01, 1.42181251e-01, 2.43042806e-06, 1.98009453e-01],\n",
       "       [7.29520842e-01, 7.75572841e-02, 4.80826513e-03, 1.88113609e-01],\n",
       "       [6.08731740e-01, 3.85057387e-01, 2.80756704e-05, 6.18279754e-03],\n",
       "       [1.71414255e-01, 8.28397269e-01, 9.45469524e-05, 9.39294310e-05],\n",
       "       [9.41760750e-01, 4.38319381e-02, 3.78663964e-03, 1.06206723e-02],\n",
       "       [9.80446825e-01, 6.54288187e-03, 6.31734509e-03, 6.69294846e-03],\n",
       "       [6.74697476e-01, 1.48597837e-01, 4.74286090e-03, 1.71961827e-01],\n",
       "       [1.93156058e-01, 7.66842540e-01, 1.48442846e-03, 3.85169737e-02]])"
      ]
     },
     "execution_count": 62,
     "metadata": {},
     "output_type": "execute_result"
    }
   ],
   "source": [
    "combined_test_model"
   ]
  },
  {
   "cell_type": "code",
   "execution_count": null,
   "metadata": {},
   "outputs": [],
   "source": [
    "# insert kish's mappings here\n"
   ]
  },
  {
   "cell_type": "markdown",
   "metadata": {},
   "source": [
    "### KL Divergence"
   ]
  },
  {
   "cell_type": "code",
   "execution_count": null,
   "metadata": {},
   "outputs": [],
   "source": [
    "test_composition_estim=test_composition_actual"
   ]
  },
  {
   "cell_type": "code",
   "execution_count": null,
   "metadata": {},
   "outputs": [],
   "source": []
  },
  {
   "cell_type": "code",
   "execution_count": null,
   "metadata": {},
   "outputs": [],
   "source": [
    "if all(test_composition_estim.index==test_composition_actual.index)==True:\n",
    "    KDDataframe=pandas.DataFrame([],columns=[\"Repo\",\"KD Divergence\"])\n",
    "    for i in range(0,len(test_composition_actual)):\n",
    "        a=0\n",
    "        for j in range(0,len(test_composition_actual.iloc[i])):\n",
    "            a=a-((test_composition_actual.iloc[i][j])*math.log(test_composition_actual.iloc[i][j]/test_composition_estim.iloc[i][j]))\n",
    "        #m=pandas.DataFrame([test_composition_actual.index[i],a],columns=[\"Repo\",\"KD Divergence\"])\n",
    "        print(a)\n",
    "        #KDDataframe.append(m)\n",
    "#KDDataframe"
   ]
  },
  {
   "cell_type": "markdown",
   "metadata": {},
   "source": [
    "# Notes:\n",
    "  - our keyword lists have simliar/common words e.g. python javascript and r all share some keywords. this can be seen in the documents. choosing another language, with a completely different set of keywords might prove easier to differentiate for the LDA model. somethind somthing LDA uses distance, but if true topics share key words, then distance metric breaks."
   ]
  },
  {
   "cell_type": "code",
   "execution_count": null,
   "metadata": {},
   "outputs": [],
   "source": []
  }
 ],
 "metadata": {
  "kernelspec": {
   "display_name": "Python 3",
   "language": "python",
   "name": "python3"
  },
  "language_info": {
   "codemirror_mode": {
    "name": "ipython",
    "version": 3
   },
   "file_extension": ".py",
   "mimetype": "text/x-python",
   "name": "python",
   "nbconvert_exporter": "python",
   "pygments_lexer": "ipython3",
   "version": "3.7.0"
  }
 },
 "nbformat": 4,
 "nbformat_minor": 2
}
