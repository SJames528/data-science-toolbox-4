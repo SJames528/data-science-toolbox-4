{
 "cells": [
  {
   "cell_type": "markdown",
   "metadata": {},
   "source": [
    "# Topic Modelling on Program Source Code\n",
    "---\n",
    "By Kishalay Banerjee, Dan Jones and Sam Harding"
   ]
  },
  {
   "cell_type": "code",
   "execution_count": 1,
   "metadata": {},
   "outputs": [],
   "source": [
    "import warnings\n",
    "warnings.filterwarnings('ignore')  # 0y"
   ]
  },
  {
   "cell_type": "code",
   "execution_count": 2,
   "metadata": {},
   "outputs": [],
   "source": [
    "import pandas\n",
    "import pickle\n",
    "import math\n",
    "import numpy\n",
    "import pyLDAvis\n",
    "import pyLDAvis.sklearn\n",
    "pyLDAvis.enable_notebook()"
   ]
  },
  {
   "cell_type": "code",
   "execution_count": 3,
   "metadata": {},
   "outputs": [],
   "source": [
    "from sklearn.decomposition import LatentDirichletAllocation\n",
    "from sklearn.feature_extraction.text import TfidfVectorizer, CountVectorizer\n",
    "\n",
    "from urllib.request import urlretrieve"
   ]
  },
  {
   "cell_type": "code",
   "execution_count": 4,
   "metadata": {},
   "outputs": [],
   "source": [
    "numpy.random.seed(0xD00D5) "
   ]
  },
  {
   "cell_type": "markdown",
   "metadata": {},
   "source": [
    "## Preparation\n",
    "\n",
    "There are a number of files which are too large to store on GitHub. These are hosted on our server, and can be downloaded by running the following cell:"
   ]
  },
  {
   "cell_type": "code",
   "execution_count": 5,
   "metadata": {},
   "outputs": [
    {
     "name": "stdout",
     "output_type": "stream",
     "text": [
      "Downloading 'https://daniel.wilshirejones.com/private-uUX6IzfsRYLNiti4ZFmgv6U3dFInnq37r5YSQs46iejeB96q0MAy9Ko7hkgo/full_lda_model.pickle'' to location '../data/full_lda_model.pickle'\n",
      "Downloading 'https://daniel.wilshirejones.com/private-uUX6IzfsRYLNiti4ZFmgv6U3dFInnq37r5YSQs46iejeB96q0MAy9Ko7hkgo/full_tf.pickle'' to location '../data/full_tf.pickle'\n",
      "Downloading 'https://daniel.wilshirejones.com/private-uUX6IzfsRYLNiti4ZFmgv6U3dFInnq37r5YSQs46iejeB96q0MAy9Ko7hkgo/full_tf_vectorizer.pickle'' to location '../data/full_tf_vectorizer.pickle'\n",
      "Downloading 'https://daniel.wilshirejones.com/private-uUX6IzfsRYLNiti4ZFmgv6U3dFInnq37r5YSQs46iejeB96q0MAy9Ko7hkgo/full-dataset.csv.gz'' to location '../data/full-dataset.csv.gz'\n"
     ]
    }
   ],
   "source": [
    "files = [\n",
    "    'full_lda_model.pickle',\n",
    "    'full_tf.pickle',\n",
    "    'full_tf_vectorizer.pickle',\n",
    "    'full-dataset.csv.gz',\n",
    "]\n",
    "\n",
    "base_url = 'https://daniel.wilshirejones.com/private-uUX6IzfsRYLNiti4ZFmgv6U3dFInnq37r5YSQs46iejeB96q0MAy9Ko7hkgo/'\n",
    "destination_directory = '../data/'\n",
    "\n",
    "for file in files:\n",
    "    url = base_url + file\n",
    "    destination = destination_directory + file\n",
    "    print(\"Downloading '{}'' to location '{}'\".format(url, destination))\n",
    "    urlretrieve(url, destination)"
   ]
  },
  {
   "cell_type": "markdown",
   "metadata": {},
   "source": [
    "## Generating the Dataset\n",
    "\n",
    "TODO: Import dataset.py and explain how it's used + what it does.\n",
    "\n",
    "TODO: Add Sam's scrub function in here?"
   ]
  },
  {
   "cell_type": "code",
   "execution_count": 6,
   "metadata": {},
   "outputs": [
    {
     "data": {
      "text/html": [
       "<div>\n",
       "<style scoped>\n",
       "    .dataframe tbody tr th:only-of-type {\n",
       "        vertical-align: middle;\n",
       "    }\n",
       "\n",
       "    .dataframe tbody tr th {\n",
       "        vertical-align: top;\n",
       "    }\n",
       "\n",
       "    .dataframe thead th {\n",
       "        text-align: right;\n",
       "    }\n",
       "</style>\n",
       "<table border=\"1\" class=\"dataframe\">\n",
       "  <thead>\n",
       "    <tr style=\"text-align: right;\">\n",
       "      <th></th>\n",
       "      <th>repo</th>\n",
       "      <th>language</th>\n",
       "      <th>documents</th>\n",
       "    </tr>\n",
       "  </thead>\n",
       "  <tbody>\n",
       "    <tr>\n",
       "      <th>0</th>\n",
       "      <td>28457823</td>\n",
       "      <td>javascript</td>\n",
       "      <td>b\"module.exports = {\\n  plugins: [\\n    requir...</td>\n",
       "    </tr>\n",
       "    <tr>\n",
       "      <th>1</th>\n",
       "      <td>28457823</td>\n",
       "      <td>javascript</td>\n",
       "      <td>b\"// The path where to mount the REST API app\\...</td>\n",
       "    </tr>\n",
       "    <tr>\n",
       "      <th>2</th>\n",
       "      <td>28457823</td>\n",
       "      <td>javascript</td>\n",
       "      <td>b\"import { Observable } from 'rx';\\nimport deb...</td>\n",
       "    </tr>\n",
       "    <tr>\n",
       "      <th>3</th>\n",
       "      <td>28457823</td>\n",
       "      <td>javascript</td>\n",
       "      <td>b\"import { Observable } from 'rx';\\n// import ...</td>\n",
       "    </tr>\n",
       "    <tr>\n",
       "      <th>4</th>\n",
       "      <td>28457823</td>\n",
       "      <td>javascript</td>\n",
       "      <td>b\"import { Observable } from 'rx';\\n\\nmodule.e...</td>\n",
       "    </tr>\n",
       "  </tbody>\n",
       "</table>\n",
       "</div>"
      ],
      "text/plain": [
       "       repo    language                                          documents\n",
       "0  28457823  javascript  b\"module.exports = {\\n  plugins: [\\n    requir...\n",
       "1  28457823  javascript  b\"// The path where to mount the REST API app\\...\n",
       "2  28457823  javascript  b\"import { Observable } from 'rx';\\nimport deb...\n",
       "3  28457823  javascript  b\"import { Observable } from 'rx';\\n// import ...\n",
       "4  28457823  javascript  b\"import { Observable } from 'rx';\\n\\nmodule.e..."
      ]
     },
     "execution_count": 6,
     "metadata": {},
     "output_type": "execute_result"
    }
   ],
   "source": [
    "minimal_dataset = pandas.read_csv(\"../data/dataset.csv.gz\", header=None, names=['repo', 'language', 'documents'])\n",
    "minimal_dataset.head()"
   ]
  },
  {
   "cell_type": "code",
   "execution_count": 7,
   "metadata": {},
   "outputs": [
    {
     "data": {
      "text/html": [
       "<div>\n",
       "<style scoped>\n",
       "    .dataframe tbody tr th:only-of-type {\n",
       "        vertical-align: middle;\n",
       "    }\n",
       "\n",
       "    .dataframe tbody tr th {\n",
       "        vertical-align: top;\n",
       "    }\n",
       "\n",
       "    .dataframe thead th {\n",
       "        text-align: right;\n",
       "    }\n",
       "</style>\n",
       "<table border=\"1\" class=\"dataframe\">\n",
       "  <thead>\n",
       "    <tr style=\"text-align: right;\">\n",
       "      <th></th>\n",
       "      <th>repo</th>\n",
       "      <th>language</th>\n",
       "      <th>documents</th>\n",
       "    </tr>\n",
       "  </thead>\n",
       "  <tbody>\n",
       "    <tr>\n",
       "      <th>0</th>\n",
       "      <td>28457823</td>\n",
       "      <td>javascript</td>\n",
       "      <td>b\"module.exports = {\\n  plugins: [\\n    requir...</td>\n",
       "    </tr>\n",
       "    <tr>\n",
       "      <th>1</th>\n",
       "      <td>28457823</td>\n",
       "      <td>javascript</td>\n",
       "      <td>b\"// The path where to mount the REST API app\\...</td>\n",
       "    </tr>\n",
       "    <tr>\n",
       "      <th>2</th>\n",
       "      <td>28457823</td>\n",
       "      <td>javascript</td>\n",
       "      <td>b\"import { Observable } from 'rx';\\nimport deb...</td>\n",
       "    </tr>\n",
       "    <tr>\n",
       "      <th>3</th>\n",
       "      <td>28457823</td>\n",
       "      <td>javascript</td>\n",
       "      <td>b\"import { Observable } from 'rx';\\n// import ...</td>\n",
       "    </tr>\n",
       "    <tr>\n",
       "      <th>4</th>\n",
       "      <td>28457823</td>\n",
       "      <td>javascript</td>\n",
       "      <td>b\"import { Observable } from 'rx';\\n\\nmodule.e...</td>\n",
       "    </tr>\n",
       "  </tbody>\n",
       "</table>\n",
       "</div>"
      ],
      "text/plain": [
       "       repo    language                                          documents\n",
       "0  28457823  javascript  b\"module.exports = {\\n  plugins: [\\n    requir...\n",
       "1  28457823  javascript  b\"// The path where to mount the REST API app\\...\n",
       "2  28457823  javascript  b\"import { Observable } from 'rx';\\nimport deb...\n",
       "3  28457823  javascript  b\"import { Observable } from 'rx';\\n// import ...\n",
       "4  28457823  javascript  b\"import { Observable } from 'rx';\\n\\nmodule.e..."
      ]
     },
     "execution_count": 7,
     "metadata": {},
     "output_type": "execute_result"
    }
   ],
   "source": [
    "full_dataset = pandas.read_csv(\"../data/full-dataset.csv.gz\", header=None, names=['repo', 'language',  'topics', 'documents'])\n",
    "\n",
    "# Remove Github 'topics' since we don't use them in this analysis\n",
    "full_dataset = full_dataset.drop(columns='topics')\n",
    "\n",
    "full_dataset.head()"
   ]
  },
  {
   "cell_type": "code",
   "execution_count": 41,
   "metadata": {},
   "outputs": [
    {
     "data": {
      "text/html": [
       "<div>\n",
       "<style scoped>\n",
       "    .dataframe tbody tr th:only-of-type {\n",
       "        vertical-align: middle;\n",
       "    }\n",
       "\n",
       "    .dataframe tbody tr th {\n",
       "        vertical-align: top;\n",
       "    }\n",
       "\n",
       "    .dataframe thead th {\n",
       "        text-align: right;\n",
       "    }\n",
       "</style>\n",
       "<table border=\"1\" class=\"dataframe\">\n",
       "  <thead>\n",
       "    <tr style=\"text-align: right;\">\n",
       "      <th></th>\n",
       "      <th>repo</th>\n",
       "      <th>language</th>\n",
       "      <th>documents</th>\n",
       "    </tr>\n",
       "  </thead>\n",
       "  <tbody>\n",
       "    <tr>\n",
       "      <th>0</th>\n",
       "      <td>69798748</td>\n",
       "      <td>javascript</td>\n",
       "      <td>b\"const glob = require('glob')\\nconst markdown...</td>\n",
       "    </tr>\n",
       "    <tr>\n",
       "      <th>1</th>\n",
       "      <td>128624453</td>\n",
       "      <td>javascript</td>\n",
       "      <td>b\"module.exports = {\\n  extends: ['@commitlint...</td>\n",
       "    </tr>\n",
       "    <tr>\n",
       "      <th>2</th>\n",
       "      <td>128624453</td>\n",
       "      <td>javascript</td>\n",
       "      <td>b\"module.exports = {\\n  extends: ['standard', ...</td>\n",
       "    </tr>\n",
       "    <tr>\n",
       "      <th>3</th>\n",
       "      <td>128624453</td>\n",
       "      <td>javascript</td>\n",
       "      <td>b\"const cp = require('child_process')\\nconst g...</td>\n",
       "    </tr>\n",
       "    <tr>\n",
       "      <th>4</th>\n",
       "      <td>128624453</td>\n",
       "      <td>javascript</td>\n",
       "      <td>b\"module.exports = {\\n  verbose: true,\\n  tran...</td>\n",
       "    </tr>\n",
       "  </tbody>\n",
       "</table>\n",
       "</div>"
      ],
      "text/plain": [
       "        repo    language                                          documents\n",
       "0   69798748  javascript  b\"const glob = require('glob')\\nconst markdown...\n",
       "1  128624453  javascript  b\"module.exports = {\\n  extends: ['@commitlint...\n",
       "2  128624453  javascript  b\"module.exports = {\\n  extends: ['standard', ...\n",
       "3  128624453  javascript  b\"const cp = require('child_process')\\nconst g...\n",
       "4  128624453  javascript  b\"module.exports = {\\n  verbose: true,\\n  tran..."
      ]
     },
     "execution_count": 41,
     "metadata": {},
     "output_type": "execute_result"
    }
   ],
   "source": [
    "test_dataset = pandas.read_csv(\"../data/test-dataset.csv.gz\", header=None, names=['repo', 'language', 'topics', 'documents'])\n",
    "\n",
    "# Remove Github 'topics' since we don't use them in this analysis\n",
    "test_dataset = test_dataset.drop(columns='topics')\n",
    "\n",
    "test_dataset.head()"
   ]
  },
  {
   "cell_type": "markdown",
   "metadata": {},
   "source": [
    "To evaluate the mixture model, we must label each repository with it's percentage of each programming language:"
   ]
  },
  {
   "cell_type": "code",
   "execution_count": 42,
   "metadata": {},
   "outputs": [],
   "source": [
    "def calculate_language_percentages(group):\n",
    "    total_python_length = 0\n",
    "    total_r_length = 0\n",
    "    total_javascript_length = 0\n",
    "    \n",
    "    for index, repo, language, document in group.itertuples():\n",
    "        if language == 'python':\n",
    "            total_python_length += len(document)\n",
    "            \n",
    "        if language == 'javascript':\n",
    "            total_javascript_length += len(document)\n",
    "            \n",
    "        if language == 'r':\n",
    "            total_r_length += len(document)\n",
    "            \n",
    "    total_length = total_python_length + total_r_length + total_javascript_length\n",
    "            \n",
    "    return pandas.Series([\n",
    "        total_python_length/total_length,\n",
    "        total_r_length/total_length,\n",
    "        total_javascript_length/total_length,\n",
    "    ])"
   ]
  },
  {
   "cell_type": "code",
   "execution_count": 43,
   "metadata": {},
   "outputs": [],
   "source": [
    "test_composition_actual = test_dataset.groupby(by='repo').apply(calculate_language_percentages)\n",
    "test_composition_actual.columns = ['python', 'r', 'javascript']"
   ]
  },
  {
   "cell_type": "markdown",
   "metadata": {},
   "source": [
    "Here are the programming language percentages for each of repository in our test dataset:"
   ]
  },
  {
   "cell_type": "code",
   "execution_count": 44,
   "metadata": {
    "scrolled": false
   },
   "outputs": [
    {
     "data": {
      "text/html": [
       "<div>\n",
       "<style scoped>\n",
       "    .dataframe tbody tr th:only-of-type {\n",
       "        vertical-align: middle;\n",
       "    }\n",
       "\n",
       "    .dataframe tbody tr th {\n",
       "        vertical-align: top;\n",
       "    }\n",
       "\n",
       "    .dataframe thead th {\n",
       "        text-align: right;\n",
       "    }\n",
       "</style>\n",
       "<table border=\"1\" class=\"dataframe\">\n",
       "  <thead>\n",
       "    <tr style=\"text-align: right;\">\n",
       "      <th></th>\n",
       "      <th>python</th>\n",
       "      <th>r</th>\n",
       "      <th>javascript</th>\n",
       "    </tr>\n",
       "    <tr>\n",
       "      <th>repo</th>\n",
       "      <th></th>\n",
       "      <th></th>\n",
       "      <th></th>\n",
       "    </tr>\n",
       "  </thead>\n",
       "  <tbody>\n",
       "    <tr>\n",
       "      <th>596892</th>\n",
       "      <td>1.000000</td>\n",
       "      <td>0.000000</td>\n",
       "      <td>0.000000</td>\n",
       "    </tr>\n",
       "    <tr>\n",
       "      <th>1248263</th>\n",
       "      <td>0.652443</td>\n",
       "      <td>0.000000</td>\n",
       "      <td>0.347557</td>\n",
       "    </tr>\n",
       "    <tr>\n",
       "      <th>1790564</th>\n",
       "      <td>0.000000</td>\n",
       "      <td>0.000000</td>\n",
       "      <td>1.000000</td>\n",
       "    </tr>\n",
       "    <tr>\n",
       "      <th>4751958</th>\n",
       "      <td>0.360730</td>\n",
       "      <td>0.000000</td>\n",
       "      <td>0.639270</td>\n",
       "    </tr>\n",
       "    <tr>\n",
       "      <th>12465340</th>\n",
       "      <td>0.000000</td>\n",
       "      <td>0.995105</td>\n",
       "      <td>0.004895</td>\n",
       "    </tr>\n",
       "    <tr>\n",
       "      <th>13523710</th>\n",
       "      <td>0.000000</td>\n",
       "      <td>1.000000</td>\n",
       "      <td>0.000000</td>\n",
       "    </tr>\n",
       "    <tr>\n",
       "      <th>14267375</th>\n",
       "      <td>0.941701</td>\n",
       "      <td>0.000000</td>\n",
       "      <td>0.058299</td>\n",
       "    </tr>\n",
       "    <tr>\n",
       "      <th>14579179</th>\n",
       "      <td>0.000000</td>\n",
       "      <td>0.189083</td>\n",
       "      <td>0.810917</td>\n",
       "    </tr>\n",
       "    <tr>\n",
       "      <th>16146440</th>\n",
       "      <td>0.000000</td>\n",
       "      <td>0.253421</td>\n",
       "      <td>0.746579</td>\n",
       "    </tr>\n",
       "    <tr>\n",
       "      <th>17856544</th>\n",
       "      <td>0.000000</td>\n",
       "      <td>1.000000</td>\n",
       "      <td>0.000000</td>\n",
       "    </tr>\n",
       "    <tr>\n",
       "      <th>19117456</th>\n",
       "      <td>0.000000</td>\n",
       "      <td>0.000000</td>\n",
       "      <td>1.000000</td>\n",
       "    </tr>\n",
       "    <tr>\n",
       "      <th>21289110</th>\n",
       "      <td>1.000000</td>\n",
       "      <td>0.000000</td>\n",
       "      <td>0.000000</td>\n",
       "    </tr>\n",
       "    <tr>\n",
       "      <th>23932217</th>\n",
       "      <td>0.000000</td>\n",
       "      <td>0.984244</td>\n",
       "      <td>0.015756</td>\n",
       "    </tr>\n",
       "    <tr>\n",
       "      <th>24929423</th>\n",
       "      <td>0.000000</td>\n",
       "      <td>1.000000</td>\n",
       "      <td>0.000000</td>\n",
       "    </tr>\n",
       "    <tr>\n",
       "      <th>28556914</th>\n",
       "      <td>0.000000</td>\n",
       "      <td>0.127105</td>\n",
       "      <td>0.872895</td>\n",
       "    </tr>\n",
       "    <tr>\n",
       "      <th>33614304</th>\n",
       "      <td>1.000000</td>\n",
       "      <td>0.000000</td>\n",
       "      <td>0.000000</td>\n",
       "    </tr>\n",
       "    <tr>\n",
       "      <th>36849200</th>\n",
       "      <td>0.000000</td>\n",
       "      <td>0.980459</td>\n",
       "      <td>0.019541</td>\n",
       "    </tr>\n",
       "    <tr>\n",
       "      <th>38226908</th>\n",
       "      <td>0.659855</td>\n",
       "      <td>0.000000</td>\n",
       "      <td>0.340145</td>\n",
       "    </tr>\n",
       "    <tr>\n",
       "      <th>45936895</th>\n",
       "      <td>0.000000</td>\n",
       "      <td>0.000000</td>\n",
       "      <td>1.000000</td>\n",
       "    </tr>\n",
       "    <tr>\n",
       "      <th>47918643</th>\n",
       "      <td>0.555986</td>\n",
       "      <td>0.000000</td>\n",
       "      <td>0.444014</td>\n",
       "    </tr>\n",
       "    <tr>\n",
       "      <th>61412022</th>\n",
       "      <td>0.000000</td>\n",
       "      <td>0.000000</td>\n",
       "      <td>1.000000</td>\n",
       "    </tr>\n",
       "    <tr>\n",
       "      <th>69798748</th>\n",
       "      <td>0.000000</td>\n",
       "      <td>0.000000</td>\n",
       "      <td>1.000000</td>\n",
       "    </tr>\n",
       "    <tr>\n",
       "      <th>72671522</th>\n",
       "      <td>0.000000</td>\n",
       "      <td>1.000000</td>\n",
       "      <td>0.000000</td>\n",
       "    </tr>\n",
       "    <tr>\n",
       "      <th>83222441</th>\n",
       "      <td>1.000000</td>\n",
       "      <td>0.000000</td>\n",
       "      <td>0.000000</td>\n",
       "    </tr>\n",
       "    <tr>\n",
       "      <th>84232645</th>\n",
       "      <td>0.000000</td>\n",
       "      <td>0.000000</td>\n",
       "      <td>1.000000</td>\n",
       "    </tr>\n",
       "    <tr>\n",
       "      <th>89187780</th>\n",
       "      <td>0.000000</td>\n",
       "      <td>0.000000</td>\n",
       "      <td>1.000000</td>\n",
       "    </tr>\n",
       "    <tr>\n",
       "      <th>94911145</th>\n",
       "      <td>0.000000</td>\n",
       "      <td>0.000000</td>\n",
       "      <td>1.000000</td>\n",
       "    </tr>\n",
       "    <tr>\n",
       "      <th>128624453</th>\n",
       "      <td>0.000000</td>\n",
       "      <td>0.000000</td>\n",
       "      <td>1.000000</td>\n",
       "    </tr>\n",
       "  </tbody>\n",
       "</table>\n",
       "</div>"
      ],
      "text/plain": [
       "             python         r  javascript\n",
       "repo                                     \n",
       "596892     1.000000  0.000000    0.000000\n",
       "1248263    0.652443  0.000000    0.347557\n",
       "1790564    0.000000  0.000000    1.000000\n",
       "4751958    0.360730  0.000000    0.639270\n",
       "12465340   0.000000  0.995105    0.004895\n",
       "13523710   0.000000  1.000000    0.000000\n",
       "14267375   0.941701  0.000000    0.058299\n",
       "14579179   0.000000  0.189083    0.810917\n",
       "16146440   0.000000  0.253421    0.746579\n",
       "17856544   0.000000  1.000000    0.000000\n",
       "19117456   0.000000  0.000000    1.000000\n",
       "21289110   1.000000  0.000000    0.000000\n",
       "23932217   0.000000  0.984244    0.015756\n",
       "24929423   0.000000  1.000000    0.000000\n",
       "28556914   0.000000  0.127105    0.872895\n",
       "33614304   1.000000  0.000000    0.000000\n",
       "36849200   0.000000  0.980459    0.019541\n",
       "38226908   0.659855  0.000000    0.340145\n",
       "45936895   0.000000  0.000000    1.000000\n",
       "47918643   0.555986  0.000000    0.444014\n",
       "61412022   0.000000  0.000000    1.000000\n",
       "69798748   0.000000  0.000000    1.000000\n",
       "72671522   0.000000  1.000000    0.000000\n",
       "83222441   1.000000  0.000000    0.000000\n",
       "84232645   0.000000  0.000000    1.000000\n",
       "89187780   0.000000  0.000000    1.000000\n",
       "94911145   0.000000  0.000000    1.000000\n",
       "128624453  0.000000  0.000000    1.000000"
      ]
     },
     "execution_count": 44,
     "metadata": {},
     "output_type": "execute_result"
    }
   ],
   "source": [
    "test_composition_actual"
   ]
  },
  {
   "cell_type": "code",
   "execution_count": 45,
   "metadata": {},
   "outputs": [],
   "source": [
    "combined_test_documents = test_dataset.groupby(by='repo').apply(concat_texts)"
   ]
  },
  {
   "cell_type": "markdown",
   "metadata": {},
   "source": [
    "## Topic Modelling on Individual Source Files\n",
    "\n",
    "Basically done, just need to copy it over. Maybe run on the bigger dataset?\n",
    "\n",
    "TODO:\n",
    "  - Copy work from documentation/daniel-jones.ipynb\n",
    "  - Add visualisation with pyldavis"
   ]
  },
  {
   "cell_type": "markdown",
   "metadata": {},
   "source": [
    "For our purposes, common words are important and rare words aren't. So we shouldn't use tf-idf as a metric, bag-of-words makes more sense. (TODO: Maybe: \"Similarly, filter out words that don't occur very often\").\n"
   ]
  },
  {
   "cell_type": "code",
   "execution_count": 8,
   "metadata": {},
   "outputs": [],
   "source": [
    "documents = minimal_dataset['documents']"
   ]
  },
  {
   "cell_type": "code",
   "execution_count": null,
   "metadata": {},
   "outputs": [],
   "source": [
    "tf_vectorizer = CountVectorizer(stop_words=None)\n",
    "tf = tf_vectorizer.fit_transform(documents)\n",
    "\n",
    "with open('../data/minimal_lda_tf.pickle', 'wb') as f:\n",
    "    pickle.dump(tf, f)\n",
    "    \n",
    "with open('../data/minimal_lda_tf_vectorizer.pickle', 'wb') as f:\n",
    "    pickle.dump(tf_vectorizer, f)"
   ]
  },
  {
   "cell_type": "markdown",
   "metadata": {},
   "source": [
    "We have four programming languages, try to use LDA to determine these four programming languages."
   ]
  },
  {
   "cell_type": "code",
   "execution_count": null,
   "metadata": {},
   "outputs": [],
   "source": [
    "number_of_languages = 4\n",
    "\n",
    "lda = LatentDirichletAllocation(n_topics=number_of_languages,  n_jobs=1)\n",
    "model = lda.fit(tf)\n",
    "\n",
    "with open('../data/minimal_lda_model.pickle', 'wb') as f:\n",
    "    pickle.dump(model, f)"
   ]
  },
  {
   "cell_type": "code",
   "execution_count": 9,
   "metadata": {},
   "outputs": [],
   "source": [
    "with open('../data/minimal_lda_model.pickle', 'rb') as f:\n",
    "    model = pickle.load(f)\n",
    "    \n",
    "with open('../data/minimal_lda_tf.pickle', 'rb') as f:\n",
    "    tf = pickle.load(f)\n",
    "    \n",
    "with open('../data/minimal_lda_tf_vectorizer.pickle', 'rb') as f:\n",
    "    tf_vectorizer = pickle.load(f)"
   ]
  },
  {
   "cell_type": "code",
   "execution_count": 10,
   "metadata": {
    "scrolled": true
   },
   "outputs": [
    {
     "data": {
      "text/html": [
       "\n",
       "<link rel=\"stylesheet\" type=\"text/css\" href=\"https://cdn.rawgit.com/bmabey/pyLDAvis/files/ldavis.v1.0.0.css\">\n",
       "\n",
       "\n",
       "<div id=\"ldavis_el37961401799325678569285054448\"></div>\n",
       "<script type=\"text/javascript\">\n",
       "\n",
       "var ldavis_el37961401799325678569285054448_data = {\"mdsDat\": {\"x\": [-0.17049805679754546, 0.33457975204282714, -0.21510936311724943, 0.051027667871967844], \"y\": [0.06842189969404983, -0.13716683259027473, -0.20309519487826092, 0.2718401277744859], \"topics\": [1, 2, 3, 4], \"cluster\": [1, 1, 1, 1], \"Freq\": [53.66114812290257, 17.800761664219735, 16.993208820578094, 11.544881392299612]}, \"tinfo\": {\"Category\": [\"Default\", \"Default\", \"Default\", \"Default\", \"Default\", \"Default\", \"Default\", \"Default\", \"Default\", \"Default\", \"Default\", \"Default\", \"Default\", \"Default\", \"Default\", \"Default\", \"Default\", \"Default\", \"Default\", \"Default\", \"Default\", \"Default\", \"Default\", \"Default\", \"Default\", \"Default\", \"Default\", \"Default\", \"Default\", \"Default\", \"Topic1\", \"Topic1\", \"Topic1\", \"Topic1\", \"Topic1\", \"Topic1\", \"Topic1\", \"Topic1\", \"Topic1\", \"Topic1\", \"Topic1\", \"Topic1\", \"Topic1\", \"Topic1\", \"Topic1\", \"Topic1\", \"Topic1\", \"Topic1\", \"Topic1\", \"Topic1\", \"Topic1\", \"Topic1\", \"Topic1\", \"Topic1\", \"Topic1\", \"Topic1\", \"Topic1\", \"Topic1\", \"Topic1\", \"Topic1\", \"Topic1\", \"Topic1\", \"Topic1\", \"Topic1\", \"Topic1\", \"Topic1\", \"Topic1\", \"Topic1\", \"Topic1\", \"Topic1\", \"Topic1\", \"Topic1\", \"Topic1\", \"Topic1\", \"Topic1\", \"Topic1\", \"Topic1\", \"Topic1\", \"Topic1\", \"Topic1\", \"Topic1\", \"Topic1\", \"Topic1\", \"Topic1\", \"Topic1\", \"Topic1\", \"Topic1\", \"Topic1\", \"Topic1\", \"Topic1\", \"Topic1\", \"Topic1\", \"Topic1\", \"Topic1\", \"Topic2\", \"Topic2\", \"Topic2\", \"Topic2\", \"Topic2\", \"Topic2\", \"Topic2\", \"Topic2\", \"Topic2\", \"Topic2\", \"Topic2\", \"Topic2\", \"Topic2\", \"Topic2\", \"Topic2\", \"Topic2\", \"Topic2\", \"Topic2\", \"Topic2\", \"Topic2\", \"Topic2\", \"Topic2\", \"Topic2\", \"Topic2\", \"Topic2\", \"Topic2\", \"Topic2\", \"Topic2\", \"Topic2\", \"Topic2\", \"Topic2\", \"Topic2\", \"Topic2\", \"Topic2\", \"Topic2\", \"Topic2\", \"Topic2\", \"Topic2\", \"Topic2\", \"Topic2\", \"Topic2\", \"Topic2\", \"Topic2\", \"Topic2\", \"Topic2\", \"Topic2\", \"Topic2\", \"Topic2\", \"Topic2\", \"Topic2\", \"Topic2\", \"Topic2\", \"Topic2\", \"Topic2\", \"Topic2\", \"Topic2\", \"Topic2\", \"Topic2\", \"Topic3\", \"Topic3\", \"Topic3\", \"Topic3\", \"Topic3\", \"Topic3\", \"Topic3\", \"Topic3\", \"Topic3\", \"Topic3\", \"Topic3\", \"Topic3\", \"Topic3\", \"Topic3\", \"Topic3\", \"Topic3\", \"Topic3\", \"Topic3\", \"Topic3\", \"Topic3\", \"Topic3\", \"Topic3\", \"Topic3\", \"Topic3\", \"Topic3\", \"Topic3\", \"Topic3\", \"Topic3\", \"Topic3\", \"Topic3\", \"Topic3\", \"Topic3\", \"Topic3\", \"Topic3\", \"Topic3\", \"Topic3\", \"Topic3\", \"Topic3\", \"Topic3\", \"Topic3\", \"Topic3\", \"Topic3\", \"Topic3\", \"Topic3\", \"Topic3\", \"Topic3\", \"Topic3\", \"Topic3\", \"Topic3\", \"Topic3\", \"Topic3\", \"Topic3\", \"Topic3\", \"Topic3\", \"Topic3\", \"Topic3\", \"Topic3\", \"Topic3\", \"Topic3\", \"Topic3\", \"Topic3\", \"Topic3\", \"Topic3\", \"Topic3\", \"Topic3\", \"Topic3\", \"Topic3\", \"Topic3\", \"Topic3\", \"Topic3\", \"Topic3\", \"Topic4\", \"Topic4\", \"Topic4\", \"Topic4\", \"Topic4\", \"Topic4\", \"Topic4\", \"Topic4\", \"Topic4\", \"Topic4\", \"Topic4\", \"Topic4\", \"Topic4\", \"Topic4\", \"Topic4\", \"Topic4\", \"Topic4\", \"Topic4\", \"Topic4\", \"Topic4\", \"Topic4\", \"Topic4\", \"Topic4\", \"Topic4\", \"Topic4\", \"Topic4\", \"Topic4\", \"Topic4\", \"Topic4\", \"Topic4\", \"Topic4\", \"Topic4\", \"Topic4\", \"Topic4\", \"Topic4\", \"Topic4\", \"Topic4\", \"Topic4\", \"Topic4\", \"Topic4\", \"Topic4\", \"Topic4\", \"Topic4\", \"Topic4\", \"Topic4\", \"Topic4\", \"Topic4\", \"Topic4\", \"Topic4\", \"Topic4\", \"Topic4\", \"Topic4\", \"Topic4\", \"Topic4\", \"Topic4\", \"Topic4\", \"Topic4\", \"Topic4\", \"Topic4\", \"Topic4\", \"Topic4\", \"Topic4\", \"Topic4\", \"Topic4\", \"Topic4\", \"Topic4\", \"Topic4\", \"Topic4\", \"Topic4\", \"Topic4\"], \"Freq\": [76787.0, 28422.0, 35518.0, 93096.0, 71532.0, 75532.0, 26333.0, 19823.0, 78705.0, 26520.0, 18618.0, 13422.0, 19257.0, 15713.0, 12159.0, 18062.0, 21713.0, 16822.0, 14036.0, 74742.0, 34335.0, 50512.0, 16313.0, 8955.0, 16616.0, 7860.0, 10334.0, 8276.0, 7548.0, 23687.0, 71531.5762159158, 23314.118375552764, 13441.369400600503, 11944.62845991082, 12110.402706087983, 10790.538197076816, 10599.15590678311, 9748.638034900934, 7897.85598282713, 6763.046737243301, 6924.6884123546215, 6604.765604914423, 6943.883996966624, 6451.16273429092, 6125.427319333762, 5948.785270909246, 5134.528133499474, 5543.695025510577, 4784.303115192239, 5350.204822351781, 4394.444091151431, 4303.221069119547, 4162.872386574487, 4500.202816361437, 4065.098801406662, 4082.7909413660363, 3771.176282581617, 3821.829178459878, 3593.5094004207804, 3485.108538594093, 75383.45402430862, 92679.62074099842, 77320.90551448228, 15711.571088288634, 14321.65895752348, 21672.825275828032, 9255.074819495218, 9162.97815527113, 11147.531618290514, 8448.90712556894, 7373.463756687846, 8747.819378691318, 7028.808238163777, 5749.304426748358, 20133.931588835057, 21010.27051955013, 48241.5649145209, 70402.4731258709, 20099.87152086409, 8201.860133183602, 28868.832447676676, 12885.844622438975, 9997.054929981281, 35287.45756719342, 31105.926521223457, 10532.210532220392, 26621.255245533033, 14317.830794075293, 14735.185584638588, 21099.20094350797, 24633.75380103511, 15693.002941667028, 14811.364652077416, 13411.858390988891, 8775.670510819537, 5555.087675694316, 5255.5051178747, 4582.409953698283, 3585.8455521707037, 3429.0094255170156, 3122.7541863005254, 2728.8778045380823, 2745.9309045603122, 2645.427671898577, 2492.6028401975764, 2504.731588367604, 2302.4511213520905, 2568.1477296589087, 2190.06223006072, 2225.29129462055, 2013.3979938737414, 2128.932862372996, 1918.18192028952, 2385.6691699872185, 2750.1036549124906, 1854.6967277122033, 1761.2636318383172, 1747.1052595244212, 7907.79530931315, 1639.3417892521286, 1631.2019457497206, 2439.5290102370445, 1612.7120993272258, 3939.191594149775, 6371.878115841749, 5650.71991949587, 5607.9523394564185, 4644.150782821825, 4232.683329979213, 4618.455008066555, 4920.568670562344, 6061.811739946548, 4343.9501320627505, 3016.9510975899016, 9343.602738941227, 2932.9516059801003, 4294.447561776598, 7685.321777390289, 10182.457624768718, 8910.600024404872, 13597.992732934174, 4204.623297298313, 18256.905061208156, 4908.230853242662, 3967.0421111770797, 8916.508590934196, 10115.857445427704, 5832.096353058298, 7509.19056830696, 12882.72055022662, 5221.406784650453, 5608.853669920936, 8985.189157418323, 8070.563431374479, 4827.656078009537, 4480.762807699128, 3543.114321342521, 2801.1942082085407, 2651.6865909744874, 2432.0847224616055, 1964.1081606465189, 1842.839595748706, 2113.292100906967, 1161.6450496586895, 1150.739985531647, 1085.2005249955114, 1076.8575145381508, 1061.1005918259934, 975.0523246336509, 1182.0741106237451, 948.9089909289954, 908.3484524354411, 826.7216245539685, 800.0434220691023, 15698.628788307422, 739.237876332444, 774.3956094171251, 743.1585413680511, 726.3379584475981, 708.5934643394736, 708.1197851134094, 707.8035638261068, 5942.756180204865, 19481.727602879007, 7095.515323829177, 1667.5830973398354, 1695.0999428870252, 1824.8672402486256, 1381.3799311563273, 1103.2378965684954, 73454.82666599566, 1253.4568906880272, 4919.014680516884, 8880.87232165161, 3159.1698375486926, 2778.928708836317, 2025.161016103451, 6161.457128391897, 2536.375981769137, 14443.874660677164, 3463.854008933462, 5259.480049054342, 6406.379009878254, 7224.552373220598, 14974.127875549546, 17233.263171943665, 3279.1820625841033, 4616.727811298913, 4179.488928212208, 3875.2205628878423, 4319.757298570225, 6198.117846119104, 7680.452974605883, 7580.4495698157125, 5549.214351964299, 8760.56339220225, 9686.440932491461, 5727.011996085178, 6050.949941149257, 4489.762209761371, 6529.633616442543, 5895.0918547492865, 5317.403123188758, 7860.139351696628, 7548.032392618547, 12157.684443634873, 3792.589752409129, 1941.34556005344, 1293.4818347384867, 2753.3334288049978, 3069.9924980793544, 821.1712444607848, 1349.0171596803714, 831.5432229093957, 685.4774516532514, 3848.9959172859567, 675.4879527621423, 584.4380803447494, 610.9843679871351, 3945.8281982611315, 454.7865134409699, 436.34004518383995, 1209.0962612218636, 420.07209373979356, 420.2728818426409, 389.79040594707965, 363.07875276224235, 338.3241818851464, 324.9777917811077, 423.09317455323117, 1032.0079094627717, 274.5776881333917, 272.9744159864762, 13230.656097615647, 1011.4077822103767, 575.5700525331679, 2271.7585175671134, 544.7947866030875, 468.7567478450455, 2202.928706220712, 2448.670029504111, 1444.9184941209587, 8623.247994525529, 1464.3914097820452, 1663.4396601386513, 2187.5181689157926, 26136.46049669996, 1213.6025541919175, 7546.761036516293, 1517.1493302979309, 1061.6018147598522, 4516.349076366647, 2783.143067374033, 2447.870929374073, 1890.4105258295858, 25303.791250381222, 3531.9379692303937, 13905.857007849585, 3754.111068216355, 4381.802304562477, 17418.249385170584, 4506.570774715551, 3107.3735939109824, 10511.86937259614, 5130.621772204669, 5762.00314271008, 8875.248414554944, 3771.316900725383, 6152.414620987016, 4765.756501872286, 3483.098033892967, 4964.224769818619, 3281.604912181331], \"Term\": [\"self\", \"react\", \"from\", \"this\", \"the\", \"if\", \"default\", \"def\", \"function\", \"import\", \"nimport\", \"nexport\", \"12\", \"nfrom\", \"createsvgicon\", \"path\", \"none\", \"user\", \"16\", \"return\", \"in\", \"var\", \"as\", \"fragment\", \"10\", \"xd0\", \"24\", \"classname\", \"xe0\", \"name\", \"the\", \"of\", \"it\", \"options\", \"be\", \"that\", \"or\", \"error\", \"an\", \"expect\", \"element\", \"render\", \"are\", \"should\", \"param\", \"tif\", \"will\", \"values\", \"foo\", \"no\", \"when\", \"find\", \"treturn\", \"obj\", \"elem\", \"let\", \"wrapper\", \"attr\", \"version\", \"each\", \"if\", \"this\", \"function\", \"else\", \"new\", \"value\", \"we\", \"event\", \"key\", \"use\", \"exports\", \"string\", \"license\", \"args\", \"length\", \"null\", \"var\", \"return\", \"and\", \"set\", \"is\", \"object\", \"code\", \"to\", \"for\", \"text\", \"true\", \"const\", \"type\", \"data\", \"in\", \"false\", \"name\", \"assert\", \"48\", \"26\", \"33\", \"35\", \"expect_equal\", \"49\", \"51\", \"ntest_that\", \"46\", \"57\", \"96\", \"66\", \"63\", \"52\", \"373\", \"71\", \"62\", \"69\", \"76\", \"54\", \"56\", \"88\", \"627\", \"84\", \"21\", \"73\", \"82\", \"53\", \"78\", \"67\", \"22\", \"28\", \"19\", \"34\", \"512\", \"29\", \"39\", \"18\", \"23\", \"44\", \"32\", \"58\", \"41\", \"17\", \"24\", \"13\", \"16\", \"64\", \"12\", \"31\", \"27\", \"14\", \"11\", \"25\", \"15\", \"10\", \"20\", \"45\", \"ndef\", \"assertequal\", \"django\", \"user_profile\", \"zerver\", \"status_code\", \"kwargs\", \"migrations\", \"__init__\", \"pytest\", \"hamlet\", \"example_email\", \"asserttrue\", \"classmethod\", \"example_user\", \"is_valid\", \"graphene\", \"expected_message\", \"api_link\", \"__future__\", \"model_name\", \"ujson\", \"nfrom\", \"assertfalse\", \"unicode_literals\", \"expected_topic\", \"charfield\", \"user_acl\", \"admin_client\", \"return_value\", \"realm\", \"def\", \"models\", \"isinstance\", \"userprofile\", \"elif\", \"subreddit\", \"valueerror\", \"self\", \"admin\", \"dict\", \"response\", \"pk\", \"raise\", \"product\", \"email\", \"cls\", \"user\", \"zulip\", \"nclass\", \"request\", \"str\", \"none\", \"import\", \"client\", \"thread\", \"category\", \"objects\", \"post\", \"get\", \"id\", \"not\", \"result\", \"name\", \"in\", \"message\", \"assert\", \"url\", \"true\", \"data\", \"for\", \"xd0\", \"xe0\", \"createsvgicon\", \"xd1\", \"xd9\", \"xd5\", \"xd8\", \"0h24v24h0v0z\", \"withstyles\", \"typography\", \"snackbar\", \"0h24v24h0z\", \"material\", \"nplot\", \"markdowndocs\", \"plot_height\", \"xe1\", \"add_layout\", \"nshow\", \"xce\", \"m19\", \"line_color\", \"formcontrol\", \"iconbutton\", \"noutput_file\", \"linearaxis\", \"listitem\", \"xd7\", \"2v5c0\", \"toolbar_location\", \"nexport\", \"xe6\", \"plot_width\", \"xb5\", \"xcf\", \"xec\", \"xa4\", \"x83\", \"x9e\", \"fragment\", \"xbd\", \"xb4\", \"xc3\", \"react\", \"xbf\", \"classname\", \"xb0\", \"xa5\", \"proptypes\", \"x80\", \"xb8\", \"gettext\", \"from\", \"m0\", \"nimport\", \"classes\", \"theme\", \"default\", \"createelement\", \"xe2\", \"path\", \"utils\", \"props\", \"import\", \"button\", \"as\", \"div\", \"fill\", \"none\", \"ui\"], \"Total\": [76787.0, 28422.0, 35518.0, 93096.0, 71532.0, 75532.0, 26333.0, 19823.0, 78705.0, 26520.0, 18618.0, 13422.0, 19257.0, 15713.0, 12159.0, 18062.0, 21713.0, 16822.0, 14036.0, 74742.0, 34335.0, 50512.0, 16313.0, 8955.0, 16616.0, 7860.0, 10334.0, 8276.0, 7548.0, 23687.0, 71532.33827324439, 23314.9213655403, 13442.104197884266, 11945.392786185233, 12111.178002713159, 10791.313410572558, 10600.105663359696, 9749.527312061326, 7898.68628126962, 6763.760860921248, 6925.4206044579605, 6605.51012600276, 6944.680049638876, 6451.9083698687145, 6126.153037192501, 5949.5006619247915, 5135.275451272646, 5544.516578836984, 4785.053215959941, 5351.077395704079, 4395.187218481435, 4303.9570716834605, 4163.586390747376, 4500.983197389691, 4065.8119518237395, 4083.521844699419, 3771.90765530384, 3822.5820559890158, 3594.2526191901266, 3485.8466619203346, 75532.8277666101, 93096.294402732, 78705.21868793233, 15739.469653395687, 14335.20102204415, 21814.028785438175, 9260.236456978297, 9170.77855365649, 11191.726103153453, 8462.624566897684, 7379.261253068549, 8781.229893316891, 7044.088020561369, 5751.038056204535, 20605.032306683504, 21534.63753531464, 50512.03949784867, 74742.26522392403, 20731.70300235176, 8256.713452217458, 30950.48335540427, 13266.478324341713, 10177.586889123753, 39556.085568982315, 36533.660113306, 10933.048124080498, 33151.423650289864, 16030.78207531458, 16631.042165459337, 27079.816984416346, 34335.688463508995, 20045.57877530655, 23687.58454991684, 19463.338392911483, 8776.37291302736, 5555.770349541208, 5256.244670329695, 4583.112968613452, 3586.5128094694574, 3429.6938187180976, 3123.494299274231, 2729.5448165993844, 2746.6058610475093, 2646.142674458571, 2493.2896693546086, 2505.4372944026063, 2303.121077899065, 2568.9084522917497, 2190.7227961418043, 2225.9644623025765, 2014.0660919676754, 2129.6635361175395, 1918.8553290031437, 2386.5251038837096, 2751.1196405967444, 1855.3823238337125, 1761.9196331829564, 1747.770248030332, 7910.951064786229, 1640.0159912172956, 1631.8749245154688, 2440.5458981799966, 1613.3910902230627, 3940.888237487681, 6384.8052039932, 5659.581231736911, 5624.261376227327, 4649.086081278456, 4238.608235662848, 4635.729299903474, 4942.641181799957, 6108.306775232582, 4362.720609991424, 3020.9020649780246, 9464.945734300496, 2936.782678429668, 4318.62377611249, 7774.587616483963, 10334.294692219337, 9071.082563766477, 14036.390500983734, 4245.369402201531, 19257.15550533714, 4975.988831835567, 4023.0988829342514, 9384.222242833275, 10840.563955888263, 6107.14449036935, 8270.48126782388, 16616.060274526048, 6367.147909587986, 8100.099275207182, 8985.926795134275, 8071.290086010818, 4828.381451393734, 4481.4905968821995, 3543.8599437804573, 2801.9174629863946, 2652.4190493939755, 2432.81172613344, 1964.8559869902774, 1843.7561582586552, 2114.382107229447, 1162.3691570091225, 1151.4635266361026, 1085.9286393058778, 1077.5828859089029, 1061.8303139091786, 975.7798749258367, 1182.9568136432954, 949.6334475928707, 909.129580609294, 827.4464953656187, 800.7691446299357, 15713.059959496475, 739.9610889159768, 775.1579180295544, 743.8954095246269, 727.0627151728513, 709.316743170656, 708.8431974021549, 708.5268301519706, 5964.348031270713, 19823.074200299514, 7164.020025894065, 1670.1319256435677, 1698.7594031168362, 1832.1518016460739, 1385.9262101286035, 1104.718657455218, 76787.86537664248, 1261.3441799822383, 5111.034355251054, 9405.74935080925, 3249.442170622555, 2850.676309975858, 2063.9408055688314, 6540.90693236394, 2638.9563224216954, 16822.69015935666, 3746.2981384428285, 5872.057464458774, 7447.665867006678, 9024.955540305582, 21713.103819632066, 26520.25322310134, 3701.168738058585, 5639.803211845257, 5095.989368272355, 4731.746075190386, 6053.18520823157, 11412.50853583716, 16641.784473086514, 17368.5881260019, 9888.403960149144, 23687.58454991684, 34335.688463508995, 12084.066186019674, 19463.338392911483, 7875.586946788322, 33151.423650289864, 27079.816984416346, 36533.660113306, 7860.835654065688, 7548.803455158319, 12159.814428801856, 3793.297947808511, 1942.0900974910094, 1294.2709279097796, 2755.015655744271, 3072.2139682902616, 821.8700331512792, 1350.1701128807026, 832.2714191945868, 686.1680840414537, 3852.889526239056, 676.1814509720997, 585.122608296435, 611.7239717120167, 3951.298076323524, 455.4760420764633, 437.029186765784, 1211.017728855576, 420.7672551237706, 420.9704887596009, 390.4899247046266, 363.76473878915255, 339.01367452154966, 325.66911866643306, 424.13168475449254, 1034.5692628196682, 275.2658679166891, 273.6660025138536, 13422.504328828963, 1014.1083571440071, 577.4487266344809, 2312.6130126918856, 546.9096595581752, 470.0046362241031, 2243.593503416439, 2496.587780242106, 1465.4681970328538, 8955.595562897726, 1487.0255176415312, 1699.4073477236082, 2248.312348546378, 28422.863801483887, 1241.4773696890368, 8276.00769187809, 1563.0314063494131, 1081.5153692297438, 4899.945260960806, 2961.8468530083383, 2614.6590091774074, 2012.1203079915283, 35518.68845939204, 4032.2494468143686, 18618.241233040353, 4406.066268897353, 5290.645351664439, 26333.112556637796, 5809.050619726426, 3715.4164268489544, 18062.283987050265, 7309.065558419117, 10334.712204607564, 26520.25322310134, 5993.534880649775, 16313.42757976747, 11566.05140273882, 6022.766771809179, 21713.103819632066, 7342.754501913136], \"loglift\": [30.0, 29.0, 28.0, 27.0, 26.0, 25.0, 24.0, 23.0, 22.0, 21.0, 20.0, 19.0, 18.0, 17.0, 16.0, 15.0, 14.0, 13.0, 12.0, 11.0, 10.0, 9.0, 8.0, 7.0, 6.0, 5.0, 4.0, 3.0, 2.0, 1.0, 0.6225, 0.6224, 0.6224, 0.6224, 0.6224, 0.6224, 0.6224, 0.6224, 0.6224, 0.6224, 0.6224, 0.6224, 0.6224, 0.6224, 0.6224, 0.6224, 0.6223, 0.6223, 0.6223, 0.6223, 0.6223, 0.6223, 0.6223, 0.6223, 0.6223, 0.6223, 0.6223, 0.6223, 0.6223, 0.6223, 0.6205, 0.618, 0.6047, 0.6207, 0.6215, 0.616, 0.6219, 0.6216, 0.6185, 0.6209, 0.6217, 0.6187, 0.6203, 0.6222, 0.5994, 0.5978, 0.5765, 0.5627, 0.5915, 0.6158, 0.5529, 0.5934, 0.6046, 0.5083, 0.4616, 0.5851, 0.4031, 0.5095, 0.5014, 0.3729, 0.2904, 0.3777, 0.1529, 0.2501, 1.7258, 1.7258, 1.7258, 1.7258, 1.7257, 1.7257, 1.7257, 1.7257, 1.7257, 1.7257, 1.7257, 1.7256, 1.7256, 1.7256, 1.7256, 1.7256, 1.7256, 1.7256, 1.7256, 1.7256, 1.7256, 1.7256, 1.7256, 1.7255, 1.7255, 1.7255, 1.7255, 1.7255, 1.7255, 1.7255, 1.7239, 1.7244, 1.723, 1.7249, 1.7245, 1.7222, 1.7215, 1.7183, 1.7216, 1.7246, 1.713, 1.7246, 1.7203, 1.7144, 1.7111, 1.7081, 1.6942, 1.7163, 1.6726, 1.7122, 1.7119, 1.6748, 1.6567, 1.6798, 1.6294, 1.4714, 1.5275, 1.3584, 1.7723, 1.7723, 1.7722, 1.7722, 1.7721, 1.7721, 1.7721, 1.7721, 1.772, 1.7719, 1.7718, 1.7717, 1.7717, 1.7717, 1.7717, 1.7717, 1.7716, 1.7716, 1.7716, 1.7715, 1.7715, 1.7714, 1.7714, 1.7714, 1.7714, 1.7714, 1.7714, 1.7713, 1.7713, 1.7713, 1.7687, 1.755, 1.7627, 1.7708, 1.7702, 1.7684, 1.7691, 1.771, 1.728, 1.7661, 1.7341, 1.7149, 1.7442, 1.7469, 1.7534, 1.7126, 1.7327, 1.6199, 1.694, 1.6622, 1.6217, 1.5498, 1.4008, 1.3413, 1.6513, 1.5722, 1.5741, 1.5727, 1.435, 1.1619, 0.9991, 0.9433, 1.1947, 0.7777, 0.5069, 1.0257, 0.604, 1.2104, 0.1476, 0.2477, -0.1549, 2.1588, 2.1588, 2.1588, 2.1587, 2.1585, 2.1583, 2.1583, 2.1582, 2.1581, 2.1581, 2.1581, 2.1579, 2.1579, 2.1579, 2.1578, 2.1577, 2.1575, 2.1574, 2.1573, 2.1573, 2.1573, 2.1573, 2.1571, 2.157, 2.1569, 2.1568, 2.1565, 2.1564, 2.1564, 2.1564, 2.1445, 2.1563, 2.1557, 2.1411, 2.1551, 2.1563, 2.1406, 2.1395, 2.1448, 2.1211, 2.1436, 2.1375, 2.1315, 2.0751, 2.1362, 2.0667, 2.1291, 2.1403, 2.0774, 2.0967, 2.093, 2.0965, 1.8198, 2.0265, 1.8671, 1.9988, 1.9704, 1.7456, 1.905, 1.9802, 1.6176, 1.805, 1.5747, 1.0643, 1.6957, 1.1838, 1.2723, 1.6113, 0.6833, 1.3535], \"logprob\": [30.0, 29.0, 28.0, 27.0, 26.0, 25.0, 24.0, 23.0, 22.0, 21.0, 20.0, 19.0, 18.0, 17.0, 16.0, 15.0, 14.0, 13.0, 12.0, 11.0, 10.0, 9.0, 8.0, 7.0, 6.0, 5.0, 4.0, 3.0, 2.0, 1.0, -3.8881, -5.0092, -5.5599, -5.678, -5.6642, -5.7796, -5.7975, -5.8811, -6.0917, -6.2468, -6.2232, -6.2705, -6.2204, -6.294, -6.3458, -6.3751, -6.5223, -6.4456, -6.5929, -6.4811, -6.6779, -6.6989, -6.732, -6.6541, -6.7558, -6.7515, -6.8309, -6.8175, -6.8791, -6.9097, -3.8357, -3.6291, -3.8103, -5.4039, -5.4965, -5.0822, -5.9331, -5.9431, -5.747, -6.0242, -6.1604, -5.9894, -6.2082, -6.4092, -5.1558, -5.1132, -4.282, -3.904, -5.1575, -6.0539, -4.7955, -5.6021, -5.856, -4.5947, -4.7209, -5.8038, -4.8765, -5.4967, -5.468, -5.109, -4.9541, -5.405, -5.4629, -5.5621, -4.8828, -5.3401, -5.3955, -5.5326, -5.7778, -5.8225, -5.9161, -6.0509, -6.0447, -6.082, -6.1415, -6.1366, -6.2208, -6.1116, -6.2709, -6.2549, -6.355, -6.2992, -6.4034, -6.1853, -6.0432, -6.4371, -6.4888, -6.4968, -4.987, -6.5605, -6.5655, -6.163, -6.5769, -5.6838, -5.2029, -5.323, -5.3306, -5.5192, -5.612, -5.5247, -5.4614, -5.2528, -5.586, -5.9506, -4.8201, -5.9788, -5.5975, -5.0155, -4.7341, -4.8676, -4.4449, -5.6186, -4.1503, -5.4639, -5.6768, -4.8669, -4.7407, -5.2914, -5.0387, -4.4989, -5.402, -5.3305, -4.8128, -4.9201, -5.434, -5.5086, -5.7434, -5.9783, -6.0332, -6.1196, -6.3333, -6.3971, -6.2601, -6.8585, -6.868, -6.9266, -6.9343, -6.9491, -7.0336, -6.8411, -7.0608, -7.1045, -7.1987, -7.2315, -4.2548, -7.3105, -7.264, -7.3052, -7.3281, -7.3528, -7.3535, -7.354, -5.2262, -4.0389, -5.0489, -6.497, -6.4806, -6.4069, -6.6853, -6.9101, -2.7117, -6.7825, -5.4153, -4.8245, -5.8581, -5.9863, -6.3027, -5.1901, -6.0776, -4.3381, -5.766, -5.3483, -5.1511, -5.0309, -4.302, -4.1615, -5.8208, -5.4787, -5.5782, -5.6538, -5.5452, -5.1841, -4.9697, -4.9828, -5.2947, -4.8381, -4.7376, -5.2632, -5.2082, -5.5066, -5.132, -5.2343, -5.3374, -4.56, -4.6005, -4.1238, -5.2888, -5.9584, -6.3645, -5.609, -5.5001, -6.8188, -6.3224, -6.8063, -6.9994, -5.274, -7.0141, -7.1589, -7.1145, -5.2491, -7.4097, -7.4511, -6.4319, -7.4891, -7.4887, -7.5639, -7.6349, -7.7056, -7.7458, -7.482, -6.5903, -7.9143, -7.9202, -4.0393, -6.6105, -7.1742, -5.8012, -7.2291, -7.3795, -5.832, -5.7263, -6.2537, -4.4673, -6.2404, -6.1129, -5.839, -3.3585, -6.4282, -4.6007, -6.205, -6.562, -5.1141, -5.5982, -5.7266, -5.985, -3.3908, -5.36, -3.9895, -5.2989, -5.1443, -3.7643, -5.1163, -5.488, -4.2693, -4.9866, -4.8705, -4.4385, -5.2944, -4.805, -5.0603, -5.3739, -5.0195, -5.4335]}, \"token.table\": {\"Topic\": [2, 4, 4, 1, 2, 3, 4, 1, 2, 3, 4, 1, 2, 3, 4, 1, 2, 3, 4, 1, 2, 3, 4, 1, 2, 3, 4, 1, 2, 4, 1, 2, 3, 4, 1, 2, 3, 4, 2, 3, 4, 1, 2, 3, 4, 2, 3, 2, 3, 4, 1, 2, 3, 4, 1, 2, 3, 4, 1, 2, 3, 4, 2, 1, 2, 4, 2, 3, 4, 1, 2, 4, 1, 2, 3, 4, 1, 2, 3, 2, 2, 4, 2, 2, 1, 2, 3, 4, 2, 4, 2, 3, 2, 3, 4, 2, 2, 2, 2, 2, 3, 2, 2, 3, 2, 2, 4, 2, 2, 4, 2, 2, 2, 1, 2, 3, 2, 2, 4, 2, 2, 2, 2, 2, 2, 2, 2, 2, 3, 3, 4, 1, 3, 4, 3, 1, 1, 2, 3, 3, 1, 1, 3, 1, 3, 4, 1, 3, 3, 3, 3, 1, 1, 1, 4, 1, 3, 4, 3, 1, 2, 4, 3, 1, 4, 1, 3, 1, 2, 3, 1, 2, 3, 1, 4, 1, 2, 4, 2, 4, 1, 2, 3, 1, 3, 1, 2, 3, 4, 1, 3, 1, 4, 3, 1, 1, 1, 1, 3, 1, 2, 4, 1, 3, 4, 1, 1, 4, 3, 3, 1, 2, 3, 3, 1, 4, 1, 3, 4, 1, 2, 3, 4, 1, 1, 1, 2, 3, 4, 1, 4, 1, 3, 4, 1, 2, 4, 1, 2, 3, 1, 3, 4, 3, 2, 3, 4, 1, 2, 3, 4, 1, 2, 3, 1, 3, 4, 1, 2, 3, 1, 3, 3, 1, 3, 1, 1, 2, 4, 3, 1, 2, 1, 1, 2, 4, 4, 1, 4, 2, 4, 4, 4, 1, 4, 1, 3, 4, 3, 3, 1, 3, 4, 1, 3, 4, 1, 3, 4, 3, 1, 2, 1, 4, 3, 4, 1, 3, 4, 1, 1, 2, 3, 4, 1, 2, 3, 4, 4, 4, 2, 1, 2, 4, 1, 1, 2, 4, 1, 3, 1, 1, 1, 1, 1, 2, 3, 4, 1, 3, 4, 1, 4, 1, 3, 4, 1, 2, 3, 1, 4, 1, 4, 3, 1, 3, 1, 2, 4, 1, 3, 1, 1, 3, 1, 3, 1, 3, 1, 2, 3, 4, 3, 1, 3, 1, 3, 1, 4, 3, 1, 3, 1, 4, 1, 3, 1, 2, 4, 1, 1, 1, 4, 1, 4, 1, 3, 4, 1, 1, 3, 4, 1, 1, 3, 1, 3, 2, 4, 1, 4, 3, 3, 1, 3, 4, 1, 2, 1, 2, 3, 4, 3, 3, 1, 3, 1, 2, 3, 4, 1, 4, 1, 3, 1, 1, 2, 4, 1, 1, 2, 1, 1, 4, 1, 1, 4, 1, 4, 1, 4, 1, 4, 1, 4, 1, 4, 1, 4, 1, 4, 1, 4, 1, 4, 1, 4, 1, 3, 4, 1, 4, 1, 4, 4, 4, 4, 1, 4, 1, 4, 4, 4, 1, 2, 4, 1, 4, 1, 4, 1, 4, 3, 1, 2, 3], \"Freq\": [0.0006509963240330664, 0.9992793573907569, 0.9982976706894122, 0.10947240019276379, 0.7753342120304431, 0.053442271232091394, 0.06174748905870019, 0.0229692847174017, 0.9331617839407053, 0.009224612336305903, 0.0346845423845102, 0.015994054776918506, 0.9480631755266271, 0.0063353074116365505, 0.029651315836430086, 0.01355957231514032, 0.9823524300830521, 0.0034174531851166663, 0.0007716829772844086, 0.02674702212979755, 0.9502119375753177, 0.022484548483614673, 0.0006393710469274315, 0.050299370318198845, 0.9079278166330652, 0.035548112676803995, 0.00616650934189457, 0.02863984155839965, 0.9687675758983045, 0.0025647619306029537, 0.005016343235660601, 0.9884768657961979, 0.000385872556589277, 0.006045336719898673, 0.0027830953201188396, 0.9924190488564945, 0.002455672341281329, 0.002455672341281329, 0.9971087090126962, 0.0016002101250203755, 0.0012446078750158475, 0.07397346609315349, 0.8199903746759116, 0.04209105926319562, 0.06376481365991575, 0.9996269646010876, 0.0003792211550079999, 0.9979944252668521, 0.0014095966458571357, 0.00046986554861904524, 0.0006876443091793351, 0.9957089596916772, 0.0032090067761702304, 0.00045842953945289007, 0.0009676519102487926, 0.9852631750153207, 0.01045064063068696, 0.003193251303821016, 0.023415198416461832, 0.9549471130405972, 0.0027836249865723856, 0.018830404320930843, 0.9998613424434882, 0.01367105348399632, 0.9860558031093346, 0.0002485646087999331, 0.9984837691367003, 0.0005300745544877191, 0.0010601491089754383, 0.0036671684000948836, 0.9961755100963632, 0.9990341413604916, 0.004823161950535722, 0.986336618884555, 0.006430882600714296, 0.002210615893995539, 0.010248341905276518, 0.9872217192051936, 0.0026413252333186902, 0.9999534514953089, 0.9989060040641241, 0.0008603841550939915, 0.9997571588086365, 0.9996700649926694, 0.0024278517413295155, 0.9956215349235455, 0.00020232097844412629, 0.0018208888059971365, 0.9942982354127046, 0.005557325954798535, 0.998708311327513, 0.0009930808531596086, 0.6924606488673604, 0.0002469105540621716, 0.3072801845303726, 0.9997794146382262, 0.9999575094368647, 0.9997977024321206, 0.9998417479825894, 0.9986768685967103, 0.0011796324930270616, 0.9996463664203606, 0.9997763212810693, 0.00040974439396765133, 0.9997799713554846, 0.9995930236619948, 0.00036348837224072536, 0.999568173526847, 0.9987119651523924, 0.0010215260468657268, 0.9994706767707737, 0.999478050436787, 0.9995132353614307, 0.0018844061004094066, 0.9904909565276944, 0.0077731751641888025, 0.9998254618450906, 0.9995208599244914, 0.0002537499009709295, 0.9996884314792988, 0.9995667216081343, 0.9993804992007782, 0.9995542503959441, 0.9997575973826602, 0.9994638532020286, 0.9995592967489864, 0.9997939379777412, 0.9998838204167896, 0.998757514183471, 0.9995643512827682, 0.9989548471654117, 0.004756830130285684, 0.9933846922079937, 0.0015856100434285614, 0.998810459908136, 0.9999131145047186, 0.9695296135450089, 9.64706083129362e-05, 0.030388241618574903, 0.9993329556846631, 0.999902076174278, 0.9996456194195522, 0.00017388165236033263, 0.6208382604132272, 0.002022873478834567, 0.377112655811826, 0.6890904185730352, 0.31089219525689205, 0.9999640595236043, 0.9987011628984643, 0.9995974456633839, 0.9998477322447261, 0.999902734258146, 0.37073280530555736, 0.6291779517584414, 0.13343826897161168, 0.8200566559299488, 0.04631092864308876, 0.9985383445600031, 0.14366556501167022, 0.0043122365485335455, 0.8520071580628911, 0.9991448431579525, 0.08808595003064414, 0.9119131205504407, 0.1137478536633355, 0.8859363709312994, 0.03220970323676972, 0.006441940647353944, 0.9609859695111531, 0.9822564139131313, 0.0015720818868270583, 0.016113839339977346, 0.8931566739995765, 0.10679454015136716, 0.2239608647206572, 0.00017214516888597786, 0.7758582761691023, 0.00016447619424707506, 0.9998507848279693, 0.7791411593417291, 0.003138869071711786, 0.21768980209107036, 0.017202175432246915, 0.9827940814399837, 0.27877448912318387, 3.7975001923877386e-05, 0.059734678026259126, 0.6614485835100963, 0.03737012642142924, 0.9624274966859186, 0.5879275271411791, 0.41206802858159697, 0.9999209980823649, 0.999757114410802, 0.999800297742896, 0.9999392665829293, 0.003820644115684594, 0.9960965015891978, 0.9982547281451913, 0.0013342253876685985, 0.0004447417958895328, 0.04296040333636794, 0.94191830944969, 0.015135515766193689, 0.9999459140895299, 0.9991518109819162, 0.0007632939732482171, 0.9996824098377899, 0.9994590802094901, 0.9998875091924606, 0.9998570172485922, 0.9991911677313489, 0.9987963233632547, 0.9991515067899316, 0.0006775746011053382, 0.7828658965602759, 0.2165065947283246, 0.0006485220579419861, 0.040346905202674026, 0.38105410469192136, 0.00016603664692458445, 0.5783056412383277, 0.9997776298258741, 0.9997798946192641, 0.8514339900116062, 0.0030109219732937917, 0.14553701938184627, 0.9987453589103555, 0.03707179468615665, 0.9628617035503879, 0.2254587752910815, 0.062136303330097016, 0.7124136925531377, 0.9824126187436086, 0.011155549970342965, 0.006429052716393553, 0.4559908966252758, 0.0008762315461669404, 0.5430883123142697, 0.060135569190085156, 0.0004969881751246707, 0.9393076509856276, 0.999200767564615, 0.0004729514105235865, 0.9993463304363382, 0.9978977105046022, 0.5044531140020826, 0.0036654722994790994, 0.46148897147540135, 0.03040539317272827, 0.9980163887538666, 0.0010591421288660484, 0.0009135100861469667, 0.015497589579649447, 0.6498052584576617, 0.33464989664084877, 0.7174459316923358, 0.0004368632368021855, 0.2820971541110646, 0.9327479531901778, 0.06723642975471128, 0.9992180352187142, 0.0011975101902380084, 0.998723498658499, 0.9999178552800952, 0.9960929973848152, 0.002323144773233333, 0.0016083309968538458, 0.9998420123720378, 0.9771399384542232, 0.022858493643187597, 0.9998722071977902, 0.9978580590535882, 0.0021294452818044988, 0.9976946394450108, 0.9979454033923357, 0.002357758299946035, 0.9973317608771728, 0.12400026501213092, 0.8759378720456928, 0.9981765331916218, 0.9980814135695364, 0.0007786363921335704, 0.9989904911073708, 0.5255681243576449, 0.47392987690068217, 0.0004965216101631034, 0.9996663423952127, 0.999460393671229, 0.007258494506163868, 0.9905053272257462, 0.0023729693577843416, 0.6252642589534102, 0.369856199628035, 0.004854863937589776, 0.06318058061344176, 0.8955975025501084, 0.04104183268959424, 0.9998968614862546, 0.999079118456459, 0.0009068585770097729, 0.014229833369453168, 0.9857325932525387, 0.9991052055084931, 0.0008909785895355694, 0.1349751552010387, 0.11810997464667096, 0.7469019133408851, 0.9997986581721011, 0.06258893299129578, 0.01915893754553278, 0.6896296413625188, 0.22861770667313636, 0.5634885189860785, 5.7575203738232194e-05, 0.43642004433580006, 0.997009930283844, 0.9982527604529802, 0.9976450388281835, 0.9998004002000366, 0.9756375033267086, 0.024100707483415598, 0.0002321840798016917, 0.9997815594178932, 0.9713203221654084, 0.0052010788630617085, 0.02344254386104625, 0.18090573466911114, 0.8189365909378571, 0.9999604817221618, 0.999967118185876, 0.9998956931756333, 0.9998117844615535, 0.2950346702455028, 0.0099101531195243, 0.11310861912395612, 0.5819861988404438, 0.027697061610657027, 0.9721668625340616, 0.9988165058989097, 0.0017317554855965417, 0.9974911597036079, 0.05930761865865349, 0.7136738512684766, 0.22698793325066824, 0.013081770527114841, 0.005329610214750491, 0.981132789533613, 0.44239258041086504, 0.5575385057583999, 0.07816413849588585, 0.9216429489488787, 0.9995898816363171, 0.024906370376579615, 0.9748563841762641, 0.08025229322180105, 0.00017591471552345694, 0.9195414009842141, 0.003520921295990489, 0.9964207267653084, 0.9999227726560054, 0.13977533613741355, 0.8601352577293672, 0.05571060640212746, 0.9442097241551412, 0.43879679850119674, 0.5611623495927958, 0.9419302424013934, 0.004375034647669891, 0.012977931523669096, 0.040713242913943355, 0.9992564429044168, 0.04340529566295041, 0.956596457522359, 0.9933734587576412, 0.006540132500964718, 0.9998592091181957, 0.9996738813945463, 0.9996725588820818, 0.19944696591148553, 0.8005579603947128, 0.9962158041959269, 0.0037580157222754443, 0.002886156543376743, 0.9964455466008205, 0.9633178122396467, 0.0039330294271083185, 0.03265329082506209, 0.9999709571429691, 0.9999952710445017, 0.17162367530727474, 0.8282543449300417, 0.9955283461559584, 0.0044684914976357215, 0.03244794066850521, 0.818645585062779, 0.14894136700297472, 0.999915848076462, 0.8920751255445283, 0.1078974306635318, 0.9975663673684865, 0.9998591621039307, 0.803012271232196, 0.19697494951903533, 0.8859937852002331, 0.11394355093006052, 0.0007406474121001058, 0.9991333589230426, 0.5530622055989911, 0.44697122845995785, 0.9990394926738952, 0.998506216601002, 0.4259999950058547, 0.5701162377276565, 0.0038092398957304445, 0.9983900305643975, 0.0015361664572537776, 0.10997052091404318, 0.005528247808111359, 0.8586022724769944, 0.025917376820823148, 0.9995534531311919, 0.9998905281911021, 0.0017659946396739196, 0.9977869714157646, 0.10493817491026787, 0.00013681639492864128, 0.19291111684938422, 0.7020049223788585, 0.9935349500623967, 0.006463730353841089, 0.0009052078493030585, 0.9984442577812735, 0.999906830680432, 0.9550594369101775, 0.044919983880212115, 1.97972604143729e-05, 0.9999297157943831, 0.9994345223253613, 0.0005399430158429828, 0.9997298821591848, 0.999946360954683, 0.9989413981332994, 0.9997593643888488, 0.06009763800555926, 0.9396164414015248, 0.018825694963323977, 0.9809388715995834, 0.013647515545198574, 0.986032998140597, 0.01782854155135049, 0.9819069259406282, 0.017567942666900625, 0.9819555322236034, 0.02879020844827498, 0.9705499159118477, 0.020595415246899593, 0.9785764444455436, 0.01729645201357746, 0.9824384743711997, 0.06348820225403883, 0.9362597537222112, 0.014794635155214206, 0.9845157212378908, 0.021748282054277732, 0.9778672005145618, 0.019570234548792885, 0.007561226984760888, 0.973174390744519, 0.00082575174266442, 0.9983338568812838, 0.0036569110913413265, 0.9965082723905115, 0.9998936939910128, 0.999921454150818, 0.9990180356505171, 0.0019331716801145795, 0.997516586939123, 0.0003629743438716862, 0.999268368678752, 0.9994386988057775, 0.9998935652301598, 0.0007592441628173349, 0.0005061627752115566, 0.9986591554924011, 0.16364249121750396, 0.836245427981554, 0.001972175838913822, 0.996934886570937, 0.002127638586788726, 0.9978624972039125, 0.9997573426167796, 0.07260500631512964, 0.0029362318730383314, 0.9246461098367982], \"Term\": [\"0h24v24h0v0z\", \"0h24v24h0v0z\", \"0h24v24h0z\", \"10\", \"10\", \"10\", \"10\", \"11\", \"11\", \"11\", \"11\", \"12\", \"12\", \"12\", \"12\", \"13\", \"13\", \"13\", \"13\", \"14\", \"14\", \"14\", \"14\", \"15\", \"15\", \"15\", \"15\", \"16\", \"16\", \"16\", \"17\", \"17\", \"17\", \"17\", \"18\", \"18\", \"18\", \"18\", \"19\", \"19\", \"19\", \"20\", \"20\", \"20\", \"20\", \"21\", \"21\", \"22\", \"22\", \"22\", \"23\", \"23\", \"23\", \"23\", \"24\", \"24\", \"24\", \"24\", \"25\", \"25\", \"25\", \"25\", \"26\", \"27\", \"27\", \"27\", \"28\", \"28\", \"28\", \"29\", \"29\", \"2v5c0\", \"31\", \"31\", \"31\", \"31\", \"32\", \"32\", \"32\", \"33\", \"34\", \"34\", \"35\", \"373\", \"39\", \"39\", \"39\", \"39\", \"41\", \"41\", \"44\", \"44\", \"45\", \"45\", \"45\", \"46\", \"48\", \"49\", \"51\", \"512\", \"512\", \"52\", \"53\", \"53\", \"54\", \"56\", \"56\", \"57\", \"58\", \"58\", \"62\", \"627\", \"63\", \"64\", \"64\", \"64\", \"66\", \"67\", \"67\", \"69\", \"71\", \"73\", \"76\", \"78\", \"82\", \"84\", \"88\", \"96\", \"__future__\", \"__init__\", \"add_layout\", \"admin\", \"admin\", \"admin\", \"admin_client\", \"an\", \"and\", \"and\", \"and\", \"api_link\", \"are\", \"args\", \"args\", \"as\", \"as\", \"as\", \"assert\", \"assert\", \"assertequal\", \"assertfalse\", \"asserttrue\", \"attr\", \"be\", \"button\", \"button\", \"category\", \"category\", \"category\", \"charfield\", \"classes\", \"classes\", \"classes\", \"classmethod\", \"classname\", \"classname\", \"client\", \"client\", \"cls\", \"cls\", \"cls\", \"code\", \"code\", \"code\", \"const\", \"const\", \"createelement\", \"createelement\", \"createelement\", \"createsvgicon\", \"createsvgicon\", \"data\", \"data\", \"data\", \"def\", \"def\", \"default\", \"default\", \"default\", \"default\", \"dict\", \"dict\", \"div\", \"div\", \"django\", \"each\", \"elem\", \"element\", \"elif\", \"elif\", \"else\", \"else\", \"else\", \"email\", \"email\", \"email\", \"error\", \"event\", \"event\", \"example_email\", \"example_user\", \"expect\", \"expect_equal\", \"expected_message\", \"expected_topic\", \"exports\", \"exports\", \"false\", \"false\", \"false\", \"fill\", \"fill\", \"fill\", \"fill\", \"find\", \"foo\", \"for\", \"for\", \"for\", \"formcontrol\", \"fragment\", \"fragment\", \"from\", \"from\", \"from\", \"function\", \"function\", \"function\", \"get\", \"get\", \"get\", \"gettext\", \"gettext\", \"gettext\", \"graphene\", \"hamlet\", \"hamlet\", \"iconbutton\", \"id\", \"id\", \"id\", \"id\", \"if\", \"if\", \"if\", \"import\", \"import\", \"import\", \"in\", \"in\", \"in\", \"is\", \"is\", \"is_valid\", \"isinstance\", \"isinstance\", \"it\", \"key\", \"key\", \"key\", \"kwargs\", \"length\", \"length\", \"let\", \"license\", \"license\", \"line_color\", \"linearaxis\", \"listitem\", \"listitem\", \"m0\", \"m0\", \"m19\", \"markdowndocs\", \"material\", \"material\", \"message\", \"message\", \"message\", \"migrations\", \"model_name\", \"models\", \"models\", \"models\", \"name\", \"name\", \"name\", \"nclass\", \"nclass\", \"nclass\", \"ndef\", \"new\", \"new\", \"nexport\", \"nexport\", \"nfrom\", \"nfrom\", \"nimport\", \"nimport\", \"nimport\", \"no\", \"none\", \"none\", \"none\", \"none\", \"not\", \"not\", \"not\", \"noutput_file\", \"nplot\", \"nshow\", \"ntest_that\", \"null\", \"null\", \"null\", \"obj\", \"object\", \"object\", \"object\", \"objects\", \"objects\", \"of\", \"options\", \"or\", \"param\", \"path\", \"path\", \"path\", \"path\", \"pk\", \"pk\", \"plot_height\", \"plot_width\", \"plot_width\", \"post\", \"post\", \"post\", \"product\", \"product\", \"product\", \"props\", \"props\", \"proptypes\", \"proptypes\", \"pytest\", \"raise\", \"raise\", \"react\", \"react\", \"react\", \"realm\", \"realm\", \"render\", \"request\", \"request\", \"response\", \"response\", \"result\", \"result\", \"return\", \"return\", \"return\", \"return\", \"return_value\", \"self\", \"self\", \"set\", \"set\", \"should\", \"snackbar\", \"status_code\", \"str\", \"str\", \"string\", \"string\", \"subreddit\", \"subreddit\", \"text\", \"text\", \"text\", \"that\", \"the\", \"theme\", \"theme\", \"this\", \"this\", \"thread\", \"thread\", \"thread\", \"tif\", \"to\", \"to\", \"toolbar_location\", \"treturn\", \"true\", \"true\", \"type\", \"type\", \"typography\", \"typography\", \"ui\", \"ui\", \"ujson\", \"unicode_literals\", \"url\", \"url\", \"url\", \"use\", \"use\", \"user\", \"user\", \"user\", \"user\", \"user_acl\", \"user_profile\", \"userprofile\", \"userprofile\", \"utils\", \"utils\", \"utils\", \"utils\", \"value\", \"value\", \"valueerror\", \"valueerror\", \"values\", \"var\", \"var\", \"var\", \"version\", \"we\", \"we\", \"when\", \"will\", \"withstyles\", \"wrapper\", \"x80\", \"x80\", \"x83\", \"x83\", \"x9e\", \"x9e\", \"xa4\", \"xa4\", \"xa5\", \"xa5\", \"xb0\", \"xb0\", \"xb4\", \"xb4\", \"xb5\", \"xb5\", \"xb8\", \"xb8\", \"xbd\", \"xbd\", \"xbf\", \"xbf\", \"xc3\", \"xc3\", \"xc3\", \"xce\", \"xce\", \"xcf\", \"xcf\", \"xd0\", \"xd1\", \"xd5\", \"xd7\", \"xd7\", \"xd8\", \"xd8\", \"xd9\", \"xe0\", \"xe1\", \"xe1\", \"xe1\", \"xe2\", \"xe2\", \"xe6\", \"xe6\", \"xec\", \"xec\", \"zerver\", \"zulip\", \"zulip\", \"zulip\"]}, \"R\": 30, \"lambda.step\": 0.01, \"plot.opts\": {\"xlab\": \"PC1\", \"ylab\": \"PC2\"}, \"topic.order\": [1, 4, 2, 3]};\n",
       "\n",
       "function LDAvis_load_lib(url, callback){\n",
       "  var s = document.createElement('script');\n",
       "  s.src = url;\n",
       "  s.async = true;\n",
       "  s.onreadystatechange = s.onload = callback;\n",
       "  s.onerror = function(){console.warn(\"failed to load library \" + url);};\n",
       "  document.getElementsByTagName(\"head\")[0].appendChild(s);\n",
       "}\n",
       "\n",
       "if(typeof(LDAvis) !== \"undefined\"){\n",
       "   // already loaded: just create the visualization\n",
       "   !function(LDAvis){\n",
       "       new LDAvis(\"#\" + \"ldavis_el37961401799325678569285054448\", ldavis_el37961401799325678569285054448_data);\n",
       "   }(LDAvis);\n",
       "}else if(typeof define === \"function\" && define.amd){\n",
       "   // require.js is available: use it to load d3/LDAvis\n",
       "   require.config({paths: {d3: \"https://cdnjs.cloudflare.com/ajax/libs/d3/3.5.5/d3.min\"}});\n",
       "   require([\"d3\"], function(d3){\n",
       "      window.d3 = d3;\n",
       "      LDAvis_load_lib(\"https://cdn.rawgit.com/bmabey/pyLDAvis/files/ldavis.v1.0.0.js\", function(){\n",
       "        new LDAvis(\"#\" + \"ldavis_el37961401799325678569285054448\", ldavis_el37961401799325678569285054448_data);\n",
       "      });\n",
       "    });\n",
       "}else{\n",
       "    // require.js not available: dynamically load d3 & LDAvis\n",
       "    LDAvis_load_lib(\"https://cdnjs.cloudflare.com/ajax/libs/d3/3.5.5/d3.min.js\", function(){\n",
       "         LDAvis_load_lib(\"https://cdn.rawgit.com/bmabey/pyLDAvis/files/ldavis.v1.0.0.js\", function(){\n",
       "                 new LDAvis(\"#\" + \"ldavis_el37961401799325678569285054448\", ldavis_el37961401799325678569285054448_data);\n",
       "            })\n",
       "         });\n",
       "}\n",
       "</script>"
      ],
      "text/plain": [
       "PreparedData(topic_coordinates=              x         y  topics  cluster       Freq\n",
       "topic                                                \n",
       "0     -0.170498  0.068422       1        1  53.661148\n",
       "3      0.334580 -0.137167       2        1  17.800762\n",
       "1     -0.215109 -0.203095       3        1  16.993209\n",
       "2      0.051028  0.271840       4        1  11.544881, topic_info=       Category          Freq           Term         Total  loglift  logprob\n",
       "term                                                                        \n",
       "224987  Default  76787.000000           self  76787.000000  30.0000  30.0000\n",
       "209790  Default  28422.000000          react  28422.000000  29.0000  29.0000\n",
       "118970  Default  35518.000000           from  35518.000000  28.0000  28.0000\n",
       "257199  Default  93096.000000           this  93096.000000  27.0000  27.0000\n",
       "256596  Default  71532.000000            the  71532.000000  26.0000  26.0000\n",
       "138187  Default  75532.000000             if  75532.000000  25.0000  25.0000\n",
       "93741   Default  26333.000000        default  26333.000000  24.0000  24.0000\n",
       "93727   Default  19823.000000            def  19823.000000  23.0000  23.0000\n",
       "119762  Default  78705.000000       function  78705.000000  22.0000  22.0000\n",
       "139197  Default  26520.000000         import  26520.000000  21.0000  21.0000\n",
       "180274  Default  18618.000000        nimport  18618.000000  20.0000  20.0000\n",
       "178605  Default  13422.000000        nexport  13422.000000  19.0000  19.0000\n",
       "6203    Default  19257.000000             12  19257.000000  18.0000  18.0000\n",
       "179191  Default  15713.000000          nfrom  15713.000000  17.0000  17.0000\n",
       "88624   Default  12159.000000  createsvgicon  12159.000000  16.0000  16.0000\n",
       "195902  Default  18062.000000           path  18062.000000  15.0000  15.0000\n",
       "182715  Default  21713.000000           none  21713.000000  14.0000  14.0000\n",
       "270897  Default  16822.000000           user  16822.000000  13.0000  13.0000\n",
       "10108   Default  14036.000000             16  14036.000000  12.0000  12.0000\n",
       "216978  Default  74742.000000         return  74742.000000  11.0000  11.0000\n",
       "139409  Default  34335.000000             in  34335.000000  10.0000  10.0000\n",
       "273107  Default  50512.000000            var  50512.000000   9.0000   9.0000\n",
       "58561   Default  16313.000000             as  16313.000000   8.0000   8.0000\n",
       "118218  Default   8955.000000       fragment   8955.000000   7.0000   7.0000\n",
       "4646    Default  16616.000000             10  16616.000000   6.0000   6.0000\n",
       "281843  Default   7860.000000            xd0   7860.000000   5.0000   5.0000\n",
       "16221   Default  10334.000000             24  10334.000000   4.0000   4.0000\n",
       "80378   Default   8276.000000      classname   8276.000000   3.0000   3.0000\n",
       "281885  Default   7548.000000            xe0   7548.000000   2.0000   2.0000\n",
       "173909  Default  23687.000000           name  23687.000000   1.0000   1.0000\n",
       "...         ...           ...            ...           ...      ...      ...\n",
       "281761   Topic4   1464.391410            xbd   1487.025518   2.1436  -6.2404\n",
       "281631   Topic4   1663.439660            xb4   1699.407348   2.1375  -6.1129\n",
       "281809   Topic4   2187.518169            xc3   2248.312349   2.1315  -5.8390\n",
       "209790   Topic4  26136.460497          react  28422.863801   2.0751  -3.3585\n",
       "281786   Topic4   1213.602554            xbf   1241.477370   2.1362  -6.4282\n",
       "80378    Topic4   7546.761037      classname   8276.007692   2.0667  -4.6007\n",
       "281561   Topic4   1517.149330            xb0   1563.031406   2.1291  -6.2050\n",
       "281345   Topic4   1061.601815            xa5   1081.515369   2.1403  -6.5620\n",
       "205348   Topic4   4516.349076      proptypes   4899.945261   2.0774  -5.1141\n",
       "280778   Topic4   2783.143067            x80   2961.846853   2.0967  -5.5982\n",
       "281673   Topic4   2447.870929            xb8   2614.659009   2.0930  -5.7266\n",
       "125631   Topic4   1890.410526        gettext   2012.120308   2.0965  -5.9850\n",
       "118970   Topic4  25303.791250           from  35518.688459   1.8198  -3.3908\n",
       "159703   Topic4   3531.937969             m0   4032.249447   2.0265  -5.3600\n",
       "180274   Topic4  13905.857008        nimport  18618.241233   1.8671  -3.9895\n",
       "80335    Topic4   3754.111068        classes   4406.066269   1.9988  -5.2989\n",
       "256735   Topic4   4381.802305          theme   5290.645352   1.9704  -5.1443\n",
       "93741    Topic4  17418.249385        default  26333.112557   1.7456  -3.7643\n",
       "88232    Topic4   4506.570775  createelement   5809.050620   1.9050  -5.1163\n",
       "281915   Topic4   3107.373594            xe2   3715.416427   1.9802  -5.4880\n",
       "195902   Topic4  10511.869373           path  18062.283987   1.6176  -4.2693\n",
       "271947   Topic4   5130.621772          utils   7309.065558   1.8050  -4.9866\n",
       "205318   Topic4   5762.003143          props  10334.712205   1.5747  -4.8705\n",
       "139197   Topic4   8875.248415         import  26520.253223   1.0643  -4.4385\n",
       "72266    Topic4   3771.316901         button   5993.534881   1.6957  -5.2944\n",
       "58561    Topic4   6152.414621             as  16313.427580   1.1838  -4.8050\n",
       "98673    Topic4   4765.756502            div  11566.051403   1.2723  -5.0603\n",
       "113922   Topic4   3483.098034           fill   6022.766772   1.6113  -5.3739\n",
       "182715   Topic4   4964.224770           none  21713.103820   0.6833  -5.0195\n",
       "267055   Topic4   3281.604912             ui   7342.754502   1.3535  -5.4335\n",
       "\n",
       "[293 rows x 6 columns], token_table=        Topic      Freq          Term\n",
       "term                                 \n",
       "2713        2  0.000651  0h24v24h0v0z\n",
       "2713        4  0.999279  0h24v24h0v0z\n",
       "2718        4  0.998298    0h24v24h0z\n",
       "4646        1  0.109472            10\n",
       "4646        2  0.775334            10\n",
       "4646        3  0.053442            10\n",
       "4646        4  0.061747            10\n",
       "5507        1  0.022969            11\n",
       "5507        2  0.933162            11\n",
       "5507        3  0.009225            11\n",
       "5507        4  0.034685            11\n",
       "6203        1  0.015994            12\n",
       "6203        2  0.948063            12\n",
       "6203        3  0.006335            12\n",
       "6203        4  0.029651            12\n",
       "7684        1  0.013560            13\n",
       "7684        2  0.982352            13\n",
       "7684        3  0.003417            13\n",
       "7684        4  0.000772            13\n",
       "8196        1  0.026747            14\n",
       "8196        2  0.950212            14\n",
       "8196        3  0.022485            14\n",
       "8196        4  0.000639            14\n",
       "9620        1  0.050299            15\n",
       "9620        2  0.907928            15\n",
       "9620        3  0.035548            15\n",
       "9620        4  0.006167            15\n",
       "10108       1  0.028640            16\n",
       "10108       2  0.968768            16\n",
       "10108       4  0.002565            16\n",
       "...       ...       ...           ...\n",
       "281786      4  0.977867           xbf\n",
       "281809      1  0.019570           xc3\n",
       "281809      3  0.007561           xc3\n",
       "281809      4  0.973174           xc3\n",
       "281829      1  0.000826           xce\n",
       "281829      4  0.998334           xce\n",
       "281832      1  0.003657           xcf\n",
       "281832      4  0.996508           xcf\n",
       "281843      4  0.999894           xd0\n",
       "281844      4  0.999921           xd1\n",
       "281848      4  0.999018           xd5\n",
       "281850      1  0.001933           xd7\n",
       "281850      4  0.997517           xd7\n",
       "281852      1  0.000363           xd8\n",
       "281852      4  0.999268           xd8\n",
       "281853      4  0.999439           xd9\n",
       "281885      4  0.999894           xe0\n",
       "281886      1  0.000759           xe1\n",
       "281886      2  0.000506           xe1\n",
       "281886      4  0.998659           xe1\n",
       "281915      1  0.163642           xe2\n",
       "281915      4  0.836245           xe2\n",
       "281933      1  0.001972           xe6\n",
       "281933      4  0.996935           xe6\n",
       "281984      1  0.002128           xec\n",
       "281984      4  0.997862           xec\n",
       "284097      3  0.999757        zerver\n",
       "284640      1  0.072605         zulip\n",
       "284640      2  0.002936         zulip\n",
       "284640      3  0.924646         zulip\n",
       "\n",
       "[496 rows x 3 columns], R=30, lambda_step=0.01, plot_opts={'xlab': 'PC1', 'ylab': 'PC2'}, topic_order=[1, 4, 2, 3])"
      ]
     },
     "execution_count": 10,
     "metadata": {},
     "output_type": "execute_result"
    }
   ],
   "source": [
    "pyLDAvis.sklearn.prepare(model, tf, tf_vectorizer)"
   ]
  },
  {
   "cell_type": "markdown",
   "metadata": {},
   "source": [
    "Try to do this on the full dataset:"
   ]
  },
  {
   "cell_type": "code",
   "execution_count": null,
   "metadata": {},
   "outputs": [],
   "source": [
    "number_of_languages = 4\n",
    "all_documents = full_dataset['documents']\n",
    "\n",
    "full_tf_vectorizer = CountVectorizer(stop_words=None)\n",
    "full_tf = full_tf_vectorizer.fit_transform(all_documents)\n",
    "full_tf_feature_names = full_tf_vectorizer.get_feature_names()\n",
    "\n",
    "full_lda = LatentDirichletAllocation(n_topics=number_of_languages,  n_jobs=1)\n",
    "full_model = full_lda.fit(full_tf)\n",
    "\n",
    "with open('../data/full_lda_model.pickle', 'wb') as f:\n",
    "    pickle.dump(full_model, f)\n",
    "\n",
    "with open('../data/full_tf.pickle', 'wb') as f:\n",
    "    pickle.dump(full_tf, f)\n",
    "    \n",
    "with open('../data/full_tf_vectorizer.pickle', 'wb') as f:\n",
    "    pickle.dump(full_tf_vectorizer, f)"
   ]
  },
  {
   "cell_type": "code",
   "execution_count": 11,
   "metadata": {},
   "outputs": [],
   "source": [
    "with open('../data/full_lda_model.pickle', 'rb') as f:\n",
    "    full_model = pickle.load(f)\n",
    "\n",
    "with open('../data/full_tf.pickle', 'rb') as f:\n",
    "    full_tf = pickle.load(f)\n",
    "    \n",
    "with open('../data/full_tf_vectorizer.pickle', 'rb') as f:\n",
    "    full_tf_vectorizer = pickle.load(f)"
   ]
  },
  {
   "cell_type": "markdown",
   "metadata": {},
   "source": [
    "Visualize our new model. Note that the following code cell requires more than 8 GB of RAM to run."
   ]
  },
  {
   "cell_type": "code",
   "execution_count": null,
   "metadata": {},
   "outputs": [],
   "source": [
    "pyLDAvis.sklearn.prepare(full_model, full_tf, full_tf_vectorizer)"
   ]
  },
  {
   "cell_type": "markdown",
   "metadata": {},
   "source": [
    "Reference: https://nbviewer.jupyter.org/github/bmabey/pyLDAvis/blob/master/notebooks/sklearn.ipynb"
   ]
  },
  {
   "cell_type": "markdown",
   "metadata": {},
   "source": [
    "## Topic Modelling on Programming Language Mixtures\n",
    "Keypoint: topics are programming languages, file with mixture of programming languages, identify which is which.\n",
    "\n",
    "Applicability to cyber-security: identifying malware embedded within normal programs (shellcode)."
   ]
  },
  {
   "cell_type": "markdown",
   "metadata": {},
   "source": [
    "### Combining Source Files per Repository\n",
    "\n",
    "Currently our data set consists of one data point per file containing:\n",
    "  1. ID of the Github repository the file belongs to.\n",
    "  2. Programming language it is written in (identified by file extension).\n",
    "  3. File contents\n",
    "  \n",
    "In this section, we extend our analysis from working on documents with one language per file, to a system where there is a mixture of languages inside each document. To do this, we combine all the files in each repository into a single data point."
   ]
  },
  {
   "cell_type": "code",
   "execution_count": 12,
   "metadata": {},
   "outputs": [],
   "source": [
    "def concat_texts(group):\n",
    "    [repo_id] = group['repo'].unique()\n",
    "    combined = ' '.join(group['documents'])\n",
    "    return combined"
   ]
  },
  {
   "cell_type": "code",
   "execution_count": 13,
   "metadata": {},
   "outputs": [],
   "source": [
    "combined_documents = minimal_dataset.groupby(by='repo').apply(concat_texts)"
   ]
  },
  {
   "cell_type": "code",
   "execution_count": 14,
   "metadata": {
    "scrolled": true
   },
   "outputs": [
    {
     "data": {
      "text/plain": [
       "repo\n",
       "19438      b\"#' @include ggplot-global.R\\n#' @include ggp...\n",
       "26554      b'# The contents of this file are subject to t...\n",
       "544208     b'import logging\\nimport os\\nimport platform a...\n",
       "643909     b'#\\' Environment variables to set when callin...\n",
       "2594513    b'# S3 method to deal with chunks and inline t...\n",
       "dtype: object"
      ]
     },
     "execution_count": 14,
     "metadata": {},
     "output_type": "execute_result"
    }
   ],
   "source": [
    "combined_documents.head()"
   ]
  },
  {
   "cell_type": "markdown",
   "metadata": {},
   "source": [
    "### LDA Model "
   ]
  },
  {
   "cell_type": "code",
   "execution_count": 51,
   "metadata": {},
   "outputs": [
    {
     "data": {
      "text/plain": [
       "repo\n",
       "596892       b'from __future__ import print_function\\n\\nfro...\n",
       "1248263      b'// VT100.js -- a text terminal emulator in J...\n",
       "1790564      b\"'use strict';\\n\\nconst ExtractTextPlugin = r...\n",
       "4751958      b'from .celery import app as celery_app\\n\\n__a...\n",
       "12465340     b'#\\' @title Aggregation object.\\n#\\' @descrip...\n",
       "13523710     b'do_nxt <- function(e)UseMethod(\"do_nxt\")\\ndo...\n",
       "14267375     b'import unittest\\nimport os\\nimport json\\n\\nf...\n",
       "14579179     b'#\\' Add data to a plotly visualization\\n#\\' ...\n",
       "16146440     b'base64_encode_file <- function(in_file, enco...\n",
       "17856544     b'#\\' Complete list of palettes\\n#\\'\\n#\\' Use ...\n",
       "19117456     b'import React, {Component} from \\'react\\';\\ni...\n",
       "21289110     b'# coding: utf-8\\n\\n\"\"\"\\n    The approach tak...\n",
       "23932217     b'\\n# TODO:\\n#  - catch errors and throw a war...\n",
       "24929423     b'############################################...\n",
       "28556914     b'#\\' R + mermaid.js\\n#\\'\\n#\\' Make diagrams i...\n",
       "33614304     b'# Copyright (c) 2016, Aaron Christianson\\n# ...\n",
       "36849200     b'# FROM Shiny\\n# @author Shiny package author...\n",
       "38226908     b'\"\"\"Remote profiling example with Flask.\\n\\nF...\n",
       "45936895     b\"/** @format */\\n\\nconst reactVersion = requi...\n",
       "47918643     b\"import os\\nimport sys\\n\\nsys.path.append ('t...\n",
       "61412022     b\"/* eslint-disable no-console */\\n\\nconst cha...\n",
       "69798748     b\"const glob = require('glob')\\nconst markdown...\n",
       "72671522     b'new_post_addin = function() {\\n  sys.source(...\n",
       "83222441     b'' b'from abc import ABCMeta, abstractmethod\\...\n",
       "84232645     b\"var gulp = require('gulp');\\nvar source = re...\n",
       "89187780     b\"const pkg = require('./package.json');\\n\\nco...\n",
       "94911145     b\"const OFF = 0;\\nconst WARNING = 1;\\nconst ER...\n",
       "128624453    b\"module.exports = {\\n  extends: ['@commitlint...\n",
       "19438        b\"#' @include ggplot-global.R\\n#' @include ggp...\n",
       "26554        b'# The contents of this file are subject to t...\n",
       "544208       b'import logging\\nimport os\\nimport platform a...\n",
       "643909       b'#\\' Environment variables to set when callin...\n",
       "2594513      b'# S3 method to deal with chunks and inline t...\n",
       "3834332      b'\\'\\'\\'\\n\\n\\'\\'\\'\\nfrom __future__ import pri...\n",
       "4729944      b'# TODO: Subapp global.R\\n\\n#\\' Create a Shin...\n",
       "4751958      b'from .celery import app as celery_app\\n\\n__a...\n",
       "6427813      b'# Generated by using Rcpp::compileAttributes...\n",
       "8162715      b'const ROOT = \"../saleor/static/dashboard-nex...\n",
       "10270250     b\"'use strict';\\n\\nconst {\\n  es5Paths,\\n  esN...\n",
       "13926404     b'#!/bin/env python\\nfrom __future__ import pr...\n",
       "14098069     b\"var gulp = require('gulp');\\nvar markdown = ...\n",
       "14579179     b'#\\' Add data to a plotly visualization\\n#\\' ...\n",
       "18840003     b\"/**\\n * React Starter Kit (https://www.react...\n",
       "22003158     b'library(rvest)\\nlibrary(purrr)\\n\\nLink <- \"h...\n",
       "23083156     b\"const path = require('path');\\n\\nmodule.expo...\n",
       "25315643     b'/* eslint global-require: 0 */\\n/* eslint im...\n",
       "28457823     b\"module.exports = {\\n  plugins: [\\n    requir...\n",
       "32215970     b'module.exports = {\\n    parser: \"@typescript...\n",
       "33015554     b'\\nlibrary(readr)\\nlibrary(ROCR)\\n\\nd_train <...\n",
       "33702544     b'from .dash import Dash  # noqa: F401\\nfrom ....\n",
       "39799721     b'set.seed(1014)\\noptions(digits = 3)\\n\\nknitr...\n",
       "43160685     b'' b'' b'import time\\nfrom collections import...\n",
       "54173593     b\"module.exports = {\\n  presets: [\\n    ['@bab...\n",
       "56460797     b'\"\"\"Interactive Dashboard Toolkit.\"\"\"\\n\\n__ve...\n",
       "62367558     b\"'use strict';\\n\\nconst fetch = require('elec...\n",
       "63726409     b'const path = require(\\'path\\');\\n\\nmodule.ex...\n",
       "147350463    b'/* \\n    This repository was created with th...\n",
       "dtype: object"
      ]
     },
     "execution_count": 51,
     "metadata": {},
     "output_type": "execute_result"
    }
   ],
   "source": [
    "combined_test_documents.append(combined_documents)"
   ]
  },
  {
   "cell_type": "code",
   "execution_count": 52,
   "metadata": {},
   "outputs": [],
   "source": [
    "tf_vectorizer = CountVectorizer(stop_words=None)\n",
    "tf_vectorizer.fit(combined_test_documents.append(combined_documents))\n",
    "\n",
    "tf_train = tf_vectorizer.transform(combined_documents)\n",
    "tf_test = tf_vectorizer.transform(combined_test_documents)\n",
    "\n",
    "with open('../data/concatDocs_tf_vectorizer.pickle', 'wb') as f:\n",
    "    pickle.dump(tf_vectorizer, f)\n",
    "    \n",
    "with open('../data/concatDocs_tf_train.pickle', 'wb') as f:\n",
    "    pickle.dump(tf_train, f)\n",
    "    \n",
    "with open('../data/concatDocs_tf_test.pickle', 'wb') as f:\n",
    "    pickle.dump(tf_test, f)"
   ]
  },
  {
   "cell_type": "code",
   "execution_count": 53,
   "metadata": {},
   "outputs": [
    {
     "name": "stderr",
     "output_type": "stream",
     "text": [
      "/home/sharding/miniconda3/envs/myenv/lib/python3.6/site-packages/sklearn/decomposition/online_lda.py:314: DeprecationWarning: n_topics has been renamed to n_components in version 0.19 and will be removed in 0.21\n",
      "  DeprecationWarning)\n"
     ]
    }
   ],
   "source": [
    "number_of_languages = 4\n",
    "\n",
    "lda = LatentDirichletAllocation(n_topics=number_of_languages,  n_jobs=1)\n",
    "model = lda.fit(tf_train)\n",
    "\n",
    "with open('../data/concatDocs_lda_model.pickle', 'wb') as f:\n",
    "    pickle.dump(model, f)"
   ]
  },
  {
   "cell_type": "code",
   "execution_count": 54,
   "metadata": {},
   "outputs": [],
   "source": [
    "with open('../data/concatDocs_lda_model.pickle', 'rb') as f:\n",
    "    model = pickle.load(f)\n",
    "    \n",
    "with open('../data/concatDocs_tf_train.pickle', 'rb') as f:\n",
    "    tf_train = pickle.load(f)\n",
    "    \n",
    "with open('../data/concatDocs_tf_vectorizer.pickle', 'rb') as f:\n",
    "    tf_vectorizer = pickle.load(f)\n",
    "\n",
    "with open('../data/concatDocs_tf_test.pickle', 'rb') as f:\n",
    "    tf_test = pickle.load(f)"
   ]
  },
  {
   "cell_type": "code",
   "execution_count": 60,
   "metadata": {},
   "outputs": [
    {
     "data": {
      "text/html": [
       "\n",
       "<link rel=\"stylesheet\" type=\"text/css\" href=\"https://cdn.rawgit.com/bmabey/pyLDAvis/files/ldavis.v1.0.0.css\">\n",
       "\n",
       "\n",
       "<div id=\"ldavis_el37961401797891320885073396113\"></div>\n",
       "<script type=\"text/javascript\">\n",
       "\n",
       "var ldavis_el37961401797891320885073396113_data = {\"mdsDat\": {\"x\": [0.18815224735966757, 0.19093199373321768, -0.10723285013339931, -0.2718513909594858], \"y\": [0.04108464086289778, 0.023344186710862184, -0.18043159577206702, 0.11600276819830709], \"topics\": [1, 2, 3, 4], \"cluster\": [1, 1, 1, 1], \"Freq\": [41.383718158942976, 35.719215162076814, 12.48920791767187, 10.407858761308333]}, \"tinfo\": {\"Category\": [\"Default\", \"Default\", \"Default\", \"Default\", \"Default\", \"Default\", \"Default\", \"Default\", \"Default\", \"Default\", \"Default\", \"Default\", \"Default\", \"Default\", \"Default\", \"Default\", \"Default\", \"Default\", \"Default\", \"Default\", \"Default\", \"Default\", \"Default\", \"Default\", \"Default\", \"Default\", \"Default\", \"Default\", \"Default\", \"Default\", \"Topic1\", \"Topic1\", \"Topic1\", \"Topic1\", \"Topic1\", \"Topic1\", \"Topic1\", \"Topic1\", \"Topic1\", \"Topic1\", \"Topic1\", \"Topic1\", \"Topic1\", \"Topic1\", \"Topic1\", \"Topic1\", \"Topic1\", \"Topic1\", \"Topic1\", \"Topic1\", \"Topic1\", \"Topic1\", \"Topic1\", \"Topic1\", \"Topic1\", \"Topic1\", \"Topic1\", \"Topic1\", \"Topic1\", \"Topic1\", \"Topic1\", \"Topic1\", \"Topic1\", \"Topic1\", \"Topic1\", \"Topic1\", \"Topic1\", \"Topic1\", \"Topic1\", \"Topic1\", \"Topic1\", \"Topic1\", \"Topic1\", \"Topic1\", \"Topic1\", \"Topic1\", \"Topic1\", \"Topic1\", \"Topic1\", \"Topic1\", \"Topic1\", \"Topic1\", \"Topic1\", \"Topic1\", \"Topic1\", \"Topic1\", \"Topic1\", \"Topic1\", \"Topic1\", \"Topic1\", \"Topic1\", \"Topic1\", \"Topic1\", \"Topic1\", \"Topic1\", \"Topic1\", \"Topic1\", \"Topic1\", \"Topic1\", \"Topic1\", \"Topic1\", \"Topic1\", \"Topic1\", \"Topic1\", \"Topic1\", \"Topic1\", \"Topic1\", \"Topic1\", \"Topic1\", \"Topic1\", \"Topic1\", \"Topic1\", \"Topic1\", \"Topic2\", \"Topic2\", \"Topic2\", \"Topic2\", \"Topic2\", \"Topic2\", \"Topic2\", \"Topic2\", \"Topic2\", \"Topic2\", \"Topic2\", \"Topic2\", \"Topic2\", \"Topic2\", \"Topic2\", \"Topic2\", \"Topic2\", \"Topic2\", \"Topic2\", \"Topic2\", \"Topic2\", \"Topic2\", \"Topic2\", \"Topic2\", \"Topic2\", \"Topic2\", \"Topic2\", \"Topic2\", \"Topic2\", \"Topic2\", \"Topic2\", \"Topic2\", \"Topic2\", \"Topic2\", \"Topic2\", \"Topic2\", \"Topic2\", \"Topic2\", \"Topic2\", \"Topic2\", \"Topic2\", \"Topic2\", \"Topic2\", \"Topic2\", \"Topic2\", \"Topic2\", \"Topic2\", \"Topic2\", \"Topic2\", \"Topic2\", \"Topic2\", \"Topic2\", \"Topic2\", \"Topic2\", \"Topic2\", \"Topic2\", \"Topic2\", \"Topic2\", \"Topic2\", \"Topic2\", \"Topic2\", \"Topic2\", \"Topic2\", \"Topic2\", \"Topic2\", \"Topic2\", \"Topic2\", \"Topic2\", \"Topic2\", \"Topic2\", \"Topic2\", \"Topic2\", \"Topic2\", \"Topic2\", \"Topic2\", \"Topic2\", \"Topic2\", \"Topic2\", \"Topic2\", \"Topic2\", \"Topic2\", \"Topic2\", \"Topic2\", \"Topic2\", \"Topic2\", \"Topic2\", \"Topic2\", \"Topic2\", \"Topic2\", \"Topic2\", \"Topic2\", \"Topic3\", \"Topic3\", \"Topic3\", \"Topic3\", \"Topic3\", \"Topic3\", \"Topic3\", \"Topic3\", \"Topic3\", \"Topic3\", \"Topic3\", \"Topic3\", \"Topic3\", \"Topic3\", \"Topic3\", \"Topic3\", \"Topic3\", \"Topic3\", \"Topic3\", \"Topic3\", \"Topic3\", \"Topic3\", \"Topic3\", \"Topic3\", \"Topic3\", \"Topic3\", \"Topic3\", \"Topic3\", \"Topic3\", \"Topic3\", \"Topic3\", \"Topic3\", \"Topic3\", \"Topic3\", \"Topic3\", \"Topic3\", \"Topic3\", \"Topic3\", \"Topic3\", \"Topic3\", \"Topic3\", \"Topic3\", \"Topic3\", \"Topic3\", \"Topic3\", \"Topic3\", \"Topic3\", \"Topic3\", \"Topic3\", \"Topic3\", \"Topic3\", \"Topic3\", \"Topic3\", \"Topic3\", \"Topic3\", \"Topic3\", \"Topic3\", \"Topic3\", \"Topic3\", \"Topic3\", \"Topic3\", \"Topic3\", \"Topic3\", \"Topic3\", \"Topic3\", \"Topic3\", \"Topic3\", \"Topic3\", \"Topic3\", \"Topic3\", \"Topic3\", \"Topic3\", \"Topic3\", \"Topic3\", \"Topic3\", \"Topic4\", \"Topic4\", \"Topic4\", \"Topic4\", \"Topic4\", \"Topic4\", \"Topic4\", \"Topic4\", \"Topic4\", \"Topic4\", \"Topic4\", \"Topic4\", \"Topic4\", \"Topic4\", \"Topic4\", \"Topic4\", \"Topic4\", \"Topic4\", \"Topic4\", \"Topic4\", \"Topic4\", \"Topic4\", \"Topic4\", \"Topic4\", \"Topic4\", \"Topic4\", \"Topic4\", \"Topic4\", \"Topic4\", \"Topic4\", \"Topic4\", \"Topic4\", \"Topic4\", \"Topic4\", \"Topic4\", \"Topic4\", \"Topic4\", \"Topic4\", \"Topic4\", \"Topic4\", \"Topic4\", \"Topic4\", \"Topic4\", \"Topic4\", \"Topic4\", \"Topic4\", \"Topic4\", \"Topic4\", \"Topic4\", \"Topic4\", \"Topic4\", \"Topic4\", \"Topic4\", \"Topic4\", \"Topic4\", \"Topic4\", \"Topic4\", \"Topic4\", \"Topic4\", \"Topic4\", \"Topic4\", \"Topic4\", \"Topic4\", \"Topic4\", \"Topic4\", \"Topic4\", \"Topic4\", \"Topic4\", \"Topic4\", \"Topic4\", \"Topic4\"], \"Freq\": [34078.0, 37731.0, 22611.0, 16671.0, 13997.0, 74805.0, 20292.0, 25929.0, 19043.0, 14609.0, 17529.0, 12502.0, 11129.0, 10319.0, 10775.0, 12159.0, 10895.0, 10344.0, 9375.0, 26448.0, 9027.0, 9031.0, 9231.0, 88849.0, 6687.0, 5433.0, 20204.0, 18887.0, 7413.0, 6752.0, 5659.512221165069, 4932.305006722573, 4193.5099938471285, 3508.7961738069885, 3298.2635746490555, 2868.506611040932, 2846.272771757999, 1969.3972606723485, 1760.7961217188988, 1448.860238009415, 2520.8376110728436, 1091.5342669079423, 1088.6370292653887, 1083.808300019971, 1079.945316549177, 1069.322112004517, 1001.7199012657313, 979.507693817187, 895.4878557624917, 869.4127133073284, 850.093635293856, 766.0779095476773, 766.0778932695204, 766.0778902903851, 758.3519425392888, 745.7972463260418, 742.9000086321519, 737.1054810209936, 727.4480100741033, 688.8182401289154, 5590.730884435018, 5717.461047485389, 7817.20943798262, 1593.5943371378291, 1595.107286548478, 958.2613767239718, 3390.9644542219144, 1801.4576640473704, 1458.0908162213098, 1005.9066264280291, 6846.457819880075, 2233.2639202591517, 6192.596367771377, 2324.73679356801, 9008.781016582761, 13693.230698250789, 4464.657642822298, 59254.51745381806, 7923.240804826378, 1979.7642824859306, 5409.451303321987, 15507.79056582885, 5701.732287829082, 7347.350242953881, 4676.3824233102205, 4673.447714282153, 14571.25477930544, 12877.947985922177, 8819.505567980155, 17179.538932748794, 4079.260780608518, 11545.711985999422, 13467.50834636107, 14693.365723956404, 5889.25207045452, 17531.173081652494, 30583.115056248254, 30534.344050603348, 30109.6702692551, 16780.80574310963, 17766.39753121502, 25941.183393835905, 14386.66345780128, 28089.567891369243, 12468.104738575776, 18302.78057108845, 13041.121524150827, 9182.581378374214, 10673.668055218506, 9266.24735978894, 9336.152150601249, 8980.668070298754, 8285.43759082579, 2461.5884388917148, 2414.532162288656, 1386.0089496370906, 915.4419199733406, 817.4873446230713, 813.64676004113, 742.5816759785818, 622.5394655330417, 615.8161600395463, 1478.2017115388198, 570.6809996548818, 512.0995507887451, 495.7742727892811, 492.8927712933528, 1132.5496812254335, 1322.3981011197106, 457.36098356002236, 434.31319859200147, 422.7889589652591, 417.0257258855464, 382.45489400763785, 363.24811453139034, 345.00056909465906, 342.1204851424049, 339.23930735305703, 321.9524336657175, 317.1518437867124, 314.27064934637065, 313.309382877528, 312.3498155925801, 4023.9189090189398, 1929.5012163332658, 1132.9994052005497, 9802.33703028686, 960.579159078778, 1731.7049556162149, 1557.8009299596965, 541.8881308450909, 995.1536687080836, 532.2846293060447, 2790.644727409702, 2236.2393596600696, 571.6397589639317, 543.7650155661235, 2036.2849536915373, 1952.0503406409257, 1554.6054317948442, 1366.850402014887, 1157.6239573984722, 1008.7360212920215, 2394.1564020567807, 4552.170012682928, 4765.760233240217, 56485.05896364149, 3194.304935245261, 4880.768917000919, 5617.6217794708145, 12979.28022039247, 41658.328448227854, 27435.213825061375, 40261.24311573341, 5345.921595797661, 38303.02960702764, 39422.5318531074, 13690.440036012893, 6446.8315138594335, 18229.684535221815, 4865.489635070176, 8661.151328237427, 4308.117497946504, 12206.333396212449, 16814.392565890266, 8674.89607173679, 17699.37983306034, 8695.270498157131, 11592.709948638756, 13897.593857257163, 15083.186571077114, 7798.511359436695, 10216.662365231912, 10022.012953897132, 6747.321730664908, 6991.534270398541, 8893.743892668648, 7329.223251049065, 9554.62183993384, 7993.5157945971705, 15533.719643367289, 9322.67370268598, 7538.447057333204, 7603.299890442802, 13996.686155126503, 3532.3916984283233, 965.0033918111618, 789.0191925751427, 567.4784918565913, 493.33332881186277, 462.9606114200462, 329.8566440264976, 324.4967527220593, 319.1368614176211, 306.6304483739319, 287.87082880839824, 281.6176222865537, 279.8309918517409, 278.0443614169282, 275.36441576470907, 1707.3489513547624, 256.6047961991753, 256.6047961991753, 254.81816576436262, 246.77832880770526, 1201.730055320688, 233.37860054660973, 225.33876358995244, 223.54759224774773, 219.9788722855142, 219.97761263211788, 214.61898098107594, 212.83235054626323, 198.53733971857963, 2731.088560746005, 498.6924644008555, 4354.307946793652, 9649.811564504551, 860.3623373787553, 663.0626596268964, 497.473681218904, 4421.136160435686, 4531.783699463586, 379.88248798324025, 327.17670645436544, 1200.835508212582, 11858.530800424178, 3543.3921547425175, 977.5480454776254, 943.5648168477859, 525.584562185609, 24011.512105509424, 2437.064774782667, 24139.35393482241, 4190.797964662835, 6479.09416133468, 496.90270258859806, 4373.155108386546, 12815.745957821311, 4443.800954738729, 11537.195336748242, 5108.95192363411, 772.1421158121408, 4507.803899737515, 11684.488080418227, 2840.614138077574, 3067.4694687743304, 2607.2222992105594, 5360.9050042357685, 2787.99353007485, 6281.644290807331, 6684.3541469189795, 2413.587159765626, 4679.718510557975, 3687.3760123533243, 4742.0152161011865, 3050.756313901169, 3087.837551564223, 3443.5907542319337, 2277.0000500594615, 1850.5422963471312, 1330.3846849730287, 508.10892796620874, 466.0836765821615, 437.185122473705, 431.05625138101016, 424.0392095525118, 336.482203337901, 332.9794608177859, 297.9520356166345, 259.4218678953678, 259.4218678953678, 2808.7833583297056, 238.4054127746769, 231.39992773444655, 226.14461037266025, 203.3779875735253, 203.3779875735253, 199.87524505341017, 199.87524505341017, 177.10587099120823, 171.85330489248892, 170.97761926246008, 165.719140446809, 5410.557705764436, 206.66893074411894, 155.21440627537746, 406.3400621799441, 136.82587969133724, 1265.5932658431727, 1695.5838408076079, 1893.9367629054977, 613.9313640193099, 585.1769398809308, 471.12445848858715, 608.3504296022987, 517.1303190044788, 312.8186930379251, 393.807926757896, 9261.705874440433, 10315.465416904954, 13536.019738519703, 8873.844776247759, 5638.278801435828, 17341.02918045385, 7386.806055600826, 2030.9151903514667, 5195.385838242047, 845.3513486513664, 6581.784360496542, 3905.6938884013457, 7767.9949324491345, 7284.549603089294, 2847.8454819149165, 3699.9050540302237, 4340.734784408003, 4611.701537085009, 7816.95604367197, 4834.992968284667, 3425.211432570083, 2317.721711371759, 4968.732330325634, 2994.7989389302047, 9863.618433861859, 4616.968994278498, 5681.374509191575, 3669.8295803067103, 3509.471627465987, 4130.492031398934, 3310.7473605498026], \"Term\": [\"react\", \"from\", \"12\", \"16\", \"createsvgicon\", \"self\", \"nimport\", \"default\", \"path\", \"nexport\", \"10\", \"24\", \"32\", \"fragment\", \"48\", \"11\", \"14\", \"13\", \"21\", \"import\", \"17\", \"45\", \"15\", \"this\", \"26\", \"512\", \"const\", \"assert\", \"22\", \"28\", \"bokeh\", \"django\", \"user_profile\", \"zulip\", \"zerver\", \"misago\", \"status_code\", \"hamlet\", \"pytest\", \"stream_id\", \"migrations\", \"graphene\", \"expected_message\", \"stream_name\", \"example_email\", \"canonical_name\", \"example_user\", \"api_link\", \"casper\", \"model_name\", \"__future__\", \"page_params\", \"charfield\", \"admin_client\", \"cordelia\", \"ujson\", \"packrat\", \"user_acl\", \"unicode_literals\", \"columndatasource\", \"realm\", \"thread\", \"assertequal\", \"userprofile\", \"threads\", \"full_name\", \"pk\", \"gettext\", \"topic\", \"is_valid\", \"models\", \"product\", \"xe0\", \"np\", \"response\", \"nfrom\", \"dict\", \"self\", \"ndef\", \"imports\", \"post\", \"assert\", \"email\", \"str\", \"stream\", \"category\", \"def\", \"user\", \"message\", \"import\", \"objects\", \"id\", \"none\", \"data\", \"request\", \"in\", \"return\", \"function\", \"if\", \"for\", \"to\", \"the\", \"is\", \"this\", \"name\", \"var\", \"true\", \"not\", \"default\", \"false\", \"of\", \"and\", \"value\", \"reactnoop\", \"__webpack_require__\", \"subreddit\", \"valtype\", \"edittype\", \"errorboundary\", \"workinprogress\", \"_dereq_\", \"dflt\", \"iana\", \"towarndev\", \"vec4\", \"reacttestrenderer\", \"vec2\", \"fiber\", \"shiny\", \"expirationtime\", \"_interoprequiredefault\", \"sr_id\", \"tohavebeencalledtimes\", \"_asynctogenerator2\", \"memberof\", \"vec3\", \"subreddits\", \"renderintodocument\", \"_fulllayout\", \"_load_asynctogenerator\", \"srs\", \"plot_ly\", \"containertagname\", \"tobe\", \"reddit\", \"inst\", \"expect\", \"mobx\", \"jp\", \"r2\", \"affiliates\", \"vnd\", \"museum\", \"toequal\", \"tthis\", \"__dev__\", \"exhibit\", \"reactdom\", \"thing\", \"xf0\", \"sr\", \"developer\", \"_id\", \"tvar\", \"tif\", \"math\", \"this\", \"treturn\", \"array\", \"license\", \"length\", \"function\", \"var\", \"if\", \"push\", \"the\", \"return\", \"null\", \"render\", \"true\", \"prototype\", \"new\", \"param\", \"of\", \"for\", \"it\", \"to\", \"else\", \"value\", \"is\", \"in\", \"object\", \"const\", \"and\", \"options\", \"key\", \"false\", \"div\", \"name\", \"type\", \"self\", \"data\", \"not\", \"react\", \"createsvgicon\", \"0h24v24h0v0z\", \"withstyles\", \"0h24v24h0z\", \"markdowndocs\", \"m19\", \"iconbutton\", \"listitemtext\", \"2v5c0\", \"2v14c0\", \"2h14c1\", \"handleclose\", \"activestep\", \"appbar\", \"12s4\", \"9959\", \"typography\", \"childat\", \"reqsource\", \"reqprefix\", \"formcontrollabel\", \"storybook\", \"inputlabel\", \"listitemicon\", \"knob\", \"anchorel\", \"h2o\", \"1s1\", \"jss\", \"2h16c1\", \"strictequal\", \"m20\", \"m0\", \"fragment\", \"m12\", \"2zm0\", \"addon\", \"material\", \"classes\", \"callcount\", \"m17\", \"1s\", \"nexport\", \"wrapper\", \"shallow\", \"paper\", \"handlechange\", \"react\", \"styles\", \"from\", \"proptypes\", \"45\", \"listitem\", \"fill\", \"nimport\", \"55\", \"path\", \"utils\", \"declare\", \"ui\", \"default\", \"core\", \"theme\", \"41\", \"as\", \"39\", \"const\", \"import\", \"67\", \"none\", \"12\", \"the\", \"11\", \"assert\", \"this\", \"627\", \"745\", \"837\", \"576\", \"40c0\", \"686\", \"12h40c6\", \"857\", \"40c\", \"12v40c0\", \"256c0\", \"48h352c26\", \"48v80c0\", \"373\", \"80v352c0\", \"32s14\", \"714\", \"256s111\", \"m256\", \"48h48c\", \"48zm\", \"909\", \"16v32c0\", \"superblock\", \"836\", \"512\", \"667\", \"059\", \"971\", \"32h48c21\", \"448\", \"163\", \"248\", \"327\", \"12v\", \"496\", \"384\", \"640\", \"654\", \"673\", \"32\", \"24\", \"16\", \"48\", \"26\", \"12\", \"21\", \"80\", \"28\", \"112\", \"17\", \"64\", \"14\", \"13\", \"40\", \"23\", \"33\", \"19\", \"11\", \"20\", \"27\", \"96\", \"22\", \"49\", \"10\", \"18\", \"15\", \"35\", \"29\", \"25\", \"31\"], \"Total\": [34078.0, 37731.0, 22611.0, 16671.0, 13997.0, 74805.0, 20292.0, 25929.0, 19043.0, 14609.0, 17529.0, 12502.0, 11129.0, 10319.0, 10775.0, 12159.0, 10895.0, 10344.0, 9375.0, 26448.0, 9027.0, 9031.0, 9231.0, 88849.0, 6687.0, 5433.0, 20204.0, 18887.0, 7413.0, 6752.0, 5660.1945561252805, 4932.987904156637, 4194.192328946981, 3509.4785087644123, 3298.9459096064793, 2869.1889936136113, 2846.9767158117616, 1970.0795956531044, 1761.478487672257, 1449.5425729668389, 2522.3961460820356, 1092.216601914136, 1089.3193643072477, 1084.490634977395, 1080.627651506607, 1070.004446961941, 1002.4022362231552, 980.1900763976049, 896.1701907712442, 870.095051969983, 850.7800767863762, 766.7602445051015, 766.7602429953948, 766.7602427191047, 759.0342775573292, 746.4795812834659, 743.5823436724027, 737.7878636052774, 728.13040774872, 689.500575089129, 5605.070141494761, 5756.416850187915, 7952.119514691353, 1597.2846771864008, 1599.2138907066167, 959.9039731141523, 3468.462625646011, 1820.2868069843296, 1469.676243908594, 1010.1083876145085, 7189.766219324398, 2288.8154318089423, 6566.388923751558, 2392.697100839625, 9758.61307718758, 15327.76918720033, 4786.318863644199, 74805.50414606708, 8939.941598932397, 2056.6739235357563, 6041.434660902519, 18887.233881333985, 6441.2821905875835, 8606.250383408913, 5246.069204361825, 5315.823565129278, 19200.930372007188, 17057.084602863368, 11654.530891463137, 26448.40103485377, 4706.090086870867, 16540.485669972782, 21295.271870833247, 24641.696219347294, 7554.950021731388, 33370.90884961619, 74020.6320963669, 73985.06412863678, 73375.06669411476, 34450.85390566878, 38040.549214443345, 69309.76494088632, 29433.685432134378, 88849.63028083411, 23713.84571450808, 46627.70858230242, 33960.52805982287, 17235.024039305114, 25929.93268445122, 19916.597214221612, 22389.341066604862, 19748.245516914623, 22355.64358456077, 2462.272530486533, 2415.2159421501738, 1386.6929119302217, 916.1267069371931, 818.1721316222722, 814.3308517109034, 743.2657676604716, 623.2234278850066, 616.5009471469516, 1479.8511884418149, 571.3650913756055, 512.7843379850046, 496.4586314067514, 493.5775585101733, 1134.1286930769193, 1324.2775592156554, 458.04509078365595, 434.9969784958748, 423.4729213677125, 417.71078314992275, 383.1386739185189, 363.93189444537506, 345.68535654655074, 342.80444758197604, 339.9233988103139, 322.63722117371424, 317.83562370968116, 314.9546166998338, 313.99417040869463, 313.03390745520824, 4064.1375510499147, 1944.6153071493388, 1137.0234647700815, 10060.896339586241, 964.1599820941626, 1751.2224241972588, 1578.8748592765749, 543.5205633661506, 1004.5266372286907, 533.9171975125994, 2855.8406057616794, 2296.4672803404087, 574.9523573561028, 546.4072711445009, 2147.8815354660437, 2058.6215935702326, 1634.442459544884, 1432.495024803861, 1205.4516272228032, 1046.487004825378, 2653.8698920461397, 5309.109946273278, 5627.566892946086, 88849.63028083411, 3764.801379460571, 6048.567823391562, 7112.9176797658765, 18699.1762491524, 73985.06412863678, 46627.70858230242, 73375.06669411476, 7014.463800601795, 69309.76494088632, 74020.6320963669, 21488.73240642824, 9017.950868546604, 33960.52805982287, 6684.8924726065825, 13985.77492027383, 5736.975931330098, 22389.341066604862, 34450.85390566878, 14698.625549016722, 38040.549214443345, 15004.138267813312, 22355.64358456077, 29433.685432134378, 33370.90884961619, 13481.466906959504, 20204.908730796804, 19748.245516914623, 10951.58449221775, 11577.042815210056, 19916.597214221612, 13685.260474133851, 23713.84571450808, 16552.67912060157, 74805.50414606708, 24641.696219347294, 17235.024039305114, 34078.69597335165, 13997.386597744977, 3533.0921410467977, 965.7042335535115, 789.7212189230567, 568.178934475066, 494.0337714303374, 463.66105403852083, 330.5570866449724, 325.1971953405341, 319.83730403609593, 307.33089099240675, 288.57127142687307, 282.3180649050285, 280.5314344702158, 278.7448040354031, 276.06485838318395, 1711.9121143383286, 257.3052388176502, 257.3052388176502, 255.51860838283753, 247.47877142618017, 1205.3301404148094, 234.0790431650847, 226.03920620842743, 224.2529164688959, 220.6793149039892, 220.67938494260423, 215.31942359955093, 213.53279316473822, 199.2398972926386, 2774.081090704803, 502.8964631250193, 4572.649763652821, 10319.996649977158, 878.304979199592, 677.7746763248847, 506.2129158000466, 4817.871977558714, 5030.132119976541, 386.3770750162954, 331.37988367219106, 1294.5439184343818, 14609.181452595945, 4164.872175736836, 1062.3675197775008, 1030.2373857576204, 551.4971213074963, 34078.69597335165, 2947.7418967427493, 37731.9647866656, 5503.481897018444, 9031.014225645167, 520.6950128761389, 5900.169445417193, 20292.765870732677, 6154.753951338296, 19043.840570142416, 7955.624261685047, 858.2713645118251, 7704.819884218152, 25929.93268445122, 4625.569719404154, 5368.855914077458, 4817.272036361603, 15445.665216782241, 5538.676200433258, 20204.908730796804, 26448.40103485377, 4414.309232917484, 21295.271870833247, 22611.391598893948, 69309.76494088632, 12159.552596008016, 18887.233881333985, 88849.63028083411, 2277.7065554140927, 1851.2475426011029, 1331.0903119220443, 508.8221772273027, 466.78852659738413, 437.89099054770475, 431.7611013962328, 424.75662098310806, 337.1870533531237, 333.68431083300857, 298.6568856318572, 260.1267179105906, 260.1267179105906, 2816.912265952308, 239.11026278989976, 232.1047777496694, 226.85078032079107, 204.08283758874825, 204.08283758874825, 200.5800950686331, 200.5800950686331, 177.8124183036141, 172.55815490771195, 171.6824692776831, 166.42877746934627, 5433.949340044076, 207.60605494809474, 155.92021220000555, 408.2278789325176, 137.53072970656044, 1273.9713628807851, 1712.604802845568, 1930.7088356373313, 627.2965596307457, 597.494869752788, 479.74595242651236, 624.8903165296265, 532.9671177377035, 318.14292182954705, 403.6707454209103, 11129.485779745366, 12502.802670681061, 16671.864234637997, 10775.42574852383, 6687.078927637018, 22611.391598893948, 9375.969764929843, 2384.201935164281, 6752.073174006207, 926.5689656731167, 9027.429108698796, 5063.239099340522, 10895.408681931898, 10344.101832756754, 3605.5407143898333, 5067.277775016685, 6091.544361556413, 6532.075326043842, 12159.552596008016, 7050.475836881542, 4701.067898237481, 2981.995963666922, 7413.534394622443, 4073.507675851433, 17529.242698981587, 6930.205621919973, 9231.099762540896, 5323.547984455602, 5165.394456372553, 6872.728973619818, 5281.1311314296345], \"loglift\": [30.0, 29.0, 28.0, 27.0, 26.0, 25.0, 24.0, 23.0, 22.0, 21.0, 20.0, 19.0, 18.0, 17.0, 16.0, 15.0, 14.0, 13.0, 12.0, 11.0, 10.0, 9.0, 8.0, 7.0, 6.0, 5.0, 4.0, 3.0, 2.0, 1.0, 0.8822, 0.8821, 0.8821, 0.8821, 0.8821, 0.882, 0.882, 0.8819, 0.8819, 0.8818, 0.8817, 0.8817, 0.8817, 0.8817, 0.8817, 0.8816, 0.8816, 0.8816, 0.8815, 0.8815, 0.8815, 0.8814, 0.8814, 0.8814, 0.8814, 0.8814, 0.8814, 0.8814, 0.8813, 0.8813, 0.8797, 0.8755, 0.8652, 0.88, 0.8797, 0.8806, 0.8597, 0.8719, 0.8744, 0.8781, 0.8334, 0.8577, 0.8237, 0.8535, 0.8023, 0.7695, 0.8127, 0.6492, 0.7616, 0.8442, 0.7718, 0.6851, 0.7603, 0.7241, 0.7673, 0.7535, 0.6064, 0.6012, 0.6036, 0.4508, 0.7393, 0.5228, 0.4241, 0.3652, 0.6332, 0.2386, -0.0016, -0.0027, -0.0085, 0.163, 0.1209, -0.1005, 0.1664, -0.2693, 0.2394, -0.0529, -0.0748, 0.2526, -0.0053, 0.1171, 0.0076, 0.0943, -0.1103, 1.0292, 1.0292, 1.029, 1.0287, 1.0286, 1.0286, 1.0286, 1.0284, 1.0284, 1.0284, 1.0283, 1.0281, 1.0281, 1.0281, 1.0281, 1.0281, 1.028, 1.0279, 1.0279, 1.0278, 1.0277, 1.0276, 1.0275, 1.0275, 1.0275, 1.0274, 1.0273, 1.0273, 1.0273, 1.0273, 1.0195, 1.0217, 1.0259, 1.0034, 1.0258, 1.0183, 1.016, 1.0265, 1.0201, 1.0264, 1.0064, 1.0029, 1.0237, 1.0246, 0.9761, 0.9763, 0.9794, 0.9826, 0.989, 0.9927, 0.9265, 0.8757, 0.8633, 0.5765, 0.8652, 0.815, 0.7935, 0.6644, 0.4551, 0.4991, 0.4293, 0.7578, 0.4364, 0.3995, 0.5787, 0.6939, 0.4073, 0.7118, 0.5503, 0.7431, 0.4229, 0.3122, 0.5022, 0.2644, 0.4839, 0.3728, 0.2791, 0.2354, 0.4821, 0.3476, 0.3512, 0.5451, 0.5252, 0.2233, 0.405, 0.1204, 0.3016, -0.5424, 0.0575, 0.2026, -0.4706, 2.0803, 2.0801, 2.0796, 2.0794, 2.0791, 2.0789, 2.0788, 2.0782, 2.0781, 2.0781, 2.078, 2.0779, 2.0778, 2.0778, 2.0778, 2.0778, 2.0776, 2.0776, 2.0776, 2.0776, 2.0775, 2.0773, 2.0773, 2.0772, 2.0772, 2.0771, 2.0771, 2.077, 2.077, 2.0768, 2.0647, 2.0719, 2.0314, 2.0132, 2.0597, 2.0584, 2.0629, 1.9944, 1.976, 2.0634, 2.0675, 2.0052, 1.8717, 1.9187, 1.9971, 1.9924, 2.0322, 1.7302, 1.8901, 1.6336, 1.8078, 1.7482, 2.0335, 1.7808, 1.6207, 1.7546, 1.5791, 1.6374, 1.9746, 1.5443, 1.2832, 1.5927, 1.5205, 1.4664, 1.0221, 1.3939, 0.912, 0.7049, 1.4766, 0.5651, 0.2668, -0.6018, 0.6976, 0.2693, -1.1701, 2.2623, 2.2622, 2.2621, 2.2612, 2.2611, 2.261, 2.261, 2.2609, 2.2605, 2.2605, 2.2602, 2.2599, 2.2599, 2.2597, 2.2597, 2.2596, 2.2595, 2.2591, 2.2591, 2.2591, 2.2591, 2.2586, 2.2585, 2.2585, 2.2583, 2.2583, 2.2581, 2.2581, 2.258, 2.2575, 2.256, 2.2526, 2.2434, 2.2411, 2.2418, 2.2445, 2.2358, 2.2324, 2.2457, 2.2379, 2.0789, 2.0703, 2.0542, 2.0684, 2.092, 1.9972, 2.0242, 2.1022, 2.0005, 2.1709, 1.9466, 2.003, 1.9243, 1.9119, 2.0267, 1.9481, 1.9238, 1.9145, 1.8208, 1.8854, 1.946, 2.0106, 1.8625, 1.955, 1.6876, 1.8565, 1.7772, 1.8906, 1.8761, 1.7534, 1.7956], \"logprob\": [30.0, 29.0, 28.0, 27.0, 26.0, 25.0, 24.0, 23.0, 22.0, 21.0, 20.0, 19.0, 18.0, 17.0, 16.0, 15.0, 14.0, 13.0, 12.0, 11.0, 10.0, 9.0, 8.0, 7.0, 6.0, 5.0, 4.0, 3.0, 2.0, 1.0, -6.1651, -6.3026, -6.4649, -6.6432, -6.7051, -6.8447, -6.8524, -7.2207, -7.3327, -7.5277, -6.9739, -7.8109, -7.8135, -7.818, -7.8215, -7.8314, -7.8967, -7.9192, -8.0088, -8.0384, -8.0609, -8.1649, -8.1649, -8.1649, -8.1751, -8.1917, -8.1956, -8.2035, -8.2167, -8.2712, -6.1773, -6.1549, -5.8421, -7.4325, -7.4315, -7.9411, -6.6773, -7.3099, -7.5213, -7.8926, -5.9747, -7.095, -6.0751, -7.0548, -5.7002, -5.2815, -6.4023, -3.8166, -5.8286, -7.2155, -6.2103, -5.1571, -6.1577, -5.9041, -6.3559, -6.3565, -5.2194, -5.3429, -5.7215, -5.0547, -6.4925, -5.4521, -5.2982, -5.2111, -6.1253, -5.0345, -4.478, -4.4796, -4.4936, -5.0782, -5.0211, -4.6426, -5.2321, -4.563, -5.3753, -4.9914, -5.3303, -5.6811, -5.5307, -5.6721, -5.6646, -5.7034, -5.7839, -6.8504, -6.8697, -7.4248, -7.8396, -7.9528, -7.9575, -8.0489, -8.2252, -8.2361, -7.3604, -8.3122, -8.4205, -8.4529, -8.4587, -7.6268, -7.4718, -8.5335, -8.5852, -8.6121, -8.6259, -8.7124, -8.7639, -8.8155, -8.8238, -8.8323, -8.8846, -8.8996, -8.9087, -8.9118, -8.9149, -6.359, -7.094, -7.6264, -5.4686, -7.7915, -7.2021, -7.308, -8.3639, -7.7561, -8.3818, -6.725, -6.9465, -8.3105, -8.3605, -7.0401, -7.0824, -7.31, -7.4387, -7.6049, -7.7426, -6.8782, -6.2356, -6.1898, -3.7173, -6.5899, -6.1659, -6.0253, -5.1879, -4.0217, -4.4394, -4.0559, -6.0749, -4.1057, -4.0769, -5.1346, -5.8877, -4.8482, -6.1691, -5.5924, -6.2907, -5.2493, -4.929, -5.5908, -4.8777, -5.5885, -5.3009, -5.1195, -5.0377, -5.6973, -5.4272, -5.4465, -5.8421, -5.8065, -5.5659, -5.7594, -5.4942, -5.6726, -5.0082, -5.5188, -5.7312, -5.7227, -4.0616, -5.4384, -6.736, -6.9374, -7.267, -7.407, -7.4705, -7.8095, -7.8259, -7.8426, -7.8825, -7.9457, -7.9676, -7.974, -7.9804, -7.9901, -6.1655, -8.0606, -8.0606, -8.0676, -8.0997, -6.5167, -8.1555, -8.1906, -8.1986, -8.2146, -8.2147, -8.2393, -8.2477, -8.3172, -5.6957, -7.3962, -5.2293, -4.4335, -6.8508, -7.1113, -7.3986, -5.214, -5.1893, -7.6683, -7.8177, -6.5174, -4.2274, -5.4353, -6.7231, -6.7585, -7.3437, -3.5219, -5.8096, -3.5166, -5.2675, -4.8318, -7.3998, -5.2249, -4.1497, -5.2089, -4.2548, -5.0694, -6.959, -5.1946, -4.2422, -5.6564, -5.5796, -5.7421, -5.0213, -5.6751, -4.8628, -4.8007, -5.8193, -5.1572, -5.3955, -5.144, -5.585, -5.573, -5.4639, -5.6953, -5.9026, -6.2327, -7.1952, -7.2815, -7.3455, -7.3596, -7.376, -7.6073, -7.6178, -7.7289, -7.8674, -7.8674, -5.4854, -7.9519, -7.9817, -8.0047, -8.1108, -8.1108, -8.1282, -8.1282, -8.2491, -8.2792, -8.2843, -8.3156, -4.8298, -8.0948, -8.3811, -7.4187, -8.5072, -6.2826, -5.9901, -5.8795, -7.006, -7.054, -7.2708, -7.0151, -7.1776, -7.6803, -7.45, -4.2922, -4.1845, -3.9128, -4.335, -4.7885, -3.665, -4.5184, -5.8096, -4.8703, -6.6861, -4.6338, -5.1557, -4.4681, -4.5324, -5.4716, -5.2098, -5.0501, -4.9895, -4.4618, -4.9422, -5.287, -5.6775, -4.915, -5.4212, -4.2293, -4.9884, -4.7809, -5.218, -5.2627, -5.0997, -5.3209]}, \"token.table\": {\"Topic\": [4, 3, 3, 1, 2, 3, 4, 1, 2, 3, 4, 1, 2, 3, 4, 1, 2, 3, 4, 4, 3, 3, 4, 4, 1, 2, 3, 4, 1, 2, 3, 4, 1, 2, 3, 4, 1, 2, 3, 4, 1, 2, 4, 4, 1, 2, 3, 4, 1, 2, 3, 4, 1, 2, 3, 4, 1, 2, 3, 4, 3, 1, 2, 3, 4, 1, 2, 3, 4, 1, 2, 3, 4, 1, 2, 3, 4, 1, 2, 3, 4, 1, 2, 4, 1, 2, 3, 4, 4, 4, 1, 2, 3, 4, 1, 2, 3, 4, 1, 2, 3, 4, 1, 2, 3, 4, 3, 3, 3, 3, 3, 4, 1, 2, 3, 4, 1, 2, 3, 4, 1, 2, 4, 4, 4, 1, 2, 3, 4, 1, 2, 3, 4, 1, 2, 4, 1, 2, 3, 4, 1, 2, 3, 4, 1, 2, 3, 4, 4, 4, 1, 2, 3, 4, 2, 4, 1, 2, 3, 4, 1, 2, 3, 4, 4, 4, 4, 4, 1, 2, 3, 4, 2, 4, 1, 2, 3, 4, 1, 2, 3, 4, 4, 4, 1, 2, 3, 4, 1, 2, 4, 2, 3, 4, 4, 1, 2, 3, 4, 2, 4, 4, 4, 4, 1, 2, 3, 4, 4, 4, 4, 4, 4, 1, 2, 3, 4, 1, 4, 3, 2, 4, 1, 2, 2, 2, 2, 1, 2, 4, 2, 2, 3, 1, 2, 3, 1, 1, 2, 3, 1, 2, 3, 4, 1, 3, 1, 2, 3, 4, 1, 2, 3, 4, 1, 2, 3, 4, 1, 2, 1, 1, 3, 1, 1, 1, 2, 3, 4, 1, 3, 1, 2, 3, 4, 1, 1, 2, 3, 4, 2, 1, 1, 2, 3, 3, 1, 2, 3, 4, 1, 2, 3, 1, 2, 1, 2, 3, 4, 1, 2, 3, 4, 2, 1, 2, 1, 2, 3, 4, 1, 2, 1, 2, 3, 4, 1, 2, 3, 4, 2, 1, 1, 1, 2, 1, 2, 3, 4, 1, 2, 1, 2, 3, 4, 1, 2, 1, 2, 3, 4, 1, 2, 3, 4, 3, 1, 2, 3, 4, 1, 2, 3, 4, 1, 2, 1, 2, 3, 4, 1, 2, 1, 3, 1, 1, 2, 3, 4, 3, 1, 2, 3, 1, 2, 3, 4, 1, 2, 3, 4, 1, 2, 3, 4, 1, 2, 3, 4, 1, 2, 3, 4, 3, 1, 2, 1, 2, 3, 4, 1, 2, 1, 2, 3, 4, 1, 2, 3, 4, 3, 1, 2, 3, 4, 3, 1, 2, 3, 4, 1, 2, 3, 4, 1, 3, 4, 3, 3, 1, 2, 3, 4, 1, 2, 3, 4, 3, 4, 3, 3, 4, 4, 3, 1, 2, 3, 1, 2, 3, 4, 2, 1, 2, 3, 4, 1, 4, 1, 1, 2, 1, 1, 2, 4, 1, 2, 1, 2, 3, 4, 1, 2, 1, 2, 3, 4, 1, 2, 3, 4, 1, 2, 1, 2, 3, 4, 1, 2, 3, 4, 1, 2, 3, 4, 1, 2, 1, 2, 3, 4, 1, 2, 3, 4, 1, 2, 3, 4, 1, 2, 3, 4, 1, 2, 3, 4, 1, 1, 1, 2, 3, 4, 1, 2, 3, 4, 1, 2, 3, 4, 1, 2, 3, 2, 1, 2, 3, 4, 1, 2, 3, 4, 1, 2, 3, 4, 1, 2, 3, 4, 1, 2, 3, 4, 1, 1, 2, 1, 2, 3, 4, 1, 2, 3, 2, 2, 1, 2, 1, 2, 4, 1, 2, 3, 4, 2, 3, 3, 1, 2, 3, 4, 1, 2, 3, 4, 1, 2, 3, 4, 1, 2, 3, 4, 1, 2, 3, 4, 1, 2, 1, 2, 4, 2, 2, 1, 1, 3, 1, 2, 3, 4, 1, 2, 3, 4, 1, 1, 1, 2, 3, 1, 2, 3, 4, 2, 2, 4, 1, 2, 3, 4, 1, 2, 3, 4, 1, 2, 3, 4, 1, 2, 3, 4, 1, 2, 3, 1, 2, 1, 2, 1, 2, 3, 4, 2, 4, 1, 2, 3, 4, 2, 1, 2, 4, 2, 1, 2, 1, 2, 3, 4, 1, 2, 1, 2, 1, 2, 3, 4, 1, 3, 1, 2, 3, 4, 1, 1, 1, 2, 3, 4, 1, 1, 1, 2, 1, 2, 3, 4, 2, 1, 2, 3, 4, 1, 2, 3, 4, 2, 2, 2, 1, 2, 3, 2, 1, 2, 3, 4, 1, 2, 3, 1, 2, 3, 4, 1, 1], \"Freq\": [0.99409818530246, 0.9996908823763441, 0.9990867423772148, 0.18911256218687614, 0.09321566413675886, 0.15499813920414554, 0.5627168366248405, 0.06990388776960883, 0.03635002164019659, 0.2509138371589136, 0.6428690478765084, 0.04209076867976902, 0.04101151820080059, 0.004317001915873746, 0.9119666547283288, 0.044800427057729235, 0.02520853250040046, 0.1630594023315377, 0.7669143194551655, 0.9982372163824589, 0.9973280074655365, 0.020083854452114327, 0.9790879045405734, 0.9979492268266966, 0.0343190743613736, 0.03934609370444804, 0.22205891213542298, 0.7042660752749483, 0.02753453392689131, 0.054610158955001105, 0.20494871419582766, 0.7129608651469723, 0.05828124642127293, 0.08655523399739233, 0.23973308239828436, 0.6154196299614341, 0.02015371498179044, 0.048224960849284265, 0.11978264529355806, 0.8119068035521292, 0.0035034352292080094, 0.0064229645868813506, 0.9903043581227973, 0.9967654098526351, 0.021268513736096752, 0.019496137591422023, 0.23018735178963048, 0.7291112365155668, 0.03275516086882152, 0.02554036772590929, 0.2754608021963889, 0.6662139988165152, 0.024800693793914873, 0.012859619004252157, 0.2564269265728853, 0.706054319614416, 0.0007724728267306663, 0.0007724728267306663, 0.9277398649035302, 0.07029502723249063, 0.9985165128430541, 0.15133730328078665, 0.06510198894646774, 0.0977239006189897, 0.6857693171158421, 0.01994460356511178, 0.008852417625156565, 0.18334103491137513, 0.7878651686389343, 0.032238334278635504, 0.01510750392973714, 0.2823214796869628, 0.6702605984541414, 0.042231748386695724, 0.014800846397206446, 0.21273749888251398, 0.7301750889288513, 0.01903573192897841, 0.017836000925051197, 0.1380490475185577, 0.8250150203672785, 0.009840945278384278, 0.008805056301712248, 0.9809868609084116, 0.059656069892140076, 0.09908727706474973, 0.2403703108824766, 0.6009257772061914, 0.9978005341130258, 0.9946941271419878, 0.013159707093676573, 0.008374359059612365, 0.1353356240883784, 0.8431185067516878, 0.02892959704985094, 0.01701741002932408, 0.22548068288854412, 0.7285578668804373, 0.027991402807600298, 0.010811494206110167, 0.1917929451631872, 0.7693933205581139, 0.03136256124643887, 0.034072906045513836, 0.2551596032272002, 0.679328564282432, 0.998923339624799, 0.998795937480904, 0.9973820938785757, 0.9963185557634332, 0.978201197476132, 0.02065583222423205, 0.03332619388156638, 0.09372992029190544, 0.2459700332508791, 0.6269490223969675, 0.046543030850779474, 0.036659375650807, 0.08464002907612792, 0.8322037678376824, 0.006376569325287828, 0.01594142331321957, 0.9788033914316816, 0.9961410100295925, 0.9952401766116985, 0.07879775168826944, 0.005417345428568524, 0.2032325345626616, 0.7126271668307868, 0.03794461900030323, 0.009767921722850336, 0.2629825079228937, 0.6893898600550141, 0.0003549986316886344, 0.002484990421820441, 0.997191156413374, 0.006401123355878339, 0.017603089228665433, 0.0016002808389695847, 0.9729707500935075, 0.02148527837584933, 0.013360593275738238, 0.5033693790913272, 0.46184321080187046, 0.12009294424880089, 0.07793560585199319, 0.01220344006223381, 0.7898953931191338, 0.996479540535975, 0.9983107412619329, 0.01889035938039543, 0.0076806955722486915, 0.5411776582933064, 0.43219481571410207, 0.006279576003898463, 0.9937429026169319, 0.018270373169322802, 0.005979394855414735, 0.7174166531154087, 0.2582212741264289, 0.002041682668827621, 0.002876916487893466, 0.17159414793919414, 0.8235405455989231, 0.9956685806070182, 0.9971079130836257, 0.9956685806070182, 0.9971079130836257, 0.029458640942641147, 0.007364660235660287, 0.22781348995642486, 0.7352385801934186, 0.01667549243414501, 0.9817696170602876, 0.003128479662981567, 0.0009201410773475197, 0.00018402821546950395, 0.9957766739054859, 0.019334647808971227, 0.00909865779245705, 0.7220434862442701, 0.24956318516453618, 0.998384156068466, 0.999689795240562, 0.020935215169634456, 0.02034270907992782, 0.18742942637719903, 0.7714429287980394, 0.016886595252259624, 0.013134018529535264, 0.9700410828242474, 0.006286482781067654, 0.00942972417160148, 0.9838345552370877, 0.9970807453171524, 0.02446588906700158, 0.004757256207472529, 0.5468579278494612, 0.424075410494694, 0.022295398173121605, 0.9760429866899902, 0.9979652686012327, 0.9962496037281072, 0.9998662833600551, 0.0905963529406819, 0.04613703159016208, 0.011743971677495801, 0.8518573741783562, 0.995356691189473, 0.997423657880169, 0.9991808880943097, 0.998218695258106, 0.9954310373180635, 0.019450059861475518, 0.010395721650098983, 0.1924885234566715, 0.7773317027396595, 0.002449612218094751, 0.994542560546469, 0.996142723889522, 0.9948650400014376, 0.005217823636371176, 0.9990831040739426, 0.9999105909552827, 0.9970280371154568, 0.9996414963317974, 0.9980249607550049, 0.03153407528983749, 0.9641782414377583, 0.004777890195429922, 0.9977080794921331, 0.9973708934828387, 0.9988733809678969, 0.001975453349347172, 0.013828173445430204, 0.9818003146255445, 0.9990085000802745, 0.001839856791814398, 0.9972023811634038, 0.9969217101100538, 0.45477457692672796, 0.5074881204720708, 0.030382445847459836, 0.007393061822881893, 0.9998060821036839, 0.9981056152540644, 0.15623533166734305, 0.8069678876913243, 0.023807288635023703, 0.012895614677304506, 0.38431494640647357, 0.26395755331859716, 0.3470876731275446, 0.004661502045361539, 0.8210837064566856, 0.014983665780709442, 0.1634966782008154, 0.000476512339315848, 0.98300836469551, 0.016850853379710675, 0.9999656273077981, 0.015528871633357002, 0.9834952034459434, 0.9990612684229556, 0.9986942315385016, 0.8790735702091262, 0.1092963287591488, 0.010722703509933703, 0.0009405880271871669, 0.9990084997202973, 0.9988137092775382, 0.03657955608546881, 0.054272928322461875, 0.9009703705399166, 0.008150879345131637, 0.9992740033769162, 0.1209607047754092, 0.5056691983184762, 0.31091454476232433, 0.06250956224686653, 0.9966971390939297, 0.9986373770092997, 0.31715012182087976, 0.06874828816567127, 0.614194612197082, 0.9999723807196238, 0.5962657712038456, 0.3783424613716363, 0.013838333082455002, 0.011525180631722054, 0.012816459286459678, 0.08738494968040689, 0.8994824153769883, 0.7588694775563006, 0.24108206791627998, 0.4116478098842355, 0.12911718826048532, 0.4505989329855169, 0.00863866492543271, 0.030693890293418888, 0.9606358097237587, 0.005806952217673843, 0.0041478230126241735, 0.9991874349110574, 0.9328672257745164, 0.06706615441738405, 0.2955734753931317, 0.5355396789014246, 0.15739561582121278, 0.011472196696346523, 0.9997997351350072, 0.9985673777228905, 0.400956049099164, 0.5795067897136355, 0.009597352239075735, 0.009930593636265864, 0.8852274797604939, 0.06986186704528626, 0.01490386496966107, 0.029962978532756108, 0.9995937134025952, 0.99941917874697, 0.9995987277276328, 0.0036602733997496296, 0.9955943647318992, 0.007553998911703878, 0.9742670701647554, 0.0014909208378362918, 0.01669831338376647, 0.9997068221517839, 0.9977183670239366, 0.46524011608687527, 0.4465622266864525, 0.07561532644364712, 0.01260255440727452, 0.000881734150722327, 0.9990047927683964, 0.11491195401627309, 0.13643675956209417, 0.7411651547391773, 0.007457412945008873, 0.4870996825201694, 0.48805756879173634, 0.017967624306059523, 0.006879365041253807, 0.9980654040610389, 0.01201550777637844, 0.04360466531750241, 0.9350778229197738, 0.00930232860106718, 0.19736581548575372, 0.1325401427748428, 0.6397493514181025, 0.03034562357072486, 0.9980164962668345, 0.0010417708729298899, 0.41270492037299544, 0.563059591697722, 0.00898830065003085, 0.015232804259525966, 0.989404523006854, 0.009888551590296153, 0.9998016859350459, 0.9969213937097888, 0.9994520040431429, 0.01994570701279648, 0.014505968736579259, 0.9537674444300862, 0.01269272264450685, 0.9980203454624975, 0.0006757436205818327, 0.9987490712199487, 0.9985742730972054, 0.6980447993108415, 0.23596646905510257, 0.04328772529937316, 0.0226716438369622, 0.41035737828385577, 0.5487013751938332, 0.02796590303017177, 0.012974434544212245, 0.6495666780521118, 0.09009996471467883, 0.25271849104192756, 0.007599703276395487, 0.9627194555936502, 0.02576976320528458, 0.010696882839929447, 0.0009724438945390406, 0.5253378048228263, 0.451980497983155, 0.017350441446147766, 0.005333987180335582, 0.9953902615522753, 0.003517957301618963, 0.9964614056835712, 0.48879369976186937, 0.47218008196917083, 0.03332915962093514, 0.005741720668642241, 0.9959327259679419, 0.003959971077407324, 0.25349308937591475, 0.5901912373419379, 0.14572791128373844, 0.010613237236350699, 0.007994415675905616, 0.989023425047752, 0.001142059382272231, 0.002284118764544462, 0.9975048649116524, 0.3149336197677219, 0.6039538862907052, 0.05925520108630203, 0.021853594569729465, 0.9988721820305468, 0.27701755045144305, 0.694094746584803, 0.017968705975228736, 0.010909571484960304, 0.19837147898026053, 0.7898305945507467, 0.005904749905861759, 0.005904749905861759, 0.042251220879723085, 0.9544934898737443, 0.001920510039987413, 0.9954025400024225, 0.9983147036700177, 0.0004373831593002473, 0.00962242950460544, 0.9521831377966383, 0.037614951699821264, 0.004554226714785608, 0.002277113357392804, 0.9791587436789058, 0.013662680144356825, 0.9867828921186907, 0.012070738741513036, 0.9979074883335517, 0.9922519575882349, 0.007953923507721321, 0.9946941271419878, 0.9979250647929158, 0.08094860175126917, 0.0012453631038656795, 0.9176250470316949, 0.13504948309945944, 0.8469024163842418, 0.014393431751389758, 0.0037316304540640113, 0.9974393713230459, 0.7567872171037436, 0.21236375990156073, 0.017847136185666516, 0.013042137981833225, 0.999446500073272, 0.0003964484331905085, 0.9999341299530871, 0.0031115168184889584, 0.9967225541892963, 0.9987414570770128, 0.9521867319690541, 0.043255926620271085, 0.0044507705847224265, 0.00187294959716371, 0.9964091856910937, 0.5257687913678255, 0.40292916277827817, 0.059416765081590155, 0.011891786907741961, 0.8862474002007082, 0.11364727484588157, 0.3389157931555783, 0.61927208534187, 0.023952909431881587, 0.01780380432399557, 0.07440526380804505, 0.08097647385916953, 0.8117497916279726, 0.032856050255622465, 0.893345915688405, 0.10660390171875074, 0.23717811710140355, 0.08623762828328614, 0.6315551109020544, 0.045040681286242015, 0.6324408573738965, 0.14684010699496394, 0.2197670932959486, 0.0009861343929946412, 0.5328103969601566, 0.43736521532022876, 0.02320855480606149, 0.006614438119727524, 0.9717067819341323, 0.028419811256568173, 0.3233787767733216, 0.6370780621710711, 0.025222520795962055, 0.01433309299844338, 0.32340694303445927, 0.5784978781481073, 0.07907151405383797, 0.019063207421985327, 0.8667492386896005, 0.1300442593964294, 0.0016999249594304498, 0.0014874343395016435, 0.41698413420148583, 0.5451701308979581, 0.031354205463736406, 0.006476296000344414, 0.33867245444123945, 0.616075235943662, 0.03707226112244357, 0.008126677930781966, 0.9992168403709983, 0.9990084977533072, 0.009706500791219257, 0.05920965482643746, 0.9162936746910978, 0.014559751186828885, 0.22381129280810996, 0.7509182627860885, 0.023357253299288734, 0.0019173864648669857, 0.21571279096090853, 0.16425258279594007, 0.6058126751012662, 0.014230322870108619, 0.9776665819970934, 0.02220003739716196, 0.00028831217398911634, 0.9968337934191561, 0.8953171396530438, 0.05859535356575661, 0.039891187032054645, 0.00628989671044845, 0.9756138345481055, 0.015728660118106492, 0.005679793931538456, 0.0030583505785207066, 0.02398481588019978, 0.060143742851107025, 0.761517904196343, 0.154447678016438, 0.2613355423679399, 0.7277603970349328, 0.0008975462245035142, 0.01002259950695591, 0.20586035384146031, 0.7621395094435227, 0.008696316886654487, 0.023380261793628457, 0.9997283601953667, 0.01330061079674294, 0.9867786486345476, 0.06118191851091947, 0.22310125968274375, 0.7046044255559704, 0.011121317561457305, 0.013036100705584122, 0.9479107513060454, 0.03910830211675237, 0.999889317497085, 0.9990761941121824, 0.9974897474715618, 0.002497738591415107, 0.0020569621072579654, 0.9924842167519684, 0.005656645794959406, 0.17786745829305142, 0.7149074212065477, 0.10057717248865189, 0.006764286132092355, 0.997283509127216, 0.9979703694141113, 0.9988137092775382, 0.7794889420923531, 0.21297295089600887, 0.0019854532401741036, 0.00555926907248749, 0.9231844657372544, 0.06937461242136989, 0.0021519451415786817, 0.005328626064861498, 0.41316858737688467, 0.5325947493757618, 0.03145069062594865, 0.022790942906346808, 0.792120856298184, 0.20765851627265192, 0.00010694400220041299, 0.00012031200247546461, 0.013178113731236927, 0.06212539330440265, 0.9205853735106939, 0.004706469189727474, 0.0007551287062451479, 0.9982801496560855, 0.034206052482946066, 0.9542790560038219, 0.011169323259737492, 0.9988832311492667, 0.9969690341108934, 0.9996569287671596, 0.0024889446462921455, 0.9972371549477197, 0.8536818791797541, 0.14129265891963808, 0.001045751587398637, 0.004066811728772477, 0.8913340289358282, 0.10750906593665678, 0.00038123782247041413, 0.0007624756449408283, 0.9996256936657415, 0.9995475894751223, 0.0025233581035014117, 0.01297727024657869, 0.9844701400946223, 0.031888816352568, 0.0749726427012503, 0.8267345260766832, 0.06615233179522086, 0.9995003133539803, 0.997653333882771, 0.9960248167413106, 0.37427626571991474, 0.5526349718927526, 0.06841748783947557, 0.004674665976379183, 0.3445799309214447, 0.07748391960179513, 0.5712576476411193, 0.0065190797741894934, 0.046633145353104366, 0.9482072888464554, 0.002428809653807519, 0.002428809653807519, 0.3161521315419512, 0.6357370291971205, 0.03876211965220648, 0.00935288078716132, 0.9931525372095615, 0.006427609563889064, 0.00034743835480481426, 0.9973650236962645, 0.00250122889955176, 0.14239674967188673, 0.857394185855064, 0.4670279574526898, 0.46526667899105917, 0.058542793045544314, 0.009148132905186089, 0.990123968358417, 0.009842186564198977, 0.0010504787956118692, 0.9772954395175757, 0.0003501595985372897, 0.021359735510774674, 0.9982983844837263, 0.9920552271583699, 0.006804219665009396, 0.0006804219665009396, 0.9993610191082438, 0.15140240946301153, 0.8483847295172962, 0.3840046296402618, 0.5367996624754215, 0.06896241412602508, 0.01021774453532481, 0.026127086814450983, 0.9736694352852067, 0.09759332994290477, 0.902078887580363, 0.45944224162086056, 0.4829429690357869, 0.0428933585208167, 0.014740816167717288, 0.0023365685460705094, 0.9971306270355899, 0.05736668820842293, 0.35704922909812553, 0.5850883041709741, 0.0005191555493974927, 0.9993575426636033, 0.9984475202014772, 0.7549942032789222, 0.20314139729472477, 0.005979919920364192, 0.035879519522185155, 0.9989321271816164, 0.9999541439848493, 0.9979435868675666, 0.0018781874282325594, 0.2547883023790103, 0.08610260835205823, 0.6421871913440372, 0.016843429955001172, 0.9987701407145306, 0.3705999323464692, 0.5185715166798572, 0.1031954186992522, 0.007604343813989109, 0.39253483725655175, 0.5883840496166474, 0.004031937354763248, 0.015033979179197004, 0.9988298525728831, 0.9980173978053408, 0.9984704330321656, 0.008959443847929599, 0.9905162920766611, 0.9992707564810811, 0.999642432529473, 0.04009726900452951, 0.10612570598803618, 0.8506863717547787, 0.0031213442937657702, 0.9431363374775202, 0.05589068881870659, 0.0009137442313685002, 0.0018354882929530354, 0.9513947651806567, 0.04405171903087285, 0.003059147154921726, 0.9997132691373554, 0.9998636524591282], \"Term\": [\"059\", \"0h24v24h0v0z\", \"0h24v24h0z\", \"10\", \"10\", \"10\", \"10\", \"11\", \"11\", \"11\", \"11\", \"112\", \"112\", \"112\", \"112\", \"12\", \"12\", \"12\", \"12\", \"12h40c6\", \"12s4\", \"12v\", \"12v\", \"12v40c0\", \"13\", \"13\", \"13\", \"13\", \"14\", \"14\", \"14\", \"14\", \"15\", \"15\", \"15\", \"15\", \"16\", \"16\", \"16\", \"16\", \"163\", \"163\", \"163\", \"16v32c0\", \"17\", \"17\", \"17\", \"17\", \"18\", \"18\", \"18\", \"18\", \"19\", \"19\", \"19\", \"19\", \"1s\", \"1s\", \"1s\", \"1s\", \"1s1\", \"20\", \"20\", \"20\", \"20\", \"21\", \"21\", \"21\", \"21\", \"22\", \"22\", \"22\", \"22\", \"23\", \"23\", \"23\", \"23\", \"24\", \"24\", \"24\", \"24\", \"248\", \"248\", \"248\", \"25\", \"25\", \"25\", \"25\", \"256c0\", \"256s111\", \"26\", \"26\", \"26\", \"26\", \"27\", \"27\", \"27\", \"27\", \"28\", \"28\", \"28\", \"28\", \"29\", \"29\", \"29\", \"29\", \"2h14c1\", \"2h16c1\", \"2v14c0\", \"2v5c0\", \"2zm0\", \"2zm0\", \"31\", \"31\", \"31\", \"31\", \"32\", \"32\", \"32\", \"32\", \"327\", \"327\", \"327\", \"32h48c21\", \"32s14\", \"33\", \"33\", \"33\", \"33\", \"35\", \"35\", \"35\", \"35\", \"373\", \"373\", \"373\", \"384\", \"384\", \"384\", \"384\", \"39\", \"39\", \"39\", \"39\", \"40\", \"40\", \"40\", \"40\", \"40c\", \"40c0\", \"41\", \"41\", \"41\", \"41\", \"448\", \"448\", \"45\", \"45\", \"45\", \"45\", \"48\", \"48\", \"48\", \"48\", \"48h352c26\", \"48h48c\", \"48v80c0\", \"48zm\", \"49\", \"49\", \"49\", \"49\", \"496\", \"496\", \"512\", \"512\", \"512\", \"512\", \"55\", \"55\", \"55\", \"55\", \"576\", \"627\", \"64\", \"64\", \"64\", \"64\", \"640\", \"640\", \"640\", \"654\", \"654\", \"654\", \"667\", \"67\", \"67\", \"67\", \"67\", \"673\", \"673\", \"686\", \"714\", \"745\", \"80\", \"80\", \"80\", \"80\", \"80v352c0\", \"836\", \"837\", \"857\", \"909\", \"96\", \"96\", \"96\", \"96\", \"971\", \"971\", \"9959\", \"__dev__\", \"__dev__\", \"__future__\", \"__webpack_require__\", \"_asynctogenerator2\", \"_dereq_\", \"_fulllayout\", \"_id\", \"_id\", \"_id\", \"_interoprequiredefault\", \"_load_asynctogenerator\", \"activestep\", \"addon\", \"addon\", \"addon\", \"admin_client\", \"affiliates\", \"affiliates\", \"anchorel\", \"and\", \"and\", \"and\", \"and\", \"api_link\", \"appbar\", \"array\", \"array\", \"array\", \"array\", \"as\", \"as\", \"as\", \"as\", \"assert\", \"assert\", \"assert\", \"assert\", \"assertequal\", \"assertequal\", \"bokeh\", \"callcount\", \"callcount\", \"canonical_name\", \"casper\", \"category\", \"category\", \"category\", \"category\", \"charfield\", \"childat\", \"classes\", \"classes\", \"classes\", \"classes\", \"columndatasource\", \"const\", \"const\", \"const\", \"const\", \"containertagname\", \"cordelia\", \"core\", \"core\", \"core\", \"createsvgicon\", \"data\", \"data\", \"data\", \"data\", \"declare\", \"declare\", \"declare\", \"def\", \"def\", \"default\", \"default\", \"default\", \"default\", \"developer\", \"developer\", \"developer\", \"developer\", \"dflt\", \"dict\", \"dict\", \"div\", \"div\", \"div\", \"div\", \"django\", \"edittype\", \"else\", \"else\", \"else\", \"else\", \"email\", \"email\", \"email\", \"email\", \"errorboundary\", \"example_email\", \"example_user\", \"exhibit\", \"exhibit\", \"expect\", \"expect\", \"expect\", \"expect\", \"expected_message\", \"expirationtime\", \"false\", \"false\", \"false\", \"false\", \"fiber\", \"fiber\", \"fill\", \"fill\", \"fill\", \"fill\", \"for\", \"for\", \"for\", \"for\", \"formcontrollabel\", \"fragment\", \"fragment\", \"fragment\", \"fragment\", \"from\", \"from\", \"from\", \"from\", \"full_name\", \"full_name\", \"function\", \"function\", \"function\", \"function\", \"gettext\", \"gettext\", \"graphene\", \"h2o\", \"hamlet\", \"handlechange\", \"handlechange\", \"handlechange\", \"handlechange\", \"handleclose\", \"iana\", \"iana\", \"iconbutton\", \"id\", \"id\", \"id\", \"id\", \"if\", \"if\", \"if\", \"if\", \"import\", \"import\", \"import\", \"import\", \"imports\", \"imports\", \"imports\", \"imports\", \"in\", \"in\", \"in\", \"in\", \"inputlabel\", \"inst\", \"inst\", \"is\", \"is\", \"is\", \"is\", \"is_valid\", \"is_valid\", \"it\", \"it\", \"it\", \"it\", \"jp\", \"jp\", \"jp\", \"jp\", \"jss\", \"key\", \"key\", \"key\", \"key\", \"knob\", \"length\", \"length\", \"length\", \"length\", \"license\", \"license\", \"license\", \"license\", \"listitem\", \"listitem\", \"listitem\", \"listitemicon\", \"listitemtext\", \"m0\", \"m0\", \"m0\", \"m0\", \"m12\", \"m12\", \"m12\", \"m12\", \"m17\", \"m17\", \"m19\", \"m20\", \"m20\", \"m256\", \"markdowndocs\", \"material\", \"material\", \"material\", \"math\", \"math\", \"math\", \"math\", \"memberof\", \"message\", \"message\", \"message\", \"message\", \"migrations\", \"migrations\", \"misago\", \"mobx\", \"mobx\", \"model_name\", \"models\", \"models\", \"models\", \"museum\", \"museum\", \"name\", \"name\", \"name\", \"name\", \"ndef\", \"ndef\", \"new\", \"new\", \"new\", \"new\", \"nexport\", \"nexport\", \"nexport\", \"nexport\", \"nfrom\", \"nfrom\", \"nimport\", \"nimport\", \"nimport\", \"nimport\", \"none\", \"none\", \"none\", \"none\", \"not\", \"not\", \"not\", \"not\", \"np\", \"np\", \"null\", \"null\", \"null\", \"null\", \"object\", \"object\", \"object\", \"object\", \"objects\", \"objects\", \"objects\", \"objects\", \"of\", \"of\", \"of\", \"of\", \"options\", \"options\", \"options\", \"options\", \"packrat\", \"page_params\", \"paper\", \"paper\", \"paper\", \"paper\", \"param\", \"param\", \"param\", \"param\", \"path\", \"path\", \"path\", \"path\", \"pk\", \"pk\", \"pk\", \"plot_ly\", \"post\", \"post\", \"post\", \"post\", \"product\", \"product\", \"product\", \"product\", \"proptypes\", \"proptypes\", \"proptypes\", \"proptypes\", \"prototype\", \"prototype\", \"prototype\", \"prototype\", \"push\", \"push\", \"push\", \"push\", \"pytest\", \"r2\", \"r2\", \"react\", \"react\", \"react\", \"react\", \"reactdom\", \"reactdom\", \"reactdom\", \"reactnoop\", \"reacttestrenderer\", \"realm\", \"realm\", \"reddit\", \"reddit\", \"reddit\", \"render\", \"render\", \"render\", \"render\", \"renderintodocument\", \"reqprefix\", \"reqsource\", \"request\", \"request\", \"request\", \"request\", \"response\", \"response\", \"response\", \"response\", \"return\", \"return\", \"return\", \"return\", \"self\", \"self\", \"self\", \"self\", \"shallow\", \"shallow\", \"shallow\", \"shallow\", \"shiny\", \"shiny\", \"sr\", \"sr\", \"sr\", \"sr_id\", \"srs\", \"status_code\", \"storybook\", \"storybook\", \"str\", \"str\", \"str\", \"str\", \"stream\", \"stream\", \"stream\", \"stream\", \"stream_id\", \"stream_name\", \"strictequal\", \"strictequal\", \"strictequal\", \"styles\", \"styles\", \"styles\", \"styles\", \"subreddit\", \"subreddits\", \"superblock\", \"the\", \"the\", \"the\", \"the\", \"theme\", \"theme\", \"theme\", \"theme\", \"thing\", \"thing\", \"thing\", \"thing\", \"this\", \"this\", \"this\", \"this\", \"thread\", \"thread\", \"thread\", \"threads\", \"threads\", \"tif\", \"tif\", \"to\", \"to\", \"to\", \"to\", \"tobe\", \"tobe\", \"toequal\", \"toequal\", \"toequal\", \"toequal\", \"tohavebeencalledtimes\", \"topic\", \"topic\", \"topic\", \"towarndev\", \"treturn\", \"treturn\", \"true\", \"true\", \"true\", \"true\", \"tthis\", \"tthis\", \"tvar\", \"tvar\", \"type\", \"type\", \"type\", \"type\", \"typography\", \"typography\", \"ui\", \"ui\", \"ui\", \"ui\", \"ujson\", \"unicode_literals\", \"user\", \"user\", \"user\", \"user\", \"user_acl\", \"user_profile\", \"userprofile\", \"userprofile\", \"utils\", \"utils\", \"utils\", \"utils\", \"valtype\", \"value\", \"value\", \"value\", \"value\", \"var\", \"var\", \"var\", \"var\", \"vec2\", \"vec3\", \"vec4\", \"vnd\", \"vnd\", \"withstyles\", \"workinprogress\", \"wrapper\", \"wrapper\", \"wrapper\", \"wrapper\", \"xe0\", \"xe0\", \"xe0\", \"xf0\", \"xf0\", \"xf0\", \"xf0\", \"zerver\", \"zulip\"]}, \"R\": 30, \"lambda.step\": 0.01, \"plot.opts\": {\"xlab\": \"PC1\", \"ylab\": \"PC2\"}, \"topic.order\": [2, 1, 4, 3]};\n",
       "\n",
       "function LDAvis_load_lib(url, callback){\n",
       "  var s = document.createElement('script');\n",
       "  s.src = url;\n",
       "  s.async = true;\n",
       "  s.onreadystatechange = s.onload = callback;\n",
       "  s.onerror = function(){console.warn(\"failed to load library \" + url);};\n",
       "  document.getElementsByTagName(\"head\")[0].appendChild(s);\n",
       "}\n",
       "\n",
       "if(typeof(LDAvis) !== \"undefined\"){\n",
       "   // already loaded: just create the visualization\n",
       "   !function(LDAvis){\n",
       "       new LDAvis(\"#\" + \"ldavis_el37961401797891320885073396113\", ldavis_el37961401797891320885073396113_data);\n",
       "   }(LDAvis);\n",
       "}else if(typeof define === \"function\" && define.amd){\n",
       "   // require.js is available: use it to load d3/LDAvis\n",
       "   require.config({paths: {d3: \"https://cdnjs.cloudflare.com/ajax/libs/d3/3.5.5/d3.min\"}});\n",
       "   require([\"d3\"], function(d3){\n",
       "      window.d3 = d3;\n",
       "      LDAvis_load_lib(\"https://cdn.rawgit.com/bmabey/pyLDAvis/files/ldavis.v1.0.0.js\", function(){\n",
       "        new LDAvis(\"#\" + \"ldavis_el37961401797891320885073396113\", ldavis_el37961401797891320885073396113_data);\n",
       "      });\n",
       "    });\n",
       "}else{\n",
       "    // require.js not available: dynamically load d3 & LDAvis\n",
       "    LDAvis_load_lib(\"https://cdnjs.cloudflare.com/ajax/libs/d3/3.5.5/d3.min.js\", function(){\n",
       "         LDAvis_load_lib(\"https://cdn.rawgit.com/bmabey/pyLDAvis/files/ldavis.v1.0.0.js\", function(){\n",
       "                 new LDAvis(\"#\" + \"ldavis_el37961401797891320885073396113\", ldavis_el37961401797891320885073396113_data);\n",
       "            })\n",
       "         });\n",
       "}\n",
       "</script>"
      ],
      "text/plain": [
       "PreparedData(topic_coordinates=              x         y  topics  cluster       Freq\n",
       "topic                                                \n",
       "1      0.188152  0.041085       1        1  41.383718\n",
       "0      0.190932  0.023344       2        1  35.719215\n",
       "3     -0.107233 -0.180432       3        1  12.489208\n",
       "2     -0.271851  0.116003       4        1  10.407859, topic_info=       Category          Freq           Term         Total  loglift  logprob\n",
       "term                                                                        \n",
       "272177  Default  34078.000000          react  34078.000000  30.0000  30.0000\n",
       "152146  Default  37731.000000           from  37731.000000  29.0000  29.0000\n",
       "9020    Default  22611.000000             12  22611.000000  28.0000  28.0000\n",
       "14064   Default  16671.000000             16  16671.000000  27.0000  27.0000\n",
       "113531  Default  13997.000000  createsvgicon  13997.000000  26.0000  26.0000\n",
       "292282  Default  74805.000000           self  74805.000000  25.0000  25.0000\n",
       "232874  Default  20292.000000        nimport  20292.000000  24.0000  24.0000\n",
       "120001  Default  25929.000000        default  25929.000000  23.0000  23.0000\n",
       "254582  Default  19043.000000           path  19043.000000  22.0000  22.0000\n",
       "230415  Default  14609.000000        nexport  14609.000000  21.0000  21.0000\n",
       "6769    Default  17529.000000             10  17529.000000  20.0000  20.0000\n",
       "21337   Default  12502.000000             24  12502.000000  19.0000  19.0000\n",
       "25875   Default  11129.000000             32  11129.000000  18.0000  18.0000\n",
       "151322  Default  10319.000000       fragment  10319.000000  17.0000  17.0000\n",
       "33748   Default  10775.000000             48  10775.000000  16.0000  16.0000\n",
       "8131    Default  12159.000000             11  12159.000000  15.0000  15.0000\n",
       "11483   Default  10895.000000             14  10895.000000  14.0000  14.0000\n",
       "10608   Default  10344.000000             13  10344.000000  13.0000  13.0000\n",
       "19830   Default   9375.000000             21   9375.000000  12.0000  12.0000\n",
       "179408  Default  26448.000000         import  26448.000000  11.0000  11.0000\n",
       "14863   Default   9027.000000             17   9027.000000  10.0000  10.0000\n",
       "32379   Default   9031.000000             45   9031.000000   9.0000   9.0000\n",
       "13353   Default   9231.000000             15   9231.000000   8.0000   8.0000\n",
       "337054  Default  88849.000000           this  88849.000000   7.0000   7.0000\n",
       "22480   Default   6687.000000             26   6687.000000   6.0000   6.0000\n",
       "36168   Default   5433.000000            512   5433.000000   5.0000   5.0000\n",
       "109063  Default  20204.000000          const  20204.000000   4.0000   4.0000\n",
       "76632   Default  18887.000000         assert  18887.000000   3.0000   3.0000\n",
       "20337   Default   7413.000000             22   7413.000000   2.0000   2.0000\n",
       "23094   Default   6752.000000             28   6752.000000   1.0000   1.0000\n",
       "...         ...           ...            ...           ...      ...      ...\n",
       "21337    Topic4  10315.465417             24  12502.802671   2.0703  -4.1845\n",
       "14064    Topic4  13536.019739             16  16671.864235   2.0542  -3.9128\n",
       "33748    Topic4   8873.844776             48  10775.425749   2.0684  -4.3350\n",
       "22480    Topic4   5638.278801             26   6687.078928   2.0920  -4.7885\n",
       "9020     Topic4  17341.029180             12  22611.391599   1.9972  -3.6650\n",
       "19830    Topic4   7386.806056             21   9375.969765   2.0242  -4.5184\n",
       "47112    Topic4   2030.915190             80   2384.201935   2.1022  -5.8096\n",
       "23094    Topic4   5195.385838             28   6752.073174   2.0005  -4.8703\n",
       "8398     Topic4    845.351349            112    926.568966   2.1709  -6.6861\n",
       "14863    Topic4   6581.784360             17   9027.429109   1.9466  -4.6338\n",
       "40936    Topic4   3905.693888             64   5063.239099   2.0030  -5.1557\n",
       "11483    Topic4   7767.994932             14  10895.408682   1.9243  -4.4681\n",
       "10608    Topic4   7284.549603             13  10344.101833   1.9119  -4.5324\n",
       "30367    Topic4   2847.845482             40   3605.540714   2.0267  -5.4716\n",
       "20818    Topic4   3699.905054             23   5067.277775   1.9481  -5.2098\n",
       "26617    Topic4   4340.734784             33   6091.544362   1.9238  -5.0501\n",
       "15956    Topic4   4611.701537             19   6532.075326   1.9145  -4.9895\n",
       "8131     Topic4   7816.956044             11  12159.552596   1.8208  -4.4618\n",
       "19149    Topic4   4834.992968             20   7050.475837   1.8854  -4.9422\n",
       "22802    Topic4   3425.211433             27   4701.067898   1.9460  -5.2870\n",
       "51693    Topic4   2317.721711             96   2981.995964   2.0106  -5.6775\n",
       "20337    Topic4   4968.732330             22   7413.534395   1.8625  -4.9150\n",
       "34283    Topic4   2994.798939             49   4073.507676   1.9550  -5.4212\n",
       "6769     Topic4   9863.618434             10  17529.242699   1.6876  -4.2293\n",
       "15372    Topic4   4616.968994             18   6930.205622   1.8565  -4.9884\n",
       "13353    Topic4   5681.374509             15   9231.099763   1.7772  -4.7809\n",
       "27539    Topic4   3669.829580             35   5323.547984   1.8906  -5.2180\n",
       "23408    Topic4   3509.471627             29   5165.394456   1.8761  -5.2627\n",
       "21946    Topic4   4130.492031             25   6872.728974   1.7534  -5.0997\n",
       "25577    Topic4   3310.747361             31   5281.131131   1.7956  -5.3209\n",
       "\n",
       "[350 rows x 6 columns], token_table=        Topic      Freq            Term\n",
       "term                                   \n",
       "2229        4  0.994098             059\n",
       "3148        3  0.999691    0h24v24h0v0z\n",
       "3153        3  0.999087      0h24v24h0z\n",
       "6769        1  0.189113              10\n",
       "6769        2  0.093216              10\n",
       "6769        3  0.154998              10\n",
       "6769        4  0.562717              10\n",
       "8131        1  0.069904              11\n",
       "8131        2  0.036350              11\n",
       "8131        3  0.250914              11\n",
       "8131        4  0.642869              11\n",
       "8398        1  0.042091             112\n",
       "8398        2  0.041012             112\n",
       "8398        3  0.004317             112\n",
       "8398        4  0.911967             112\n",
       "9020        1  0.044800              12\n",
       "9020        2  0.025209              12\n",
       "9020        3  0.163059              12\n",
       "9020        4  0.766914              12\n",
       "10207       4  0.998237         12h40c6\n",
       "10359       3  0.997328            12s4\n",
       "10372       3  0.020084             12v\n",
       "10372       4  0.979088             12v\n",
       "10468       4  0.997949         12v40c0\n",
       "10608       1  0.034319              13\n",
       "10608       2  0.039346              13\n",
       "10608       3  0.222059              13\n",
       "10608       4  0.704266              13\n",
       "11483       1  0.027535              14\n",
       "11483       2  0.054610              14\n",
       "...       ...       ...             ...\n",
       "365606      4  0.016843           utils\n",
       "366738      2  0.998770         valtype\n",
       "366743      1  0.370600           value\n",
       "366743      2  0.518572           value\n",
       "366743      3  0.103195           value\n",
       "366743      4  0.007604           value\n",
       "367087      1  0.392535             var\n",
       "367087      2  0.588384             var\n",
       "367087      3  0.004032             var\n",
       "367087      4  0.015034             var\n",
       "367579      2  0.998830            vec2\n",
       "367581      2  0.998017            vec3\n",
       "367582      2  0.998470            vec4\n",
       "369916      1  0.008959             vnd\n",
       "369916      2  0.990516             vnd\n",
       "376910      3  0.999271      withstyles\n",
       "377939      2  0.999642  workinprogress\n",
       "378588      1  0.040097         wrapper\n",
       "378588      2  0.106126         wrapper\n",
       "378588      3  0.850686         wrapper\n",
       "378588      4  0.003121         wrapper\n",
       "381200      1  0.943136             xe0\n",
       "381200      2  0.055891             xe0\n",
       "381200      3  0.000914             xe0\n",
       "381347      1  0.001835             xf0\n",
       "381347      2  0.951395             xf0\n",
       "381347      3  0.044052             xf0\n",
       "381347      4  0.003059             xf0\n",
       "383815      1  0.999713          zerver\n",
       "384483      1  0.999864           zulip\n",
       "\n",
       "[730 rows x 3 columns], R=30, lambda_step=0.01, plot_opts={'xlab': 'PC1', 'ylab': 'PC2'}, topic_order=[2, 1, 4, 3])"
      ]
     },
     "execution_count": 60,
     "metadata": {},
     "output_type": "execute_result"
    }
   ],
   "source": [
    "pyLDAvis.sklearn.prepare(model, tf_train, tf_vectorizer)"
   ]
  },
  {
   "cell_type": "markdown",
   "metadata": {},
   "source": [
    "## Identifying Program Subjects and Themes\n",
    "\n",
    "Hypothesis: Using tf-idf rather than bag-of-words as an input to LDA will prioritise rare words. In the case of source code, this means programming language keywords (an identifying feature of programming languages) are deprioritised, and so a more human idea of topics may emerge. \n",
    "\n",
    "We can use repo-list.json and the repo-ids to map the github topics/tags to each repo. Might be a small/easy task to compare against the programming langauge identification."
   ]
  },
  {
   "cell_type": "code",
   "execution_count": 16,
   "metadata": {},
   "outputs": [],
   "source": [
    "documents = minimal_dataset['documents']"
   ]
  },
  {
   "cell_type": "code",
   "execution_count": 18,
   "metadata": {},
   "outputs": [],
   "source": [
    "tf_vectorizer = TfidfVectorizer(stop_words=None)\n",
    "tf = tf_vectorizer.fit_transform(documents)\n",
    "tf_feature_names = tf_vectorizer.get_feature_names()\n",
    "\n",
    "with open('../data/tfidf_lda_tf.pickle', 'wb') as f:\n",
    "    pickle.dump(tf, f)\n",
    "    \n",
    "with open('../data/tfidf_lda_tf_vectorizer.pickle', 'wb') as f:\n",
    "    pickle.dump(tf_vectorizer, f)"
   ]
  },
  {
   "cell_type": "markdown",
   "metadata": {},
   "source": [
    "We have four programming languages, try to use LDA to determine these four programming languages."
   ]
  },
  {
   "cell_type": "code",
   "execution_count": 19,
   "metadata": {
    "scrolled": true
   },
   "outputs": [
    {
     "name": "stderr",
     "output_type": "stream",
     "text": [
      "/home/sharding/miniconda3/envs/myenv/lib/python3.6/site-packages/sklearn/decomposition/online_lda.py:314: DeprecationWarning: n_topics has been renamed to n_components in version 0.19 and will be removed in 0.21\n",
      "  DeprecationWarning)\n"
     ]
    }
   ],
   "source": [
    "number_of_themes = 3\n",
    "\n",
    "lda = LatentDirichletAllocation(n_topics=number_of_themes,  n_jobs=1)\n",
    "model = lda.fit(tf)\n",
    "\n",
    "with open('../data/tfidf_lda_model.pickle', 'wb') as f:\n",
    "    pickle.dump(model, f)"
   ]
  },
  {
   "cell_type": "code",
   "execution_count": 20,
   "metadata": {},
   "outputs": [],
   "source": [
    "with open('../data/tfidf_lda_model.pickle', 'rb') as f:\n",
    "    model = pickle.load(f)\n",
    "    \n",
    "with open('../data/tfidf_lda_tf.pickle', 'rb') as f:\n",
    "    tf = pickle.load(f)\n",
    "    \n",
    "with open('../data/tfidf_lda_tf_vectorizer.pickle', 'rb') as f:\n",
    "    tf_vectorizer = pickle.load(f)"
   ]
  },
  {
   "cell_type": "code",
   "execution_count": null,
   "metadata": {
    "scrolled": false
   },
   "outputs": [],
   "source": [
    "pyLDAvis.sklearn.prepare(model, tf, tf_vectorizer)"
   ]
  },
  {
   "cell_type": "markdown",
   "metadata": {},
   "source": [
    "This still prioritises programming language keywords. One approach to solving this problem is to consider all keywords as \"stopwords\". First, gather a list of R, Python and Javascript keywords:"
   ]
  },
  {
   "cell_type": "code",
   "execution_count": 21,
   "metadata": {},
   "outputs": [
    {
     "data": {
      "text/plain": [
       "['False',\n",
       " 'None',\n",
       " 'True',\n",
       " 'and',\n",
       " 'as',\n",
       " 'assert',\n",
       " 'break',\n",
       " 'class',\n",
       " 'continue',\n",
       " 'def',\n",
       " 'del',\n",
       " 'elif',\n",
       " 'else',\n",
       " 'except',\n",
       " 'finally',\n",
       " 'for',\n",
       " 'from',\n",
       " 'global',\n",
       " 'if',\n",
       " 'import',\n",
       " 'in',\n",
       " 'is',\n",
       " 'lambda',\n",
       " 'nonlocal',\n",
       " 'not',\n",
       " 'or',\n",
       " 'pass',\n",
       " 'raise',\n",
       " 'return',\n",
       " 'try',\n",
       " 'while',\n",
       " 'with',\n",
       " 'yield']"
      ]
     },
     "execution_count": 21,
     "metadata": {},
     "output_type": "execute_result"
    }
   ],
   "source": [
    "import keyword\n",
    "\n",
    "python_keywords = keyword.kwlist\n",
    "python_keywords"
   ]
  },
  {
   "cell_type": "markdown",
   "metadata": {},
   "source": [
    "R reserved words (sourced from the manual: https://stat.ethz.ch/R-manual/R-devel/library/base/html/Reserved.html)"
   ]
  },
  {
   "cell_type": "code",
   "execution_count": 22,
   "metadata": {},
   "outputs": [],
   "source": [
    "r_keywords = [\n",
    "    \"if\", \n",
    "    \"else\", \n",
    "    \"repeat\",\n",
    "    \"while\",\n",
    "    \"function\", \n",
    "    \"for\",\n",
    "    \"in\",\n",
    "    \"next\",\n",
    "    \"break\",\n",
    "    \"TRUE\",\n",
    "    \"FALSE\",\n",
    "    \"NULL\", \n",
    "    \"Inf\", \n",
    "    \"NaN\",\n",
    "    \"NA\",\n",
    "    \"NA_integer_\",\n",
    "    \"NA_real_\",\n",
    "    \"NA_complex_\",\n",
    "    \"NA_character_\", \n",
    "]"
   ]
  },
  {
   "cell_type": "markdown",
   "metadata": {},
   "source": [
    "Javascript keywords and reserved words (source: https://developer.mozilla.org/en-US/docs/Web/JavaScript/Reference/Lexical_grammar#Keywords)"
   ]
  },
  {
   "cell_type": "code",
   "execution_count": 23,
   "metadata": {},
   "outputs": [],
   "source": [
    "javascript_keywords = [  # jaccard(\"ideal javascript topic\", topic_i)\n",
    "    \"break\",\n",
    "    \"case\",\n",
    "    \"catch\",\n",
    "    \"class\",\n",
    "    \"const\",\n",
    "    \"continue\",\n",
    "    \"debugger\",\n",
    "    \"default\",\n",
    "    \"delete\",\n",
    "    \"do\",\n",
    "    \"else\",\n",
    "    \"export\",\n",
    "    \"extends\",\n",
    "    \"finally\",\n",
    "    \"for\",\n",
    "    \"function\",\n",
    "    \"if\",\n",
    "    \"import\",\n",
    "    \"in\",\n",
    "    \"instanceof\",\n",
    "    \"new\",\n",
    "    \"return\",\n",
    "    \"super\",\n",
    "    \"switch\",\n",
    "    \"this\",\n",
    "    \"throw\",\n",
    "    \"try\",\n",
    "    \"typeof\",\n",
    "    \"var\",\n",
    "    \"void\",\n",
    "    \"while\",\n",
    "    \"with\",\n",
    "    \"yield\",\n",
    "]"
   ]
  },
  {
   "cell_type": "code",
   "execution_count": 24,
   "metadata": {},
   "outputs": [],
   "source": [
    "documents = minimal_dataset['documents']"
   ]
  },
  {
   "cell_type": "code",
   "execution_count": 28,
   "metadata": {},
   "outputs": [],
   "source": [
    "tf_vectorizer = TfidfVectorizer(stop_words=javascript_keywords+python_keywords+r_keywords)\n",
    "tf = tf_vectorizer.fit_transform(documents)\n",
    "tf_feature_names = tf_vectorizer.get_feature_names()\n",
    "    \n",
    "with open('../data/tfidf_lda_tf_ignore_keywords.pickle', 'wb') as f:\n",
    "    pickle.dump(tf, f)\n",
    "    \n",
    "with open('../data/tfidf_lda_tf_vectorizer_ignore_keywords.pickle', 'wb') as f:\n",
    "    pickle.dump(tf_vectorizer, f)"
   ]
  },
  {
   "cell_type": "markdown",
   "metadata": {},
   "source": [
    "We have four programming languages, try to use LDA to determine these four programming languages."
   ]
  },
  {
   "cell_type": "code",
   "execution_count": 29,
   "metadata": {
    "scrolled": true
   },
   "outputs": [
    {
     "name": "stderr",
     "output_type": "stream",
     "text": [
      "/home/sharding/miniconda3/envs/myenv/lib/python3.6/site-packages/sklearn/decomposition/online_lda.py:314: DeprecationWarning: n_topics has been renamed to n_components in version 0.19 and will be removed in 0.21\n",
      "  DeprecationWarning)\n"
     ]
    }
   ],
   "source": [
    "number_of_themes = 3\n",
    "\n",
    "lda = LatentDirichletAllocation(n_topics=number_of_themes,  n_jobs=1)\n",
    "model = lda.fit(tf)\n",
    "\n",
    "with open('../data/tfidf_lda_model_ignore_keywords.pickle', 'wb') as f:\n",
    "    pickle.dump(model, f)"
   ]
  },
  {
   "cell_type": "code",
   "execution_count": 30,
   "metadata": {},
   "outputs": [],
   "source": [
    "with open('../data/tfidf_lda_model_ignore_keywords.pickle', 'rb') as f:\n",
    "    model = pickle.load(f)\n",
    "    \n",
    "with open('../data/tfidf_lda_tf_ignore_keywords.pickle', 'rb') as f:\n",
    "    tf = pickle.load(f)\n",
    "    \n",
    "with open('../data/tfidf_lda_tf_vectorizer_ignore_keywords.pickle', 'rb') as f:\n",
    "    tf_vectorizer = pickle.load(f)"
   ]
  },
  {
   "cell_type": "code",
   "execution_count": null,
   "metadata": {
    "scrolled": false
   },
   "outputs": [],
   "source": [
    "pyLDAvis.sklearn.prepare(model, tf, tf_vectorizer)"
   ]
  },
  {
   "cell_type": "markdown",
   "metadata": {},
   "source": [
    "## Measuring the Efficacy of Topic Models (WRITEUP: WHO?)\n",
    "\n",
    "Main question: How do we evaluate how well a topic (from LDA for example) represents a meaningful \"topic\" or theme?\n",
    "\n",
    "TODO: do some research on this??? There must be some papers etc that try to formalise this that we can borrow ideas from?\n",
    "\n",
    "Paper dump:\n",
    "  - Looks like a good summary paper: http://www.aclweb.org/anthology/E14-4005 Find more papers from this ones references?\n",
    "    - \" KL-divergence (Li and McCallum, 2006; Wang et al., 2009; Newman et al., 2009), cosine measure (He et al., 2009; Ramage et al., 2009) and the average Log Odds Ratio (Chaney and Blei, 2012). \"\n",
    "    - \"Kim and Oh (2011) also applied  the  cosine  measure  and  KL-Divergence which were compared with four other measures: Jaccard’s Coefficient, Kendall’s τ coefficient, Discount  Cumulative  Gain  and  Jensen  Shannon  Divergence (JSD).\"\n",
    "  - Cool name haven't read it: http://papers.nips.cc/paper/3700-reading-tea-leaves-how-humans-interpret-topic-models.pdf\n",
    "  \n",
    "We considered all of these metrics, and found th Jaccard Index to be most suitable. This was primarily due to it's use of set operations, which are invariant to ordering and number of observations."
   ]
  },
  {
   "cell_type": "markdown",
   "metadata": {},
   "source": [
    "### Reading Tea Leaves Paper\n",
    "http://papers.nips.cc/paper/3700-reading-tea-leaves-how-humans-interpret-topic-models.pdf"
   ]
  },
  {
   "cell_type": "markdown",
   "metadata": {},
   "source": [
    "### Word Overlap\n",
    "\n",
    "I think this is used as a baseline measure in the summary paper above (http://www.aclweb.org/anthology/E14-4005). Should be a quick implementation so worth a try."
   ]
  },
  {
   "cell_type": "markdown",
   "metadata": {},
   "source": [
    "### Jaccard Index\n",
    "\n",
    "From the papers above this seems to have been used relatively often for _linking machine-generated topics to human topics_ and so maybe this is a good application for it. Apparently explored here \"https://link.springer.com/chapter/10.1007/978-3-642-19437-5_13\" but I haven't read it.\n"
   ]
  },
  {
   "cell_type": "code",
   "execution_count": 31,
   "metadata": {},
   "outputs": [],
   "source": [
    "def jaccard_index(a, b):\n",
    "    a = set(a)\n",
    "    b = set(b)\n",
    "    return len(a & b) / len(a | b)"
   ]
  },
  {
   "cell_type": "markdown",
   "metadata": {},
   "source": [
    "Consider the group of language keywords as the best possible topic for each language. Compare each of our machine generated topics with each of our ideal topics by computing their Jaccard Index:"
   ]
  },
  {
   "cell_type": "code",
   "execution_count": null,
   "metadata": {},
   "outputs": [],
   "source": [
    "tf_vectorizer = CountVectorizer(stop_words=None)\n",
    "tf = tf_vectorizer.fit_transform(documents)\n",
    "tf_feature_names = tf_vectorizer.get_feature_names()"
   ]
  },
  {
   "cell_type": "code",
   "execution_count": null,
   "metadata": {},
   "outputs": [],
   "source": [
    "len(tf_feature_names)"
   ]
  },
  {
   "cell_type": "code",
   "execution_count": null,
   "metadata": {},
   "outputs": [],
   "source": [
    "list(enumerate(model.components_))"
   ]
  },
  {
   "cell_type": "markdown",
   "metadata": {},
   "source": [
    "### Kendall’s τ Coefficient\n",
    "\n",
    "Measures the association between two ranked lists. Source: Computational Linguistics and Intelligent Text Processing book."
   ]
  },
  {
   "cell_type": "markdown",
   "metadata": {},
   "source": [
    "### Evaluating Topic Models\n",
    "TODO: better title needed\n",
    "\n",
    "Idea:\n",
    "  - save the actual % of each program langauge per repo\n",
    "  - Then try to use LDA model to tell us \"I believe repo <x> is 10% Topic 1, 20% Topic 2 etc\". \n",
    "  - Use analysis from above two sections to create a \"most likely mapping from lda topic to programming language\".\n",
    "  - rate our models\n",
    "\n",
    "Here we can do cross-validation etc."
   ]
  },
  {
   "cell_type": "markdown",
   "metadata": {},
   "source": [
    "Load in the test data set:"
   ]
  },
  {
   "cell_type": "code",
   "execution_count": 32,
   "metadata": {},
   "outputs": [
    {
     "data": {
      "text/html": [
       "<div>\n",
       "<style scoped>\n",
       "    .dataframe tbody tr th:only-of-type {\n",
       "        vertical-align: middle;\n",
       "    }\n",
       "\n",
       "    .dataframe tbody tr th {\n",
       "        vertical-align: top;\n",
       "    }\n",
       "\n",
       "    .dataframe thead th {\n",
       "        text-align: right;\n",
       "    }\n",
       "</style>\n",
       "<table border=\"1\" class=\"dataframe\">\n",
       "  <thead>\n",
       "    <tr style=\"text-align: right;\">\n",
       "      <th></th>\n",
       "      <th>repo</th>\n",
       "      <th>language</th>\n",
       "      <th>documents</th>\n",
       "    </tr>\n",
       "  </thead>\n",
       "  <tbody>\n",
       "    <tr>\n",
       "      <th>0</th>\n",
       "      <td>69798748</td>\n",
       "      <td>javascript</td>\n",
       "      <td>b\"const glob = require('glob')\\nconst markdown...</td>\n",
       "    </tr>\n",
       "    <tr>\n",
       "      <th>1</th>\n",
       "      <td>128624453</td>\n",
       "      <td>javascript</td>\n",
       "      <td>b\"module.exports = {\\n  extends: ['@commitlint...</td>\n",
       "    </tr>\n",
       "    <tr>\n",
       "      <th>2</th>\n",
       "      <td>128624453</td>\n",
       "      <td>javascript</td>\n",
       "      <td>b\"module.exports = {\\n  extends: ['standard', ...</td>\n",
       "    </tr>\n",
       "    <tr>\n",
       "      <th>3</th>\n",
       "      <td>128624453</td>\n",
       "      <td>javascript</td>\n",
       "      <td>b\"const cp = require('child_process')\\nconst g...</td>\n",
       "    </tr>\n",
       "    <tr>\n",
       "      <th>4</th>\n",
       "      <td>128624453</td>\n",
       "      <td>javascript</td>\n",
       "      <td>b\"module.exports = {\\n  verbose: true,\\n  tran...</td>\n",
       "    </tr>\n",
       "  </tbody>\n",
       "</table>\n",
       "</div>"
      ],
      "text/plain": [
       "        repo    language                                          documents\n",
       "0   69798748  javascript  b\"const glob = require('glob')\\nconst markdown...\n",
       "1  128624453  javascript  b\"module.exports = {\\n  extends: ['@commitlint...\n",
       "2  128624453  javascript  b\"module.exports = {\\n  extends: ['standard', ...\n",
       "3  128624453  javascript  b\"const cp = require('child_process')\\nconst g...\n",
       "4  128624453  javascript  b\"module.exports = {\\n  verbose: true,\\n  tran..."
      ]
     },
     "execution_count": 32,
     "metadata": {},
     "output_type": "execute_result"
    }
   ],
   "source": [
    "test_dataset = pandas.read_csv(\"../data/test-dataset.csv.gz\", header=None, names=['repo', 'language', 'topics', 'documents'])\n",
    "\n",
    "# Remove Github 'topics' since we don't use them in this analysis\n",
    "test_dataset = test_dataset.drop(columns='topics')\n",
    "\n",
    "test_dataset.head()"
   ]
  },
  {
   "cell_type": "markdown",
   "metadata": {},
   "source": [
    "To evaluate the mixture model, we must label each repository with it's percentage of each programming language:"
   ]
  },
  {
   "cell_type": "code",
   "execution_count": 33,
   "metadata": {},
   "outputs": [],
   "source": [
    "def calculate_language_percentages(group):\n",
    "    total_python_length = 0\n",
    "    total_r_length = 0\n",
    "    total_javascript_length = 0\n",
    "    \n",
    "    for index, repo, language, document in group.itertuples():\n",
    "        if language == 'python':\n",
    "            total_python_length += len(document)\n",
    "            \n",
    "        if language == 'javascript':\n",
    "            total_javascript_length += len(document)\n",
    "            \n",
    "        if language == 'r':\n",
    "            total_r_length += len(document)\n",
    "            \n",
    "    total_length = total_python_length + total_r_length + total_javascript_length\n",
    "            \n",
    "    return pandas.Series([\n",
    "        total_python_length/total_length,\n",
    "        total_r_length/total_length,\n",
    "        total_javascript_length/total_length,\n",
    "    ])"
   ]
  },
  {
   "cell_type": "code",
   "execution_count": 34,
   "metadata": {},
   "outputs": [],
   "source": [
    "test_composition_actual = test_dataset.groupby(by='repo').apply(calculate_language_percentages)\n",
    "test_composition_actual.columns = ['python', 'r', 'javascript']"
   ]
  },
  {
   "cell_type": "markdown",
   "metadata": {},
   "source": [
    "Here are the programming language percentages for each of repository in our test dataset:"
   ]
  },
  {
   "cell_type": "code",
   "execution_count": 36,
   "metadata": {
    "scrolled": false
   },
   "outputs": [
    {
     "data": {
      "text/html": [
       "<div>\n",
       "<style scoped>\n",
       "    .dataframe tbody tr th:only-of-type {\n",
       "        vertical-align: middle;\n",
       "    }\n",
       "\n",
       "    .dataframe tbody tr th {\n",
       "        vertical-align: top;\n",
       "    }\n",
       "\n",
       "    .dataframe thead th {\n",
       "        text-align: right;\n",
       "    }\n",
       "</style>\n",
       "<table border=\"1\" class=\"dataframe\">\n",
       "  <thead>\n",
       "    <tr style=\"text-align: right;\">\n",
       "      <th></th>\n",
       "      <th>python</th>\n",
       "      <th>r</th>\n",
       "      <th>javascript</th>\n",
       "    </tr>\n",
       "    <tr>\n",
       "      <th>repo</th>\n",
       "      <th></th>\n",
       "      <th></th>\n",
       "      <th></th>\n",
       "    </tr>\n",
       "  </thead>\n",
       "  <tbody>\n",
       "    <tr>\n",
       "      <th>596892</th>\n",
       "      <td>1.000000</td>\n",
       "      <td>0.000000</td>\n",
       "      <td>0.000000</td>\n",
       "    </tr>\n",
       "    <tr>\n",
       "      <th>1248263</th>\n",
       "      <td>0.652443</td>\n",
       "      <td>0.000000</td>\n",
       "      <td>0.347557</td>\n",
       "    </tr>\n",
       "    <tr>\n",
       "      <th>1790564</th>\n",
       "      <td>0.000000</td>\n",
       "      <td>0.000000</td>\n",
       "      <td>1.000000</td>\n",
       "    </tr>\n",
       "    <tr>\n",
       "      <th>4751958</th>\n",
       "      <td>0.360730</td>\n",
       "      <td>0.000000</td>\n",
       "      <td>0.639270</td>\n",
       "    </tr>\n",
       "    <tr>\n",
       "      <th>12465340</th>\n",
       "      <td>0.000000</td>\n",
       "      <td>0.995105</td>\n",
       "      <td>0.004895</td>\n",
       "    </tr>\n",
       "    <tr>\n",
       "      <th>13523710</th>\n",
       "      <td>0.000000</td>\n",
       "      <td>1.000000</td>\n",
       "      <td>0.000000</td>\n",
       "    </tr>\n",
       "    <tr>\n",
       "      <th>14267375</th>\n",
       "      <td>0.941701</td>\n",
       "      <td>0.000000</td>\n",
       "      <td>0.058299</td>\n",
       "    </tr>\n",
       "    <tr>\n",
       "      <th>14579179</th>\n",
       "      <td>0.000000</td>\n",
       "      <td>0.189083</td>\n",
       "      <td>0.810917</td>\n",
       "    </tr>\n",
       "    <tr>\n",
       "      <th>16146440</th>\n",
       "      <td>0.000000</td>\n",
       "      <td>0.253421</td>\n",
       "      <td>0.746579</td>\n",
       "    </tr>\n",
       "    <tr>\n",
       "      <th>17856544</th>\n",
       "      <td>0.000000</td>\n",
       "      <td>1.000000</td>\n",
       "      <td>0.000000</td>\n",
       "    </tr>\n",
       "    <tr>\n",
       "      <th>19117456</th>\n",
       "      <td>0.000000</td>\n",
       "      <td>0.000000</td>\n",
       "      <td>1.000000</td>\n",
       "    </tr>\n",
       "    <tr>\n",
       "      <th>21289110</th>\n",
       "      <td>1.000000</td>\n",
       "      <td>0.000000</td>\n",
       "      <td>0.000000</td>\n",
       "    </tr>\n",
       "    <tr>\n",
       "      <th>23932217</th>\n",
       "      <td>0.000000</td>\n",
       "      <td>0.984244</td>\n",
       "      <td>0.015756</td>\n",
       "    </tr>\n",
       "    <tr>\n",
       "      <th>24929423</th>\n",
       "      <td>0.000000</td>\n",
       "      <td>1.000000</td>\n",
       "      <td>0.000000</td>\n",
       "    </tr>\n",
       "    <tr>\n",
       "      <th>28556914</th>\n",
       "      <td>0.000000</td>\n",
       "      <td>0.127105</td>\n",
       "      <td>0.872895</td>\n",
       "    </tr>\n",
       "    <tr>\n",
       "      <th>33614304</th>\n",
       "      <td>1.000000</td>\n",
       "      <td>0.000000</td>\n",
       "      <td>0.000000</td>\n",
       "    </tr>\n",
       "    <tr>\n",
       "      <th>36849200</th>\n",
       "      <td>0.000000</td>\n",
       "      <td>0.980459</td>\n",
       "      <td>0.019541</td>\n",
       "    </tr>\n",
       "    <tr>\n",
       "      <th>38226908</th>\n",
       "      <td>0.659855</td>\n",
       "      <td>0.000000</td>\n",
       "      <td>0.340145</td>\n",
       "    </tr>\n",
       "    <tr>\n",
       "      <th>45936895</th>\n",
       "      <td>0.000000</td>\n",
       "      <td>0.000000</td>\n",
       "      <td>1.000000</td>\n",
       "    </tr>\n",
       "    <tr>\n",
       "      <th>47918643</th>\n",
       "      <td>0.555986</td>\n",
       "      <td>0.000000</td>\n",
       "      <td>0.444014</td>\n",
       "    </tr>\n",
       "    <tr>\n",
       "      <th>61412022</th>\n",
       "      <td>0.000000</td>\n",
       "      <td>0.000000</td>\n",
       "      <td>1.000000</td>\n",
       "    </tr>\n",
       "    <tr>\n",
       "      <th>69798748</th>\n",
       "      <td>0.000000</td>\n",
       "      <td>0.000000</td>\n",
       "      <td>1.000000</td>\n",
       "    </tr>\n",
       "    <tr>\n",
       "      <th>72671522</th>\n",
       "      <td>0.000000</td>\n",
       "      <td>1.000000</td>\n",
       "      <td>0.000000</td>\n",
       "    </tr>\n",
       "    <tr>\n",
       "      <th>83222441</th>\n",
       "      <td>1.000000</td>\n",
       "      <td>0.000000</td>\n",
       "      <td>0.000000</td>\n",
       "    </tr>\n",
       "    <tr>\n",
       "      <th>84232645</th>\n",
       "      <td>0.000000</td>\n",
       "      <td>0.000000</td>\n",
       "      <td>1.000000</td>\n",
       "    </tr>\n",
       "    <tr>\n",
       "      <th>89187780</th>\n",
       "      <td>0.000000</td>\n",
       "      <td>0.000000</td>\n",
       "      <td>1.000000</td>\n",
       "    </tr>\n",
       "    <tr>\n",
       "      <th>94911145</th>\n",
       "      <td>0.000000</td>\n",
       "      <td>0.000000</td>\n",
       "      <td>1.000000</td>\n",
       "    </tr>\n",
       "    <tr>\n",
       "      <th>128624453</th>\n",
       "      <td>0.000000</td>\n",
       "      <td>0.000000</td>\n",
       "      <td>1.000000</td>\n",
       "    </tr>\n",
       "  </tbody>\n",
       "</table>\n",
       "</div>"
      ],
      "text/plain": [
       "             python         r  javascript\n",
       "repo                                     \n",
       "596892     1.000000  0.000000    0.000000\n",
       "1248263    0.652443  0.000000    0.347557\n",
       "1790564    0.000000  0.000000    1.000000\n",
       "4751958    0.360730  0.000000    0.639270\n",
       "12465340   0.000000  0.995105    0.004895\n",
       "13523710   0.000000  1.000000    0.000000\n",
       "14267375   0.941701  0.000000    0.058299\n",
       "14579179   0.000000  0.189083    0.810917\n",
       "16146440   0.000000  0.253421    0.746579\n",
       "17856544   0.000000  1.000000    0.000000\n",
       "19117456   0.000000  0.000000    1.000000\n",
       "21289110   1.000000  0.000000    0.000000\n",
       "23932217   0.000000  0.984244    0.015756\n",
       "24929423   0.000000  1.000000    0.000000\n",
       "28556914   0.000000  0.127105    0.872895\n",
       "33614304   1.000000  0.000000    0.000000\n",
       "36849200   0.000000  0.980459    0.019541\n",
       "38226908   0.659855  0.000000    0.340145\n",
       "45936895   0.000000  0.000000    1.000000\n",
       "47918643   0.555986  0.000000    0.444014\n",
       "61412022   0.000000  0.000000    1.000000\n",
       "69798748   0.000000  0.000000    1.000000\n",
       "72671522   0.000000  1.000000    0.000000\n",
       "83222441   1.000000  0.000000    0.000000\n",
       "84232645   0.000000  0.000000    1.000000\n",
       "89187780   0.000000  0.000000    1.000000\n",
       "94911145   0.000000  0.000000    1.000000\n",
       "128624453  0.000000  0.000000    1.000000"
      ]
     },
     "execution_count": 36,
     "metadata": {},
     "output_type": "execute_result"
    }
   ],
   "source": [
    "test_composition_actual"
   ]
  },
  {
   "cell_type": "code",
   "execution_count": 37,
   "metadata": {},
   "outputs": [],
   "source": [
    "combined_test_documents = test_dataset.groupby(by='repo').apply(concat_texts)"
   ]
  },
  {
   "cell_type": "code",
   "execution_count": 57,
   "metadata": {},
   "outputs": [],
   "source": [
    "with open('../data/concatDocs_lda_model.pickle', 'rb') as f:\n",
    "    model = pickle.load(f)\n",
    "    \n",
    "with open('../data/concatDocs_tf_train.pickle', 'rb') as f:\n",
    "    tf_train = pickle.load(f)\n",
    "    \n",
    "with open('../data/concatDocs_tf_vectorizer.pickle', 'rb') as f:\n",
    "    tf_vectorizer = pickle.load(f)\n",
    "\n",
    "with open('../data/concatDocs_tf_test.pickle', 'rb') as f:\n",
    "    tf_test = pickle.load(f)"
   ]
  },
  {
   "cell_type": "code",
   "execution_count": 58,
   "metadata": {},
   "outputs": [],
   "source": [
    "combined_test_documents_tf = tf_vectorizer.transform(combined_test_documents)\n",
    "combined_test_model = model.transform(combined_test_documents_tf)"
   ]
  },
  {
   "cell_type": "code",
   "execution_count": 62,
   "metadata": {},
   "outputs": [
    {
     "data": {
      "text/plain": [
       "array([[1.90661496e-01, 8.07648843e-01, 4.78215219e-06, 1.68487898e-03],\n",
       "       [5.41157197e-01, 4.47795188e-01, 1.04497870e-02, 5.97828094e-04],\n",
       "       [7.65079147e-01, 2.07808158e-01, 9.78836147e-03, 1.73243342e-02],\n",
       "       [1.59282454e-05, 9.98934927e-01, 1.04864905e-03, 4.95710834e-07],\n",
       "       [2.65019130e-01, 6.41208301e-01, 3.48327547e-03, 9.02892938e-02],\n",
       "       [6.67248762e-01, 3.31216180e-01, 1.54776206e-05, 1.51958084e-03],\n",
       "       [3.52752118e-04, 9.98974555e-01, 3.34400158e-04, 3.38292524e-04],\n",
       "       [9.73834351e-01, 7.09203679e-07, 2.61642358e-02, 7.04124487e-07],\n",
       "       [9.25075962e-01, 7.31192529e-02, 1.69474412e-06, 1.80309002e-03],\n",
       "       [2.97893274e-01, 4.74194950e-01, 6.22969301e-04, 2.27288807e-01],\n",
       "       [8.04771825e-01, 4.58890587e-02, 1.64098727e-05, 1.49322707e-01],\n",
       "       [4.84929996e-01, 5.13540584e-01, 7.57352821e-04, 7.72067435e-04],\n",
       "       [2.58767113e-01, 7.09967336e-01, 2.49810251e-03, 2.87674476e-02],\n",
       "       [2.80705528e-01, 6.62976682e-01, 2.37653687e-03, 5.39412529e-02],\n",
       "       [5.26743456e-01, 1.81701030e-01, 2.91523113e-01, 3.24013353e-05],\n",
       "       [2.07816933e-01, 7.74019881e-01, 2.69122079e-03, 1.54719654e-02],\n",
       "       [5.21463540e-01, 4.75519987e-01, 1.36336889e-03, 1.65310343e-03],\n",
       "       [4.23782494e-01, 5.33893531e-01, 4.13454220e-03, 3.81894330e-02],\n",
       "       [5.78926473e-01, 2.04915935e-01, 1.07842478e-02, 2.05373344e-01],\n",
       "       [7.06551500e-01, 2.85452024e-01, 2.86870220e-03, 5.12777357e-03],\n",
       "       [6.59806865e-01, 1.42181251e-01, 2.43042806e-06, 1.98009453e-01],\n",
       "       [7.29520842e-01, 7.75572841e-02, 4.80826513e-03, 1.88113609e-01],\n",
       "       [6.08731740e-01, 3.85057387e-01, 2.80756704e-05, 6.18279754e-03],\n",
       "       [1.71414255e-01, 8.28397269e-01, 9.45469524e-05, 9.39294310e-05],\n",
       "       [9.41760750e-01, 4.38319381e-02, 3.78663964e-03, 1.06206723e-02],\n",
       "       [9.80446825e-01, 6.54288187e-03, 6.31734509e-03, 6.69294846e-03],\n",
       "       [6.74697476e-01, 1.48597837e-01, 4.74286090e-03, 1.71961827e-01],\n",
       "       [1.93156058e-01, 7.66842540e-01, 1.48442846e-03, 3.85169737e-02]])"
      ]
     },
     "execution_count": 62,
     "metadata": {},
     "output_type": "execute_result"
    }
   ],
   "source": [
    "combined_test_model"
   ]
  },
  {
   "cell_type": "code",
   "execution_count": null,
   "metadata": {},
   "outputs": [],
   "source": [
    "# insert kish's mappings here\n"
   ]
  },
  {
   "cell_type": "markdown",
   "metadata": {},
   "source": [
    "### KL Divergence"
   ]
  },
  {
   "cell_type": "code",
   "execution_count": null,
   "metadata": {},
   "outputs": [],
   "source": [
    "test_composition_estim=test_composition_actual"
   ]
  },
  {
   "cell_type": "code",
   "execution_count": null,
   "metadata": {},
   "outputs": [],
   "source": []
  },
  {
   "cell_type": "code",
   "execution_count": null,
   "metadata": {},
   "outputs": [],
   "source": [
    "if all(test_composition_estim.index==test_composition_actual.index)==True:\n",
    "    KDDataframe=pandas.DataFrame([],columns=[\"Repo\",\"KD Divergence\"])\n",
    "    for i in range(0,len(test_composition_actual)):\n",
    "        a=0\n",
    "        for j in range(0,len(test_composition_actual.iloc[i])):\n",
    "            a=a-((test_composition_actual.iloc[i][j])*math.log(test_composition_actual.iloc[i][j]/test_composition_estim.iloc[i][j]))\n",
    "        #m=pandas.DataFrame([test_composition_actual.index[i],a],columns=[\"Repo\",\"KD Divergence\"])\n",
    "        print(a)\n",
    "        #KDDataframe.append(m)\n",
    "#KDDataframe"
   ]
  },
  {
   "cell_type": "markdown",
   "metadata": {},
   "source": [
    "# Notes:\n",
    "  - our keyword lists have simliar/common words e.g. python javascript and r all share some keywords. this can be seen in the documents. choosing another language, with a completely different set of keywords might prove easier to differentiate for the LDA model. somethind somthing LDA uses distance, but if true topics share key words, then distance metric breaks."
   ]
  },
  {
   "cell_type": "code",
   "execution_count": null,
   "metadata": {},
   "outputs": [],
   "source": []
  }
 ],
 "metadata": {
  "kernelspec": {
   "display_name": "Python 3",
   "language": "python",
   "name": "python3"
  },
  "language_info": {
   "codemirror_mode": {
    "name": "ipython",
    "version": 3
   },
   "file_extension": ".py",
   "mimetype": "text/x-python",
   "name": "python",
   "nbconvert_exporter": "python",
   "pygments_lexer": "ipython3",
   "version": "3.6.6"
  }
 },
 "nbformat": 4,
 "nbformat_minor": 2
}
